{
 "cells":[
  {
   "cell_type":"markdown",
   "source":[
    "<h1><span style=\"color:#338DFF\"> AI With Python Workshop <\/span><\/h1>\n",
    "\n",
    "This notebook complements the powerpoint slides during the workshop and will be used to do the coding exercises \n",
    "\n",
    "-----------"
   ],
   "attachments":{
    
   },
   "metadata":{
    "datalore":{
     "node_id":"YRvE7PM4gmKAhSI9BqNOOX",
     "type":"MD",
     "hide_input_from_viewers":false,
     "hide_output_from_viewers":false,
     "report_properties":{
      
     }
    }
   }
  },
  {
   "cell_type":"markdown",
   "source":[
    "\n",
    "\n",
    "\n",
    "# AI Project using Python\n",
    "\n",
    "In this project we will create a virtual assistant that understands natural language. We will be able to interact with it in English to perform the following tasks:\n",
    "\n",
    "<img src=\"https:\/\/cdn.dribbble.com\/users\/324481\/screenshots\/7149521\/media\/4fb25c016884dbbd1352e75916fa5f81.png?compress=1&resize=400x300\" width=\"200\" align=\"right\">\n",
    "\n",
    "* **Chit-chat**\n",
    "    * Tell jokes\n",
    "* **Weather**\n",
    "    * Get current weather for any city\n",
    "* **Movies**\n",
    "    * Get rating for a movie\n",
    "    * Find the director(s) of a movie"
   ],
   "attachments":{
    
   },
   "metadata":{
    "datalore":{
     "node_id":"RFFeRURZ13pb2f8PDhRCeu",
     "type":"MD",
     "hide_input_from_viewers":false,
     "hide_output_from_viewers":false,
     "report_properties":{
      
     }
    }
   }
  },
  {
   "cell_type":"markdown",
   "source":[
    "## Learning outcomes\n",
    "\n",
    "In this tutorial you will learn:  \n",
    "* The basic terminologies required in a virtual assistant\n",
    "    * Intents\n",
    "    * Slots\n",
    "    * Entities\n",
    "    * Utterances\n",
    "* How to use SNIPS-NLU to understand natural language and detect intents, slots, and entities from utterances.\n",
    "* How to use the detected intents, slots and entities to get information from APIs\n",
    "----\n",
    "----\n",
    "----"
   ],
   "attachments":{
    
   },
   "metadata":{
    "datalore":{
     "node_id":"IHK6kvt8QkxntBB8saoFPi",
     "type":"MD",
     "hide_input_from_viewers":false,
     "hide_output_from_viewers":false,
     "report_properties":{
      
     }
    }
   }
  },
  {
   "cell_type":"markdown",
   "source":[
    "# Part 2.1: Preparation"
   ],
   "attachments":{
    
   },
   "metadata":{
    "datalore":{
     "node_id":"RrdFa0lpKrFTr2WGDH9zE9",
     "type":"MD",
     "hide_input_from_viewers":false,
     "hide_output_from_viewers":false,
     "report_properties":{
      
     }
    }
   }
  },
  {
   "cell_type":"markdown",
   "source":[
    "We will use the following libraries in this tutorial \n",
    "\n",
    "* **snips-nlu**\n",
    "    * This library deals with the Natural Language Understanding to detect intents, slots, and entities.\n",
    "* **pyjokes**\n",
    "    * This library provides jokes based on Python.\n",
    "* **pyowm**\n",
    "    * This library provides the weather API to get weather information.\n",
    "* **imdbpy**\n",
    "    * This library provides the IMDB movie APU to get movie information.\n",
    "\n",
    "---"
   ],
   "attachments":{
    
   },
   "metadata":{
    "datalore":{
     "node_id":"JvzySDZ4mxq41ZOfZY8HeI",
     "type":"MD",
     "hide_input_from_viewers":false,
     "hide_output_from_viewers":false,
     "report_properties":{
      
     }
    }
   }
  },
  {
   "cell_type":"markdown",
   "source":[
    "## 2.1.1 Install and Import libraries\n",
    "\n",
    "Run the cell below to install and import the required libraries and functions.\n",
    "\n",
    "**Note:** _We have pre-written some code to simplify the weather and movie rating APIs in the file ``utils.py``. You can view the file later to understand the inner working in more detail._"
   ],
   "attachments":{
    
   },
   "metadata":{
    "datalore":{
     "node_id":"kykqEmCPK1LneKvaGiJWcL",
     "type":"MD",
     "hide_input_from_viewers":false,
     "hide_output_from_viewers":false,
     "report_properties":{
      
     }
    }
   }
  },
  {
   "cell_type":"code",
   "source":[
    "# Run this cell\n",
    "!pip install --upgrade pip\n",
    "!pip install pyjokes\n",
    "!pip install snips-nlu\n",
    "!pip install pyowm\n",
    "!pip install imdbpy\n",
    "!python -m snips_nlu download en\n",
    "!git clone https:\/\/github.com\/xxcuhk\/workshop_utils \n",
    "from workshop_utils.utils import *\n",
    "import pyjokes\n",
    "import json\n",
    "from snips_nlu import SnipsNLUEngine\n",
    "from snips_nlu.default_configs import CONFIG_EN"
   ],
   "execution_count":null,
   "outputs":[
    
   ],
   "metadata":{
    "datalore":{
     "node_id":"3EbwBtA4k6XmiuP31pndRY",
     "type":"CODE",
     "hide_input_from_viewers":false,
     "hide_output_from_viewers":false,
     "report_properties":{
      
     }
    }
   }
  },
  {
   "cell_type":"markdown",
   "source":[
    "## 2.1.2 Create training dataset\n",
    "\n",
    "Prepare the training dataset to train your Natural Language Understanding (NLU) Engine.\n",
    "\n",
    "In our training dataset, we will have the following **intents**:\n",
    "\n",
    "1. **tell_joke** : To detect that the user is asking the virtual assistant for a joke. There are no slots required for this intent.\n",
    "    * **Example utterances:** \"Hi, tell me a joke.\", \"I'm bored. Entertain me with a funny joke.\"  \n",
    "    \n",
    "    \n",
    "2. **get_weather** : To detect that the user is asking for current weather of a city. For this intent we need to define an entity for ``city``.\n",
    "    * **Example utterances:** \"How is the weather in New York?\", \"I wonder how the weather conditions are like in Hong Kong right now?\"  \n",
    "    \n",
    "    \n",
    "    \n",
    "3. **get_rating** : To detect that the user is asking the rating for a movie. For this intent we need to define an entity for ``movie_name``.\n",
    "    * **Example utterances:** \"How good is the movie Batman?\", \"I want to know the movie ratings for Fast and Furious\"  \n",
    "    \n",
    "    \n",
    "    \n",
    "4. **get_director** : To detect that the user is asking for who is the director of a movie. For this intent we need to define an entity for ``movie_name``.\n",
    "    * **Example utterances:** \"Who directed Tenet?\", \"I want to know the director of the movie Ip Man\"\n",
    "    \n",
    "\n",
    "We will have the following **entities**:\n",
    "\n",
    "1. **city**\n",
    "    * **Examples**: Hong Kong, New York, Dublin, London  \n",
    "    \n",
    "    \n",
    "2. **movie_name**\n",
    "    * **Examples**: Star Wars, Ip Man, The Dark Knight, La la land\n",
    "\n",
    "\n",
    "**We have created a starter dataset for you with some example intents and some example entities in the file ``dataset.yaml``**"
   ],
   "attachments":{
    
   },
   "metadata":{
    "datalore":{
     "node_id":"mARPyJ3dgfcrFhoeLEnsIe",
     "type":"MD",
     "hide_input_from_viewers":false,
     "hide_output_from_viewers":false,
     "report_properties":{
      
     }
    }
   }
  },
  {
   "cell_type":"markdown",
   "source":[
    "## 2.1.3 Convert the dataset to json format\n",
    "\n",
    "Run the next cell to convert the dataset to json format to train the NLU Engine."
   ],
   "attachments":{
    
   },
   "metadata":{
    "datalore":{
     "node_id":"r30l3nGqyc5zGRGwQ1jzhy",
     "type":"MD",
     "hide_input_from_viewers":false,
     "hide_output_from_viewers":false,
     "report_properties":{
      
     }
    }
   }
  },
  {
   "cell_type":"code",
   "source":[
    "# Run this cell\n",
    "\n",
    "!snips-nlu generate-dataset en workshop_utils\/dataset.yaml > dataset.json"
   ],
   "execution_count":null,
   "outputs":[
    
   ],
   "metadata":{
    "datalore":{
     "node_id":"kzs28mG2KOWTHRDPKdsxNZ",
     "type":"CODE",
     "hide_input_from_viewers":false,
     "hide_output_from_viewers":false,
     "report_properties":{
      
     }
    }
   }
  },
  {
   "cell_type":"markdown",
   "source":[
    "## 2.1.4 Open the dataset\n",
    "\n",
    "To open the dataset, we will follow the following steps:\n",
    "1. Use ``open`` function to load the file into Python in a variable called ``dataset_file``.\n",
    " \n",
    "   To do this you need to run: ``dataset_file = open(\"dataset.json\", \"r\")``\n",
    "2. Use ``load`` function from ``json`` as ``json.load(dataset_file)`` into a variable called ``training_dataset``. \n",
    " \n",
    "   To do this you need to run: ``training_dataset = json.load(dataset_file)``"
   ],
   "attachments":{
    
   },
   "metadata":{
    "datalore":{
     "node_id":"XN8sX5Y8DItQ0v1zHxfxUQ",
     "type":"MD",
     "hide_input_from_viewers":false,
     "hide_output_from_viewers":false,
     "report_properties":{
      
     }
    }
   }
  },
  {
   "cell_type":"code",
   "source":[
    "# Write the code below\n",
    "\n",
    "\n"
   ],
   "execution_count":null,
   "outputs":[
    
   ],
   "metadata":{
    "datalore":{
     "node_id":"94lfaKrBoq2GsCfTgMsxmE",
     "type":"CODE",
     "hide_input_from_viewers":false,
     "hide_output_from_viewers":false,
     "report_properties":{
      
     }
    }
   }
  },
  {
   "cell_type":"markdown",
   "source":[
    "# Part 2.2: Train the NLU engine"
   ],
   "attachments":{
    
   },
   "metadata":{
    "datalore":{
     "node_id":"G6VeuCYtPEKfn37WNS7IYp",
     "type":"MD",
     "hide_input_from_viewers":false,
     "hide_output_from_viewers":false,
     "report_properties":{
      
     }
    }
   }
  },
  {
   "cell_type":"markdown",
   "source":[
    "## 2.2.1 Initialize the Snips-NLU Engine with English Configuration\n",
    "\n",
    "We will start our Snips-NLU engine using the ``SnipsNLUEngine()`` function. ``config=CONFIG_EN`` will load the English language configuration in our NLU engine.\n",
    "\n",
    "The Snips-NLU engine will be saved in a variable called ``NLUengine``. \n",
    " \n",
    "To do this you need to run: ``NLUengine = SnipsNLUEngine(config=CONFIG_EN)``"
   ],
   "attachments":{
    
   },
   "metadata":{
    "datalore":{
     "node_id":"lryney9T0UUI22GhG58c72",
     "type":"MD",
     "hide_input_from_viewers":false,
     "hide_output_from_viewers":false,
     "report_properties":{
      
     }
    }
   }
  },
  {
   "cell_type":"code",
   "source":[
    "# Write the code below\n",
    "\n",
    "\n"
   ],
   "execution_count":null,
   "outputs":[
    
   ],
   "metadata":{
    "datalore":{
     "node_id":"rFsT8MNS1uZRlJovE2pCKo",
     "type":"CODE",
     "hide_input_from_viewers":false,
     "hide_output_from_viewers":false,
     "report_properties":{
      
     }
    }
   }
  },
  {
   "cell_type":"markdown",
   "source":[
    "## 2.2.2 Train the NLU Engine\n",
    "\n",
    "We will now train the NLU engine using our training dataset. ``fit()`` function is called to train the model.\n",
    "\n",
    "To do this you need to run: ``NLUengine.fit(training_dataset)``"
   ],
   "attachments":{
    
   },
   "metadata":{
    "datalore":{
     "node_id":"bZqGwaXXcS1rphMSKBKKXf",
     "type":"MD",
     "hide_input_from_viewers":false,
     "hide_output_from_viewers":false,
     "report_properties":{
      
     }
    }
   }
  },
  {
   "cell_type":"code",
   "source":[
    "# Write the code below\n",
    "\n",
    "\n"
   ],
   "execution_count":null,
   "outputs":[
    
   ],
   "metadata":{
    "datalore":{
     "node_id":"IdCei18wPETEuOgkEmsaQM",
     "type":"CODE",
     "hide_input_from_viewers":false,
     "hide_output_from_viewers":false,
     "report_properties":{
      
     }
    }
   }
  },
  {
   "cell_type":"markdown",
   "source":[
    "## 2.2.3 Use the NLU Engine to parse the intention\n",
    "\n",
    "Let's try to use our engine on the utterance ``\"How's the weather in Hong Kong\"``\n",
    "\n",
    "Use the function ``prediction = NLUengine.parse(your utterance)``"
   ],
   "attachments":{
    
   },
   "metadata":{
    "datalore":{
     "node_id":"VHkgrslNf0toGvaOUfnLso",
     "type":"MD",
     "hide_input_from_viewers":false,
     "hide_output_from_viewers":false,
     "report_properties":{
      
     }
    }
   }
  },
  {
   "cell_type":"code",
   "source":[
    "# Write the code below\n",
    "\n",
    "\n"
   ],
   "execution_count":null,
   "outputs":[
    
   ],
   "metadata":{
    "datalore":{
     "node_id":"OnCkfnnNYmC0H3TT7LxO91",
     "type":"CODE",
     "hide_input_from_viewers":false,
     "hide_output_from_viewers":false,
     "report_properties":{
      
     }
    }
   }
  },
  {
   "cell_type":"markdown",
   "source":[
    "## 2.2.4 Print the prediction\n",
    "\n",
    "To print the prediction in a more readable format we will use ``json.dumps()`` function as:\n",
    "\n",
    "``print(json.dumps(prediction, indent=2))``"
   ],
   "attachments":{
    
   },
   "metadata":{
    "datalore":{
     "node_id":"gvIdUTrn075GBcS6GRuIqo",
     "type":"MD",
     "hide_input_from_viewers":false,
     "hide_output_from_viewers":false,
     "report_properties":{
      
     }
    }
   }
  },
  {
   "cell_type":"code",
   "source":[
    "# Write the code below\n",
    "\n",
    "\n"
   ],
   "execution_count":null,
   "outputs":[
    
   ],
   "metadata":{
    "datalore":{
     "node_id":"C7drSClxvMG3BMamMVaoCH",
     "type":"CODE",
     "hide_input_from_viewers":false,
     "hide_output_from_viewers":false,
     "report_properties":{
      
     }
    }
   }
  },
  {
   "cell_type":"markdown",
   "source":[
    "## 2.2.5 Get the intent\n",
    "\n",
    "To get the intent we access the intent name element from the resulted ``prediction`` dictionary.\n",
    "\n",
    "We have made a function for you to get the intent easily. You can use ``get_intent(prediction)`` to get the intent."
   ],
   "attachments":{
    
   },
   "metadata":{
    "datalore":{
     "node_id":"o9t7DTTcFUEM8sAPQnP5nN",
     "type":"MD",
     "hide_input_from_viewers":false,
     "hide_output_from_viewers":false,
     "report_properties":{
      
     }
    }
   }
  },
  {
   "cell_type":"code",
   "source":[
    "# Write the code below\n",
    "\n",
    "\n"
   ],
   "execution_count":null,
   "outputs":[
    
   ],
   "metadata":{
    "datalore":{
     "node_id":"Y3R8NeNGwiet4k2tEcmtsu",
     "type":"CODE",
     "hide_input_from_viewers":false,
     "hide_output_from_viewers":false,
     "report_properties":{
      
     }
    }
   }
  },
  {
   "cell_type":"markdown",
   "source":[
    "## 2.2.6 Get the entity\n",
    "You can use our function ``get_entity(prediction)`` to get the slot's entity."
   ],
   "attachments":{
    
   },
   "metadata":{
    "datalore":{
     "node_id":"hKCAEYO0nGeDtjCJy6sGws",
     "type":"MD",
     "hide_input_from_viewers":false,
     "hide_output_from_viewers":false,
     "report_properties":{
      
     }
    }
   }
  },
  {
   "cell_type":"code",
   "source":[
    "# Write the code below\n",
    "\n",
    "\n"
   ],
   "execution_count":null,
   "outputs":[
    
   ],
   "metadata":{
    "datalore":{
     "node_id":"nfI0pqRi5mzgb5VEWlhZDi",
     "type":"CODE",
     "hide_input_from_viewers":false,
     "hide_output_from_viewers":false,
     "report_properties":{
      
     }
    }
   }
  },
  {
   "cell_type":"markdown",
   "source":[
    "## 2.2.7 Get the slots's value\n",
    "\n",
    "You can use our function ``get_slot_value(prediction)`` to get the slot's value."
   ],
   "attachments":{
    
   },
   "metadata":{
    "datalore":{
     "node_id":"QrirZK5UQ67vo3V6hdqBlX",
     "type":"MD",
     "hide_input_from_viewers":false,
     "hide_output_from_viewers":false,
     "report_properties":{
      
     }
    }
   }
  },
  {
   "cell_type":"code",
   "source":[
    "# Write the code below\n",
    "\n",
    "\n"
   ],
   "execution_count":null,
   "outputs":[
    
   ],
   "metadata":{
    "datalore":{
     "node_id":"844f74IaUqbQQdyPwodGIJ",
     "type":"CODE",
     "hide_input_from_viewers":false,
     "hide_output_from_viewers":false,
     "report_properties":{
      
     }
    }
   }
  },
  {
   "cell_type":"markdown",
   "source":[
    "# Part 2.3: Integrate the NLU engine with APIs"
   ],
   "attachments":{
    
   },
   "metadata":{
    "datalore":{
     "node_id":"DhQ8dptk5w4TrxULLHncBA",
     "type":"MD",
     "hide_input_from_viewers":false,
     "hide_output_from_viewers":false,
     "report_properties":{
      
     }
    }
   }
  },
  {
   "cell_type":"markdown",
   "source":[
    "We have provided you with the following pre-defined functions:\n",
    "1. ```pyjokes.get_joke()```: This function from pyjokes library returns a joke (a nerdy programming based joke).\n",
    "2. ```get_city_weather(city)```: Given a city, it will print its current temperature and weather condition.\n",
    "3. ```get_movie_rating(movie_name)```: Given a movie name, it will print its IMDB rating.\n",
    "4. ```get_movie_directors(movie_name)```: Given a movie name, it will print the name(s) of its director(s).\n",
    "\n",
    "We will now use these functions to integrate our NLU with the APIs to get a working virtual assistant."
   ],
   "attachments":{
    
   },
   "metadata":{
    "datalore":{
     "node_id":"SNP5btAkY1ftNksdM55Pet",
     "type":"MD",
     "hide_input_from_viewers":false,
     "hide_output_from_viewers":false,
     "report_properties":{
      
     }
    }
   }
  },
  {
   "cell_type":"markdown",
   "source":[
    "## 2.3.1 Define a function\n",
    "\n",
    "First we define a function called ```assistant``` that given an utterance, returns an appropriate response based on the user's intent. The parameter should be ``utterance``.\n",
    "\n",
    "The function should work in the following manner:\n",
    "\n",
    "1. Like 2.2.3, use the NLU Engine to parse the intention.\n",
    "\n",
    "   To do this you need to run: ``prediction = NLUengine.parse(utterance)``\n",
    "2. Like 2.2.5, get the intent.\n",
    "   \n",
    "   To do this you need to run: ``intent = get_intent(prediction)``   \n",
    "3. Like 2.2.6, get the entity.\n",
    "   \n",
    "   To do this you need to run: ``entity = get_entity(prediction)`` \n",
    "4. If the intent is ```tell_joke```, print the output of ```pyjokes.get_joke()``` function.\n",
    "5. Else if the intent is ```get_weather```, get the value of slot ```city``` and use the ``get_city_weather(city)`` function.\n",
    "6. Else if the intent is ```get_rating```, get the value of slot ```movie_name``` and use the ``get_movie_rating(movie_name)`` function.\n",
    "7. Else if the intent is ``get_director``, get the value of slot ``movie_name`` and use the ``get_movie_directors(movie_name)`` function.\n",
    "8.  Else ``print(\"Unknown intent\")``.\n",
    "\n",
    "**Note: Inside the if-statements for ``get_weather``, ``get_rating``, and ``get_director``, you need to add another if-statement to check if the entity is correct. If it is not correct, you need to print \"Sorry, please try again.\"**"
   ],
   "attachments":{
    
   },
   "metadata":{
    "datalore":{
     "node_id":"JM2PelqT6wWA0AbD97fnSc",
     "type":"MD",
     "hide_input_from_viewers":false,
     "hide_output_from_viewers":false,
     "report_properties":{
      
     }
    }
   }
  },
  {
   "cell_type":"code",
   "source":[
    "# Write the code below\n",
    "\n",
    "def assistant(\"\"\"Enter the required Parameter here\"\"\"):\n",
    "    prediction = \n",
    "    intent = \n",
    "    entity = \n",
    "\n",
    "    if intent == \"tell_joke\":\n",
    "        print(pyjokes.get_joke())\n",
    "\n",
    "    elif intent == \"get_weather\":\n",
    "\n",
    "        if entity == \"city\": \n",
    "            city_name = get_slot_value(prediction)\n",
    "            get_city_weather(city_name)\n",
    "        else:\n",
    "            print(\"Sorry, can you try again?\")\n",
    "\n",
    "    elif intent == \"get_rating\":\n",
    "\n",
    "        if entity == \"movie_name\": \n",
    "            movie_name = get_slot_value(prediction)\n",
    "            get_movie_rating(movie_name)\n",
    "        else:\n",
    "            print(\"Sorry, can you try again?\")\n",
    "\n",
    "    elif intent == \"get_director\":\n",
    "\n",
    "\n",
    "\n",
    "    else:\n",
    "        print(\"Unknown intent\")\n",
    "        "
   ],
   "execution_count":null,
   "outputs":[
    
   ],
   "metadata":{
    "datalore":{
     "node_id":"psYjzAPT0fu3s6FgWaEwrl",
     "type":"CODE",
     "hide_input_from_viewers":false,
     "hide_output_from_viewers":false,
     "report_properties":{
      
     }
    }
   }
  },
  {
   "cell_type":"markdown",
   "source":[
    "## 2.3.2 Create a conversation loop\n",
    "\n",
    "\n",
    "We will create a loop that keeps on going until the user enters **Bye**.\n",
    "``while-loop`` will never stop unless it sees a ``break``.\n",
    "\n",
    "The loop has to accomplish the following things:\n",
    "1. Keep asking for user input until the user enters **Bye**\n",
    "2. Call the ``assistant`` function on the user's input\n",
    "\n",
    "   You can call it like this: ``assistant(user_input)``\n",
    "\n",
    "To break the loop, we will use a new keyword called ``break``.  \n",
    "\n",
    "To get input from the user we will use a Python function called ``input``.  \n",
    "\n",
    "**We have partially written the code below to help you. Please fill the remaining code**."
   ],
   "attachments":{
    
   },
   "metadata":{
    "datalore":{
     "node_id":"nsnlVl7oJMB1XPruZ5d4uQ",
     "type":"MD",
     "hide_input_from_viewers":false,
     "hide_output_from_viewers":false,
     "report_properties":{
      
     }
    }
   }
  },
  {
   "cell_type":"code",
   "source":[
    "# Complete the code belo\n",
    "\n",
    "print(\"Welcome to the virtual assistant. How can I help you?\")\n",
    "while True:\n",
    "    print(\"------------------------------------\")\n",
    "    user_input=str(input(\"Enter your input: \"))\n",
    "    \n",
    "    # This if statement should break the loop if the user_input is \"Bye\"\n",
    "    if user_input == \"Bye\" or user_input == \"bye\":\n",
    "        print(\"Have a good day!\")\n",
    "        break\n",
    "    \n",
    "    else:\n",
    "        print(\"Assistant: \")\n",
    "        \"\"\"Enter the code here to call assistant function using user_input here\"\"\""
   ],
   "execution_count":null,
   "outputs":[
    
   ],
   "metadata":{
    "datalore":{
     "node_id":"VEvZBtlvepgdc5FZYUtfCK",
     "type":"CODE",
     "hide_input_from_viewers":false,
     "hide_output_from_viewers":false,
     "report_properties":{
      
     }
    }
   }
  },
  {
   "cell_type":"markdown",
   "source":[
    "# End of Part 2\n",
    "\n",
    "## Thank you for attending the workshop!\n",
    "_Don't forget to stop the computation for your notebook. Go to ``Run`` and then click on ``Stop Machine``_"
   ],
   "attachments":{
    
   },
   "metadata":{
    "datalore":{
     "node_id":"TdhIVan5uMVrVcyw8H80TY",
     "type":"MD",
     "hide_input_from_viewers":false,
     "hide_output_from_viewers":false,
     "report_properties":{
      
     }
    }
   }
  }
 ],
 "metadata":{
  "kernelspec":{
   "display_name":"Python",
   "language":"python",
   "name":"python"
  },
  "datalore":{
   "version":1,
   "computation_mode":"JUPYTER",
   "package_manager":"pip",
   "base_environment":"default",
   "packages":[
    {
     "name":"workshop_utils",
     "version":"main",
     "url":"https:\/\/github.com\/xxcuhk\/workshop_utils@main",
     "source":"GIT"
    }
   ]
  }
 },
 "nbformat":4,
 "nbformat_minor":4
}