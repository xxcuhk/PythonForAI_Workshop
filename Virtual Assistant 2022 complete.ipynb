{
 "cells": [
  {
   "cell_type": "markdown",
   "metadata": {},
   "source": [
    "<img src=\"https://ai4future.keep.edu.hk/wp-content/uploads/2020/02/CUHK_AI_Logo_Update_Web.png\" width=\"200\" align=\"right\"> <br><br><br><br>\n",
    "<h1><span style=\"color:#338DFF\"> AI With Python Workshop </span></h1>\n",
    "\n",
    "### Welcome to the AI with Python Workshop by CUHK-Jockey Club AI for the Future Project\n",
    "\n",
    "This notebook complements the powerpoint slides during the workshop and will be used to do the coding exercises \n",
    "\n",
    "-----------"
   ]
  },
  {
   "cell_type": "markdown",
   "metadata": {},
   "source": [
    "\n",
    "\n",
    "\n",
    "# AI Project using Python\n",
    "\n",
    "In this project we will create a virtual assistant that understands natural language. We will be able to interact with it in English to perform the following tasks:\n",
    "\n",
    "<img src=\"https://cdn.dribbble.com/users/324481/screenshots/7149521/media/4fb25c016884dbbd1352e75916fa5f81.png?compress=1&resize=400x300\" width=\"200\" align=\"right\">\n",
    "\n",
    "* **Chit-chat**\n",
    "    * Tell jokes\n",
    "* **Weather**\n",
    "    * Get current weather for any city\n",
    "* **Movies**\n",
    "    * Get rating for a movie\n",
    "    * Find the director(s) of a movie\n",
    "    * Find the actor(s) in a movie"
   ]
  },
  {
   "cell_type": "markdown",
   "metadata": {},
   "source": [
    "## Learning outcomes\n",
    "\n",
    "In this tutorial you will learn:  \n",
    "* The basic terminologies required in virtual assistant systems\n",
    "    * Intents\n",
    "    * Slots\n",
    "    * Entities\n",
    "    * Utterances\n",
    "* How to use SNIPS-NLU to understand natural language and detect intents, slots, and entities from utterances.\n",
    "* How to use the detected intents, slots and entities to get information from APIs\n",
    "----\n",
    "----\n",
    "----"
   ]
  },
  {
   "cell_type": "markdown",
   "metadata": {},
   "source": [
    "# Let's Begin\n",
    "\n",
    "\n",
    "We will use the following libraries in this tutorial \n",
    "\n",
    "* **snips-nlu**\n",
    "    * This library deals with the Natural Language Understanding to detect intents, slots, and entities.\n",
    "* **pyjokes**\n",
    "    * This library provides jokes based on Python.\n",
    "* **pyowm**\n",
    "    * This library provides the weather API to get weather information.\n",
    "* **imdbpy**\n",
    "    * This library provides the IMDB movie APU to get movie information.\n",
    "\n",
    "---"
   ]
  },
  {
   "cell_type": "markdown",
   "metadata": {},
   "source": [
    "## Prepare the training dataset\n",
    "\n",
    "Prepare the training dataset to train your Natural Language Understanding (NLU) Engine.\n",
    "\n",
    "In our training dataset, we will have the following **intents**:\n",
    "\n",
    "1. **tell_joke** : To detect that the user is asking the virtual assistant for a joke. There are no slots required for this intent.\n",
    "    * **Example utterances:** \"Hi, tell me a joke.\", \"I'm bored. Entertain me with a funny joke.\"  \n",
    "    \n",
    "    \n",
    "2. **get_weather** : To detect that the user is asking for current weather of a city. For this intent we need to fill a slot for ``city``.\n",
    "    * **Example utterances:** \"How is the weather in New York?\", \"I wonder how the weather conditions are like in Hong Kong right now?\"  \n",
    "    \n",
    "    \n",
    "    \n",
    "3. **get_rating** : To detect that the user is asking the rating for a movie. For this intent we need to fill a slot for ``movie_name``.\n",
    "    * **Example utterances:** \"How good is the movie Batman?\", \"I want to know the movie ratings for Fast and Furious\"  \n",
    "    \n",
    "    \n",
    "    \n",
    "4. **get_director** : To detect that the user is asking for who is the director of a movie. For this intent we need to fill a slot for ``movie_name``.\n",
    "    * **Example utterances:** \"Who directed Tenet?\", \"I want to know the director of the movie Ip Man\"  \n",
    "\n",
    "\n",
    "\n",
    "5. **get_cast** : To detect that the user is asking for who acted in a movie. For this intent we need to fill a slot for ``movie_name``.\n",
    "    * **Example utterances:** \"Who acted in the movie Joker?\", \"What is the cast for the movie The Boat People?\"\n",
    "    \n",
    "\n",
    "We will have the following **entities**:\n",
    "\n",
    "1. **city**\n",
    "    * **Examples**: Hong Kong, New York, Dublin, London  \n",
    "    \n",
    "    \n",
    "2. **movie_name**\n",
    "    * **Examples**: Star Wars, Ip Man, The Dark Knight, La la land\n",
    "\n",
    "\n",
    "**We have created a starter dataset for you with 1 example intent and 1 example entity in the file ``dataset.yaml``**"
   ]
  },
  {
   "cell_type": "markdown",
   "metadata": {},
   "source": [
    "## Install and Import libraries\n",
    "\n",
    "Run the cell below to install and import the required libraries and functions.\n",
    "\n",
    "**Note:** _We have pre-written some code to simplify the weather and movie rating APIs in the file ``utils.py``. You can view the file later to understand the inner working in more detail._"
   ]
  },
  {
   "cell_type": "code",
   "execution_count": 1,
   "metadata": {},
   "outputs": [
    {
     "name": "stdout",
     "output_type": "stream",
     "text": [
      "Collecting snips_nlu_en==0.2.3\r\n",
      "  Downloading https://github.com/snipsco/snips-nlu-language-resources/releases/download/snips_nlu_en-0.2.3/snips_nlu_en-0.2.3.tar.gz (1.3 MB)\r\n",
      "\u001b[?25l\r",
      "\u001b[K     |▎                               | 10 kB 12.5 MB/s eta 0:00:01\r",
      "\u001b[K     |▌                               | 20 kB 11.5 MB/s eta 0:00:01\r",
      "\u001b[K     |▊                               | 30 kB 5.6 MB/s eta 0:00:01\r",
      "\u001b[K     |█                               | 40 kB 4.6 MB/s eta 0:00:01\r",
      "\u001b[K     |█▎                              | 51 kB 5.3 MB/s eta 0:00:01\r",
      "\u001b[K     |█▌                              | 61 kB 5.8 MB/s eta 0:00:01\r",
      "\u001b[K     |█▊                              | 71 kB 5.5 MB/s eta 0:00:01\r",
      "\u001b[K     |██                              | 81 kB 5.8 MB/s eta 0:00:01\r",
      "\u001b[K     |██▎                             | 92 kB 5.1 MB/s eta 0:00:01\r",
      "\u001b[K     |██▌                             | 102 kB 5.3 MB/s eta 0:00:01\r",
      "\u001b[K     |██▉                             | 112 kB 5.3 MB/s eta 0:00:01\r",
      "\u001b[K     |███                             | 122 kB 5.3 MB/s eta 0:00:01\r",
      "\u001b[K     |███▎                            | 133 kB 5.3 MB/s eta 0:00:01\r",
      "\u001b[K     |███▌                            | 143 kB 5.3 MB/s eta 0:00:01\r",
      "\u001b[K     |███▉                            | 153 kB 5.3 MB/s eta 0:00:01\r",
      "\u001b[K     |████                            | 163 kB 5.3 MB/s eta 0:00:01\r",
      "\u001b[K     |████▎                           | 174 kB 5.3 MB/s eta 0:00:01\r",
      "\u001b[K     |████▋                           | 184 kB 5.3 MB/s eta 0:00:01\r",
      "\u001b[K     |████▉                           | 194 kB 5.3 MB/s eta 0:00:01\r",
      "\u001b[K     |█████                           | 204 kB 5.3 MB/s eta 0:00:01\r",
      "\u001b[K     |█████▎                          | 215 kB 5.3 MB/s eta 0:00:01\r",
      "\u001b[K     |█████▋                          | 225 kB 5.3 MB/s eta 0:00:01\r",
      "\u001b[K     |█████▉                          | 235 kB 5.3 MB/s eta 0:00:01\r",
      "\u001b[K     |██████                          | 245 kB 5.3 MB/s eta 0:00:01\r",
      "\u001b[K     |██████▍                         | 256 kB 5.3 MB/s eta 0:00:01\r",
      "\u001b[K     |██████▋                         | 266 kB 5.3 MB/s eta 0:00:01\r",
      "\u001b[K     |██████▉                         | 276 kB 5.3 MB/s eta 0:00:01\r",
      "\u001b[K     |███████                         | 286 kB 5.3 MB/s eta 0:00:01\r",
      "\u001b[K     |███████▍                        | 296 kB 5.3 MB/s eta 0:00:01\r",
      "\u001b[K     |███████▋                        | 307 kB 5.3 MB/s eta 0:00:01\r",
      "\u001b[K     |███████▉                        | 317 kB 5.3 MB/s eta 0:00:01\r",
      "\u001b[K     |████████▏                       | 327 kB 5.3 MB/s eta 0:00:01\r",
      "\u001b[K     |████████▍                       | 337 kB 5.3 MB/s eta 0:00:01\r",
      "\u001b[K     |████████▋                       | 348 kB 5.3 MB/s eta 0:00:01\r",
      "\u001b[K     |████████▉                       | 358 kB 5.3 MB/s eta 0:00:01\r",
      "\u001b[K     |█████████▏                      | 368 kB 5.3 MB/s eta 0:00:01\r",
      "\u001b[K     |█████████▍                      | 378 kB 5.3 MB/s eta 0:00:01\r",
      "\u001b[K     |█████████▋                      | 389 kB 5.3 MB/s eta 0:00:01\r",
      "\u001b[K     |██████████                      | 399 kB 5.3 MB/s eta 0:00:01\r",
      "\u001b[K     |██████████▏                     | 409 kB 5.3 MB/s eta 0:00:01\r",
      "\u001b[K     |██████████▍                     | 419 kB 5.3 MB/s eta 0:00:01\r",
      "\u001b[K     |██████████▋                     | 430 kB 5.3 MB/s eta 0:00:01\r",
      "\u001b[K     |███████████                     | 440 kB 5.3 MB/s eta 0:00:01\r",
      "\u001b[K     |███████████▏                    | 450 kB 5.3 MB/s eta 0:00:01\r",
      "\u001b[K     |███████████▍                    | 460 kB 5.3 MB/s eta 0:00:01\r",
      "\u001b[K     |███████████▋                    | 471 kB 5.3 MB/s eta 0:00:01\r",
      "\u001b[K     |████████████                    | 481 kB 5.3 MB/s eta 0:00:01\r",
      "\u001b[K     |████████████▏                   | 491 kB 5.3 MB/s eta 0:00:01\r",
      "\u001b[K     |████████████▍                   | 501 kB 5.3 MB/s eta 0:00:01\r",
      "\u001b[K     |████████████▊                   | 512 kB 5.3 MB/s eta 0:00:01\r",
      "\u001b[K     |█████████████                   | 522 kB 5.3 MB/s eta 0:00:01\r",
      "\u001b[K     |█████████████▏                  | 532 kB 5.3 MB/s eta 0:00:01\r",
      "\u001b[K     |█████████████▍                  | 542 kB 5.3 MB/s eta 0:00:01\r",
      "\u001b[K     |█████████████▊                  | 552 kB 5.3 MB/s eta 0:00:01\r",
      "\u001b[K     |██████████████                  | 563 kB 5.3 MB/s eta 0:00:01\r",
      "\u001b[K     |██████████████▏                 | 573 kB 5.3 MB/s eta 0:00:01\r",
      "\u001b[K     |██████████████▌                 | 583 kB 5.3 MB/s eta 0:00:01\r",
      "\u001b[K     |██████████████▊                 | 593 kB 5.3 MB/s eta 0:00:01\r",
      "\u001b[K     |███████████████                 | 604 kB 5.3 MB/s eta 0:00:01\r",
      "\u001b[K     |███████████████▏                | 614 kB 5.3 MB/s eta 0:00:01\r",
      "\u001b[K     |███████████████▌                | 624 kB 5.3 MB/s eta 0:00:01\r",
      "\u001b[K     |███████████████▊                | 634 kB 5.3 MB/s eta 0:00:01\r",
      "\u001b[K     |████████████████                | 645 kB 5.3 MB/s eta 0:00:01\r",
      "\u001b[K     |████████████████▎               | 655 kB 5.3 MB/s eta 0:00:01\r",
      "\u001b[K     |████████████████▌               | 665 kB 5.3 MB/s eta 0:00:01\r",
      "\u001b[K     |████████████████▊               | 675 kB 5.3 MB/s eta 0:00:01\r",
      "\u001b[K     |█████████████████               | 686 kB 5.3 MB/s eta 0:00:01\r",
      "\u001b[K     |█████████████████▎              | 696 kB 5.3 MB/s eta 0:00:01\r",
      "\u001b[K     |█████████████████▌              | 706 kB 5.3 MB/s eta 0:00:01\r",
      "\u001b[K     |█████████████████▊              | 716 kB 5.3 MB/s eta 0:00:01\r",
      "\u001b[K     |██████████████████              | 727 kB 5.3 MB/s eta 0:00:01\r",
      "\u001b[K     |██████████████████▎             | 737 kB 5.3 MB/s eta 0:00:01\r",
      "\u001b[K     |██████████████████▌             | 747 kB 5.3 MB/s eta 0:00:01\r",
      "\u001b[K     |██████████████████▊             | 757 kB 5.3 MB/s eta 0:00:01\r",
      "\u001b[K     |███████████████████             | 768 kB 5.3 MB/s eta 0:00:01\r",
      "\u001b[K     |███████████████████▎            | 778 kB 5.3 MB/s eta 0:00:01\r",
      "\u001b[K     |███████████████████▌            | 788 kB 5.3 MB/s eta 0:00:01\r",
      "\u001b[K     |███████████████████▉            | 798 kB 5.3 MB/s eta 0:00:01\r",
      "\u001b[K     |████████████████████            | 808 kB 5.3 MB/s eta 0:00:01\r",
      "\u001b[K     |████████████████████▎           | 819 kB 5.3 MB/s eta 0:00:01\r",
      "\u001b[K     |████████████████████▌           | 829 kB 5.3 MB/s eta 0:00:01\r",
      "\u001b[K     |████████████████████▉           | 839 kB 5.3 MB/s eta 0:00:01\r",
      "\u001b[K     |█████████████████████           | 849 kB 5.3 MB/s eta 0:00:01\r",
      "\u001b[K     |█████████████████████▎          | 860 kB 5.3 MB/s eta 0:00:01\r",
      "\u001b[K     |█████████████████████▋          | 870 kB 5.3 MB/s eta 0:00:01\r",
      "\u001b[K     |█████████████████████▉          | 880 kB 5.3 MB/s eta 0:00:01\r",
      "\u001b[K     |██████████████████████          | 890 kB 5.3 MB/s eta 0:00:01\r",
      "\u001b[K     |██████████████████████▎         | 901 kB 5.3 MB/s eta 0:00:01\r",
      "\u001b[K     |██████████████████████▋         | 911 kB 5.3 MB/s eta 0:00:01\r",
      "\u001b[K     |██████████████████████▉         | 921 kB 5.3 MB/s eta 0:00:01\r",
      "\u001b[K     |███████████████████████         | 931 kB 5.3 MB/s eta 0:00:01\r",
      "\u001b[K     |███████████████████████▎        | 942 kB 5.3 MB/s eta 0:00:01\r",
      "\u001b[K     |███████████████████████▋        | 952 kB 5.3 MB/s eta 0:00:01\r",
      "\u001b[K     |███████████████████████▉        | 962 kB 5.3 MB/s eta 0:00:01\r",
      "\u001b[K     |████████████████████████        | 972 kB 5.3 MB/s eta 0:00:01\r",
      "\u001b[K     |████████████████████████▍       | 983 kB 5.3 MB/s eta 0:00:01\r",
      "\u001b[K     |████████████████████████▋       | 993 kB 5.3 MB/s eta 0:00:01\r",
      "\u001b[K     |████████████████████████▉       | 1.0 MB 5.3 MB/s eta 0:00:01\r",
      "\u001b[K     |█████████████████████████       | 1.0 MB 5.3 MB/s eta 0:00:01\r",
      "\u001b[K     |█████████████████████████▍      | 1.0 MB 5.3 MB/s eta 0:00:01\r",
      "\u001b[K     |█████████████████████████▋      | 1.0 MB 5.3 MB/s eta 0:00:01\r",
      "\u001b[K     |█████████████████████████▉      | 1.0 MB 5.3 MB/s eta 0:00:01\r",
      "\u001b[K     |██████████████████████████▏     | 1.1 MB 5.3 MB/s eta 0:00:01\r",
      "\u001b[K     |██████████████████████████▍     | 1.1 MB 5.3 MB/s eta 0:00:01\r",
      "\u001b[K     |██████████████████████████▋     | 1.1 MB 5.3 MB/s eta 0:00:01\r",
      "\u001b[K     |██████████████████████████▉     | 1.1 MB 5.3 MB/s eta 0:00:01\r",
      "\u001b[K     |███████████████████████████▏    | 1.1 MB 5.3 MB/s eta 0:00:01\r",
      "\u001b[K     |███████████████████████████▍    | 1.1 MB 5.3 MB/s eta 0:00:01\r",
      "\u001b[K     |███████████████████████████▋    | 1.1 MB 5.3 MB/s eta 0:00:01\r",
      "\u001b[K     |████████████████████████████    | 1.1 MB 5.3 MB/s eta 0:00:01\r",
      "\u001b[K     |████████████████████████████▏   | 1.1 MB 5.3 MB/s eta 0:00:01\r",
      "\u001b[K     |████████████████████████████▍   | 1.1 MB 5.3 MB/s eta 0:00:01\r",
      "\u001b[K     |████████████████████████████▋   | 1.2 MB 5.3 MB/s eta 0:00:01\r",
      "\u001b[K     |█████████████████████████████   | 1.2 MB 5.3 MB/s eta 0:00:01\r",
      "\u001b[K     |█████████████████████████████▏  | 1.2 MB 5.3 MB/s eta 0:00:01\r",
      "\u001b[K     |█████████████████████████████▍  | 1.2 MB 5.3 MB/s eta 0:00:01\r",
      "\u001b[K     |█████████████████████████████▊  | 1.2 MB 5.3 MB/s eta 0:00:01\r",
      "\u001b[K     |██████████████████████████████  | 1.2 MB 5.3 MB/s eta 0:00:01\r",
      "\u001b[K     |██████████████████████████████▏ | 1.2 MB 5.3 MB/s eta 0:00:01\r",
      "\u001b[K     |██████████████████████████████▍ | 1.2 MB 5.3 MB/s eta 0:00:01\r",
      "\u001b[K     |██████████████████████████████▊ | 1.2 MB 5.3 MB/s eta 0:00:01\r",
      "\u001b[K     |███████████████████████████████ | 1.2 MB 5.3 MB/s eta 0:00:01\r",
      "\u001b[K     |███████████████████████████████▏| 1.3 MB 5.3 MB/s eta 0:00:01\r",
      "\u001b[K     |███████████████████████████████▌| 1.3 MB 5.3 MB/s eta 0:00:01\r",
      "\u001b[K     |███████████████████████████████▊| 1.3 MB 5.3 MB/s eta 0:00:01\r",
      "\u001b[K     |████████████████████████████████| 1.3 MB 5.3 MB/s eta 0:00:01\r",
      "\u001b[K     |████████████████████████████████| 1.3 MB 5.3 MB/s \r\n",
      "\u001b[?25hBuilding wheels for collected packages: snips-nlu-en\r\n",
      "  Building wheel for snips-nlu-en (setup.py) ... \u001b[?25l-\b \b\\\b \b|\b \bdone\r\n",
      "\u001b[?25h  Created wheel for snips-nlu-en: filename=snips_nlu_en-0.2.3-py3-none-any.whl size=1297478 sha256=c6379d363907b73969784e935fb83c791655e7156cfd70976ce2c2acd3aa7e2d\r\n",
      "  Stored in directory: /tmp/pip-ephem-wheel-cache-w3mq727z/wheels/77/e5/27/a2c7ae7b04c836360914a1ac909339da898cb66444e709f650\r\n",
      "Successfully built snips-nlu-en\r\n",
      "Installing collected packages: snips-nlu-en\r\n",
      "Successfully installed snips-nlu-en-0.2.3\r\n",
      "\u001b[33mWARNING: You are using pip version 21.1; however, version 21.1.2 is available.\r\n",
      "You should consider upgrading via the '/opt/python/envs/default/bin/python -m pip install --upgrade pip' command.\u001b[0m\r\n",
      "\r\n",
      "\u001b[92mLinking successful\u001b[0m\r\n",
      "/opt/python/envs/default/lib/python3.8/site-packages/snips_nlu_en/snips_nlu_en-0.2.3 --> /opt/python/envs/default/lib/python3.8/site-packages/snips_nlu/data/en\r\n",
      "\r\n",
      "Cloning into 'workshop_utils'...\r\n",
      "remote: Enumerating objects: 17, done.\u001b[K\r\n",
      "remote: Counting objects:   5% (1/17)\u001b[K\r",
      "remote: Counting objects:  11% (2/17)\u001b[K\r",
      "remote: Counting objects:  17% (3/17)\u001b[K\r",
      "remote: Counting objects:  23% (4/17)\u001b[K\r",
      "remote: Counting objects:  29% (5/17)\u001b[K\r",
      "remote: Counting objects:  35% (6/17)\u001b[K\r",
      "remote: Counting objects:  41% (7/17)\u001b[K\r",
      "remote: Counting objects:  47% (8/17)\u001b[K\r",
      "remote: Counting objects:  52% (9/17)\u001b[K\r",
      "remote: Counting objects:  58% (10/17)\u001b[K\r",
      "remote: Counting objects:  64% (11/17)\u001b[K\r",
      "remote: Counting objects:  70% (12/17)\u001b[K\r",
      "remote: Counting objects:  76% (13/17)\u001b[K\r",
      "remote: Counting objects:  82% (14/17)\u001b[K\r",
      "remote: Counting objects:  88% (15/17)\u001b[K\r",
      "remote: Counting objects:  94% (16/17)\u001b[K\r",
      "remote: Counting objects: 100% (17/17)\u001b[K\r",
      "remote: Counting objects: 100% (17/17), done.\u001b[K\r\n",
      "remote: Compressing objects:   7% (1/13)\u001b[K\r",
      "remote: Compressing objects:  15% (2/13)\u001b[K\r",
      "remote: Compressing objects:  23% (3/13)\u001b[K\r",
      "remote: Compressing objects:  30% (4/13)\u001b[K\r",
      "remote: Compressing objects:  38% (5/13)\u001b[K\r",
      "remote: Compressing objects:  46% (6/13)\u001b[K\r",
      "remote: Compressing objects:  53% (7/13)\u001b[K\r",
      "remote: Compressing objects:  61% (8/13)\u001b[K\r",
      "remote: Compressing objects:  69% (9/13)\u001b[K\r",
      "remote: Compressing objects:  76% (10/13)\u001b[K\r",
      "remote: Compressing objects:  84% (11/13)\u001b[K\r",
      "remote: Compressing objects:  92% (12/13)\u001b[K\r",
      "remote: Compressing objects: 100% (13/13)\u001b[K\r",
      "remote: Compressing objects: 100% (13/13), done.\u001b[K\r\n",
      "remote: Total 17 (delta 5), reused 15 (delta 3), pack-reused 0\u001b[K\r\n",
      "Unpacking objects:   5% (1/17)   \r",
      "Unpacking objects:  11% (2/17)   \r",
      "Unpacking objects:  17% (3/17)   \r",
      "Unpacking objects:  23% (4/17)   \r",
      "Unpacking objects:  29% (5/17)   \r",
      "Unpacking objects:  35% (6/17)   \r",
      "Unpacking objects:  41% (7/17)   \r",
      "Unpacking objects:  47% (8/17)   \r",
      "Unpacking objects:  52% (9/17)   \r",
      "Unpacking objects:  58% (10/17)   \r",
      "Unpacking objects:  64% (11/17)   \r",
      "Unpacking objects:  70% (12/17)   \r",
      "Unpacking objects:  76% (13/17)   \r",
      "Unpacking objects:  82% (14/17)   \r",
      "Unpacking objects:  88% (15/17)   \r",
      "Unpacking objects:  94% (16/17)   \r",
      "Unpacking objects: 100% (17/17)   \r",
      "Unpacking objects: 100% (17/17), done.\r\n",
      "Requirement already satisfied: pyjokes in /opt/python/envs/default/lib/python3.8/site-packages (0.6.0)\r\n",
      "\u001b[33mWARNING: You are using pip version 21.1; however, version 21.1.2 is available.\r\n",
      "You should consider upgrading via the '/opt/python/envs/default/bin/python -m pip install --upgrade pip' command.\u001b[0m\r\n"
     ]
    }
   ],
   "source": [
    "# Run this cell\n",
    "!pip install pyjokes\n",
    "!pip install snips-nlu\n",
    "!pip install pyowm\n",
    "!pip install imdbpy\n",
    "!python -m snips_nlu download en\n",
    "!git clone https://github.com/muditchaudhary/workshop_utils \n",
    "from workshop_utils.utils import *\n",
    "import pyjokes\n",
    "import json\n",
    "from snips_nlu import SnipsNLUEngine\n",
    "from snips_nlu.default_configs import CONFIG_EN"
   ]
  },
  {
   "cell_type": "markdown",
   "metadata": {},
   "source": [
    "## Convert the dataset to json format\n",
    "\n",
    "Run the next cell to convert the dataset to json format to train the NLU Engine"
   ]
  },
  {
   "cell_type": "code",
   "execution_count": 3,
   "metadata": {},
   "outputs": [],
   "source": [
    "# Run this cell\n",
    "\n",
    "!snips-nlu generate-dataset en workshop_utils/dataset.yaml > dataset.json"
   ]
  },
  {
   "cell_type": "markdown",
   "metadata": {},
   "source": [
    "# Open the dataset\n",
    "\n",
    "To open the dataset, we will follow the following steps:\n",
    "1. Use ``open`` function to load the file into Python in a variable called ``dataset_file``.\n",
    "2. use ``load`` function from ``json`` as ``json.load(dataset_file)`` into a variable called ``training_dataset``."
   ]
  },
  {
   "cell_type": "code",
   "execution_count": 4,
   "metadata": {},
   "outputs": [],
   "source": [
    "# Write the code below\n",
    "dataset_file = open(\"dataset.json\", \"r\")\n",
    "training_dataset = json.load(dataset_file)"
   ]
  },
  {
   "cell_type": "markdown",
   "metadata": {},
   "source": [
    "## Initialize the Snips-NLU Engine with English Configuration\n",
    "\n",
    "We will start our Snips-NLU engine using the ``SnipsNLUEngine()``. We will pass a parameter in it as ``config=CONFIG_EN``, which will load the English language configuration in our NLU engine. \n",
    "\n",
    "We will store the Snips-NLU engine in a variable called ``NLUengine``"
   ]
  },
  {
   "cell_type": "code",
   "execution_count": 5,
   "metadata": {},
   "outputs": [],
   "source": [
    "# Write the code below\n",
    "\n",
    "NLUengine = SnipsNLUEngine(config=CONFIG_EN)"
   ]
  },
  {
   "cell_type": "markdown",
   "metadata": {},
   "source": [
    "## Train the NLU Engine\n",
    "\n",
    "We will now train the NLU engine using our training dataset. We will use ``fit()`` function to train the model\n",
    "\n",
    "To train the model we have to run:\n",
    "```\n",
    "NLUengine.fit(training_dataset)\n",
    "```"
   ]
  },
  {
   "cell_type": "code",
   "execution_count": 6,
   "metadata": {},
   "outputs": [
    {
     "data": {
      "text/plain": [
       "<snips_nlu.nlu_engine.nlu_engine.SnipsNLUEngine at 0x7f17781a4610>"
      ]
     },
     "metadata": {},
     "output_type": "display_data"
    }
   ],
   "source": [
    "# Write the code below\n",
    "\n",
    "NLUengine.fit(training_dataset)"
   ]
  },
  {
   "cell_type": "markdown",
   "metadata": {},
   "source": [
    "## Let's try to predict again\n",
    "\n",
    "Let's try to use our model on the sentence ``\"How's the weather in Hong Kong\"``\n",
    "\n",
    "Use the function ``prediction = NLUengine.parse(your utterance)``"
   ]
  },
  {
   "cell_type": "code",
   "execution_count": 8,
   "metadata": {},
   "outputs": [],
   "source": [
    "# Write the code below\n",
    "\n",
    "prediction = NLUengine.parse(\"How's the weather in Hong Kong?\")"
   ]
  },
  {
   "cell_type": "markdown",
   "metadata": {},
   "source": [
    "## Print the prediction\n",
    "\n",
    "To print the prediction in a more readable format we will use ``json.dumps()`` function as:\n",
    "\n",
    "``print(json.dumps(prediction, indent=2))``"
   ]
  },
  {
   "cell_type": "code",
   "execution_count": 9,
   "metadata": {},
   "outputs": [
    {
     "name": "stdout",
     "output_type": "stream",
     "text": [
      "{\n",
      "  \"input\": \"How's the weather in Hong Kong?\",\n",
      "  \"intent\": {\n",
      "    \"intentName\": \"get_weather\",\n",
      "    \"probability\": 0.7324433420149711\n",
      "  },\n",
      "  \"slots\": [\n",
      "    {\n",
      "      \"range\": {\n",
      "        \"start\": 21,\n",
      "        \"end\": 30\n",
      "      },\n",
      "      \"rawValue\": \"Hong Kong\",\n",
      "      \"value\": {\n",
      "        \"kind\": \"Custom\",\n",
      "        \"value\": \"Hong Kong\"\n",
      "      },\n",
      "      \"entity\": \"city\",\n",
      "      \"slotName\": \"city\"\n",
      "    }\n",
      "  ]\n",
      "}\n"
     ]
    }
   ],
   "source": [
    "# Write the code below\n",
    "\n",
    "print(json.dumps(prediction, indent=2))"
   ]
  },
  {
   "cell_type": "markdown",
   "metadata": {},
   "source": [
    "## Get the intent\n",
    "\n",
    "To get the intent we access the intent name element from the resulted ``prediction`` dictionary.\n",
    "\n",
    "We have made a function for you to get the intent easily. You can use ``get_intent(prediction)`` to get the intent."
   ]
  },
  {
   "cell_type": "code",
   "execution_count": 10,
   "metadata": {},
   "outputs": [
    {
     "name": "stdout",
     "output_type": "stream",
     "text": [
      "get_weather\n"
     ]
    }
   ],
   "source": [
    "# Write the code below\n",
    "\n",
    "print(get_intent(prediction))"
   ]
  },
  {
   "cell_type": "markdown",
   "metadata": {},
   "source": [
    "## Get the slot's entity type\n",
    "There can be multiple slots mentioned in an utternace. But in our tutorial we only have 1 slot per utterance. \n",
    "\n",
    "You can use our function ``get_entity_type(prediction)`` to get the slot's entity type."
   ]
  },
  {
   "cell_type": "code",
   "execution_count": 11,
   "metadata": {},
   "outputs": [
    {
     "name": "stdout",
     "output_type": "stream",
     "text": [
      "city\n"
     ]
    }
   ],
   "source": [
    "# Write the code below\n",
    "\n",
    "print(get_entity_type(prediction))"
   ]
  },
  {
   "cell_type": "markdown",
   "metadata": {},
   "source": [
    "## Get the entity's value\n",
    "\n",
    "Similar to slots, there can be multiple entity values. But our tutorial will only have 1 value per slot. \n",
    "\n",
    "You can use our function ``get_entity_value(prediction)`` to get the slot's value."
   ]
  },
  {
   "cell_type": "code",
   "execution_count": 12,
   "metadata": {},
   "outputs": [
    {
     "name": "stdout",
     "output_type": "stream",
     "text": [
      "Hong Kong\n"
     ]
    }
   ],
   "source": [
    "# Write the code below\n",
    "\n",
    "print(get_entity_value(prediction))"
   ]
  },
  {
   "cell_type": "markdown",
   "metadata": {},
   "source": [
    "## Integrate NLU Engine with API\n",
    "\n",
    "We have provided you with the following pre-defined functions:\n",
    "1. ```get_current_weather(city)```: Given a city, it will print its current temperature and weather condition\n",
    "2. ```get_movie_rating(movie_name)```: Given a movie name, it will print its IMDB rating\n",
    "3. ```get_directors(movie_name)```: Given a movie name, it will print the name(s) of its director(s)\n",
    "4. ```get_cast(movie_name)```: Given a movie name, it will print the cast of the movie\n",
    "5. ```pyjokes.get_joke()```: This function from pyjokes library returns a joke (a nerdy programming based joke)\n",
    "\n",
    "We will now use these functions to integrate our NLU with the APIs to get a working virtual assistant"
   ]
  },
  {
   "cell_type": "markdown",
   "metadata": {},
   "source": [
    "## Create a function\n",
    "\n",
    "First we create a function called ```assistant``` that given an utterance, gives an appropriate response based on user's intent.\n",
    "\n",
    "The function will have ``utterance`` as one of the parameter.\n",
    "\n",
    "The function should work in the following manner:\n",
    "\n",
    "1. Get the **intent** and **slot type** of the utterance using the NLU Engine\n",
    "2. If the intent is ```tell_joke```, print the output of ```pyjokes.get_joke()``` function.\n",
    "3. Else if the intent is ```get_weather```, get the value of slot ```city``` and use the ``get_current_weather(city)`` function.\n",
    "4. Else if the intent is ```get_rating```, get the value of slot ```movie_name``` and use the ``get_movie_rating(movie_name)`` function.\n",
    "5. Else if the intent is ```get_director```, get the value of slot ```movie_name``` and use the ``get_movie_directors(movie_name)`` function.\n",
    "5. Else if the intent is ```get_cast```, get the value of slot ```movie_name``` and use the ``get_movie_cast(movie_name)`` function.\n",
    "6. Else ``print(\"Unknown intent\")``.\n",
    "\n",
    "**Note: Inside the if-statements for ``get_weather``, ``get_rating``, ``get_director``, and ``get_cast``, you need to add another if-statement to check if the slot-type is correct. If it is not correct, you need to print \"Sorry, please try again.\"**"
   ]
  },
  {
   "cell_type": "code",
   "execution_count": 13,
   "metadata": {},
   "outputs": [],
   "source": [
    "# Write the code below\n",
    "\n",
    "def assistant(utterance):\n",
    "    prediction = NLUengine.parse(utterance)\n",
    "    intent = get_intent(prediction)\n",
    "    slot_type = get_entity_type(prediction)\n",
    "\n",
    "\n",
    "\n",
    "    if (intent == \"tell_joke\"):\n",
    "        print(pyjokes.get_joke())\n",
    "\n",
    "    elif (intent == \"get_weather\"):\n",
    "\n",
    "        if (slot_type == \"city\"): \n",
    "            city_name = get_entity_value(prediction)\n",
    "            get_current_weather(city_name)\n",
    "        else:\n",
    "            print(\"Sorry, can you try again?\")\n",
    "\n",
    "    elif (intent == \"get_rating\"):\n",
    "\n",
    "        if (slot_type == \"movie_name\"): \n",
    "            movie_name = get_entity_value(prediction)\n",
    "            get_movie_rating(movie_name)\n",
    "        else:\n",
    "            print(\"Sorry, can you try again?\")\n",
    "\n",
    "    elif (intent == \"get_director\"):\n",
    "\n",
    "        if (slot_type == \"movie_name\"): \n",
    "            movie_name = get_entity_value(prediction)\n",
    "            get_movie_directors(movie_name)\n",
    "        else:\n",
    "            print(\"Sorry, can you try again?\")\n",
    "\n",
    "    elif (intent == \"get_cast\"):\n",
    "        \n",
    "        if (slot_type == \"movie_name\"): \n",
    "            movie_name = get_entity_value(prediction)\n",
    "            get_movie_cast(movie_name)\n",
    "        else:\n",
    "            print(\"Sorry, can you try again?\")\n",
    "\n",
    "    else:\n",
    "        print(\"Unknown intent\")\n",
    "        "
   ]
  },
  {
   "cell_type": "markdown",
   "metadata": {},
   "source": [
    "## Create a conversation loop\n",
    "\n",
    "\n",
    "We will create a loop that keeps on going until the user enters \"Bye\"\n",
    "\n",
    "We will use a new kind of loop called ``while-loop``\n",
    "\n",
    "The loop has to accomplish the following things:\n",
    "1. Keep asking for user input until the user enters \"Bye\"\n",
    "2. Call the ``assistant`` function on the user's input\n",
    "\n",
    "To break the loop, we will use a new keyword called ``break``.  \n",
    "\n",
    "To get input from the user we will use a Python function called ``input``.  \n",
    "\n",
    "**We have partially written the code below to help you. Please fill the remaining code**"
   ]
  },
  {
   "cell_type": "code",
   "execution_count": 0,
   "metadata": {},
   "outputs": [
    {
     "name": "stdout",
     "output_type": "stream",
     "text": [
      "Welcome to the virtual assistant. How can I help you?\n",
      "------------------------------------\n",
      "Enter your input:  Tell me a joke\n",
      "Assistant: \n",
      "Child: Dad, why does the sun rise in the east and set in the west? Dad: Son, it's working, don't touch it.\n",
      "------------------------------------\n",
      "Enter your input:  How's the weather in Hong Kong?\n",
      "Assistant: \n",
      "The current temperature is 32.59 degrees Celsius.\n",
      "The weather condition is overcast clouds.\n",
      "------------------------------------\n",
      "Enter your input:  Who directed the movie Deadpool?\n",
      "Assistant: \n",
      "The director(s) of the movie is/are:\n",
      "Noriko Takao\n",
      "------------------------------------\n",
      "Enter your input:  Who directed Deadpool?\\\n",
      "Assistant: \n",
      "The director(s) of Deadpool? is/are:\n",
      "David Leitch\n",
      "------------------------------------\n",
      "Enter your input:  Who acted in Deadpool?\n",
      "Assistant: \n",
      "Sorry, can you try again?\n",
      "------------------------------------\n",
      "Enter your input:  Who acted in the movie Deadpool?\n",
      "Assistant: \n",
      "The actors(s) in Deadpool? is/are:\n",
      "Ryan Reynolds played the role of Wade Wilson / Deadpool / Voice of Juggernaut\n",
      "Josh Brolin played the role of Cable\n",
      "Morena Baccarin played the role of Vanessa\n",
      "Julian Dennison played the role of Firefist\n",
      "Zazie Beetz played the role of Domino\n",
      "------------------------------------\n",
      "Enter your input:  What acted in the movie Fast and the Furious?\n",
      "Assistant: \n",
      "The actors(s) in Fast and the furious is/are:\n",
      "Mathew Buck played the role of Film Brain\n",
      "Christopher Barnard played the role of Professor Celluloid\n",
      "------------------------------------\n",
      "Enter your input:  Who acted in the movie tenet?\n",
      "Assistant: \n",
      "Sorry, can you try again?\n",
      "------------------------------------\n",
      "Enter your input:  Who acted in the movie Tenet?\n",
      "Assistant: \n",
      "The actors(s) in Tenet? is/are:\n",
      "Juhan Ulfsak played the role of Passenger\n",
      "Jefferson Hall played the role of Well-Dressed Man\n",
      "Ivo Uukkivi played the role of Uniformed Official\n",
      "Andrew Howard played the role of Driver\n",
      "John David Washington played the role of Protagonist\n",
      "------------------------------------\n",
      "Enter your input:  Who directed Tenet?\n",
      "Assistant: \n",
      "The director(s) of Tenet is/are:\n",
      "Christopher Nolan\n",
      "------------------------------------\n",
      "Enter your input:  How good is the movie Tenet?\n",
      "Assistant: \n",
      "Sorry, can you try again?\n",
      "------------------------------------\n",
      "Enter your input:  I want to know the movie rating for Tenet?\n",
      "Assistant: \n",
      "Tenet?\n",
      "Tenet? got a rating of 7.4 out of 10\n",
      "------------------------------------\n",
      "Enter your input:  I want to know the movie rating for Shawshank Redemption\n",
      "Assistant: \n",
      "Shawshank Redemption\n",
      "Movie rating couldn't be found in the database\n",
      "------------------------------------\n",
      "Enter your input:  I want to know the movie rating for The Dark Knight\n",
      "Assistant: \n",
      "The Dark Knight\n",
      "The Dark Knight got a rating of 9.0 out of 10\n",
      "------------------------------------\n"
     ]
    }
   ],
   "source": [
    "\n",
    "# Complete the code belo\n",
    "print(\"Welcome to the virtual assistant. How can I help you?\")\n",
    "while True:\n",
    "    print(\"------------------------------------\")\n",
    "    user_input=str(input(\"Enter your input: \"))\n",
    "    \n",
    "    # This if statement should break the loop if the user_input is \"Bye\"\n",
    "    if (user_input == \"Bye\"):\n",
    "        print(\"Have a good day!\")\n",
    "        break\n",
    "    \n",
    "    else:\n",
    "        \n",
    "        print(\"Assistant: \")\n",
    "        assistant(user_input)\n",
    "        \"\"\"Enter the code here to call assistant function using user_input here\"\"\""
   ]
  },
  {
   "cell_type": "markdown",
   "metadata": {},
   "source": [
    "# End of Part 2\n",
    "\n",
    "## Thank you for attending the workshop"
   ]
  }
 ],
 "metadata": {
  "kernelspec": {
   "display_name": "Python 3",
   "language": "python",
   "name": "python3"
  },
  "language_info": {
   "codemirror_mode": {
    "name": "ipython",
    "version": 3
   },
   "file_extension": ".py",
   "mimetype": "text/x-python",
   "name": "python",
   "nbconvert_exporter": "python",
   "pygments_lexer": "ipython3",
   "version": "3.7.10"
  }
 },
 "nbformat": 4,
 "nbformat_minor": 1
}
