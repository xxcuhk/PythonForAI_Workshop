{
 "cells":[
  {
   "cell_type":"markdown",
   "source":[
    "<img src=\"https:\/\/cuhkjc-aiforfuture.hk\/wp-content\/uploads\/2020\/02\/CUHK_AI_Logo_Update_Web.png\" width=\"200\" align=\"right\"> <br><br><br><br>\n",
    "<h1><span style=\"color:#338DFF\"> AI With Python Workshop <\/span><\/h1>\n",
    "\n",
    "### Welcome to the AI with Python Workshop by CUHK-Jockey Club AI for the Future Project\n",
    "\n",
    "This notebook complements the powerpoint slides during the workshop and will be used to do the coding exercises \n",
    "\n",
    "-----------"
   ],
   "attachments":{
    
   },
   "metadata":{
    "datalore":{
     "type":"MD",
     "hide_input_from_viewers":false,
     "hide_output_from_viewers":false
    }
   }
  },
  {
   "cell_type":"markdown",
   "source":[
    "\n",
    "\n",
    "\n",
    "# AI Project using Python\n",
    "\n",
    "In this project we will create a virtual assistant that understands natural language. We will be able to interact with it in English to perform the following tasks:\n",
    "\n",
    "<img src=\"https:\/\/cdn.dribbble.com\/users\/324481\/screenshots\/7149521\/media\/4fb25c016884dbbd1352e75916fa5f81.png?compress=1&resize=400x300\" width=\"200\" align=\"right\">\n",
    "\n",
    "* **Chit-chat**\n",
    "    * Tell jokes\n",
    "* **Weather**\n",
    "    * Get current weather for any city\n",
    "* **Movies**\n",
    "    * Get rating for a movie\n",
    "    * Find the director(s) of a movie\n",
    "    * Find the actor(s) in a movie"
   ],
   "attachments":{
    
   },
   "metadata":{
    "datalore":{
     "type":"MD",
     "hide_input_from_viewers":false,
     "hide_output_from_viewers":false
    }
   }
  },
  {
   "cell_type":"markdown",
   "source":[
    "## Learning outcomes\n",
    "\n",
    "In this tutorial you will learn:  \n",
    "* The basic terminologies required in virtual assistant systems\n",
    "    * Intents\n",
    "    * Slots\n",
    "    * Entities\n",
    "    * Utterances\n",
    "* How to use SNIPS-NLU to understand natural language and detect intents, slots, and entities from utterances.\n",
    "* How to use the detected intents, slots and entities to get information from APIs\n",
    "----\n",
    "----\n",
    "----"
   ],
   "attachments":{
    
   },
   "metadata":{
    "datalore":{
     "type":"MD",
     "hide_input_from_viewers":false,
     "hide_output_from_viewers":false
    }
   }
  },
  {
   "cell_type":"markdown",
   "source":[
    "# Part 2.1: Preparation"
   ],
   "attachments":{
    
   },
   "metadata":{
    "datalore":{
     "type":"MD",
     "hide_input_from_viewers":false,
     "hide_output_from_viewers":false
    }
   }
  },
  {
   "cell_type":"markdown",
   "source":[
    "We will use the following libraries in this tutorial \n",
    "\n",
    "* **snips-nlu**\n",
    "    * This library deals with the Natural Language Understanding to detect intents, slots, and entities.\n",
    "* **pyjokes**\n",
    "    * This library provides jokes based on Python.\n",
    "* **pyowm**\n",
    "    * This library provides the weather API to get weather information.\n",
    "* **imdbpy**\n",
    "    * This library provides the IMDB movie APU to get movie information.\n",
    "\n",
    "---"
   ],
   "attachments":{
    
   },
   "metadata":{
    "datalore":{
     "type":"MD",
     "hide_input_from_viewers":false,
     "hide_output_from_viewers":false
    }
   }
  },
  {
   "cell_type":"markdown",
   "source":[
    "## 2.1.1 Prepare the training dataset\n",
    "\n",
    "Prepare the training dataset to train your Natural Language Understanding (NLU) Engine.\n",
    "\n",
    "In our training dataset, we will have the following **intents**:\n",
    "\n",
    "1. **tell_joke** : To detect that the user is asking the virtual assistant for a joke. There are no slots required for this intent.\n",
    "    * **Example utterances:** \"Hi, tell me a joke.\", \"I'm bored. Entertain me with a funny joke.\"  \n",
    "    \n",
    "    \n",
    "2. **get_weather** : To detect that the user is asking for current weather of a city. For this intent we need to fill a slot for ``city``.\n",
    "    * **Example utterances:** \"How is the weather in New York?\", \"I wonder how the weather conditions are like in Hong Kong right now?\"  \n",
    "    \n",
    "    \n",
    "    \n",
    "3. **get_rating** : To detect that the user is asking the rating for a movie. For this intent we need to fill a slot for ``movie_name``.\n",
    "    * **Example utterances:** \"How good is the movie Batman?\", \"I want to know the movie ratings for Fast and Furious\"  \n",
    "    \n",
    "    \n",
    "    \n",
    "4. **get_director** : To detect that the user is asking for who is the director of a movie. For this intent we need to fill a slot for ``movie_name``.\n",
    "    * **Example utterances:** \"Who directed Tenet?\", \"I want to know the director of the movie Ip Man\"  \n",
    "\n",
    "\n",
    "\n",
    "5. **get_cast** : To detect that the user is asking for who acted in a movie. For this intent we need to fill a slot for ``movie_name``.\n",
    "    * **Example utterances:** \"Who acted in the movie Joker?\", \"What is the cast for the movie The Boat People?\"\n",
    "    \n",
    "\n",
    "We will have the following **entities**:\n",
    "\n",
    "1. **city**\n",
    "    * **Examples**: Hong Kong, New York, Dublin, London  \n",
    "    \n",
    "    \n",
    "2. **movie_name**\n",
    "    * **Examples**: Star Wars, Ip Man, The Dark Knight, La la land\n",
    "\n",
    "\n",
    "**We have created a starter dataset for you with 1 example intent and 1 example entity in the file ``dataset.yaml``**"
   ],
   "attachments":{
    
   },
   "metadata":{
    "datalore":{
     "type":"MD",
     "hide_input_from_viewers":false,
     "hide_output_from_viewers":false
    }
   }
  },
  {
   "cell_type":"markdown",
   "source":[
    "## 2.1.2 Install and Import libraries\n",
    "\n",
    "Run the cell below to install and import the required libraries and functions.\n",
    "\n",
    "**Note:** _We have pre-written some code to simplify the weather and movie rating APIs in the file ``utils.py``. You can view the file later to understand the inner working in more detail._"
   ],
   "attachments":{
    
   },
   "metadata":{
    "datalore":{
     "type":"MD",
     "hide_input_from_viewers":false,
     "hide_output_from_viewers":false
    }
   }
  },
  {
   "cell_type":"code",
   "source":[
    "# Run this cell\n",
    "!pip install pyjokes\n",
    "!pip install snips-nlu\n",
    "!pip install pyowm\n",
    "!pip install imdbpy\n",
    "!python -m snips_nlu download en\n",
    "!git clone https:\/\/github.com\/xxcuhk\/workshop_utils \n",
    "from workshop_utils.utils import *\n",
    "import pyjokes\n",
    "import json\n",
    "from snips_nlu import SnipsNLUEngine\n",
    "from snips_nlu.default_configs import CONFIG_EN"
   ],
   "execution_count":1,
   "outputs":[
    {
     "name":"stdout",
     "text":[
      "Collecting pyjokes\r\n",
      "  Downloading pyjokes-0.6.0-py2.py3-none-any.whl (26 kB)\r\n",
      "Installing collected packages: pyjokes\r\n",
      "Successfully installed pyjokes-0.6.0\r\n",
      "\u001b[33mWARNING: You are using pip version 21.3.1; however, version 22.0.4 is available.\r\n",
      "You should consider upgrading via the '\/opt\/python\/envs\/default\/bin\/python -m pip install --upgrade pip' command.\u001b[0m\r\n",
      "Collecting snips-nlu\r\n",
      "  Downloading snips_nlu-0.20.2-py2.py3-none-any.whl (135 kB)\r\n",
      "\u001b[?25l\r\r     |██▍                             | 10 kB 17.6 MB\/s eta 0:00:01\r     |████▉                           | 20 kB 22.3 MB\/s eta 0:00:01\r     |███████▎                        | 30 kB 21.4 MB\/s eta 0:00:01\r     |█████████▊                      | 40 kB 23.7 MB\/s eta 0:00:01\r     |████████████                    | 51 kB 21.0 MB\/s eta 0:00:01\r     |██████████████▌                 | 61 kB 21.4 MB\/s eta 0:00:01\r     |█████████████████               | 71 kB 23.1 MB\/s eta 0:00:01\r     |███████████████████▍            | 81 kB 24.1 MB\/s eta 0:00:01\r     |█████████████████████▉          | 92 kB 24.4 MB\/s eta 0:00:01\r     |████████████████████████▏       | 102 kB 26.0 MB\/s eta 0:00:01\r     |██████████████████████████▋     | 112 kB 26.0 MB\/s eta 0:00:01\r     |█████████████████████████████   | 122 kB 26.0 MB\/s eta 0:00:01\r     |███████████████████████████████▌| 133 kB 26.0 MB\/s eta 0:00:01\r     |████████████████████████████████| 135 kB 26.0 MB\/s            \r\n",
      "\u001b[?25hCollecting sklearn-crfsuite<0.4,>=0.3.6\r\n",
      "  Downloading sklearn_crfsuite-0.3.6-py2.py3-none-any.whl (12 kB)\r\n",
      "Collecting snips-nlu-parsers<0.5,>=0.3.1\r\n",
      "  Downloading snips_nlu_parsers-0.4.3-cp38-cp38-manylinux1_x86_64.whl (6.8 MB)\r\n",
      "\u001b[?25l\r\r     |                                | 10 kB 24.4 MB\/s eta 0:00:01\r     |                                | 20 kB 25.8 MB\/s eta 0:00:01\r     |▏                               | 30 kB 17.6 MB\/s eta 0:00:01\r     |▏                               | 40 kB 20.9 MB\/s eta 0:00:01\r     |▎                               | 51 kB 24.1 MB\/s eta 0:00:01\r     |▎                               | 61 kB 27.3 MB\/s eta 0:00:01\r     |▍                               | 71 kB 29.4 MB\/s eta 0:00:01\r     |▍                               | 81 kB 8.5 MB\/s eta 0:00:01 \r     |▍                               | 92 kB 9.4 MB\/s eta 0:00:01 \r     |▌                               | 102 kB 10.2 MB\/s eta 0:00:01\r     |▌                               | 112 kB 10.2 MB\/s eta 0:00:01\r     |▋                               | 122 kB 10.2 MB\/s eta 0:00:01\r     |▋                               | 133 kB 10.2 MB\/s eta 0:00:01\r     |▊                               | 143 kB 10.2 MB\/s eta 0:00:01\r     |▊                               | 153 kB 10.2 MB\/s eta 0:00:01\r     |▊                               | 163 kB 10.2 MB\/s eta 0:00:01\r     |▉                               | 174 kB 10.2 MB\/s eta 0:00:01\r     |▉                               | 184 kB 10.2 MB\/s eta 0:00:01\r     |█                               | 194 kB 10.2 MB\/s eta 0:00:01\r     |█                               | 204 kB 10.2 MB\/s eta 0:00:01\r     |█                               | 215 kB 10.2 MB\/s eta 0:00:01\r     |█                               | 225 kB 10.2 MB\/s eta 0:00:01\r     |█                               | 235 kB 10.2 MB\/s eta 0:00:01\r     |█▏                              | 245 kB 10.2 MB\/s eta 0:00:01\r     |█▏                              | 256 kB 10.2 MB\/s eta 0:00:01\r     |█▎                              | 266 kB 10.2 MB\/s eta 0:00:01\r     |█▎                              | 276 kB 10.2 MB\/s eta 0:00:01\r     |█▍                              | 286 kB 10.2 MB\/s eta 0:00:01\r     |█▍                              | 296 kB 10.2 MB\/s eta 0:00:01\r     |█▌                              | 307 kB 10.2 MB\/s eta 0:00:01\r     |█▌                              | 317 kB 10.2 MB\/s eta 0:00:01\r     |█▌                              | 327 kB 10.2 MB\/s eta 0:00:01\r     |█▋                              | 337 kB 10.2 MB\/s eta 0:00:01\r     |█▋                              | 348 kB 10.2 MB\/s eta 0:00:01\r     |█▊                              | 358 kB 10.2 MB\/s eta 0:00:01\r     |█▊                              | 368 kB 10.2 MB\/s eta 0:00:01\r     |█▉                              | 378 kB 10.2 MB\/s eta 0:00:01\r     |█▉                              | 389 kB 10.2 MB\/s eta 0:00:01\r     |█▉                              | 399 kB 10.2 MB\/s eta 0:00:01\r     |██                              | 409 kB 10.2 MB\/s eta 0:00:01\r     |██                              | 419 kB 10.2 MB\/s eta 0:00:01\r     |██                              | 430 kB 10.2 MB\/s eta 0:00:01\r     |██                              | 440 kB 10.2 MB\/s eta 0:00:01\r     |██▏                             | 450 kB 10.2 MB\/s eta 0:00:01\r     |██▏                             | 460 kB 10.2 MB\/s eta 0:00:01\r     |██▏                             | 471 kB 10.2 MB\/s eta 0:00:01\r     |██▎                             | 481 kB 10.2 MB\/s eta 0:00:01\r     |██▎                             | 491 kB 10.2 MB\/s eta 0:00:01\r     |██▍                             | 501 kB 10.2 MB\/s eta 0:00:01\r     |██▍                             | 512 kB 10.2 MB\/s eta 0:00:01\r     |██▌                             | 522 kB 10.2 MB\/s eta 0:00:01\r     |██▌                             | 532 kB 10.2 MB\/s eta 0:00:01\r     |██▋                             | 542 kB 10.2 MB\/s eta 0:00:01\r     |██▋                             | 552 kB 10.2 MB\/s eta 0:00:01\r     |██▋                             | 563 kB 10.2 MB\/s eta 0:00:01\r     |██▊                             | 573 kB 10.2 MB\/s eta 0:00:01\r     |██▊                             | 583 kB 10.2 MB\/s eta 0:00:01\r     |██▉                             | 593 kB 10.2 MB\/s eta 0:00:01\r     |██▉                             | 604 kB 10.2 MB\/s eta 0:00:01\r     |███                             | 614 kB 10.2 MB\/s eta 0:00:01\r     |███                             | 624 kB 10.2 MB\/s eta 0:00:01\r     |███                             | 634 kB 10.2 MB\/s eta 0:00:01\r     |███                             | 645 kB 10.2 MB\/s eta 0:00:01\r     |███                             | 655 kB 10.2 MB\/s eta 0:00:01\r     |███▏                            | 665 kB 10.2 MB\/s eta 0:00:01\r     |███▏                            | 675 kB 10.2 MB\/s eta 0:00:01\r     |███▎                            | 686 kB 10.2 MB\/s eta 0:00:01\r     |███▎                            | 696 kB 10.2 MB\/s eta 0:00:01\r     |███▎                            | 706 kB 10.2 MB\/s eta 0:00:01\r     |███▍                            | 716 kB 10.2 MB\/s eta 0:00:01\r     |███▍                            | 727 kB 10.2 MB\/s eta 0:00:01\r     |███▌                            | 737 kB 10.2 MB\/s eta 0:00:01\r     |███▌                            | 747 kB 10.2 MB\/s eta 0:00:01\r     |███▋                            | 757 kB 10.2 MB\/s eta 0:00:01\r     |███▋                            | 768 kB 10.2 MB\/s eta 0:00:01\r     |███▊                            | 778 kB 10.2 MB\/s eta 0:00:01\r     |███▊                            | 788 kB 10.2 MB\/s eta 0:00:01\r     |███▊                            | 798 kB 10.2 MB\/s eta 0:00:01\r     |███▉                            | 808 kB 10.2 MB\/s eta 0:00:01\r     |███▉                            | 819 kB 10.2 MB\/s eta 0:00:01\r     |████                            | 829 kB 10.2 MB\/s eta 0:00:01\r     |████                            | 839 kB 10.2 MB\/s eta 0:00:01\r     |████                            | 849 kB 10.2 MB\/s eta 0:00:01\r     |████                            | 860 kB 10.2 MB\/s eta 0:00:01\r     |████                            | 870 kB 10.2 MB\/s eta 0:00:01\r     |████▏                           | 880 kB 10.2 MB\/s eta 0:00:01\r     |████▏                           | 890 kB 10.2 MB\/s eta 0:00:01\r     |████▎                           | 901 kB 10.2 MB\/s eta 0:00:01\r     |████▎                           | 911 kB 10.2 MB\/s eta 0:00:01\r     |████▍                           | 921 kB 10.2 MB\/s eta 0:00:01\r     |████▍                           | 931 kB 10.2 MB\/s eta 0:00:01\r     |████▍                           | 942 kB 10.2 MB\/s eta 0:00:01\r     |████▌                           | 952 kB 10.2 MB\/s eta 0:00:01\r     |████▌                           | 962 kB 10.2 MB\/s eta 0:00:01\r     |████▋                           | 972 kB 10.2 MB\/s eta 0:00:01\r     |████▋                           | 983 kB 10.2 MB\/s eta 0:00:01\r     |████▊                           | 993 kB 10.2 MB\/s eta 0:00:01\r     |████▊                           | 1.0 MB 10.2 MB\/s eta 0:00:01\r     |████▉                           | 1.0 MB 10.2 MB\/s eta 0:00:01\r     |████▉                           | 1.0 MB 10.2 MB\/s eta 0:00:01\r     |████▉                           | 1.0 MB 10.2 MB\/s eta 0:00:01\r     |█████                           | 1.0 MB 10.2 MB\/s eta 0:00:01\r     |█████                           | 1.1 MB 10.2 MB\/s eta 0:00:01\r     |█████                           | 1.1 MB 10.2 MB\/s eta 0:00:01\r     |█████                           | 1.1 MB 10.2 MB\/s eta 0:00:01\r     |█████▏                          | 1.1 MB 10.2 MB\/s eta 0:00:01\r     |█████▏                          | 1.1 MB 10.2 MB\/s eta 0:00:01\r     |█████▏                          | 1.1 MB 10.2 MB\/s eta 0:00:01\r     |█████▎                          | 1.1 MB 10.2 MB\/s eta 0:00:01\r     |█████▎                          | 1.1 MB 10.2 MB\/s eta 0:00:01\r     |█████▍                          | 1.1 MB 10.2 MB\/s eta 0:00:01\r     |█████▍                          | 1.1 MB 10.2 MB\/s eta 0:00:01\r     |█████▌                          | 1.2 MB 10.2 MB\/s eta 0:00:01\r     |█████▌                          | 1.2 MB 10.2 MB\/s eta 0:00:01\r     |█████▌                          | 1.2 MB 10.2 MB\/s eta 0:00:01\r     |█████▋                          | 1.2 MB 10.2 MB\/s eta 0:00:01\r     |█████▋                          | 1.2 MB 10.2 MB\/s eta 0:00:01\r     |█████▊                          | 1.2 MB 10.2 MB\/s eta 0:00:01\r     |█████▊                          | 1.2 MB 10.2 MB\/s eta 0:00:01\r     |█████▉                          | 1.2 MB 10.2 MB\/s eta 0:00:01\r     |█████▉                          | 1.2 MB 10.2 MB\/s eta 0:00:01\r     |█████▉                          | 1.2 MB 10.2 MB\/s eta 0:00:01\r     |██████                          | 1.3 MB 10.2 MB\/s eta 0:00:01\r     |██████                          | 1.3 MB 10.2 MB\/s eta 0:00:01\r     |██████                          | 1.3 MB 10.2 MB\/s eta 0:00:01\r     |██████                          | 1.3 MB 10.2 MB\/s eta 0:00:01\r     |██████▏                         | 1.3 MB 10.2 MB\/s eta 0:00:01\r     |██████▏                         | 1.3 MB 10.2 MB\/s eta 0:00:01\r     |██████▎                         | 1.3 MB 10.2 MB\/s eta 0:00:01\r     |██████▎                         | 1.3 MB 10.2 MB\/s eta 0:00:01\r     |██████▎                         | 1.3 MB 10.2 MB\/s eta 0:00:01\r     |██████▍                         | 1.4 MB 10.2 MB\/s eta 0:00:01\r     |██████▍                         | 1.4 MB 10.2 MB\/s eta 0:00:01\r     |██████▌                         | 1.4 MB 10.2 MB\/s eta 0:00:01\r     |██████▌                         | 1.4 MB 10.2 MB\/s eta 0:00:01\r     |██████▋                         | 1.4 MB 10.2 MB\/s eta 0:00:01\r     |██████▋                         | 1.4 MB 10.2 MB\/s eta 0:00:01\r     |██████▋                         | 1.4 MB 10.2 MB\/s eta 0:00:01\r     |██████▊                         | 1.4 MB 10.2 MB\/s eta 0:00:01\r     |██████▊                         | 1.4 MB 10.2 MB\/s eta 0:00:01\r     |██████▉                         | 1.4 MB 10.2 MB\/s eta 0:00:01\r     |██████▉                         | 1.5 MB 10.2 MB\/s eta 0:00:01\r     |███████                         | 1.5 MB 10.2 MB\/s eta 0:00:01\r     |███████                         | 1.5 MB 10.2 MB\/s eta 0:00:01\r     |███████                         | 1.5 MB 10.2 MB\/s eta 0:00:01\r     |███████                         | 1.5 MB 10.2 MB\/s eta 0:00:01\r     |███████                         | 1.5 MB 10.2 MB\/s eta 0:00:01\r     |███████▏                        | 1.5 MB 10.2 MB\/s eta 0:00:01\r     |███████▏                        | 1.5 MB 10.2 MB\/s eta 0:00:01\r     |███████▎                        | 1.5 MB 10.2 MB\/s eta 0:00:01\r     |███████▎                        | 1.5 MB 10.2 MB\/s eta 0:00:01\r     |███████▍                        | 1.6 MB 10.2 MB\/s eta 0:00:01\r     |███████▍                        | 1.6 MB 10.2 MB\/s eta 0:00:01\r     |███████▍                        | 1.6 MB 10.2 MB\/s eta 0:00:01\r     |███████▌                        | 1.6 MB 10.2 MB\/s eta 0:00:01\r     |███████▌                        | 1.6 MB 10.2 MB\/s eta 0:00:01\r     |███████▋                        | 1.6 MB 10.2 MB\/s eta 0:00:01\r     |███████▋                        | 1.6 MB 10.2 MB\/s eta 0:00:01\r     |███████▊                        | 1.6 MB 10.2 MB\/s eta 0:00:01\r     |███████▊                        | 1.6 MB 10.2 MB\/s eta 0:00:01\r     |███████▊                        | 1.6 MB 10.2 MB\/s eta 0:00:01\r     |███████▉                        | 1.7 MB 10.2 MB\/s eta 0:00:01\r     |███████▉                        | 1.7 MB 10.2 MB\/s eta 0:00:01\r     |████████                        | 1.7 MB 10.2 MB\/s eta 0:00:01\r     |████████                        | 1.7 MB 10.2 MB\/s eta 0:00:01\r     |████████                        | 1.7 MB 10.2 MB\/s eta 0:00:01\r     |████████                        | 1.7 MB 10.2 MB\/s eta 0:00:01\r     |████████                        | 1.7 MB 10.2 MB\/s eta 0:00:01\r     |████████▏                       | 1.7 MB 10.2 MB\/s eta 0:00:01\r     |████████▏                       | 1.7 MB 10.2 MB\/s eta 0:00:01\r     |████████▎                       | 1.8 MB 10.2 MB\/s eta 0:00:01\r     |████████▎                       | 1.8 MB 10.2 MB\/s eta 0:00:01\r     |████████▍                       | 1.8 MB 10.2 MB\/s eta 0:00:01\r     |████████▍                       | 1.8 MB 10.2 MB\/s eta 0:00:01\r     |████████▌                       | 1.8 MB 10.2 MB\/s eta 0:00:01\r     |████████▌                       | 1.8 MB 10.2 MB\/s eta 0:00:01\r     |████████▌                       | 1.8 MB 10.2 MB\/s eta 0:00:01\r     |████████▋                       | 1.8 MB 10.2 MB\/s eta 0:00:01\r     |████████▋                       | 1.8 MB 10.2 MB\/s eta 0:00:01\r     |████████▊                       | 1.8 MB 10.2 MB\/s eta 0:00:01\r     |████████▊                       | 1.9 MB 10.2 MB\/s eta 0:00:01\r     |████████▉                       | 1.9 MB 10.2 MB\/s eta 0:00:01\r     |████████▉                       | 1.9 MB 10.2 MB\/s eta 0:00:01\r     |████████▉                       | 1.9 MB 10.2 MB\/s eta 0:00:01\r     |█████████                       | 1.9 MB 10.2 MB\/s eta 0:00:01\r     |█████████                       | 1.9 MB 10.2 MB\/s eta 0:00:01\r     |█████████                       | 1.9 MB 10.2 MB\/s eta 0:00:01\r     |█████████                       | 1.9 MB 10.2 MB\/s eta 0:00:01\r     |█████████▏                      | 1.9 MB 10.2 MB\/s eta 0:00:01\r     |█████████▏                      | 1.9 MB 10.2 MB\/s eta 0:00:01\r     |█████████▏                      | 2.0 MB 10.2 MB\/s eta 0:00:01\r     |█████████▎                      | 2.0 MB 10.2 MB\/s eta 0:00:01\r     |█████████▎                      | 2.0 MB 10.2 MB\/s eta 0:00:01\r     |█████████▍                      | 2.0 MB 10.2 MB\/s eta 0:00:01\r     |█████████▍                      | 2.0 MB 10.2 MB\/s eta 0:00:01\r     |█████████▌                      | 2.0 MB 10.2 MB\/s eta 0:00:01\r     |█████████▌                      | 2.0 MB 10.2 MB\/s eta 0:00:01\r     |█████████▋                      | 2.0 MB 10.2 MB\/s eta 0:00:01\r     |█████████▋                      | 2.0 MB 10.2 MB\/s eta 0:00:01\r     |█████████▋                      | 2.0 MB 10.2 MB\/s eta 0:00:01\r     |█████████▊                      | 2.1 MB 10.2 MB\/s eta 0:00:01\r     |█████████▊                      | 2.1 MB 10.2 MB\/s eta 0:00:01\r     |█████████▉                      | 2.1 MB 10.2 MB\/s eta 0:00:01\r     |█████████▉                      | 2.1 MB 10.2 MB\/s eta 0:00:01\r     |██████████                      | 2.1 MB 10.2 MB\/s eta 0:00:01\r     |██████████                      | 2.1 MB 10.2 MB\/s eta 0:00:01\r     |██████████                      | 2.1 MB 10.2 MB\/s eta 0:00:01\r     |██████████                      | 2.1 MB 10.2 MB\/s eta 0:00:01\r     |██████████                      | 2.1 MB 10.2 MB\/s eta 0:00:01\r     |██████████▏                     | 2.2 MB 10.2 MB\/s eta 0:00:01\r     |██████████▏                     | 2.2 MB 10.2 MB\/s eta 0:00:01\r     |██████████▎                     | 2.2 MB 10.2 MB\/s eta 0:00:01\r     |██████████▎                     | 2.2 MB 10.2 MB\/s eta 0:00:01\r     |██████████▎                     | 2.2 MB 10.2 MB\/s eta 0:00:01\r     |██████████▍                     | 2.2 MB 10.2 MB\/s eta 0:00:01\r     |██████████▍                     | 2.2 MB 10.2 MB\/s eta 0:00:01\r     |██████████▌                     | 2.2 MB 10.2 MB\/s eta 0:00:01\r     |██████████▌                     | 2.2 MB 10.2 MB\/s eta 0:00:01\r     |██████████▋                     | 2.2 MB 10.2 MB\/s eta 0:00:01\r     |██████████▋                     | 2.3 MB 10.2 MB\/s eta 0:00:01\r     |██████████▋                     | 2.3 MB 10.2 MB\/s eta 0:00:01\r     |██████████▊                     | 2.3 MB 10.2 MB\/s eta 0:00:01\r     |██████████▊                     | 2.3 MB 10.2 MB\/s eta 0:00:01\r     |██████████▉                     | 2.3 MB 10.2 MB\/s eta 0:00:01\r     |██████████▉                     | 2.3 MB 10.2 MB\/s eta 0:00:01\r     |███████████                     | 2.3 MB 10.2 MB\/s eta 0:00:01\r     |███████████                     | 2.3 MB 10.2 MB\/s eta 0:00:01\r     |███████████                     | 2.3 MB 10.2 MB\/s eta 0:00:01\r     |███████████                     | 2.3 MB 10.2 MB\/s eta 0:00:01\r     |███████████                     | 2.4 MB 10.2 MB\/s eta 0:00:01\r     |███████████▏                    | 2.4 MB 10.2 MB\/s eta 0:00:01\r     |███████████▏                    | 2.4 MB 10.2 MB\/s eta 0:00:01\r     |███████████▎                    | 2.4 MB 10.2 MB\/s eta 0:00:01\r     |███████████▎                    | 2.4 MB 10.2 MB\/s eta 0:00:01\r     |███████████▍                    | 2.4 MB 10.2 MB\/s eta 0:00:01\r     |███████████▍                    | 2.4 MB 10.2 MB\/s eta 0:00:01\r     |███████████▍                    | 2.4 MB 10.2 MB\/s eta 0:00:01\r     |███████████▌                    | 2.4 MB 10.2 MB\/s eta 0:00:01\r     |███████████▌                    | 2.4 MB 10.2 MB\/s eta 0:00:01\r     |███████████▋                    | 2.5 MB 10.2 MB\/s eta 0:00:01\r     |███████████▋                    | 2.5 MB 10.2 MB\/s eta 0:00:01\r     |███████████▊                    | 2.5 MB 10.2 MB\/s eta 0:00:01\r     |███████████▊                    | 2.5 MB 10.2 MB\/s eta 0:00:01\r     |███████████▊                    | 2.5 MB 10.2 MB\/s eta 0:00:01\r     |███████████▉                    | 2.5 MB 10.2 MB\/s eta 0:00:01\r     |███████████▉                    | 2.5 MB 10.2 MB\/s eta 0:00:01\r     |████████████                    | 2.5 MB 10.2 MB\/s eta 0:00:01\r     |████████████                    | 2.5 MB 10.2 MB\/s eta 0:00:01\r     |████████████                    | 2.5 MB 10.2 MB\/s eta 0:00:01\r     |████████████                    | 2.6 MB 10.2 MB\/s eta 0:00:01\r     |████████████▏                   | 2.6 MB 10.2 MB\/s eta 0:00:01\r     |████████████▏                   | 2.6 MB 10.2 MB\/s eta 0:00:01\r     |████████████▏                   | 2.6 MB 10.2 MB\/s eta 0:00:01\r     |████████████▎                   | 2.6 MB 10.2 MB\/s eta 0:00:01\r     |████████████▎                   | 2.6 MB 10.2 MB\/s eta 0:00:01\r     |████████████▍                   | 2.6 MB 10.2 MB\/s eta 0:00:01\r     |████████████▍                   | 2.6 MB 10.2 MB\/s eta 0:00:01\r     |████████████▌                   | 2.6 MB 10.2 MB\/s eta 0:00:01\r     |████████████▌                   | 2.7 MB 10.2 MB\/s eta 0:00:01\r     |████████████▌                   | 2.7 MB 10.2 MB\/s eta 0:00:01\r     |████████████▋                   | 2.7 MB 10.2 MB\/s eta 0:00:01\r     |████████████▋                   | 2.7 MB 10.2 MB\/s eta 0:00:01\r     |████████████▊                   | 2.7 MB 10.2 MB\/s eta 0:00:01\r     |████████████▊                   | 2.7 MB 10.2 MB\/s eta 0:00:01\r     |████████████▉                   | 2.7 MB 10.2 MB\/s eta 0:00:01\r     |████████████▉                   | 2.7 MB 10.2 MB\/s eta 0:00:01\r     |████████████▉                   | 2.7 MB 10.2 MB\/s eta 0:00:01\r     |█████████████                   | 2.7 MB 10.2 MB\/s eta 0:00:01\r     |█████████████                   | 2.8 MB 10.2 MB\/s eta 0:00:01\r     |█████████████                   | 2.8 MB 10.2 MB\/s eta 0:00:01\r     |█████████████                   | 2.8 MB 10.2 MB\/s eta 0:00:01\r     |█████████████▏                  | 2.8 MB 10.2 MB\/s eta 0:00:01\r     |█████████████▏                  | 2.8 MB 10.2 MB\/s eta 0:00:01\r     |█████████████▎                  | 2.8 MB 10.2 MB\/s eta 0:00:01\r     |█████████████▎                  | 2.8 MB 10.2 MB\/s eta 0:00:01\r     |█████████████▎                  | 2.8 MB 10.2 MB\/s eta 0:00:01\r     |█████████████▍                  | 2.8 MB 10.2 MB\/s eta 0:00:01\r     |█████████████▍                  | 2.8 MB 10.2 MB\/s eta 0:00:01\r     |█████████████▌                  | 2.9 MB 10.2 MB\/s eta 0:00:01\r     |█████████████▌                  | 2.9 MB 10.2 MB\/s eta 0:00:01\r     |█████████████▋                  | 2.9 MB 10.2 MB\/s eta 0:00:01\r     |█████████████▋                  | 2.9 MB 10.2 MB\/s eta 0:00:01\r     |█████████████▋                  | 2.9 MB 10.2 MB\/s eta 0:00:01\r     |█████████████▊                  | 2.9 MB 10.2 MB\/s eta 0:00:01\r     |█████████████▊                  | 2.9 MB 10.2 MB\/s eta 0:00:01\r     |█████████████▉                  | 2.9 MB 10.2 MB\/s eta 0:00:01\r     |█████████████▉                  | 2.9 MB 10.2 MB\/s eta 0:00:01\r     |██████████████                  | 2.9 MB 10.2 MB\/s eta 0:00:01\r     |██████████████                  | 3.0 MB 10.2 MB\/s eta 0:00:01\r     |██████████████                  | 3.0 MB 10.2 MB\/s eta 0:00:01\r     |██████████████                  | 3.0 MB 10.2 MB\/s eta 0:00:01\r     |██████████████                  | 3.0 MB 10.2 MB\/s eta 0:00:01\r     |██████████████▏                 | 3.0 MB 10.2 MB\/s eta 0:00:01\r     |██████████████▏                 | 3.0 MB 10.2 MB\/s eta 0:00:01\r     |██████████████▎                 | 3.0 MB 10.2 MB\/s eta 0:00:01\r     |██████████████▎                 | 3.0 MB 10.2 MB\/s eta 0:00:01\r     |██████████████▍                 | 3.0 MB 10.2 MB\/s eta 0:00:01\r     |██████████████▍                 | 3.1 MB 10.2 MB\/s eta 0:00:01\r     |██████████████▍                 | 3.1 MB 10.2 MB\/s eta 0:00:01\r     |██████████████▌                 | 3.1 MB 10.2 MB\/s eta 0:00:01\r     |██████████████▌                 | 3.1 MB 10.2 MB\/s eta 0:00:01\r     |██████████████▋                 | 3.1 MB 10.2 MB\/s eta 0:00:01\r     |██████████████▋                 | 3.1 MB 10.2 MB\/s eta 0:00:01\r     |██████████████▊                 | 3.1 MB 10.2 MB\/s eta 0:00:01\r     |██████████████▊                 | 3.1 MB 10.2 MB\/s eta 0:00:01\r     |██████████████▊                 | 3.1 MB 10.2 MB\/s eta 0:00:01\r     |██████████████▉                 | 3.1 MB 10.2 MB\/s eta 0:00:01\r     |██████████████▉                 | 3.2 MB 10.2 MB\/s eta 0:00:01\r     |███████████████                 | 3.2 MB 10.2 MB\/s eta 0:00:01\r     |███████████████                 | 3.2 MB 10.2 MB\/s eta 0:00:01\r     |███████████████                 | 3.2 MB 10.2 MB\/s eta 0:00:01\r     |███████████████                 | 3.2 MB 10.2 MB\/s eta 0:00:01\r     |███████████████                 | 3.2 MB 10.2 MB\/s eta 0:00:01\r     |███████████████▏                | 3.2 MB 10.2 MB\/s eta 0:00:01\r     |███████████████▏                | 3.2 MB 10.2 MB\/s eta 0:00:01\r     |███████████████▎                | 3.2 MB 10.2 MB\/s eta 0:00:01\r     |███████████████▎                | 3.2 MB 10.2 MB\/s eta 0:00:01\r     |███████████████▍                | 3.3 MB 10.2 MB\/s eta 0:00:01\r     |███████████████▍                | 3.3 MB 10.2 MB\/s eta 0:00:01\r     |███████████████▍                | 3.3 MB 10.2 MB\/s eta 0:00:01\r     |███████████████▌                | 3.3 MB 10.2 MB\/s eta 0:00:01\r     |███████████████▌                | 3.3 MB 10.2 MB\/s eta 0:00:01\r     |███████████████▋                | 3.3 MB 10.2 MB\/s eta 0:00:01\r     |███████████████▋                | 3.3 MB 10.2 MB\/s eta 0:00:01\r     |███████████████▊                | 3.3 MB 10.2 MB\/s eta 0:00:01\r     |███████████████▊                | 3.3 MB 10.2 MB\/s eta 0:00:01\r     |███████████████▉                | 3.3 MB 10.2 MB\/s eta 0:00:01\r     |███████████████▉                | 3.4 MB 10.2 MB\/s eta 0:00:01\r     |███████████████▉                | 3.4 MB 10.2 MB\/s eta 0:00:01\r     |████████████████                | 3.4 MB 10.2 MB\/s eta 0:00:01\r     |████████████████                | 3.4 MB 10.2 MB\/s eta 0:00:01\r     |████████████████                | 3.4 MB 10.2 MB\/s eta 0:00:01\r     |████████████████                | 3.4 MB 10.2 MB\/s eta 0:00:01\r     |████████████████▏               | 3.4 MB 10.2 MB\/s eta 0:00:01\r     |████████████████▏               | 3.4 MB 10.2 MB\/s eta 0:00:01\r     |████████████████▏               | 3.4 MB 10.2 MB\/s eta 0:00:01\r     |████████████████▎               | 3.5 MB 10.2 MB\/s eta 0:00:01\r     |████████████████▎               | 3.5 MB 10.2 MB\/s eta 0:00:01\r     |████████████████▍               | 3.5 MB 10.2 MB\/s eta 0:00:01\r     |████████████████▍               | 3.5 MB 10.2 MB\/s eta 0:00:01\r     |████████████████▌               | 3.5 MB 10.2 MB\/s eta 0:00:01\r     |████████████████▌               | 3.5 MB 10.2 MB\/s eta 0:00:01\r     |████████████████▌               | 3.5 MB 10.2 MB\/s eta 0:00:01\r     |████████████████▋               | 3.5 MB 10.2 MB\/s eta 0:00:01\r     |████████████████▋               | 3.5 MB 10.2 MB\/s eta 0:00:01\r     |████████████████▊               | 3.5 MB 10.2 MB\/s eta 0:00:01\r     |████████████████▊               | 3.6 MB 10.2 MB\/s eta 0:00:01\r     |████████████████▉               | 3.6 MB 10.2 MB\/s eta 0:00:01\r     |████████████████▉               | 3.6 MB 10.2 MB\/s eta 0:00:01\r     |█████████████████               | 3.6 MB 10.2 MB\/s eta 0:00:01\r     |█████████████████               | 3.6 MB 10.2 MB\/s eta 0:00:01\r     |█████████████████               | 3.6 MB 10.2 MB\/s eta 0:00:01\r     |█████████████████               | 3.6 MB 10.2 MB\/s eta 0:00:01\r     |█████████████████               | 3.6 MB 10.2 MB\/s eta 0:00:01\r     |█████████████████▏              | 3.6 MB 10.2 MB\/s eta 0:00:01\r     |█████████████████▏              | 3.6 MB 10.2 MB\/s eta 0:00:01\r     |█████████████████▎              | 3.7 MB 10.2 MB\/s eta 0:00:01\r     |█████████████████▎              | 3.7 MB 10.2 MB\/s eta 0:00:01\r     |█████████████████▎              | 3.7 MB 10.2 MB\/s eta 0:00:01\r     |█████████████████▍              | 3.7 MB 10.2 MB\/s eta 0:00:01\r     |█████████████████▍              | 3.7 MB 10.2 MB\/s eta 0:00:01\r     |█████████████████▌              | 3.7 MB 10.2 MB\/s eta 0:00:01\r     |█████████████████▌              | 3.7 MB 10.2 MB\/s eta 0:00:01\r     |█████████████████▋              | 3.7 MB 10.2 MB\/s eta 0:00:01\r     |█████████████████▋              | 3.7 MB 10.2 MB\/s eta 0:00:01\r     |█████████████████▋              | 3.7 MB 10.2 MB\/s eta 0:00:01\r     |█████████████████▊              | 3.8 MB 10.2 MB\/s eta 0:00:01\r     |█████████████████▊              | 3.8 MB 10.2 MB\/s eta 0:00:01\r     |█████████████████▉              | 3.8 MB 10.2 MB\/s eta 0:00:01\r     |█████████████████▉              | 3.8 MB 10.2 MB\/s eta 0:00:01\r     |██████████████████              | 3.8 MB 10.2 MB\/s eta 0:00:01\r     |██████████████████              | 3.8 MB 10.2 MB\/s eta 0:00:01\r     |██████████████████              | 3.8 MB 10.2 MB\/s eta 0:00:01\r     |██████████████████              | 3.8 MB 10.2 MB\/s eta 0:00:01\r     |██████████████████              | 3.8 MB 10.2 MB\/s eta 0:00:01\r     |██████████████████▏             | 3.9 MB 10.2 MB\/s eta 0:00:01\r     |██████████████████▏             | 3.9 MB 10.2 MB\/s eta 0:00:01\r     |██████████████████▎             | 3.9 MB 10.2 MB\/s eta 0:00:01\r     |██████████████████▎             | 3.9 MB 10.2 MB\/s eta 0:00:01\r     |██████████████████▍             | 3.9 MB 10.2 MB\/s eta 0:00:01\r     |██████████████████▍             | 3.9 MB 10.2 MB\/s eta 0:00:01\r     |██████████████████▍             | 3.9 MB 10.2 MB\/s eta 0:00:01\r     |██████████████████▌             | 3.9 MB 10.2 MB\/s eta 0:00:01\r     |██████████████████▌             | 3.9 MB 10.2 MB\/s eta 0:00:01\r     |██████████████████▋             | 3.9 MB 10.2 MB\/s eta 0:00:01\r     |██████████████████▋             | 4.0 MB 10.2 MB\/s eta 0:00:01\r     |██████████████████▊             | 4.0 MB 10.2 MB\/s eta 0:00:01\r     |██████████████████▊             | 4.0 MB 10.2 MB\/s eta 0:00:01\r     |██████████████████▊             | 4.0 MB 10.2 MB\/s eta 0:00:01\r     |██████████████████▉             | 4.0 MB 10.2 MB\/s eta 0:00:01\r     |██████████████████▉             | 4.0 MB 10.2 MB\/s eta 0:00:01\r     |███████████████████             | 4.0 MB 10.2 MB\/s eta 0:00:01\r     |███████████████████             | 4.0 MB 10.2 MB\/s eta 0:00:01\r     |███████████████████             | 4.0 MB 10.2 MB\/s eta 0:00:01\r     |███████████████████             | 4.0 MB 10.2 MB\/s eta 0:00:01\r     |███████████████████▏            | 4.1 MB 10.2 MB\/s eta 0:00:01\r     |███████████████████▏            | 4.1 MB 10.2 MB\/s eta 0:00:01\r     |███████████████████▏            | 4.1 MB 10.2 MB\/s eta 0:00:01\r     |███████████████████▎            | 4.1 MB 10.2 MB\/s eta 0:00:01\r     |███████████████████▎            | 4.1 MB 10.2 MB\/s eta 0:00:01\r     |███████████████████▍            | 4.1 MB 10.2 MB\/s eta 0:00:01\r     |███████████████████▍            | 4.1 MB 10.2 MB\/s eta 0:00:01\r     |███████████████████▌            | 4.1 MB 10.2 MB\/s eta 0:00:01\r     |███████████████████▌            | 4.1 MB 10.2 MB\/s eta 0:00:01\r     |███████████████████▌            | 4.1 MB 10.2 MB\/s eta 0:00:01\r     |███████████████████▋            | 4.2 MB 10.2 MB\/s eta 0:00:01\r     |███████████████████▋            | 4.2 MB 10.2 MB\/s eta 0:00:01\r     |███████████████████▊            | 4.2 MB 10.2 MB\/s eta 0:00:01\r     |███████████████████▊            | 4.2 MB 10.2 MB\/s eta 0:00:01\r     |███████████████████▉            | 4.2 MB 10.2 MB\/s eta 0:00:01\r     |███████████████████▉            | 4.2 MB 10.2 MB\/s eta 0:00:01\r     |███████████████████▉            | 4.2 MB 10.2 MB\/s eta 0:00:01\r     |████████████████████            | 4.2 MB 10.2 MB\/s eta 0:00:01\r     |████████████████████            | 4.2 MB 10.2 MB\/s eta 0:00:01\r     |████████████████████            | 4.2 MB 10.2 MB\/s eta 0:00:01\r     |████████████████████            | 4.3 MB 10.2 MB\/s eta 0:00:01\r     |████████████████████▏           | 4.3 MB 10.2 MB\/s eta 0:00:01\r     |████████████████████▏           | 4.3 MB 10.2 MB\/s eta 0:00:01\r     |████████████████████▎           | 4.3 MB 10.2 MB\/s eta 0:00:01\r     |████████████████████▎           | 4.3 MB 10.2 MB\/s eta 0:00:01\r     |████████████████████▎           | 4.3 MB 10.2 MB\/s eta 0:00:01\r     |████████████████████▍           | 4.3 MB 10.2 MB\/s eta 0:00:01\r     |████████████████████▍           | 4.3 MB 10.2 MB\/s eta 0:00:01\r     |████████████████████▌           | 4.3 MB 10.2 MB\/s eta 0:00:01\r     |████████████████████▌           | 4.4 MB 10.2 MB\/s eta 0:00:01\r     |████████████████████▋           | 4.4 MB 10.2 MB\/s eta 0:00:01\r     |████████████████████▋           | 4.4 MB 10.2 MB\/s eta 0:00:01\r     |████████████████████▋           | 4.4 MB 10.2 MB\/s eta 0:00:01\r     |████████████████████▊           | 4.4 MB 10.2 MB\/s eta 0:00:01\r     |████████████████████▊           | 4.4 MB 10.2 MB\/s eta 0:00:01\r     |████████████████████▉           | 4.4 MB 10.2 MB\/s eta 0:00:01\r     |████████████████████▉           | 4.4 MB 10.2 MB\/s eta 0:00:01\r     |█████████████████████           | 4.4 MB 10.2 MB\/s eta 0:00:01\r     |█████████████████████           | 4.4 MB 10.2 MB\/s eta 0:00:01\r     |█████████████████████           | 4.5 MB 10.2 MB\/s eta 0:00:01\r     |█████████████████████           | 4.5 MB 10.2 MB\/s eta 0:00:01\r     |█████████████████████           | 4.5 MB 10.2 MB\/s eta 0:00:01\r     |█████████████████████▏          | 4.5 MB 10.2 MB\/s eta 0:00:01\r     |█████████████████████▏          | 4.5 MB 10.2 MB\/s eta 0:00:01\r     |█████████████████████▎          | 4.5 MB 10.2 MB\/s eta 0:00:01\r     |█████████████████████▎          | 4.5 MB 10.2 MB\/s eta 0:00:01\r     |█████████████████████▎          | 4.5 MB 10.2 MB\/s eta 0:00:01\r     |█████████████████████▍          | 4.5 MB 10.2 MB\/s eta 0:00:01\r     |█████████████████████▍          | 4.5 MB 10.2 MB\/s eta 0:00:01\r     |█████████████████████▌          | 4.6 MB 10.2 MB\/s eta 0:00:01\r     |█████████████████████▌          | 4.6 MB 10.2 MB\/s eta 0:00:01\r     |█████████████████████▋          | 4.6 MB 10.2 MB\/s eta 0:00:01\r     |█████████████████████▋          | 4.6 MB 10.2 MB\/s eta 0:00:01\r     |█████████████████████▊          | 4.6 MB 10.2 MB\/s eta 0:00:01\r     |█████████████████████▊          | 4.6 MB 10.2 MB\/s eta 0:00:01\r     |█████████████████████▊          | 4.6 MB 10.2 MB\/s eta 0:00:01\r     |█████████████████████▉          | 4.6 MB 10.2 MB\/s eta 0:00:01\r     |█████████████████████▉          | 4.6 MB 10.2 MB\/s eta 0:00:01\r     |██████████████████████          | 4.6 MB 10.2 MB\/s eta 0:00:01\r     |██████████████████████          | 4.7 MB 10.2 MB\/s eta 0:00:01\r     |██████████████████████          | 4.7 MB 10.2 MB\/s eta 0:00:01\r     |██████████████████████          | 4.7 MB 10.2 MB\/s eta 0:00:01\r     |██████████████████████          | 4.7 MB 10.2 MB\/s eta 0:00:01\r     |██████████████████████▏         | 4.7 MB 10.2 MB\/s eta 0:00:01\r     |██████████████████████▏         | 4.7 MB 10.2 MB\/s eta 0:00:01\r     |██████████████████████▎         | 4.7 MB 10.2 MB\/s eta 0:00:01\r     |██████████████████████▎         | 4.7 MB 10.2 MB\/s eta 0:00:01\r     |██████████████████████▍         | 4.7 MB 10.2 MB\/s eta 0:00:01\r     |██████████████████████▍         | 4.8 MB 10.2 MB\/s eta 0:00:01\r     |██████████████████████▍         | 4.8 MB 10.2 MB\/s eta 0:00:01\r     |██████████████████████▌         | 4.8 MB 10.2 MB\/s eta 0:00:01\r     |██████████████████████▌         | 4.8 MB 10.2 MB\/s eta 0:00:01\r     |██████████████████████▋         | 4.8 MB 10.2 MB\/s eta 0:00:01\r     |██████████████████████▋         | 4.8 MB 10.2 MB\/s eta 0:00:01\r     |██████████████████████▊         | 4.8 MB 10.2 MB\/s eta 0:00:01\r     |██████████████████████▊         | 4.8 MB 10.2 MB\/s eta 0:00:01\r     |██████████████████████▉         | 4.8 MB 10.2 MB\/s eta 0:00:01\r     |██████████████████████▉         | 4.8 MB 10.2 MB\/s eta 0:00:01\r     |██████████████████████▉         | 4.9 MB 10.2 MB\/s eta 0:00:01\r     |███████████████████████         | 4.9 MB 10.2 MB\/s eta 0:00:01\r     |███████████████████████         | 4.9 MB 10.2 MB\/s eta 0:00:01\r     |███████████████████████         | 4.9 MB 10.2 MB\/s eta 0:00:01\r     |███████████████████████         | 4.9 MB 10.2 MB\/s eta 0:00:01\r     |███████████████████████▏        | 4.9 MB 10.2 MB\/s eta 0:00:01\r     |███████████████████████▏        | 4.9 MB 10.2 MB\/s eta 0:00:01\r     |███████████████████████▏        | 4.9 MB 10.2 MB\/s eta 0:00:01\r     |███████████████████████▎        | 4.9 MB 10.2 MB\/s eta 0:00:01\r     |███████████████████████▎        | 4.9 MB 10.2 MB\/s eta 0:00:01\r     |███████████████████████▍        | 5.0 MB 10.2 MB\/s eta 0:00:01\r     |███████████████████████▍        | 5.0 MB 10.2 MB\/s eta 0:00:01\r     |███████████████████████▌        | 5.0 MB 10.2 MB\/s eta 0:00:01\r     |███████████████████████▌        | 5.0 MB 10.2 MB\/s eta 0:00:01\r     |███████████████████████▌        | 5.0 MB 10.2 MB\/s eta 0:00:01\r     |███████████████████████▋        | 5.0 MB 10.2 MB\/s eta 0:00:01\r     |███████████████████████▋        | 5.0 MB 10.2 MB\/s eta 0:00:01\r     |███████████████████████▊        | 5.0 MB 10.2 MB\/s eta 0:00:01\r     |███████████████████████▊        | 5.0 MB 10.2 MB\/s eta 0:00:01\r     |███████████████████████▉        | 5.0 MB 10.2 MB\/s eta 0:00:01\r     |███████████████████████▉        | 5.1 MB 10.2 MB\/s eta 0:00:01\r     |████████████████████████        | 5.1 MB 10.2 MB\/s eta 0:00:01\r     |████████████████████████        | 5.1 MB 10.2 MB\/s eta 0:00:01\r     |████████████████████████        | 5.1 MB 10.2 MB\/s eta 0:00:01\r     |████████████████████████        | 5.1 MB 10.2 MB\/s eta 0:00:01\r     |████████████████████████        | 5.1 MB 10.2 MB\/s eta 0:00:01\r     |████████████████████████▏       | 5.1 MB 10.2 MB\/s eta 0:00:01\r     |████████████████████████▏       | 5.1 MB 10.2 MB\/s eta 0:00:01\r     |████████████████████████▎       | 5.1 MB 10.2 MB\/s eta 0:00:01\r     |████████████████████████▎       | 5.2 MB 10.2 MB\/s eta 0:00:01\r     |████████████████████████▎       | 5.2 MB 10.2 MB\/s eta 0:00:01\r     |████████████████████████▍       | 5.2 MB 10.2 MB\/s eta 0:00:01\r     |████████████████████████▍       | 5.2 MB 10.2 MB\/s eta 0:00:01\r     |████████████████████████▌       | 5.2 MB 10.2 MB\/s eta 0:00:01\r     |████████████████████████▌       | 5.2 MB 10.2 MB\/s eta 0:00:01\r     |████████████████████████▋       | 5.2 MB 10.2 MB\/s eta 0:00:01\r     |████████████████████████▋       | 5.2 MB 10.2 MB\/s eta 0:00:01\r     |████████████████████████▋       | 5.2 MB 10.2 MB\/s eta 0:00:01\r     |████████████████████████▊       | 5.2 MB 10.2 MB\/s eta 0:00:01\r     |████████████████████████▊       | 5.3 MB 10.2 MB\/s eta 0:00:01\r     |████████████████████████▉       | 5.3 MB 10.2 MB\/s eta 0:00:01\r     |████████████████████████▉       | 5.3 MB 10.2 MB\/s eta 0:00:01\r     |█████████████████████████       | 5.3 MB 10.2 MB\/s eta 0:00:01\r     |█████████████████████████       | 5.3 MB 10.2 MB\/s eta 0:00:01\r     |█████████████████████████       | 5.3 MB 10.2 MB\/s eta 0:00:01\r     |█████████████████████████       | 5.3 MB 10.2 MB\/s eta 0:00:01\r     |█████████████████████████       | 5.3 MB 10.2 MB\/s eta 0:00:01\r     |█████████████████████████▏      | 5.3 MB 10.2 MB\/s eta 0:00:01\r     |█████████████████████████▏      | 5.3 MB 10.2 MB\/s eta 0:00:01\r     |█████████████████████████▎      | 5.4 MB 10.2 MB\/s eta 0:00:01\r     |█████████████████████████▎      | 5.4 MB 10.2 MB\/s eta 0:00:01\r     |█████████████████████████▍      | 5.4 MB 10.2 MB\/s eta 0:00:01\r     |█████████████████████████▍      | 5.4 MB 10.2 MB\/s eta 0:00:01\r     |█████████████████████████▍      | 5.4 MB 10.2 MB\/s eta 0:00:01\r     |█████████████████████████▌      | 5.4 MB 10.2 MB\/s eta 0:00:01\r     |█████████████████████████▌      | 5.4 MB 10.2 MB\/s eta 0:00:01\r     |█████████████████████████▋      | 5.4 MB 10.2 MB\/s eta 0:00:01\r     |█████████████████████████▋      | 5.4 MB 10.2 MB\/s eta 0:00:01\r     |█████████████████████████▊      | 5.4 MB 10.2 MB\/s eta 0:00:01\r     |█████████████████████████▊      | 5.5 MB 10.2 MB\/s eta 0:00:01\r     |█████████████████████████▊      | 5.5 MB 10.2 MB\/s eta 0:00:01\r     |█████████████████████████▉      | 5.5 MB 10.2 MB\/s eta 0:00:01\r     |█████████████████████████▉      | 5.5 MB 10.2 MB\/s eta 0:00:01\r     |██████████████████████████      | 5.5 MB 10.2 MB\/s eta 0:00:01\r     |██████████████████████████      | 5.5 MB 10.2 MB\/s eta 0:00:01\r     |██████████████████████████      | 5.5 MB 10.2 MB\/s eta 0:00:01\r     |██████████████████████████      | 5.5 MB 10.2 MB\/s eta 0:00:01\r     |██████████████████████████      | 5.5 MB 10.2 MB\/s eta 0:00:01\r     |██████████████████████████▏     | 5.6 MB 10.2 MB\/s eta 0:00:01\r     |██████████████████████████▏     | 5.6 MB 10.2 MB\/s eta 0:00:01\r     |██████████████████████████▎     | 5.6 MB 10.2 MB\/s eta 0:00:01\r     |██████████████████████████▎     | 5.6 MB 10.2 MB\/s eta 0:00:01\r     |██████████████████████████▍     | 5.6 MB 10.2 MB\/s eta 0:00:01\r     |██████████████████████████▍     | 5.6 MB 10.2 MB\/s eta 0:00:01\r     |██████████████████████████▌     | 5.6 MB 10.2 MB\/s eta 0:00:01\r     |██████████████████████████▌     | 5.6 MB 10.2 MB\/s eta 0:00:01\r     |██████████████████████████▌     | 5.6 MB 10.2 MB\/s eta 0:00:01\r     |██████████████████████████▋     | 5.6 MB 10.2 MB\/s eta 0:00:01\r     |██████████████████████████▋     | 5.7 MB 10.2 MB\/s eta 0:00:01\r     |██████████████████████████▊     | 5.7 MB 10.2 MB\/s eta 0:00:01\r     |██████████████████████████▊     | 5.7 MB 10.2 MB\/s eta 0:00:01\r     |██████████████████████████▉     | 5.7 MB 10.2 MB\/s eta 0:00:01\r     |██████████████████████████▉     | 5.7 MB 10.2 MB\/s eta 0:00:01\r     |██████████████████████████▉     | 5.7 MB 10.2 MB\/s eta 0:00:01\r     |███████████████████████████     | 5.7 MB 10.2 MB\/s eta 0:00:01\r     |███████████████████████████     | 5.7 MB 10.2 MB\/s eta 0:00:01\r     |███████████████████████████     | 5.7 MB 10.2 MB\/s eta 0:00:01\r     |███████████████████████████     | 5.7 MB 10.2 MB\/s eta 0:00:01\r     |███████████████████████████▏    | 5.8 MB 10.2 MB\/s eta 0:00:01\r     |███████████████████████████▏    | 5.8 MB 10.2 MB\/s eta 0:00:01\r     |███████████████████████████▏    | 5.8 MB 10.2 MB\/s eta 0:00:01\r     |███████████████████████████▎    | 5.8 MB 10.2 MB\/s eta 0:00:01\r     |███████████████████████████▎    | 5.8 MB 10.2 MB\/s eta 0:00:01\r     |███████████████████████████▍    | 5.8 MB 10.2 MB\/s eta 0:00:01\r     |███████████████████████████▍    | 5.8 MB 10.2 MB\/s eta 0:00:01\r     |███████████████████████████▌    | 5.8 MB 10.2 MB\/s eta 0:00:01\r     |███████████████████████████▌    | 5.8 MB 10.2 MB\/s eta 0:00:01\r     |███████████████████████████▋    | 5.8 MB 10.2 MB\/s eta 0:00:01\r     |███████████████████████████▋    | 5.9 MB 10.2 MB\/s eta 0:00:01\r     |███████████████████████████▋    | 5.9 MB 10.2 MB\/s eta 0:00:01\r     |███████████████████████████▊    | 5.9 MB 10.2 MB\/s eta 0:00:01\r     |███████████████████████████▊    | 5.9 MB 10.2 MB\/s eta 0:00:01\r     |███████████████████████████▉    | 5.9 MB 10.2 MB\/s eta 0:00:01\r     |███████████████████████████▉    | 5.9 MB 10.2 MB\/s eta 0:00:01\r     |████████████████████████████    | 5.9 MB 10.2 MB\/s eta 0:00:01\r     |████████████████████████████    | 5.9 MB 10.2 MB\/s eta 0:00:01\r     |████████████████████████████    | 5.9 MB 10.2 MB\/s eta 0:00:01\r     |████████████████████████████    | 5.9 MB 10.2 MB\/s eta 0:00:01\r     |████████████████████████████    | 6.0 MB 10.2 MB\/s eta 0:00:01\r     |████████████████████████████▏   | 6.0 MB 10.2 MB\/s eta 0:00:01\r     |████████████████████████████▏   | 6.0 MB 10.2 MB\/s eta 0:00:01\r     |████████████████████████████▎   | 6.0 MB 10.2 MB\/s eta 0:00:01\r     |████████████████████████████▎   | 6.0 MB 10.2 MB\/s eta 0:00:01\r     |████████████████████████████▎   | 6.0 MB 10.2 MB\/s eta 0:00:01\r     |████████████████████████████▍   | 6.0 MB 10.2 MB\/s eta 0:00:01\r     |████████████████████████████▍   | 6.0 MB 10.2 MB\/s eta 0:00:01\r     |████████████████████████████▌   | 6.0 MB 10.2 MB\/s eta 0:00:01\r     |████████████████████████████▌   | 6.1 MB 10.2 MB\/s eta 0:00:01\r     |████████████████████████████▋   | 6.1 MB 10.2 MB\/s eta 0:00:01\r     |████████████████████████████▋   | 6.1 MB 10.2 MB\/s eta 0:00:01\r     |████████████████████████████▊   | 6.1 MB 10.2 MB\/s eta 0:00:01\r     |████████████████████████████▊   | 6.1 MB 10.2 MB\/s eta 0:00:01\r     |████████████████████████████▊   | 6.1 MB 10.2 MB\/s eta 0:00:01\r     |████████████████████████████▉   | 6.1 MB 10.2 MB\/s eta 0:00:01\r     |████████████████████████████▉   | 6.1 MB 10.2 MB\/s eta 0:00:01\r     |█████████████████████████████   | 6.1 MB 10.2 MB\/s eta 0:00:01\r     |█████████████████████████████   | 6.1 MB 10.2 MB\/s eta 0:00:01\r     |█████████████████████████████   | 6.2 MB 10.2 MB\/s eta 0:00:01\r     |█████████████████████████████   | 6.2 MB 10.2 MB\/s eta 0:00:01\r     |█████████████████████████████   | 6.2 MB 10.2 MB\/s eta 0:00:01\r     |█████████████████████████████▏  | 6.2 MB 10.2 MB\/s eta 0:00:01\r     |█████████████████████████████▏  | 6.2 MB 10.2 MB\/s eta 0:00:01\r     |█████████████████████████████▎  | 6.2 MB 10.2 MB\/s eta 0:00:01\r     |█████████████████████████████▎  | 6.2 MB 10.2 MB\/s eta 0:00:01\r     |█████████████████████████████▍  | 6.2 MB 10.2 MB\/s eta 0:00:01\r     |█████████████████████████████▍  | 6.2 MB 10.2 MB\/s eta 0:00:01\r     |█████████████████████████████▍  | 6.2 MB 10.2 MB\/s eta 0:00:01\r     |█████████████████████████████▌  | 6.3 MB 10.2 MB\/s eta 0:00:01\r     |█████████████████████████████▌  | 6.3 MB 10.2 MB\/s eta 0:00:01\r     |█████████████████████████████▋  | 6.3 MB 10.2 MB\/s eta 0:00:01\r     |█████████████████████████████▋  | 6.3 MB 10.2 MB\/s eta 0:00:01\r     |█████████████████████████████▊  | 6.3 MB 10.2 MB\/s eta 0:00:01\r     |█████████████████████████████▊  | 6.3 MB 10.2 MB\/s eta 0:00:01\r     |█████████████████████████████▉  | 6.3 MB 10.2 MB\/s eta 0:00:01\r     |█████████████████████████████▉  | 6.3 MB 10.2 MB\/s eta 0:00:01\r     |█████████████████████████████▉  | 6.3 MB 10.2 MB\/s eta 0:00:01\r     |██████████████████████████████  | 6.3 MB 10.2 MB\/s eta 0:00:01\r     |██████████████████████████████  | 6.4 MB 10.2 MB\/s eta 0:00:01\r     |██████████████████████████████  | 6.4 MB 10.2 MB\/s eta 0:00:01\r     |██████████████████████████████  | 6.4 MB 10.2 MB\/s eta 0:00:01\r     |██████████████████████████████▏ | 6.4 MB 10.2 MB\/s eta 0:00:01\r     |██████████████████████████████▏ | 6.4 MB 10.2 MB\/s eta 0:00:01\r     |██████████████████████████████▏ | 6.4 MB 10.2 MB\/s eta 0:00:01\r     |██████████████████████████████▎ | 6.4 MB 10.2 MB\/s eta 0:00:01\r     |██████████████████████████████▎ | 6.4 MB 10.2 MB\/s eta 0:00:01\r     |██████████████████████████████▍ | 6.4 MB 10.2 MB\/s eta 0:00:01\r     |██████████████████████████████▍ | 6.5 MB 10.2 MB\/s eta 0:00:01\r     |██████████████████████████████▌ | 6.5 MB 10.2 MB\/s eta 0:00:01\r     |██████████████████████████████▌ | 6.5 MB 10.2 MB\/s eta 0:00:01\r     |██████████████████████████████▌ | 6.5 MB 10.2 MB\/s eta 0:00:01\r     |██████████████████████████████▋ | 6.5 MB 10.2 MB\/s eta 0:00:01\r     |██████████████████████████████▋ | 6.5 MB 10.2 MB\/s eta 0:00:01\r     |██████████████████████████████▊ | 6.5 MB 10.2 MB\/s eta 0:00:01\r     |██████████████████████████████▊ | 6.5 MB 10.2 MB\/s eta 0:00:01\r     |██████████████████████████████▉ | 6.5 MB 10.2 MB\/s eta 0:00:01\r     |██████████████████████████████▉ | 6.5 MB 10.2 MB\/s eta 0:00:01\r     |██████████████████████████████▉ | 6.6 MB 10.2 MB\/s eta 0:00:01\r     |███████████████████████████████ | 6.6 MB 10.2 MB\/s eta 0:00:01\r     |███████████████████████████████ | 6.6 MB 10.2 MB\/s eta 0:00:01\r     |███████████████████████████████ | 6.6 MB 10.2 MB\/s eta 0:00:01\r     |███████████████████████████████ | 6.6 MB 10.2 MB\/s eta 0:00:01\r     |███████████████████████████████▏| 6.6 MB 10.2 MB\/s eta 0:00:01\r     |███████████████████████████████▏| 6.6 MB 10.2 MB\/s eta 0:00:01\r     |███████████████████████████████▎| 6.6 MB 10.2 MB\/s eta 0:00:01\r     |███████████████████████████████▎| 6.6 MB 10.2 MB\/s eta 0:00:01\r     |███████████████████████████████▎| 6.6 MB 10.2 MB\/s eta 0:00:01\r     |███████████████████████████████▍| 6.7 MB 10.2 MB\/s eta 0:00:01\r     |███████████████████████████████▍| 6.7 MB 10.2 MB\/s eta 0:00:01\r     |███████████████████████████████▌| 6.7 MB 10.2 MB\/s eta 0:00:01\r     |███████████████████████████████▌| 6.7 MB 10.2 MB\/s eta 0:00:01\r     |███████████████████████████████▋| 6.7 MB 10.2 MB\/s eta 0:00:01\r     |███████████████████████████████▋| 6.7 MB 10.2 MB\/s eta 0:00:01\r     |███████████████████████████████▋| 6.7 MB 10.2 MB\/s eta 0:00:01\r     |███████████████████████████████▊| 6.7 MB 10.2 MB\/s eta 0:00:01\r     |███████████████████████████████▊| 6.7 MB 10.2 MB\/s eta 0:00:01\r     |███████████████████████████████▉| 6.7 MB 10.2 MB\/s eta 0:00:01\r     |███████████████████████████████▉| 6.8 MB 10.2 MB\/s eta 0:00:01\r     |████████████████████████████████| 6.8 MB 10.2 MB\/s eta 0:00:01\r     |████████████████████████████████| 6.8 MB 10.2 MB\/s eta 0:00:01\r     |████████████████████████████████| 6.8 MB 10.2 MB\/s eta 0:00:01\r     |████████████████████████████████| 6.8 MB 10.2 MB\/s            \r\n",
      "\u001b[?25hRequirement already satisfied: scipy<2.0,>=1.0 in \/opt\/python\/envs\/default\/lib\/python3.8\/site-packages (from snips-nlu) (1.7.3)\r\n",
      "Collecting num2words<0.6,>=0.5.6\r\n",
      "  Downloading num2words-0.5.10-py3-none-any.whl (101 kB)\r\n",
      "\u001b[?25l\r\r     |███▎                            | 10 kB 32.6 MB\/s eta 0:00:01\r     |██████▌                         | 20 kB 39.6 MB\/s eta 0:00:01\r     |█████████▊                      | 30 kB 47.3 MB\/s eta 0:00:01\r     |█████████████                   | 40 kB 51.3 MB\/s eta 0:00:01\r     |████████████████▏               | 51 kB 53.8 MB\/s eta 0:00:01\r     |███████████████████▍            | 61 kB 56.6 MB\/s eta 0:00:01\r     |██████████████████████▋         | 71 kB 57.5 MB\/s eta 0:00:01\r     |█████████████████████████▉      | 81 kB 58.5 MB\/s eta 0:00:01\r     |█████████████████████████████   | 92 kB 60.4 MB\/s eta 0:00:01\r     |████████████████████████████████| 101 kB 17.2 MB\/s           \r\n",
      "\u001b[?25hRequirement already satisfied: numpy<2.0,>=1.15 in \/opt\/python\/envs\/default\/lib\/python3.8\/site-packages (from snips-nlu) (1.21.5)\r\n",
      "Collecting scikit-learn<0.23,>=0.21.1\r\n",
      "  Downloading scikit_learn-0.22.2.post1-cp38-cp38-manylinux1_x86_64.whl (7.0 MB)\r\n",
      "\u001b[?25l\r\r     |                                | 10 kB 15.7 MB\/s eta 0:00:01\r     |                                | 20 kB 20.2 MB\/s eta 0:00:01\r     |▏                               | 30 kB 26.1 MB\/s eta 0:00:01\r     |▏                               | 40 kB 30.1 MB\/s eta 0:00:01\r     |▎                               | 51 kB 33.7 MB\/s eta 0:00:01\r     |▎                               | 61 kB 37.5 MB\/s eta 0:00:01\r     |▎                               | 71 kB 40.4 MB\/s eta 0:00:01\r     |▍                               | 81 kB 41.9 MB\/s eta 0:00:01\r     |▍                               | 92 kB 8.0 MB\/s eta 0:00:01 \r     |▌                               | 102 kB 8.7 MB\/s eta 0:00:01\r     |▌                               | 112 kB 8.7 MB\/s eta 0:00:01\r     |▋                               | 122 kB 8.7 MB\/s eta 0:00:01\r     |▋                               | 133 kB 8.7 MB\/s eta 0:00:01\r     |▋                               | 143 kB 8.7 MB\/s eta 0:00:01\r     |▊                               | 153 kB 8.7 MB\/s eta 0:00:01\r     |▊                               | 163 kB 8.7 MB\/s eta 0:00:01\r     |▉                               | 174 kB 8.7 MB\/s eta 0:00:01\r     |▉                               | 184 kB 8.7 MB\/s eta 0:00:01\r     |█                               | 194 kB 8.7 MB\/s eta 0:00:01\r     |█                               | 204 kB 8.7 MB\/s eta 0:00:01\r     |█                               | 215 kB 8.7 MB\/s eta 0:00:01\r     |█                               | 225 kB 8.7 MB\/s eta 0:00:01\r     |█                               | 235 kB 8.7 MB\/s eta 0:00:01\r     |█▏                              | 245 kB 8.7 MB\/s eta 0:00:01\r     |█▏                              | 256 kB 8.7 MB\/s eta 0:00:01\r     |█▏                              | 266 kB 8.7 MB\/s eta 0:00:01\r     |█▎                              | 276 kB 8.7 MB\/s eta 0:00:01\r     |█▎                              | 286 kB 8.7 MB\/s eta 0:00:01\r     |█▍                              | 296 kB 8.7 MB\/s eta 0:00:01\r     |█▍                              | 307 kB 8.7 MB\/s eta 0:00:01\r     |█▌                              | 317 kB 8.7 MB\/s eta 0:00:01\r     |█▌                              | 327 kB 8.7 MB\/s eta 0:00:01\r     |█▌                              | 337 kB 8.7 MB\/s eta 0:00:01\r     |█▋                              | 348 kB 8.7 MB\/s eta 0:00:01\r     |█▋                              | 358 kB 8.7 MB\/s eta 0:00:01\r     |█▊                              | 368 kB 8.7 MB\/s eta 0:00:01\r     |█▊                              | 378 kB 8.7 MB\/s eta 0:00:01\r     |█▉                              | 389 kB 8.7 MB\/s eta 0:00:01\r     |█▉                              | 399 kB 8.7 MB\/s eta 0:00:01\r     |█▉                              | 409 kB 8.7 MB\/s eta 0:00:01\r     |██                              | 419 kB 8.7 MB\/s eta 0:00:01\r     |██                              | 430 kB 8.7 MB\/s eta 0:00:01\r     |██                              | 440 kB 8.7 MB\/s eta 0:00:01\r     |██                              | 450 kB 8.7 MB\/s eta 0:00:01\r     |██                              | 460 kB 8.7 MB\/s eta 0:00:01\r     |██▏                             | 471 kB 8.7 MB\/s eta 0:00:01\r     |██▏                             | 481 kB 8.7 MB\/s eta 0:00:01\r     |██▎                             | 491 kB 8.7 MB\/s eta 0:00:01\r     |██▎                             | 501 kB 8.7 MB\/s eta 0:00:01\r     |██▍                             | 512 kB 8.7 MB\/s eta 0:00:01\r     |██▍                             | 522 kB 8.7 MB\/s eta 0:00:01\r     |██▍                             | 532 kB 8.7 MB\/s eta 0:00:01\r     |██▌                             | 542 kB 8.7 MB\/s eta 0:00:01\r     |██▌                             | 552 kB 8.7 MB\/s eta 0:00:01\r     |██▋                             | 563 kB 8.7 MB\/s eta 0:00:01\r     |██▋                             | 573 kB 8.7 MB\/s eta 0:00:01\r     |██▊                             | 583 kB 8.7 MB\/s eta 0:00:01\r     |██▊                             | 593 kB 8.7 MB\/s eta 0:00:01\r     |██▊                             | 604 kB 8.7 MB\/s eta 0:00:01\r     |██▉                             | 614 kB 8.7 MB\/s eta 0:00:01\r     |██▉                             | 624 kB 8.7 MB\/s eta 0:00:01\r     |███                             | 634 kB 8.7 MB\/s eta 0:00:01\r     |███                             | 645 kB 8.7 MB\/s eta 0:00:01\r     |███                             | 655 kB 8.7 MB\/s eta 0:00:01\r     |███                             | 665 kB 8.7 MB\/s eta 0:00:01\r     |███                             | 675 kB 8.7 MB\/s eta 0:00:01\r     |███▏                            | 686 kB 8.7 MB\/s eta 0:00:01\r     |███▏                            | 696 kB 8.7 MB\/s eta 0:00:01\r     |███▎                            | 706 kB 8.7 MB\/s eta 0:00:01\r     |███▎                            | 716 kB 8.7 MB\/s eta 0:00:01\r     |███▎                            | 727 kB 8.7 MB\/s eta 0:00:01\r     |███▍                            | 737 kB 8.7 MB\/s eta 0:00:01\r     |███▍                            | 747 kB 8.7 MB\/s eta 0:00:01\r     |███▌                            | 757 kB 8.7 MB\/s eta 0:00:01\r     |███▌                            | 768 kB 8.7 MB\/s eta 0:00:01\r     |███▋                            | 778 kB 8.7 MB\/s eta 0:00:01\r     |███▋                            | 788 kB 8.7 MB\/s eta 0:00:01\r     |███▋                            | 798 kB 8.7 MB\/s eta 0:00:01\r     |███▊                            | 808 kB 8.7 MB\/s eta 0:00:01\r     |███▊                            | 819 kB 8.7 MB\/s eta 0:00:01\r     |███▉                            | 829 kB 8.7 MB\/s eta 0:00:01\r     |███▉                            | 839 kB 8.7 MB\/s eta 0:00:01\r     |████                            | 849 kB 8.7 MB\/s eta 0:00:01\r     |████                            | 860 kB 8.7 MB\/s eta 0:00:01\r     |████                            | 870 kB 8.7 MB\/s eta 0:00:01\r     |████                            | 880 kB 8.7 MB\/s eta 0:00:01\r     |████                            | 890 kB 8.7 MB\/s eta 0:00:01\r     |████▏                           | 901 kB 8.7 MB\/s eta 0:00:01\r     |████▏                           | 911 kB 8.7 MB\/s eta 0:00:01\r     |████▏                           | 921 kB 8.7 MB\/s eta 0:00:01\r     |████▎                           | 931 kB 8.7 MB\/s eta 0:00:01\r     |████▎                           | 942 kB 8.7 MB\/s eta 0:00:01\r     |████▍                           | 952 kB 8.7 MB\/s eta 0:00:01\r     |████▍                           | 962 kB 8.7 MB\/s eta 0:00:01\r     |████▌                           | 972 kB 8.7 MB\/s eta 0:00:01\r     |████▌                           | 983 kB 8.7 MB\/s eta 0:00:01\r     |████▌                           | 993 kB 8.7 MB\/s eta 0:00:01\r     |████▋                           | 1.0 MB 8.7 MB\/s eta 0:00:01\r     |████▋                           | 1.0 MB 8.7 MB\/s eta 0:00:01\r     |████▊                           | 1.0 MB 8.7 MB\/s eta 0:00:01\r     |████▊                           | 1.0 MB 8.7 MB\/s eta 0:00:01\r     |████▉                           | 1.0 MB 8.7 MB\/s eta 0:00:01\r     |████▉                           | 1.1 MB 8.7 MB\/s eta 0:00:01\r     |████▉                           | 1.1 MB 8.7 MB\/s eta 0:00:01\r     |█████                           | 1.1 MB 8.7 MB\/s eta 0:00:01\r     |█████                           | 1.1 MB 8.7 MB\/s eta 0:00:01\r     |█████                           | 1.1 MB 8.7 MB\/s eta 0:00:01\r     |█████                           | 1.1 MB 8.7 MB\/s eta 0:00:01\r     |█████▏                          | 1.1 MB 8.7 MB\/s eta 0:00:01\r     |█████▏                          | 1.1 MB 8.7 MB\/s eta 0:00:01\r     |█████▏                          | 1.1 MB 8.7 MB\/s eta 0:00:01\r     |█████▎                          | 1.1 MB 8.7 MB\/s eta 0:00:01\r     |█████▎                          | 1.2 MB 8.7 MB\/s eta 0:00:01\r     |█████▍                          | 1.2 MB 8.7 MB\/s eta 0:00:01\r     |█████▍                          | 1.2 MB 8.7 MB\/s eta 0:00:01\r     |█████▍                          | 1.2 MB 8.7 MB\/s eta 0:00:01\r     |█████▌                          | 1.2 MB 8.7 MB\/s eta 0:00:01\r     |█████▌                          | 1.2 MB 8.7 MB\/s eta 0:00:01\r     |█████▋                          | 1.2 MB 8.7 MB\/s eta 0:00:01\r     |█████▋                          | 1.2 MB 8.7 MB\/s eta 0:00:01\r     |█████▊                          | 1.2 MB 8.7 MB\/s eta 0:00:01\r     |█████▊                          | 1.2 MB 8.7 MB\/s eta 0:00:01\r     |█████▊                          | 1.3 MB 8.7 MB\/s eta 0:00:01\r     |█████▉                          | 1.3 MB 8.7 MB\/s eta 0:00:01\r     |█████▉                          | 1.3 MB 8.7 MB\/s eta 0:00:01\r     |██████                          | 1.3 MB 8.7 MB\/s eta 0:00:01\r     |██████                          | 1.3 MB 8.7 MB\/s eta 0:00:01\r     |██████                          | 1.3 MB 8.7 MB\/s eta 0:00:01\r     |██████                          | 1.3 MB 8.7 MB\/s eta 0:00:01\r     |██████                          | 1.3 MB 8.7 MB\/s eta 0:00:01\r     |██████▏                         | 1.3 MB 8.7 MB\/s eta 0:00:01\r     |██████▏                         | 1.4 MB 8.7 MB\/s eta 0:00:01\r     |██████▎                         | 1.4 MB 8.7 MB\/s eta 0:00:01\r     |██████▎                         | 1.4 MB 8.7 MB\/s eta 0:00:01\r     |██████▎                         | 1.4 MB 8.7 MB\/s eta 0:00:01\r     |██████▍                         | 1.4 MB 8.7 MB\/s eta 0:00:01\r     |██████▍                         | 1.4 MB 8.7 MB\/s eta 0:00:01\r     |██████▌                         | 1.4 MB 8.7 MB\/s eta 0:00:01\r     |██████▌                         | 1.4 MB 8.7 MB\/s eta 0:00:01\r     |██████▋                         | 1.4 MB 8.7 MB\/s eta 0:00:01\r     |██████▋                         | 1.4 MB 8.7 MB\/s eta 0:00:01\r     |██████▋                         | 1.5 MB 8.7 MB\/s eta 0:00:01\r     |██████▊                         | 1.5 MB 8.7 MB\/s eta 0:00:01\r     |██████▊                         | 1.5 MB 8.7 MB\/s eta 0:00:01\r     |██████▉                         | 1.5 MB 8.7 MB\/s eta 0:00:01\r     |██████▉                         | 1.5 MB 8.7 MB\/s eta 0:00:01\r     |███████                         | 1.5 MB 8.7 MB\/s eta 0:00:01\r     |███████                         | 1.5 MB 8.7 MB\/s eta 0:00:01\r     |███████                         | 1.5 MB 8.7 MB\/s eta 0:00:01\r     |███████                         | 1.5 MB 8.7 MB\/s eta 0:00:01\r     |███████                         | 1.5 MB 8.7 MB\/s eta 0:00:01\r     |███████▏                        | 1.6 MB 8.7 MB\/s eta 0:00:01\r     |███████▏                        | 1.6 MB 8.7 MB\/s eta 0:00:01\r     |███████▏                        | 1.6 MB 8.7 MB\/s eta 0:00:01\r     |███████▎                        | 1.6 MB 8.7 MB\/s eta 0:00:01\r     |███████▎                        | 1.6 MB 8.7 MB\/s eta 0:00:01\r     |███████▍                        | 1.6 MB 8.7 MB\/s eta 0:00:01\r     |███████▍                        | 1.6 MB 8.7 MB\/s eta 0:00:01\r     |███████▌                        | 1.6 MB 8.7 MB\/s eta 0:00:01\r     |███████▌                        | 1.6 MB 8.7 MB\/s eta 0:00:01\r     |███████▌                        | 1.6 MB 8.7 MB\/s eta 0:00:01\r     |███████▋                        | 1.7 MB 8.7 MB\/s eta 0:00:01\r     |███████▋                        | 1.7 MB 8.7 MB\/s eta 0:00:01\r     |███████▊                        | 1.7 MB 8.7 MB\/s eta 0:00:01\r     |███████▊                        | 1.7 MB 8.7 MB\/s eta 0:00:01\r     |███████▉                        | 1.7 MB 8.7 MB\/s eta 0:00:01\r     |███████▉                        | 1.7 MB 8.7 MB\/s eta 0:00:01\r     |███████▉                        | 1.7 MB 8.7 MB\/s eta 0:00:01\r     |████████                        | 1.7 MB 8.7 MB\/s eta 0:00:01\r     |████████                        | 1.7 MB 8.7 MB\/s eta 0:00:01\r     |████████                        | 1.8 MB 8.7 MB\/s eta 0:00:01\r     |████████                        | 1.8 MB 8.7 MB\/s eta 0:00:01\r     |████████▏                       | 1.8 MB 8.7 MB\/s eta 0:00:01\r     |████████▏                       | 1.8 MB 8.7 MB\/s eta 0:00:01\r     |████████▏                       | 1.8 MB 8.7 MB\/s eta 0:00:01\r     |████████▎                       | 1.8 MB 8.7 MB\/s eta 0:00:01\r     |████████▎                       | 1.8 MB 8.7 MB\/s eta 0:00:01\r     |████████▍                       | 1.8 MB 8.7 MB\/s eta 0:00:01\r     |████████▍                       | 1.8 MB 8.7 MB\/s eta 0:00:01\r     |████████▍                       | 1.8 MB 8.7 MB\/s eta 0:00:01\r     |████████▌                       | 1.9 MB 8.7 MB\/s eta 0:00:01\r     |████████▌                       | 1.9 MB 8.7 MB\/s eta 0:00:01\r     |████████▋                       | 1.9 MB 8.7 MB\/s eta 0:00:01\r     |████████▋                       | 1.9 MB 8.7 MB\/s eta 0:00:01\r     |████████▊                       | 1.9 MB 8.7 MB\/s eta 0:00:01\r     |████████▊                       | 1.9 MB 8.7 MB\/s eta 0:00:01\r     |████████▊                       | 1.9 MB 8.7 MB\/s eta 0:00:01\r     |████████▉                       | 1.9 MB 8.7 MB\/s eta 0:00:01\r     |████████▉                       | 1.9 MB 8.7 MB\/s eta 0:00:01\r     |█████████                       | 1.9 MB 8.7 MB\/s eta 0:00:01\r     |█████████                       | 2.0 MB 8.7 MB\/s eta 0:00:01\r     |█████████                       | 2.0 MB 8.7 MB\/s eta 0:00:01\r     |█████████                       | 2.0 MB 8.7 MB\/s eta 0:00:01\r     |█████████                       | 2.0 MB 8.7 MB\/s eta 0:00:01\r     |█████████▏                      | 2.0 MB 8.7 MB\/s eta 0:00:01\r     |█████████▏                      | 2.0 MB 8.7 MB\/s eta 0:00:01\r     |█████████▎                      | 2.0 MB 8.7 MB\/s eta 0:00:01\r     |█████████▎                      | 2.0 MB 8.7 MB\/s eta 0:00:01\r     |█████████▎                      | 2.0 MB 8.7 MB\/s eta 0:00:01\r     |█████████▍                      | 2.0 MB 8.7 MB\/s eta 0:00:01\r     |█████████▍                      | 2.1 MB 8.7 MB\/s eta 0:00:01\r     |█████████▌                      | 2.1 MB 8.7 MB\/s eta 0:00:01\r     |█████████▌                      | 2.1 MB 8.7 MB\/s eta 0:00:01\r     |█████████▋                      | 2.1 MB 8.7 MB\/s eta 0:00:01\r     |█████████▋                      | 2.1 MB 8.7 MB\/s eta 0:00:01\r     |█████████▋                      | 2.1 MB 8.7 MB\/s eta 0:00:01\r     |█████████▊                      | 2.1 MB 8.7 MB\/s eta 0:00:01\r     |█████████▊                      | 2.1 MB 8.7 MB\/s eta 0:00:01\r     |█████████▉                      | 2.1 MB 8.7 MB\/s eta 0:00:01\r     |█████████▉                      | 2.2 MB 8.7 MB\/s eta 0:00:01\r     |██████████                      | 2.2 MB 8.7 MB\/s eta 0:00:01\r     |██████████                      | 2.2 MB 8.7 MB\/s eta 0:00:01\r     |██████████                      | 2.2 MB 8.7 MB\/s eta 0:00:01\r     |██████████                      | 2.2 MB 8.7 MB\/s eta 0:00:01\r     |██████████                      | 2.2 MB 8.7 MB\/s eta 0:00:01\r     |██████████▏                     | 2.2 MB 8.7 MB\/s eta 0:00:01\r     |██████████▏                     | 2.2 MB 8.7 MB\/s eta 0:00:01\r     |██████████▎                     | 2.2 MB 8.7 MB\/s eta 0:00:01\r     |██████████▎                     | 2.2 MB 8.7 MB\/s eta 0:00:01\r     |██████████▎                     | 2.3 MB 8.7 MB\/s eta 0:00:01\r     |██████████▍                     | 2.3 MB 8.7 MB\/s eta 0:00:01\r     |██████████▍                     | 2.3 MB 8.7 MB\/s eta 0:00:01\r     |██████████▌                     | 2.3 MB 8.7 MB\/s eta 0:00:01\r     |██████████▌                     | 2.3 MB 8.7 MB\/s eta 0:00:01\r     |██████████▌                     | 2.3 MB 8.7 MB\/s eta 0:00:01\r     |██████████▋                     | 2.3 MB 8.7 MB\/s eta 0:00:01\r     |██████████▋                     | 2.3 MB 8.7 MB\/s eta 0:00:01\r     |██████████▊                     | 2.3 MB 8.7 MB\/s eta 0:00:01\r     |██████████▊                     | 2.3 MB 8.7 MB\/s eta 0:00:01\r     |██████████▉                     | 2.4 MB 8.7 MB\/s eta 0:00:01\r     |██████████▉                     | 2.4 MB 8.7 MB\/s eta 0:00:01\r     |██████████▉                     | 2.4 MB 8.7 MB\/s eta 0:00:01\r     |███████████                     | 2.4 MB 8.7 MB\/s eta 0:00:01\r     |███████████                     | 2.4 MB 8.7 MB\/s eta 0:00:01\r     |███████████                     | 2.4 MB 8.7 MB\/s eta 0:00:01\r     |███████████                     | 2.4 MB 8.7 MB\/s eta 0:00:01\r     |███████████▏                    | 2.4 MB 8.7 MB\/s eta 0:00:01\r     |███████████▏                    | 2.4 MB 8.7 MB\/s eta 0:00:01\r     |███████████▏                    | 2.4 MB 8.7 MB\/s eta 0:00:01\r     |███████████▎                    | 2.5 MB 8.7 MB\/s eta 0:00:01\r     |███████████▎                    | 2.5 MB 8.7 MB\/s eta 0:00:01\r     |███████████▍                    | 2.5 MB 8.7 MB\/s eta 0:00:01\r     |███████████▍                    | 2.5 MB 8.7 MB\/s eta 0:00:01\r     |███████████▍                    | 2.5 MB 8.7 MB\/s eta 0:00:01\r     |███████████▌                    | 2.5 MB 8.7 MB\/s eta 0:00:01\r     |███████████▌                    | 2.5 MB 8.7 MB\/s eta 0:00:01\r     |███████████▋                    | 2.5 MB 8.7 MB\/s eta 0:00:01\r     |███████████▋                    | 2.5 MB 8.7 MB\/s eta 0:00:01\r     |███████████▊                    | 2.5 MB 8.7 MB\/s eta 0:00:01\r     |███████████▊                    | 2.6 MB 8.7 MB\/s eta 0:00:01\r     |███████████▊                    | 2.6 MB 8.7 MB\/s eta 0:00:01\r     |███████████▉                    | 2.6 MB 8.7 MB\/s eta 0:00:01\r     |███████████▉                    | 2.6 MB 8.7 MB\/s eta 0:00:01\r     |████████████                    | 2.6 MB 8.7 MB\/s eta 0:00:01\r     |████████████                    | 2.6 MB 8.7 MB\/s eta 0:00:01\r     |████████████                    | 2.6 MB 8.7 MB\/s eta 0:00:01\r     |████████████                    | 2.6 MB 8.7 MB\/s eta 0:00:01\r     |████████████                    | 2.6 MB 8.7 MB\/s eta 0:00:01\r     |████████████▏                   | 2.7 MB 8.7 MB\/s eta 0:00:01\r     |████████████▏                   | 2.7 MB 8.7 MB\/s eta 0:00:01\r     |████████████▎                   | 2.7 MB 8.7 MB\/s eta 0:00:01\r     |████████████▎                   | 2.7 MB 8.7 MB\/s eta 0:00:01\r     |████████████▍                   | 2.7 MB 8.7 MB\/s eta 0:00:01\r     |████████████▍                   | 2.7 MB 8.7 MB\/s eta 0:00:01\r     |████████████▍                   | 2.7 MB 8.7 MB\/s eta 0:00:01\r     |████████████▌                   | 2.7 MB 8.7 MB\/s eta 0:00:01\r     |████████████▌                   | 2.7 MB 8.7 MB\/s eta 0:00:01\r     |████████████▋                   | 2.7 MB 8.7 MB\/s eta 0:00:01\r     |████████████▋                   | 2.8 MB 8.7 MB\/s eta 0:00:01\r     |████████████▋                   | 2.8 MB 8.7 MB\/s eta 0:00:01\r     |████████████▊                   | 2.8 MB 8.7 MB\/s eta 0:00:01\r     |████████████▊                   | 2.8 MB 8.7 MB\/s eta 0:00:01\r     |████████████▉                   | 2.8 MB 8.7 MB\/s eta 0:00:01\r     |████████████▉                   | 2.8 MB 8.7 MB\/s eta 0:00:01\r     |█████████████                   | 2.8 MB 8.7 MB\/s eta 0:00:01\r     |█████████████                   | 2.8 MB 8.7 MB\/s eta 0:00:01\r     |█████████████                   | 2.8 MB 8.7 MB\/s eta 0:00:01\r     |█████████████                   | 2.8 MB 8.7 MB\/s eta 0:00:01\r     |█████████████                   | 2.9 MB 8.7 MB\/s eta 0:00:01\r     |█████████████▏                  | 2.9 MB 8.7 MB\/s eta 0:00:01\r     |█████████████▏                  | 2.9 MB 8.7 MB\/s eta 0:00:01\r     |█████████████▎                  | 2.9 MB 8.7 MB\/s eta 0:00:01\r     |█████████████▎                  | 2.9 MB 8.7 MB\/s eta 0:00:01\r     |█████████████▎                  | 2.9 MB 8.7 MB\/s eta 0:00:01\r     |█████████████▍                  | 2.9 MB 8.7 MB\/s eta 0:00:01\r     |█████████████▍                  | 2.9 MB 8.7 MB\/s eta 0:00:01\r     |█████████████▌                  | 2.9 MB 8.7 MB\/s eta 0:00:01\r     |█████████████▌                  | 2.9 MB 8.7 MB\/s eta 0:00:01\r     |█████████████▌                  | 3.0 MB 8.7 MB\/s eta 0:00:01\r     |█████████████▋                  | 3.0 MB 8.7 MB\/s eta 0:00:01\r     |█████████████▋                  | 3.0 MB 8.7 MB\/s eta 0:00:01\r     |█████████████▊                  | 3.0 MB 8.7 MB\/s eta 0:00:01\r     |█████████████▊                  | 3.0 MB 8.7 MB\/s eta 0:00:01\r     |█████████████▉                  | 3.0 MB 8.7 MB\/s eta 0:00:01\r     |█████████████▉                  | 3.0 MB 8.7 MB\/s eta 0:00:01\r     |█████████████▉                  | 3.0 MB 8.7 MB\/s eta 0:00:01\r     |██████████████                  | 3.0 MB 8.7 MB\/s eta 0:00:01\r     |██████████████                  | 3.1 MB 8.7 MB\/s eta 0:00:01\r     |██████████████                  | 3.1 MB 8.7 MB\/s eta 0:00:01\r     |██████████████                  | 3.1 MB 8.7 MB\/s eta 0:00:01\r     |██████████████▏                 | 3.1 MB 8.7 MB\/s eta 0:00:01\r     |██████████████▏                 | 3.1 MB 8.7 MB\/s eta 0:00:01\r     |██████████████▏                 | 3.1 MB 8.7 MB\/s eta 0:00:01\r     |██████████████▎                 | 3.1 MB 8.7 MB\/s eta 0:00:01\r     |██████████████▎                 | 3.1 MB 8.7 MB\/s eta 0:00:01\r     |██████████████▍                 | 3.1 MB 8.7 MB\/s eta 0:00:01\r     |██████████████▍                 | 3.1 MB 8.7 MB\/s eta 0:00:01\r     |██████████████▍                 | 3.2 MB 8.7 MB\/s eta 0:00:01\r     |██████████████▌                 | 3.2 MB 8.7 MB\/s eta 0:00:01\r     |██████████████▌                 | 3.2 MB 8.7 MB\/s eta 0:00:01\r     |██████████████▋                 | 3.2 MB 8.7 MB\/s eta 0:00:01\r     |██████████████▋                 | 3.2 MB 8.7 MB\/s eta 0:00:01\r     |██████████████▊                 | 3.2 MB 8.7 MB\/s eta 0:00:01\r     |██████████████▊                 | 3.2 MB 8.7 MB\/s eta 0:00:01\r     |██████████████▊                 | 3.2 MB 8.7 MB\/s eta 0:00:01\r     |██████████████▉                 | 3.2 MB 8.7 MB\/s eta 0:00:01\r     |██████████████▉                 | 3.2 MB 8.7 MB\/s eta 0:00:01\r     |███████████████                 | 3.3 MB 8.7 MB\/s eta 0:00:01\r     |███████████████                 | 3.3 MB 8.7 MB\/s eta 0:00:01\r     |███████████████                 | 3.3 MB 8.7 MB\/s eta 0:00:01\r     |███████████████                 | 3.3 MB 8.7 MB\/s eta 0:00:01\r     |███████████████                 | 3.3 MB 8.7 MB\/s eta 0:00:01\r     |███████████████▏                | 3.3 MB 8.7 MB\/s eta 0:00:01\r     |███████████████▏                | 3.3 MB 8.7 MB\/s eta 0:00:01\r     |███████████████▎                | 3.3 MB 8.7 MB\/s eta 0:00:01\r     |███████████████▎                | 3.3 MB 8.7 MB\/s eta 0:00:01\r     |███████████████▍                | 3.3 MB 8.7 MB\/s eta 0:00:01\r     |███████████████▍                | 3.4 MB 8.7 MB\/s eta 0:00:01\r     |███████████████▍                | 3.4 MB 8.7 MB\/s eta 0:00:01\r     |███████████████▌                | 3.4 MB 8.7 MB\/s eta 0:00:01\r     |███████████████▌                | 3.4 MB 8.7 MB\/s eta 0:00:01\r     |███████████████▋                | 3.4 MB 8.7 MB\/s eta 0:00:01\r     |███████████████▋                | 3.4 MB 8.7 MB\/s eta 0:00:01\r     |███████████████▋                | 3.4 MB 8.7 MB\/s eta 0:00:01\r     |███████████████▊                | 3.4 MB 8.7 MB\/s eta 0:00:01\r     |███████████████▊                | 3.4 MB 8.7 MB\/s eta 0:00:01\r     |███████████████▉                | 3.5 MB 8.7 MB\/s eta 0:00:01\r     |███████████████▉                | 3.5 MB 8.7 MB\/s eta 0:00:01\r     |████████████████                | 3.5 MB 8.7 MB\/s eta 0:00:01\r     |████████████████                | 3.5 MB 8.7 MB\/s eta 0:00:01\r     |████████████████                | 3.5 MB 8.7 MB\/s eta 0:00:01\r     |████████████████                | 3.5 MB 8.7 MB\/s eta 0:00:01\r     |████████████████                | 3.5 MB 8.7 MB\/s eta 0:00:01\r     |████████████████▏               | 3.5 MB 8.7 MB\/s eta 0:00:01\r     |████████████████▏               | 3.5 MB 8.7 MB\/s eta 0:00:01\r     |████████████████▎               | 3.5 MB 8.7 MB\/s eta 0:00:01\r     |████████████████▎               | 3.6 MB 8.7 MB\/s eta 0:00:01\r     |████████████████▎               | 3.6 MB 8.7 MB\/s eta 0:00:01\r     |████████████████▍               | 3.6 MB 8.7 MB\/s eta 0:00:01\r     |████████████████▍               | 3.6 MB 8.7 MB\/s eta 0:00:01\r     |████████████████▌               | 3.6 MB 8.7 MB\/s eta 0:00:01\r     |████████████████▌               | 3.6 MB 8.7 MB\/s eta 0:00:01\r     |████████████████▌               | 3.6 MB 8.7 MB\/s eta 0:00:01\r     |████████████████▋               | 3.6 MB 8.7 MB\/s eta 0:00:01\r     |████████████████▋               | 3.6 MB 8.7 MB\/s eta 0:00:01\r     |████████████████▊               | 3.6 MB 8.7 MB\/s eta 0:00:01\r     |████████████████▊               | 3.7 MB 8.7 MB\/s eta 0:00:01\r     |████████████████▉               | 3.7 MB 8.7 MB\/s eta 0:00:01\r     |████████████████▉               | 3.7 MB 8.7 MB\/s eta 0:00:01\r     |████████████████▉               | 3.7 MB 8.7 MB\/s eta 0:00:01\r     |█████████████████               | 3.7 MB 8.7 MB\/s eta 0:00:01\r     |█████████████████               | 3.7 MB 8.7 MB\/s eta 0:00:01\r     |█████████████████               | 3.7 MB 8.7 MB\/s eta 0:00:01\r     |█████████████████               | 3.7 MB 8.7 MB\/s eta 0:00:01\r     |█████████████████▏              | 3.7 MB 8.7 MB\/s eta 0:00:01\r     |█████████████████▏              | 3.7 MB 8.7 MB\/s eta 0:00:01\r     |█████████████████▏              | 3.8 MB 8.7 MB\/s eta 0:00:01\r     |█████████████████▎              | 3.8 MB 8.7 MB\/s eta 0:00:01\r     |█████████████████▎              | 3.8 MB 8.7 MB\/s eta 0:00:01\r     |█████████████████▍              | 3.8 MB 8.7 MB\/s eta 0:00:01\r     |█████████████████▍              | 3.8 MB 8.7 MB\/s eta 0:00:01\r     |█████████████████▌              | 3.8 MB 8.7 MB\/s eta 0:00:01\r     |█████████████████▌              | 3.8 MB 8.7 MB\/s eta 0:00:01\r     |█████████████████▌              | 3.8 MB 8.7 MB\/s eta 0:00:01\r     |█████████████████▋              | 3.8 MB 8.7 MB\/s eta 0:00:01\r     |█████████████████▋              | 3.9 MB 8.7 MB\/s eta 0:00:01\r     |█████████████████▊              | 3.9 MB 8.7 MB\/s eta 0:00:01\r     |█████████████████▊              | 3.9 MB 8.7 MB\/s eta 0:00:01\r     |█████████████████▊              | 3.9 MB 8.7 MB\/s eta 0:00:01\r     |█████████████████▉              | 3.9 MB 8.7 MB\/s eta 0:00:01\r     |█████████████████▉              | 3.9 MB 8.7 MB\/s eta 0:00:01\r     |██████████████████              | 3.9 MB 8.7 MB\/s eta 0:00:01\r     |██████████████████              | 3.9 MB 8.7 MB\/s eta 0:00:01\r     |██████████████████              | 3.9 MB 8.7 MB\/s eta 0:00:01\r     |██████████████████              | 3.9 MB 8.7 MB\/s eta 0:00:01\r     |██████████████████              | 4.0 MB 8.7 MB\/s eta 0:00:01\r     |██████████████████▏             | 4.0 MB 8.7 MB\/s eta 0:00:01\r     |██████████████████▏             | 4.0 MB 8.7 MB\/s eta 0:00:01\r     |██████████████████▎             | 4.0 MB 8.7 MB\/s eta 0:00:01\r     |██████████████████▎             | 4.0 MB 8.7 MB\/s eta 0:00:01\r     |██████████████████▍             | 4.0 MB 8.7 MB\/s eta 0:00:01\r     |██████████████████▍             | 4.0 MB 8.7 MB\/s eta 0:00:01\r     |██████████████████▍             | 4.0 MB 8.7 MB\/s eta 0:00:01\r     |██████████████████▌             | 4.0 MB 8.7 MB\/s eta 0:00:01\r     |██████████████████▌             | 4.0 MB 8.7 MB\/s eta 0:00:01\r     |██████████████████▋             | 4.1 MB 8.7 MB\/s eta 0:00:01\r     |██████████████████▋             | 4.1 MB 8.7 MB\/s eta 0:00:01\r     |██████████████████▋             | 4.1 MB 8.7 MB\/s eta 0:00:01\r     |██████████████████▊             | 4.1 MB 8.7 MB\/s eta 0:00:01\r     |██████████████████▊             | 4.1 MB 8.7 MB\/s eta 0:00:01\r     |██████████████████▉             | 4.1 MB 8.7 MB\/s eta 0:00:01\r     |██████████████████▉             | 4.1 MB 8.7 MB\/s eta 0:00:01\r     |███████████████████             | 4.1 MB 8.7 MB\/s eta 0:00:01\r     |███████████████████             | 4.1 MB 8.7 MB\/s eta 0:00:01\r     |███████████████████             | 4.1 MB 8.7 MB\/s eta 0:00:01\r     |███████████████████             | 4.2 MB 8.7 MB\/s eta 0:00:01\r     |███████████████████             | 4.2 MB 8.7 MB\/s eta 0:00:01\r     |███████████████████▏            | 4.2 MB 8.7 MB\/s eta 0:00:01\r     |███████████████████▏            | 4.2 MB 8.7 MB\/s eta 0:00:01\r     |███████████████████▎            | 4.2 MB 8.7 MB\/s eta 0:00:01\r     |███████████████████▎            | 4.2 MB 8.7 MB\/s eta 0:00:01\r     |███████████████████▎            | 4.2 MB 8.7 MB\/s eta 0:00:01\r     |███████████████████▍            | 4.2 MB 8.7 MB\/s eta 0:00:01\r     |███████████████████▍            | 4.2 MB 8.7 MB\/s eta 0:00:01\r     |███████████████████▌            | 4.2 MB 8.7 MB\/s eta 0:00:01\r     |███████████████████▌            | 4.3 MB 8.7 MB\/s eta 0:00:01\r     |███████████████████▌            | 4.3 MB 8.7 MB\/s eta 0:00:01\r     |███████████████████▋            | 4.3 MB 8.7 MB\/s eta 0:00:01\r     |███████████████████▋            | 4.3 MB 8.7 MB\/s eta 0:00:01\r     |███████████████████▊            | 4.3 MB 8.7 MB\/s eta 0:00:01\r     |███████████████████▊            | 4.3 MB 8.7 MB\/s eta 0:00:01\r     |███████████████████▉            | 4.3 MB 8.7 MB\/s eta 0:00:01\r     |███████████████████▉            | 4.3 MB 8.7 MB\/s eta 0:00:01\r     |███████████████████▉            | 4.3 MB 8.7 MB\/s eta 0:00:01\r     |████████████████████            | 4.4 MB 8.7 MB\/s eta 0:00:01\r     |████████████████████            | 4.4 MB 8.7 MB\/s eta 0:00:01\r     |████████████████████            | 4.4 MB 8.7 MB\/s eta 0:00:01\r     |████████████████████            | 4.4 MB 8.7 MB\/s eta 0:00:01\r     |████████████████████▏           | 4.4 MB 8.7 MB\/s eta 0:00:01\r     |████████████████████▏           | 4.4 MB 8.7 MB\/s eta 0:00:01\r     |████████████████████▏           | 4.4 MB 8.7 MB\/s eta 0:00:01\r     |████████████████████▎           | 4.4 MB 8.7 MB\/s eta 0:00:01\r     |████████████████████▎           | 4.4 MB 8.7 MB\/s eta 0:00:01\r     |████████████████████▍           | 4.4 MB 8.7 MB\/s eta 0:00:01\r     |████████████████████▍           | 4.5 MB 8.7 MB\/s eta 0:00:01\r     |████████████████████▌           | 4.5 MB 8.7 MB\/s eta 0:00:01\r     |████████████████████▌           | 4.5 MB 8.7 MB\/s eta 0:00:01\r     |████████████████████▌           | 4.5 MB 8.7 MB\/s eta 0:00:01\r     |████████████████████▋           | 4.5 MB 8.7 MB\/s eta 0:00:01\r     |████████████████████▋           | 4.5 MB 8.7 MB\/s eta 0:00:01\r     |████████████████████▊           | 4.5 MB 8.7 MB\/s eta 0:00:01\r     |████████████████████▊           | 4.5 MB 8.7 MB\/s eta 0:00:01\r     |████████████████████▊           | 4.5 MB 8.7 MB\/s eta 0:00:01\r     |████████████████████▉           | 4.5 MB 8.7 MB\/s eta 0:00:01\r     |████████████████████▉           | 4.6 MB 8.7 MB\/s eta 0:00:01\r     |█████████████████████           | 4.6 MB 8.7 MB\/s eta 0:00:01\r     |█████████████████████           | 4.6 MB 8.7 MB\/s eta 0:00:01\r     |█████████████████████           | 4.6 MB 8.7 MB\/s eta 0:00:01\r     |█████████████████████           | 4.6 MB 8.7 MB\/s eta 0:00:01\r     |█████████████████████           | 4.6 MB 8.7 MB\/s eta 0:00:01\r     |█████████████████████▏          | 4.6 MB 8.7 MB\/s eta 0:00:01\r     |█████████████████████▏          | 4.6 MB 8.7 MB\/s eta 0:00:01\r     |█████████████████████▎          | 4.6 MB 8.7 MB\/s eta 0:00:01\r     |█████████████████████▎          | 4.6 MB 8.7 MB\/s eta 0:00:01\r     |█████████████████████▍          | 4.7 MB 8.7 MB\/s eta 0:00:01\r     |█████████████████████▍          | 4.7 MB 8.7 MB\/s eta 0:00:01\r     |█████████████████████▍          | 4.7 MB 8.7 MB\/s eta 0:00:01\r     |█████████████████████▌          | 4.7 MB 8.7 MB\/s eta 0:00:01\r     |█████████████████████▌          | 4.7 MB 8.7 MB\/s eta 0:00:01\r     |█████████████████████▋          | 4.7 MB 8.7 MB\/s eta 0:00:01\r     |█████████████████████▋          | 4.7 MB 8.7 MB\/s eta 0:00:01\r     |█████████████████████▋          | 4.7 MB 8.7 MB\/s eta 0:00:01\r     |█████████████████████▊          | 4.7 MB 8.7 MB\/s eta 0:00:01\r     |█████████████████████▊          | 4.8 MB 8.7 MB\/s eta 0:00:01\r     |█████████████████████▉          | 4.8 MB 8.7 MB\/s eta 0:00:01\r     |█████████████████████▉          | 4.8 MB 8.7 MB\/s eta 0:00:01\r     |██████████████████████          | 4.8 MB 8.7 MB\/s eta 0:00:01\r     |██████████████████████          | 4.8 MB 8.7 MB\/s eta 0:00:01\r     |██████████████████████          | 4.8 MB 8.7 MB\/s eta 0:00:01\r     |██████████████████████          | 4.8 MB 8.7 MB\/s eta 0:00:01\r     |██████████████████████          | 4.8 MB 8.7 MB\/s eta 0:00:01\r     |██████████████████████▏         | 4.8 MB 8.7 MB\/s eta 0:00:01\r     |██████████████████████▏         | 4.8 MB 8.7 MB\/s eta 0:00:01\r     |██████████████████████▎         | 4.9 MB 8.7 MB\/s eta 0:00:01\r     |██████████████████████▎         | 4.9 MB 8.7 MB\/s eta 0:00:01\r     |██████████████████████▎         | 4.9 MB 8.7 MB\/s eta 0:00:01\r     |██████████████████████▍         | 4.9 MB 8.7 MB\/s eta 0:00:01\r     |██████████████████████▍         | 4.9 MB 8.7 MB\/s eta 0:00:01\r     |██████████████████████▌         | 4.9 MB 8.7 MB\/s eta 0:00:01\r     |██████████████████████▌         | 4.9 MB 8.7 MB\/s eta 0:00:01\r     |██████████████████████▋         | 4.9 MB 8.7 MB\/s eta 0:00:01\r     |██████████████████████▋         | 4.9 MB 8.7 MB\/s eta 0:00:01\r     |██████████████████████▋         | 4.9 MB 8.7 MB\/s eta 0:00:01\r     |██████████████████████▊         | 5.0 MB 8.7 MB\/s eta 0:00:01\r     |██████████████████████▊         | 5.0 MB 8.7 MB\/s eta 0:00:01\r     |██████████████████████▉         | 5.0 MB 8.7 MB\/s eta 0:00:01\r     |██████████████████████▉         | 5.0 MB 8.7 MB\/s eta 0:00:01\r     |██████████████████████▉         | 5.0 MB 8.7 MB\/s eta 0:00:01\r     |███████████████████████         | 5.0 MB 8.7 MB\/s eta 0:00:01\r     |███████████████████████         | 5.0 MB 8.7 MB\/s eta 0:00:01\r     |███████████████████████         | 5.0 MB 8.7 MB\/s eta 0:00:01\r     |███████████████████████         | 5.0 MB 8.7 MB\/s eta 0:00:01\r     |███████████████████████▏        | 5.0 MB 8.7 MB\/s eta 0:00:01\r     |███████████████████████▏        | 5.1 MB 8.7 MB\/s eta 0:00:01\r     |███████████████████████▏        | 5.1 MB 8.7 MB\/s eta 0:00:01\r     |███████████████████████▎        | 5.1 MB 8.7 MB\/s eta 0:00:01\r     |███████████████████████▎        | 5.1 MB 8.7 MB\/s eta 0:00:01\r     |███████████████████████▍        | 5.1 MB 8.7 MB\/s eta 0:00:01\r     |███████████████████████▍        | 5.1 MB 8.7 MB\/s eta 0:00:01\r     |███████████████████████▌        | 5.1 MB 8.7 MB\/s eta 0:00:01\r     |███████████████████████▌        | 5.1 MB 8.7 MB\/s eta 0:00:01\r     |███████████████████████▌        | 5.1 MB 8.7 MB\/s eta 0:00:01\r     |███████████████████████▋        | 5.2 MB 8.7 MB\/s eta 0:00:01\r     |███████████████████████▋        | 5.2 MB 8.7 MB\/s eta 0:00:01\r     |███████████████████████▊        | 5.2 MB 8.7 MB\/s eta 0:00:01\r     |███████████████████████▊        | 5.2 MB 8.7 MB\/s eta 0:00:01\r     |███████████████████████▊        | 5.2 MB 8.7 MB\/s eta 0:00:01\r     |███████████████████████▉        | 5.2 MB 8.7 MB\/s eta 0:00:01\r     |███████████████████████▉        | 5.2 MB 8.7 MB\/s eta 0:00:01\r     |████████████████████████        | 5.2 MB 8.7 MB\/s eta 0:00:01\r     |████████████████████████        | 5.2 MB 8.7 MB\/s eta 0:00:01\r     |████████████████████████        | 5.2 MB 8.7 MB\/s eta 0:00:01\r     |████████████████████████        | 5.3 MB 8.7 MB\/s eta 0:00:01\r     |████████████████████████        | 5.3 MB 8.7 MB\/s eta 0:00:01\r     |████████████████████████▏       | 5.3 MB 8.7 MB\/s eta 0:00:01\r     |████████████████████████▏       | 5.3 MB 8.7 MB\/s eta 0:00:01\r     |████████████████████████▎       | 5.3 MB 8.7 MB\/s eta 0:00:01\r     |████████████████████████▎       | 5.3 MB 8.7 MB\/s eta 0:00:01\r     |████████████████████████▍       | 5.3 MB 8.7 MB\/s eta 0:00:01\r     |████████████████████████▍       | 5.3 MB 8.7 MB\/s eta 0:00:01\r     |████████████████████████▍       | 5.3 MB 8.7 MB\/s eta 0:00:01\r     |████████████████████████▌       | 5.3 MB 8.7 MB\/s eta 0:00:01\r     |████████████████████████▌       | 5.4 MB 8.7 MB\/s eta 0:00:01\r     |████████████████████████▋       | 5.4 MB 8.7 MB\/s eta 0:00:01\r     |████████████████████████▋       | 5.4 MB 8.7 MB\/s eta 0:00:01\r     |████████████████████████▊       | 5.4 MB 8.7 MB\/s eta 0:00:01\r     |████████████████████████▊       | 5.4 MB 8.7 MB\/s eta 0:00:01\r     |████████████████████████▊       | 5.4 MB 8.7 MB\/s eta 0:00:01\r     |████████████████████████▉       | 5.4 MB 8.7 MB\/s eta 0:00:01\r     |████████████████████████▉       | 5.4 MB 8.7 MB\/s eta 0:00:01\r     |█████████████████████████       | 5.4 MB 8.7 MB\/s eta 0:00:01\r     |█████████████████████████       | 5.4 MB 8.7 MB\/s eta 0:00:01\r     |█████████████████████████       | 5.5 MB 8.7 MB\/s eta 0:00:01\r     |█████████████████████████       | 5.5 MB 8.7 MB\/s eta 0:00:01\r     |█████████████████████████       | 5.5 MB 8.7 MB\/s eta 0:00:01\r     |█████████████████████████▏      | 5.5 MB 8.7 MB\/s eta 0:00:01\r     |█████████████████████████▏      | 5.5 MB 8.7 MB\/s eta 0:00:01\r     |█████████████████████████▎      | 5.5 MB 8.7 MB\/s eta 0:00:01\r     |█████████████████████████▎      | 5.5 MB 8.7 MB\/s eta 0:00:01\r     |█████████████████████████▎      | 5.5 MB 8.7 MB\/s eta 0:00:01\r     |█████████████████████████▍      | 5.5 MB 8.7 MB\/s eta 0:00:01\r     |█████████████████████████▍      | 5.6 MB 8.7 MB\/s eta 0:00:01\r     |█████████████████████████▌      | 5.6 MB 8.7 MB\/s eta 0:00:01\r     |█████████████████████████▌      | 5.6 MB 8.7 MB\/s eta 0:00:01\r     |█████████████████████████▋      | 5.6 MB 8.7 MB\/s eta 0:00:01\r     |█████████████████████████▋      | 5.6 MB 8.7 MB\/s eta 0:00:01\r     |█████████████████████████▋      | 5.6 MB 8.7 MB\/s eta 0:00:01\r     |█████████████████████████▊      | 5.6 MB 8.7 MB\/s eta 0:00:01\r     |█████████████████████████▊      | 5.6 MB 8.7 MB\/s eta 0:00:01\r     |█████████████████████████▉      | 5.6 MB 8.7 MB\/s eta 0:00:01\r     |█████████████████████████▉      | 5.6 MB 8.7 MB\/s eta 0:00:01\r     |█████████████████████████▉      | 5.7 MB 8.7 MB\/s eta 0:00:01\r     |██████████████████████████      | 5.7 MB 8.7 MB\/s eta 0:00:01\r     |██████████████████████████      | 5.7 MB 8.7 MB\/s eta 0:00:01\r     |██████████████████████████      | 5.7 MB 8.7 MB\/s eta 0:00:01\r     |██████████████████████████      | 5.7 MB 8.7 MB\/s eta 0:00:01\r     |██████████████████████████▏     | 5.7 MB 8.7 MB\/s eta 0:00:01\r     |██████████████████████████▏     | 5.7 MB 8.7 MB\/s eta 0:00:01\r     |██████████████████████████▏     | 5.7 MB 8.7 MB\/s eta 0:00:01\r     |██████████████████████████▎     | 5.7 MB 8.7 MB\/s eta 0:00:01\r     |██████████████████████████▎     | 5.7 MB 8.7 MB\/s eta 0:00:01\r     |██████████████████████████▍     | 5.8 MB 8.7 MB\/s eta 0:00:01\r     |██████████████████████████▍     | 5.8 MB 8.7 MB\/s eta 0:00:01\r     |██████████████████████████▌     | 5.8 MB 8.7 MB\/s eta 0:00:01\r     |██████████████████████████▌     | 5.8 MB 8.7 MB\/s eta 0:00:01\r     |██████████████████████████▌     | 5.8 MB 8.7 MB\/s eta 0:00:01\r     |██████████████████████████▋     | 5.8 MB 8.7 MB\/s eta 0:00:01\r     |██████████████████████████▋     | 5.8 MB 8.7 MB\/s eta 0:00:01\r     |██████████████████████████▊     | 5.8 MB 8.7 MB\/s eta 0:00:01\r     |██████████████████████████▊     | 5.8 MB 8.7 MB\/s eta 0:00:01\r     |██████████████████████████▊     | 5.8 MB 8.7 MB\/s eta 0:00:01\r     |██████████████████████████▉     | 5.9 MB 8.7 MB\/s eta 0:00:01\r     |██████████████████████████▉     | 5.9 MB 8.7 MB\/s eta 0:00:01\r     |███████████████████████████     | 5.9 MB 8.7 MB\/s eta 0:00:01\r     |███████████████████████████     | 5.9 MB 8.7 MB\/s eta 0:00:01\r     |███████████████████████████     | 5.9 MB 8.7 MB\/s eta 0:00:01\r     |███████████████████████████     | 5.9 MB 8.7 MB\/s eta 0:00:01\r     |███████████████████████████     | 5.9 MB 8.7 MB\/s eta 0:00:01\r     |███████████████████████████▏    | 5.9 MB 8.7 MB\/s eta 0:00:01\r     |███████████████████████████▏    | 5.9 MB 8.7 MB\/s eta 0:00:01\r     |███████████████████████████▎    | 5.9 MB 8.7 MB\/s eta 0:00:01\r     |███████████████████████████▎    | 6.0 MB 8.7 MB\/s eta 0:00:01\r     |███████████████████████████▍    | 6.0 MB 8.7 MB\/s eta 0:00:01\r     |███████████████████████████▍    | 6.0 MB 8.7 MB\/s eta 0:00:01\r     |███████████████████████████▍    | 6.0 MB 8.7 MB\/s eta 0:00:01\r     |███████████████████████████▌    | 6.0 MB 8.7 MB\/s eta 0:00:01\r     |███████████████████████████▌    | 6.0 MB 8.7 MB\/s eta 0:00:01\r     |███████████████████████████▋    | 6.0 MB 8.7 MB\/s eta 0:00:01\r     |███████████████████████████▋    | 6.0 MB 8.7 MB\/s eta 0:00:01\r     |███████████████████████████▊    | 6.0 MB 8.7 MB\/s eta 0:00:01\r     |███████████████████████████▊    | 6.1 MB 8.7 MB\/s eta 0:00:01\r     |███████████████████████████▊    | 6.1 MB 8.7 MB\/s eta 0:00:01\r     |███████████████████████████▉    | 6.1 MB 8.7 MB\/s eta 0:00:01\r     |███████████████████████████▉    | 6.1 MB 8.7 MB\/s eta 0:00:01\r     |████████████████████████████    | 6.1 MB 8.7 MB\/s eta 0:00:01\r     |████████████████████████████    | 6.1 MB 8.7 MB\/s eta 0:00:01\r     |████████████████████████████    | 6.1 MB 8.7 MB\/s eta 0:00:01\r     |████████████████████████████    | 6.1 MB 8.7 MB\/s eta 0:00:01\r     |████████████████████████████    | 6.1 MB 8.7 MB\/s eta 0:00:01\r     |████████████████████████████▏   | 6.1 MB 8.7 MB\/s eta 0:00:01\r     |████████████████████████████▏   | 6.2 MB 8.7 MB\/s eta 0:00:01\r     |████████████████████████████▎   | 6.2 MB 8.7 MB\/s eta 0:00:01\r     |████████████████████████████▎   | 6.2 MB 8.7 MB\/s eta 0:00:01\r     |████████████████████████████▎   | 6.2 MB 8.7 MB\/s eta 0:00:01\r     |████████████████████████████▍   | 6.2 MB 8.7 MB\/s eta 0:00:01\r     |████████████████████████████▍   | 6.2 MB 8.7 MB\/s eta 0:00:01\r     |████████████████████████████▌   | 6.2 MB 8.7 MB\/s eta 0:00:01\r     |████████████████████████████▌   | 6.2 MB 8.7 MB\/s eta 0:00:01\r     |████████████████████████████▋   | 6.2 MB 8.7 MB\/s eta 0:00:01\r     |████████████████████████████▋   | 6.2 MB 8.7 MB\/s eta 0:00:01\r     |████████████████████████████▋   | 6.3 MB 8.7 MB\/s eta 0:00:01\r     |████████████████████████████▊   | 6.3 MB 8.7 MB\/s eta 0:00:01\r     |████████████████████████████▊   | 6.3 MB 8.7 MB\/s eta 0:00:01\r     |████████████████████████████▉   | 6.3 MB 8.7 MB\/s eta 0:00:01\r     |████████████████████████████▉   | 6.3 MB 8.7 MB\/s eta 0:00:01\r     |████████████████████████████▉   | 6.3 MB 8.7 MB\/s eta 0:00:01\r     |█████████████████████████████   | 6.3 MB 8.7 MB\/s eta 0:00:01\r     |█████████████████████████████   | 6.3 MB 8.7 MB\/s eta 0:00:01\r     |█████████████████████████████   | 6.3 MB 8.7 MB\/s eta 0:00:01\r     |█████████████████████████████   | 6.3 MB 8.7 MB\/s eta 0:00:01\r     |█████████████████████████████▏  | 6.4 MB 8.7 MB\/s eta 0:00:01\r     |█████████████████████████████▏  | 6.4 MB 8.7 MB\/s eta 0:00:01\r     |█████████████████████████████▏  | 6.4 MB 8.7 MB\/s eta 0:00:01\r     |█████████████████████████████▎  | 6.4 MB 8.7 MB\/s eta 0:00:01\r     |█████████████████████████████▎  | 6.4 MB 8.7 MB\/s eta 0:00:01\r     |█████████████████████████████▍  | 6.4 MB 8.7 MB\/s eta 0:00:01\r     |█████████████████████████████▍  | 6.4 MB 8.7 MB\/s eta 0:00:01\r     |█████████████████████████████▌  | 6.4 MB 8.7 MB\/s eta 0:00:01\r     |█████████████████████████████▌  | 6.4 MB 8.7 MB\/s eta 0:00:01\r     |█████████████████████████████▌  | 6.5 MB 8.7 MB\/s eta 0:00:01\r     |█████████████████████████████▋  | 6.5 MB 8.7 MB\/s eta 0:00:01\r     |█████████████████████████████▋  | 6.5 MB 8.7 MB\/s eta 0:00:01\r     |█████████████████████████████▊  | 6.5 MB 8.7 MB\/s eta 0:00:01\r     |█████████████████████████████▊  | 6.5 MB 8.7 MB\/s eta 0:00:01\r     |█████████████████████████████▉  | 6.5 MB 8.7 MB\/s eta 0:00:01\r     |█████████████████████████████▉  | 6.5 MB 8.7 MB\/s eta 0:00:01\r     |█████████████████████████████▉  | 6.5 MB 8.7 MB\/s eta 0:00:01\r     |██████████████████████████████  | 6.5 MB 8.7 MB\/s eta 0:00:01\r     |██████████████████████████████  | 6.5 MB 8.7 MB\/s eta 0:00:01\r     |██████████████████████████████  | 6.6 MB 8.7 MB\/s eta 0:00:01\r     |██████████████████████████████  | 6.6 MB 8.7 MB\/s eta 0:00:01\r     |██████████████████████████████  | 6.6 MB 8.7 MB\/s eta 0:00:01\r     |██████████████████████████████▏ | 6.6 MB 8.7 MB\/s eta 0:00:01\r     |██████████████████████████████▏ | 6.6 MB 8.7 MB\/s eta 0:00:01\r     |██████████████████████████████▎ | 6.6 MB 8.7 MB\/s eta 0:00:01\r     |██████████████████████████████▎ | 6.6 MB 8.7 MB\/s eta 0:00:01\r     |██████████████████████████████▍ | 6.6 MB 8.7 MB\/s eta 0:00:01\r     |██████████████████████████████▍ | 6.6 MB 8.7 MB\/s eta 0:00:01\r     |██████████████████████████████▍ | 6.6 MB 8.7 MB\/s eta 0:00:01\r     |██████████████████████████████▌ | 6.7 MB 8.7 MB\/s eta 0:00:01\r     |██████████████████████████████▌ | 6.7 MB 8.7 MB\/s eta 0:00:01\r     |██████████████████████████████▋ | 6.7 MB 8.7 MB\/s eta 0:00:01\r     |██████████████████████████████▋ | 6.7 MB 8.7 MB\/s eta 0:00:01\r     |██████████████████████████████▊ | 6.7 MB 8.7 MB\/s eta 0:00:01\r     |██████████████████████████████▊ | 6.7 MB 8.7 MB\/s eta 0:00:01\r     |██████████████████████████████▊ | 6.7 MB 8.7 MB\/s eta 0:00:01\r     |██████████████████████████████▉ | 6.7 MB 8.7 MB\/s eta 0:00:01\r     |██████████████████████████████▉ | 6.7 MB 8.7 MB\/s eta 0:00:01\r     |███████████████████████████████ | 6.7 MB 8.7 MB\/s eta 0:00:01\r     |███████████████████████████████ | 6.8 MB 8.7 MB\/s eta 0:00:01\r     |███████████████████████████████ | 6.8 MB 8.7 MB\/s eta 0:00:01\r     |███████████████████████████████ | 6.8 MB 8.7 MB\/s eta 0:00:01\r     |███████████████████████████████ | 6.8 MB 8.7 MB\/s eta 0:00:01\r     |███████████████████████████████▏| 6.8 MB 8.7 MB\/s eta 0:00:01\r     |███████████████████████████████▏| 6.8 MB 8.7 MB\/s eta 0:00:01\r     |███████████████████████████████▎| 6.8 MB 8.7 MB\/s eta 0:00:01\r     |███████████████████████████████▎| 6.8 MB 8.7 MB\/s eta 0:00:01\r     |███████████████████████████████▎| 6.8 MB 8.7 MB\/s eta 0:00:01\r     |███████████████████████████████▍| 6.9 MB 8.7 MB\/s eta 0:00:01\r     |███████████████████████████████▍| 6.9 MB 8.7 MB\/s eta 0:00:01\r     |███████████████████████████████▌| 6.9 MB 8.7 MB\/s eta 0:00:01\r     |███████████████████████████████▌| 6.9 MB 8.7 MB\/s eta 0:00:01\r     |███████████████████████████████▋| 6.9 MB 8.7 MB\/s eta 0:00:01\r     |███████████████████████████████▋| 6.9 MB 8.7 MB\/s eta 0:00:01\r     |███████████████████████████████▋| 6.9 MB 8.7 MB\/s eta 0:00:01\r     |███████████████████████████████▊| 6.9 MB 8.7 MB\/s eta 0:00:01\r     |███████████████████████████████▊| 6.9 MB 8.7 MB\/s eta 0:00:01\r     |███████████████████████████████▉| 6.9 MB 8.7 MB\/s eta 0:00:01\r     |███████████████████████████████▉| 7.0 MB 8.7 MB\/s eta 0:00:01\r     |████████████████████████████████| 7.0 MB 8.7 MB\/s eta 0:00:01\r     |████████████████████████████████| 7.0 MB 8.7 MB\/s eta 0:00:01\r     |████████████████████████████████| 7.0 MB 8.7 MB\/s eta 0:00:01\r     |████████████████████████████████| 7.0 MB 8.7 MB\/s            \r\n",
      "\u001b[?25hCollecting future<0.18,>=0.16\r\n",
      "  Downloading future-0.17.1.tar.gz (829 kB)\r\n",
      "\u001b[?25l\r\r     |▍                               | 10 kB 26.4 MB\/s eta 0:00:01\r     |▉                               | 20 kB 30.4 MB\/s eta 0:00:01\r     |█▏                              | 30 kB 37.9 MB\/s eta 0:00:01\r     |█▋                              | 40 kB 42.1 MB\/s eta 0:00:01\r     |██                              | 51 kB 45.8 MB\/s eta 0:00:01\r     |██▍                             | 61 kB 49.5 MB\/s eta 0:00:01\r     |██▊                             | 71 kB 52.1 MB\/s eta 0:00:01\r     |███▏                            | 81 kB 53.5 MB\/s eta 0:00:01\r     |███▋                            | 92 kB 55.9 MB\/s eta 0:00:01\r     |████                            | 102 kB 56.1 MB\/s eta 0:00:01\r     |████▍                           | 112 kB 56.1 MB\/s eta 0:00:01\r     |████▊                           | 122 kB 56.1 MB\/s eta 0:00:01\r     |█████▏                          | 133 kB 56.1 MB\/s eta 0:00:01\r     |█████▌                          | 143 kB 56.1 MB\/s eta 0:00:01\r     |██████                          | 153 kB 56.1 MB\/s eta 0:00:01\r     |██████▎                         | 163 kB 56.1 MB\/s eta 0:00:01\r     |██████▊                         | 174 kB 56.1 MB\/s eta 0:00:01\r     |███████▏                        | 184 kB 56.1 MB\/s eta 0:00:01\r     |███████▌                        | 194 kB 56.1 MB\/s eta 0:00:01\r     |████████                        | 204 kB 56.1 MB\/s eta 0:00:01\r     |████████▎                       | 215 kB 56.1 MB\/s eta 0:00:01\r     |████████▊                       | 225 kB 56.1 MB\/s eta 0:00:01\r     |█████████                       | 235 kB 56.1 MB\/s eta 0:00:01\r     |█████████▌                      | 245 kB 56.1 MB\/s eta 0:00:01\r     |█████████▉                      | 256 kB 56.1 MB\/s eta 0:00:01\r     |██████████▎                     | 266 kB 56.1 MB\/s eta 0:00:01\r     |██████████▊                     | 276 kB 56.1 MB\/s eta 0:00:01\r     |███████████                     | 286 kB 56.1 MB\/s eta 0:00:01\r     |███████████▌                    | 296 kB 56.1 MB\/s eta 0:00:01\r     |███████████▉                    | 307 kB 56.1 MB\/s eta 0:00:01\r     |████████████▎                   | 317 kB 56.1 MB\/s eta 0:00:01\r     |████████████▋                   | 327 kB 56.1 MB\/s eta 0:00:01\r     |█████████████                   | 337 kB 56.1 MB\/s eta 0:00:01\r     |█████████████▍                  | 348 kB 56.1 MB\/s eta 0:00:01\r     |█████████████▉                  | 358 kB 56.1 MB\/s eta 0:00:01\r     |██████████████▎                 | 368 kB 56.1 MB\/s eta 0:00:01\r     |██████████████▋                 | 378 kB 56.1 MB\/s eta 0:00:01\r     |███████████████                 | 389 kB 56.1 MB\/s eta 0:00:01\r     |███████████████▍                | 399 kB 56.1 MB\/s eta 0:00:01\r     |███████████████▉                | 409 kB 56.1 MB\/s eta 0:00:01\r     |████████████████▏               | 419 kB 56.1 MB\/s eta 0:00:01\r     |████████████████▋               | 430 kB 56.1 MB\/s eta 0:00:01\r     |█████████████████               | 440 kB 56.1 MB\/s eta 0:00:01\r     |█████████████████▍              | 450 kB 56.1 MB\/s eta 0:00:01\r     |█████████████████▉              | 460 kB 56.1 MB\/s eta 0:00:01\r     |██████████████████▏             | 471 kB 56.1 MB\/s eta 0:00:01\r     |██████████████████▋             | 481 kB 56.1 MB\/s eta 0:00:01\r     |███████████████████             | 491 kB 56.1 MB\/s eta 0:00:01\r     |███████████████████▍            | 501 kB 56.1 MB\/s eta 0:00:01\r     |███████████████████▊            | 512 kB 56.1 MB\/s eta 0:00:01\r     |████████████████████▏           | 522 kB 56.1 MB\/s eta 0:00:01\r     |████████████████████▌           | 532 kB 56.1 MB\/s eta 0:00:01\r     |█████████████████████           | 542 kB 56.1 MB\/s eta 0:00:01\r     |█████████████████████▍          | 552 kB 56.1 MB\/s eta 0:00:01\r     |█████████████████████▊          | 563 kB 56.1 MB\/s eta 0:00:01\r     |██████████████████████▏         | 573 kB 56.1 MB\/s eta 0:00:01\r     |██████████████████████▌         | 583 kB 56.1 MB\/s eta 0:00:01\r     |███████████████████████         | 593 kB 56.1 MB\/s eta 0:00:01\r     |███████████████████████▎        | 604 kB 56.1 MB\/s eta 0:00:01\r     |███████████████████████▊        | 614 kB 56.1 MB\/s eta 0:00:01\r     |████████████████████████        | 624 kB 56.1 MB\/s eta 0:00:01\r     |████████████████████████▌       | 634 kB 56.1 MB\/s eta 0:00:01\r     |█████████████████████████       | 645 kB 56.1 MB\/s eta 0:00:01\r     |█████████████████████████▎      | 655 kB 56.1 MB\/s eta 0:00:01\r     |█████████████████████████▊      | 665 kB 56.1 MB\/s eta 0:00:01\r     |██████████████████████████      | 675 kB 56.1 MB\/s eta 0:00:01\r     |██████████████████████████▌     | 686 kB 56.1 MB\/s eta 0:00:01\r     |██████████████████████████▉     | 696 kB 56.1 MB\/s eta 0:00:01\r     |███████████████████████████▎    | 706 kB 56.1 MB\/s eta 0:00:01\r     |███████████████████████████▋    | 716 kB 56.1 MB\/s eta 0:00:01\r     |████████████████████████████    | 727 kB 56.1 MB\/s eta 0:00:01\r     |████████████████████████████▌   | 737 kB 56.1 MB\/s eta 0:00:01\r     |████████████████████████████▉   | 747 kB 56.1 MB\/s eta 0:00:01\r     |█████████████████████████████▎  | 757 kB 56.1 MB\/s eta 0:00:01\r     |█████████████████████████████▋  | 768 kB 56.1 MB\/s eta 0:00:01\r     |██████████████████████████████  | 778 kB 56.1 MB\/s eta 0:00:01\r     |██████████████████████████████▍ | 788 kB 56.1 MB\/s eta 0:00:01\r     |██████████████████████████████▉ | 798 kB 56.1 MB\/s eta 0:00:01\r     |███████████████████████████████▏| 808 kB 56.1 MB\/s eta 0:00:01\r     |███████████████████████████████▋| 819 kB 56.1 MB\/s eta 0:00:01\r     |████████████████████████████████| 829 kB 56.1 MB\/s            \r\n",
      "\u001b[?25h  Preparing metadata (setup.py) ... \u001b[?25l-\b \b\\\b \bdone\r\n",
      "\u001b[?25hCollecting snips-nlu-utils<0.10,>=0.9\r\n",
      "  Downloading snips_nlu_utils-0.9.1-cp38-cp38-manylinux1_x86_64.whl (1.2 MB)\r\n",
      "\u001b[?25l\r\r     |▎                               | 10 kB 20.9 MB\/s eta 0:00:01\r     |▌                               | 20 kB 24.2 MB\/s eta 0:00:01\r     |▉                               | 30 kB 31.4 MB\/s eta 0:00:01\r     |█                               | 40 kB 36.3 MB\/s eta 0:00:01\r     |█▎                              | 51 kB 40.2 MB\/s eta 0:00:01\r     |█▋                              | 61 kB 44.2 MB\/s eta 0:00:01\r     |█▉                              | 71 kB 38.9 MB\/s eta 0:00:01\r     |██▏                             | 81 kB 34.9 MB\/s eta 0:00:01\r     |██▍                             | 92 kB 35.6 MB\/s eta 0:00:01\r     |██▋                             | 102 kB 37.1 MB\/s eta 0:00:01\r     |███                             | 112 kB 37.1 MB\/s eta 0:00:01\r     |███▏                            | 122 kB 37.1 MB\/s eta 0:00:01\r     |███▍                            | 133 kB 37.1 MB\/s eta 0:00:01\r     |███▊                            | 143 kB 37.1 MB\/s eta 0:00:01\r     |████                            | 153 kB 37.1 MB\/s eta 0:00:01\r     |████▎                           | 163 kB 37.1 MB\/s eta 0:00:01\r     |████▌                           | 174 kB 37.1 MB\/s eta 0:00:01\r     |████▊                           | 184 kB 37.1 MB\/s eta 0:00:01\r     |█████                           | 194 kB 37.1 MB\/s eta 0:00:01\r     |█████▎                          | 204 kB 37.1 MB\/s eta 0:00:01\r     |█████▌                          | 215 kB 37.1 MB\/s eta 0:00:01\r     |█████▉                          | 225 kB 37.1 MB\/s eta 0:00:01\r     |██████                          | 235 kB 37.1 MB\/s eta 0:00:01\r     |██████▍                         | 245 kB 37.1 MB\/s eta 0:00:01\r     |██████▋                         | 256 kB 37.1 MB\/s eta 0:00:01\r     |██████▉                         | 266 kB 37.1 MB\/s eta 0:00:01\r     |███████▏                        | 276 kB 37.1 MB\/s eta 0:00:01\r     |███████▍                        | 286 kB 37.1 MB\/s eta 0:00:01\r     |███████▋                        | 296 kB 37.1 MB\/s eta 0:00:01\r     |████████                        | 307 kB 37.1 MB\/s eta 0:00:01\r     |████████▏                       | 317 kB 37.1 MB\/s eta 0:00:01\r     |████████▌                       | 327 kB 37.1 MB\/s eta 0:00:01\r     |████████▊                       | 337 kB 37.1 MB\/s eta 0:00:01\r     |█████████                       | 348 kB 37.1 MB\/s eta 0:00:01\r     |█████████▎                      | 358 kB 37.1 MB\/s eta 0:00:01\r     |█████████▌                      | 368 kB 37.1 MB\/s eta 0:00:01\r     |█████████▉                      | 378 kB 37.1 MB\/s eta 0:00:01\r     |██████████                      | 389 kB 37.1 MB\/s eta 0:00:01\r     |██████████▎                     | 399 kB 37.1 MB\/s eta 0:00:01\r     |██████████▋                     | 409 kB 37.1 MB\/s eta 0:00:01\r     |██████████▉                     | 419 kB 37.1 MB\/s eta 0:00:01\r     |███████████                     | 430 kB 37.1 MB\/s eta 0:00:01\r     |███████████▍                    | 440 kB 37.1 MB\/s eta 0:00:01\r     |███████████▋                    | 450 kB 37.1 MB\/s eta 0:00:01\r     |████████████                    | 460 kB 37.1 MB\/s eta 0:00:01\r     |████████████▏                   | 471 kB 37.1 MB\/s eta 0:00:01\r     |████████████▍                   | 481 kB 37.1 MB\/s eta 0:00:01\r     |████████████▊                   | 491 kB 37.1 MB\/s eta 0:00:01\r     |█████████████                   | 501 kB 37.1 MB\/s eta 0:00:01\r     |█████████████▏                  | 512 kB 37.1 MB\/s eta 0:00:01\r     |█████████████▌                  | 522 kB 37.1 MB\/s eta 0:00:01\r     |█████████████▊                  | 532 kB 37.1 MB\/s eta 0:00:01\r     |██████████████                  | 542 kB 37.1 MB\/s eta 0:00:01\r     |██████████████▎                 | 552 kB 37.1 MB\/s eta 0:00:01\r     |██████████████▌                 | 563 kB 37.1 MB\/s eta 0:00:01\r     |██████████████▉                 | 573 kB 37.1 MB\/s eta 0:00:01\r     |███████████████                 | 583 kB 37.1 MB\/s eta 0:00:01\r     |███████████████▎                | 593 kB 37.1 MB\/s eta 0:00:01\r     |███████████████▋                | 604 kB 37.1 MB\/s eta 0:00:01\r     |███████████████▉                | 614 kB 37.1 MB\/s eta 0:00:01\r     |████████████████▏               | 624 kB 37.1 MB\/s eta 0:00:01\r     |████████████████▍               | 634 kB 37.1 MB\/s eta 0:00:01\r     |████████████████▋               | 645 kB 37.1 MB\/s eta 0:00:01\r     |█████████████████               | 655 kB 37.1 MB\/s eta 0:00:01\r     |█████████████████▏              | 665 kB 37.1 MB\/s eta 0:00:01\r     |█████████████████▍              | 675 kB 37.1 MB\/s eta 0:00:01\r     |█████████████████▊              | 686 kB 37.1 MB\/s eta 0:00:01\r     |██████████████████              | 696 kB 37.1 MB\/s eta 0:00:01\r     |██████████████████▎             | 706 kB 37.1 MB\/s eta 0:00:01\r     |██████████████████▌             | 716 kB 37.1 MB\/s eta 0:00:01\r     |██████████████████▊             | 727 kB 37.1 MB\/s eta 0:00:01\r     |███████████████████             | 737 kB 37.1 MB\/s eta 0:00:01\r     |███████████████████▎            | 747 kB 37.1 MB\/s eta 0:00:01\r     |███████████████████▋            | 757 kB 37.1 MB\/s eta 0:00:01\r     |███████████████████▉            | 768 kB 37.1 MB\/s eta 0:00:01\r     |████████████████████            | 778 kB 37.1 MB\/s eta 0:00:01\r     |████████████████████▍           | 788 kB 37.1 MB\/s eta 0:00:01\r     |████████████████████▋           | 798 kB 37.1 MB\/s eta 0:00:01\r     |████████████████████▉           | 808 kB 37.1 MB\/s eta 0:00:01\r     |█████████████████████▏          | 819 kB 37.1 MB\/s eta 0:00:01\r     |█████████████████████▍          | 829 kB 37.1 MB\/s eta 0:00:01\r     |█████████████████████▊          | 839 kB 37.1 MB\/s eta 0:00:01\r     |██████████████████████          | 849 kB 37.1 MB\/s eta 0:00:01\r     |██████████████████████▏         | 860 kB 37.1 MB\/s eta 0:00:01\r     |██████████████████████▌         | 870 kB 37.1 MB\/s eta 0:00:01\r     |██████████████████████▊         | 880 kB 37.1 MB\/s eta 0:00:01\r     |███████████████████████         | 890 kB 37.1 MB\/s eta 0:00:01\r     |███████████████████████▎        | 901 kB 37.1 MB\/s eta 0:00:01\r     |███████████████████████▌        | 911 kB 37.1 MB\/s eta 0:00:01\r     |███████████████████████▉        | 921 kB 37.1 MB\/s eta 0:00:01\r     |████████████████████████        | 931 kB 37.1 MB\/s eta 0:00:01\r     |████████████████████████▎       | 942 kB 37.1 MB\/s eta 0:00:01\r     |████████████████████████▋       | 952 kB 37.1 MB\/s eta 0:00:01\r     |████████████████████████▉       | 962 kB 37.1 MB\/s eta 0:00:01\r     |█████████████████████████       | 972 kB 37.1 MB\/s eta 0:00:01\r     |█████████████████████████▍      | 983 kB 37.1 MB\/s eta 0:00:01\r     |█████████████████████████▋      | 993 kB 37.1 MB\/s eta 0:00:01\r     |██████████████████████████      | 1.0 MB 37.1 MB\/s eta 0:00:01\r     |██████████████████████████▏     | 1.0 MB 37.1 MB\/s eta 0:00:01\r     |██████████████████████████▍     | 1.0 MB 37.1 MB\/s eta 0:00:01\r     |██████████████████████████▊     | 1.0 MB 37.1 MB\/s eta 0:00:01\r     |███████████████████████████     | 1.0 MB 37.1 MB\/s eta 0:00:01\r     |███████████████████████████▎    | 1.1 MB 37.1 MB\/s eta 0:00:01\r     |███████████████████████████▌    | 1.1 MB 37.1 MB\/s eta 0:00:01\r     |███████████████████████████▊    | 1.1 MB 37.1 MB\/s eta 0:00:01\r     |████████████████████████████    | 1.1 MB 37.1 MB\/s eta 0:00:01\r     |████████████████████████████▎   | 1.1 MB 37.1 MB\/s eta 0:00:01\r     |████████████████████████████▌   | 1.1 MB 37.1 MB\/s eta 0:00:01\r     |████████████████████████████▉   | 1.1 MB 37.1 MB\/s eta 0:00:01\r     |█████████████████████████████   | 1.1 MB 37.1 MB\/s eta 0:00:01\r     |█████████████████████████████▍  | 1.1 MB 37.1 MB\/s eta 0:00:01\r     |█████████████████████████████▋  | 1.1 MB 37.1 MB\/s eta 0:00:01\r     |█████████████████████████████▉  | 1.2 MB 37.1 MB\/s eta 0:00:01\r     |██████████████████████████████▏ | 1.2 MB 37.1 MB\/s eta 0:00:01\r     |██████████████████████████████▍ | 1.2 MB 37.1 MB\/s eta 0:00:01\r     |██████████████████████████████▋ | 1.2 MB 37.1 MB\/s eta 0:00:01\r     |███████████████████████████████ | 1.2 MB 37.1 MB\/s eta 0:00:01\r     |███████████████████████████████▏| 1.2 MB 37.1 MB\/s eta 0:00:01\r     |███████████████████████████████▌| 1.2 MB 37.1 MB\/s eta 0:00:01\r     |███████████████████████████████▊| 1.2 MB 37.1 MB\/s eta 0:00:01\r     |████████████████████████████████| 1.2 MB 37.1 MB\/s eta 0:00:01\r     |████████████████████████████████| 1.2 MB 37.1 MB\/s            \r\n",
      "\u001b[?25hRequirement already satisfied: requests<3.0,>=2.0 in \/opt\/python\/envs\/default\/lib\/python3.8\/site-packages (from snips-nlu) (2.26.0)\r\n",
      "Collecting deprecation<3.0,>=2.0\r\n",
      "  Downloading deprecation-2.1.0-py2.py3-none-any.whl (11 kB)\r\n",
      "Collecting pyaml<20.0,>=17.0\r\n",
      "  Downloading pyaml-19.12.0-py2.py3-none-any.whl (17 kB)\r\n",
      "Requirement already satisfied: packaging in \/opt\/python\/envs\/default\/lib\/python3.8\/site-packages (from deprecation<3.0,>=2.0->snips-nlu) (21.3)\r\n",
      "Collecting docopt>=0.6.2\r\n",
      "  Downloading docopt-0.6.2.tar.gz (25 kB)\r\n",
      "  Preparing metadata (setup.py) ... \u001b[?25l-\b \bdone\r\n",
      "\u001b[?25hRequirement already satisfied: PyYAML in \/opt\/python\/envs\/default\/lib\/python3.8\/site-packages (from pyaml<20.0,>=17.0->snips-nlu) (6.0)\r\n",
      "Requirement already satisfied: charset-normalizer~=2.0.0 in \/opt\/python\/envs\/default\/lib\/python3.8\/site-packages (from requests<3.0,>=2.0->snips-nlu) (2.0.12)\r\n",
      "Requirement already satisfied: idna<4,>=2.5 in \/opt\/python\/envs\/default\/lib\/python3.8\/site-packages (from requests<3.0,>=2.0->snips-nlu) (3.3)\r\n",
      "Requirement already satisfied: urllib3<1.27,>=1.21.1 in \/opt\/python\/envs\/default\/lib\/python3.8\/site-packages (from requests<3.0,>=2.0->snips-nlu) (1.26.9)\r\n",
      "Requirement already satisfied: certifi>=2017.4.17 in \/opt\/python\/envs\/default\/lib\/python3.8\/site-packages (from requests<3.0,>=2.0->snips-nlu) (2021.10.8)\r\n",
      "Requirement already satisfied: joblib>=0.11 in \/opt\/python\/envs\/default\/lib\/python3.8\/site-packages (from scikit-learn<0.23,>=0.21.1->snips-nlu) (1.1.0)\r\n",
      "Collecting python-crfsuite>=0.8.3\r\n",
      "  Downloading python_crfsuite-0.9.8-cp38-cp38-manylinux_2_17_x86_64.manylinux2014_x86_64.whl (1.0 MB)\r\n",
      "\u001b[?25l\r\r     |▎                               | 10 kB 15.4 MB\/s eta 0:00:01\r     |▋                               | 20 kB 21.3 MB\/s eta 0:00:01\r     |█                               | 30 kB 25.0 MB\/s eta 0:00:01\r     |█▎                              | 40 kB 28.0 MB\/s eta 0:00:01\r     |█▋                              | 51 kB 30.2 MB\/s eta 0:00:01\r     |██                              | 61 kB 26.6 MB\/s eta 0:00:01\r     |██▎                             | 71 kB 28.0 MB\/s eta 0:00:01\r     |██▋                             | 81 kB 26.3 MB\/s eta 0:00:01\r     |███                             | 92 kB 27.5 MB\/s eta 0:00:01\r     |███▎                            | 102 kB 28.6 MB\/s eta 0:00:01\r     |███▋                            | 112 kB 28.6 MB\/s eta 0:00:01\r     |████                            | 122 kB 28.6 MB\/s eta 0:00:01\r     |████▎                           | 133 kB 28.6 MB\/s eta 0:00:01\r     |████▋                           | 143 kB 28.6 MB\/s eta 0:00:01\r     |█████                           | 153 kB 28.6 MB\/s eta 0:00:01\r     |█████▏                          | 163 kB 28.6 MB\/s eta 0:00:01\r     |█████▌                          | 174 kB 28.6 MB\/s eta 0:00:01\r     |█████▉                          | 184 kB 28.6 MB\/s eta 0:00:01\r     |██████▏                         | 194 kB 28.6 MB\/s eta 0:00:01\r     |██████▌                         | 204 kB 28.6 MB\/s eta 0:00:01\r     |██████▉                         | 215 kB 28.6 MB\/s eta 0:00:01\r     |███████▏                        | 225 kB 28.6 MB\/s eta 0:00:01\r     |███████▌                        | 235 kB 28.6 MB\/s eta 0:00:01\r     |███████▉                        | 245 kB 28.6 MB\/s eta 0:00:01\r     |████████▏                       | 256 kB 28.6 MB\/s eta 0:00:01\r     |████████▌                       | 266 kB 28.6 MB\/s eta 0:00:01\r     |████████▉                       | 276 kB 28.6 MB\/s eta 0:00:01\r     |█████████▏                      | 286 kB 28.6 MB\/s eta 0:00:01\r     |█████████▌                      | 296 kB 28.6 MB\/s eta 0:00:01\r     |█████████▉                      | 307 kB 28.6 MB\/s eta 0:00:01\r     |██████████▏                     | 317 kB 28.6 MB\/s eta 0:00:01\r     |██████████▍                     | 327 kB 28.6 MB\/s eta 0:00:01\r     |██████████▊                     | 337 kB 28.6 MB\/s eta 0:00:01\r     |███████████                     | 348 kB 28.6 MB\/s eta 0:00:01\r     |███████████▍                    | 358 kB 28.6 MB\/s eta 0:00:01\r     |███████████▊                    | 368 kB 28.6 MB\/s eta 0:00:01\r     |████████████                    | 378 kB 28.6 MB\/s eta 0:00:01\r     |████████████▍                   | 389 kB 28.6 MB\/s eta 0:00:01\r     |████████████▊                   | 399 kB 28.6 MB\/s eta 0:00:01\r     |█████████████                   | 409 kB 28.6 MB\/s eta 0:00:01\r     |█████████████▍                  | 419 kB 28.6 MB\/s eta 0:00:01\r     |█████████████▊                  | 430 kB 28.6 MB\/s eta 0:00:01\r     |██████████████                  | 440 kB 28.6 MB\/s eta 0:00:01\r     |██████████████▍                 | 450 kB 28.6 MB\/s eta 0:00:01\r     |██████████████▊                 | 460 kB 28.6 MB\/s eta 0:00:01\r     |███████████████                 | 471 kB 28.6 MB\/s eta 0:00:01\r     |███████████████▎                | 481 kB 28.6 MB\/s eta 0:00:01\r     |███████████████▋                | 491 kB 28.6 MB\/s eta 0:00:01\r     |████████████████                | 501 kB 28.6 MB\/s eta 0:00:01\r     |████████████████▎               | 512 kB 28.6 MB\/s eta 0:00:01\r     |████████████████▋               | 522 kB 28.6 MB\/s eta 0:00:01\r     |█████████████████               | 532 kB 28.6 MB\/s eta 0:00:01\r     |█████████████████▎              | 542 kB 28.6 MB\/s eta 0:00:01\r     |█████████████████▋              | 552 kB 28.6 MB\/s eta 0:00:01\r     |██████████████████              | 563 kB 28.6 MB\/s eta 0:00:01\r     |██████████████████▎             | 573 kB 28.6 MB\/s eta 0:00:01\r     |██████████████████▋             | 583 kB 28.6 MB\/s eta 0:00:01\r     |███████████████████             | 593 kB 28.6 MB\/s eta 0:00:01\r     |███████████████████▎            | 604 kB 28.6 MB\/s eta 0:00:01\r     |███████████████████▋            | 614 kB 28.6 MB\/s eta 0:00:01\r     |████████████████████            | 624 kB 28.6 MB\/s eta 0:00:01\r     |████████████████████▎           | 634 kB 28.6 MB\/s eta 0:00:01\r     |████████████████████▌           | 645 kB 28.6 MB\/s eta 0:00:01\r     |████████████████████▉           | 655 kB 28.6 MB\/s eta 0:00:01\r     |█████████████████████▏          | 665 kB 28.6 MB\/s eta 0:00:01\r     |█████████████████████▌          | 675 kB 28.6 MB\/s eta 0:00:01\r     |█████████████████████▉          | 686 kB 28.6 MB\/s eta 0:00:01\r     |██████████████████████▏         | 696 kB 28.6 MB\/s eta 0:00:01\r     |██████████████████████▌         | 706 kB 28.6 MB\/s eta 0:00:01\r     |██████████████████████▉         | 716 kB 28.6 MB\/s eta 0:00:01\r     |███████████████████████▏        | 727 kB 28.6 MB\/s eta 0:00:01\r     |███████████████████████▌        | 737 kB 28.6 MB\/s eta 0:00:01\r     |███████████████████████▉        | 747 kB 28.6 MB\/s eta 0:00:01\r     |████████████████████████▏       | 757 kB 28.6 MB\/s eta 0:00:01\r     |████████████████████████▌       | 768 kB 28.6 MB\/s eta 0:00:01\r     |████████████████████████▉       | 778 kB 28.6 MB\/s eta 0:00:01\r     |█████████████████████████▏      | 788 kB 28.6 MB\/s eta 0:00:01\r     |█████████████████████████▍      | 798 kB 28.6 MB\/s eta 0:00:01\r     |█████████████████████████▊      | 808 kB 28.6 MB\/s eta 0:00:01\r     |██████████████████████████      | 819 kB 28.6 MB\/s eta 0:00:01\r     |██████████████████████████▍     | 829 kB 28.6 MB\/s eta 0:00:01\r     |██████████████████████████▊     | 839 kB 28.6 MB\/s eta 0:00:01\r     |███████████████████████████     | 849 kB 28.6 MB\/s eta 0:00:01\r     |███████████████████████████▍    | 860 kB 28.6 MB\/s eta 0:00:01\r     |███████████████████████████▊    | 870 kB 28.6 MB\/s eta 0:00:01\r     |████████████████████████████    | 880 kB 28.6 MB\/s eta 0:00:01\r     |████████████████████████████▍   | 890 kB 28.6 MB\/s eta 0:00:01\r     |████████████████████████████▊   | 901 kB 28.6 MB\/s eta 0:00:01\r     |█████████████████████████████   | 911 kB 28.6 MB\/s eta 0:00:01\r     |█████████████████████████████▍  | 921 kB 28.6 MB\/s eta 0:00:01\r     |█████████████████████████████▊  | 931 kB 28.6 MB\/s eta 0:00:01\r     |██████████████████████████████  | 942 kB 28.6 MB\/s eta 0:00:01\r     |██████████████████████████████▍ | 952 kB 28.6 MB\/s eta 0:00:01\r     |██████████████████████████████▋ | 962 kB 28.6 MB\/s eta 0:00:01\r     |███████████████████████████████ | 972 kB 28.6 MB\/s eta 0:00:01\r     |███████████████████████████████▎| 983 kB 28.6 MB\/s eta 0:00:01\r     |███████████████████████████████▋| 993 kB 28.6 MB\/s eta 0:00:01\r     |████████████████████████████████| 1.0 MB 28.6 MB\/s eta 0:00:01\r     |████████████████████████████████| 1.0 MB 28.6 MB\/s            \r\n",
      "\u001b[?25hCollecting tabulate\r\n",
      "  Downloading tabulate-0.8.9-py3-none-any.whl (25 kB)\r\n",
      "Requirement already satisfied: tqdm>=2.0 in \/opt\/python\/envs\/default\/lib\/python3.8\/site-packages (from sklearn-crfsuite<0.4,>=0.3.6->snips-nlu) (4.64.0)\r\n",
      "Requirement already satisfied: six in \/opt\/python\/envs\/default\/lib\/python3.8\/site-packages (from sklearn-crfsuite<0.4,>=0.3.6->snips-nlu) (1.16.0)\r\n",
      "Requirement already satisfied: pyparsing!=3.0.5,>=2.0.2 in \/opt\/python\/envs\/default\/lib\/python3.8\/site-packages (from packaging->deprecation<3.0,>=2.0->snips-nlu) (3.0.8)\r\n",
      "Building wheels for collected packages: future, docopt\r\n",
      "  Building wheel for future (setup.py) ... \u001b[?25l-\b \b\\\b \b|\b \b\/\b \b-\b \b\\\b \bdone\r\n",
      "\u001b[?25h  Created wheel for future: filename=future-0.17.1-py3-none-any.whl size=488729 sha256=05f4002b97949d6efd9c2b8df033268a535f90acd9bff95881625e721093a1ce\r\n",
      "  Stored in directory: \/home\/datalore\/.cache\/pip\/wheels\/1c\/1d\/db\/1834235af1bc2c9ca8e63809ce32edeb56f64f6e3af30cb20b\r\n",
      "  Building wheel for docopt (setup.py) ... \u001b[?25l-\b \b\\\b \bdone\r\n",
      "\u001b[?25h  Created wheel for docopt: filename=docopt-0.6.2-py2.py3-none-any.whl size=13704 sha256=ed210c18d7a6f08bcb945fb4c81764d5f8f6112df8d027fb9b44f12843c57ad0\r\n",
      "  Stored in directory: \/home\/datalore\/.cache\/pip\/wheels\/56\/ea\/58\/ead137b087d9e326852a851351d1debf4ada529b6ac0ec4e8c\r\n",
      "Successfully built future docopt\r\n",
      "Installing collected packages: tabulate, python-crfsuite, future, docopt, snips-nlu-utils, snips-nlu-parsers, sklearn-crfsuite, scikit-learn, pyaml, num2words, deprecation, snips-nlu\r\n",
      "  Attempting uninstall: scikit-learn\r\n",
      "    Found existing installation: scikit-learn 1.0.1\r\n",
      "    Uninstalling scikit-learn-1.0.1:\r\n",
      "      Successfully uninstalled scikit-learn-1.0.1\r\n",
      "Successfully installed deprecation-2.1.0 docopt-0.6.2 future-0.17.1 num2words-0.5.10 pyaml-19.12.0 python-crfsuite-0.9.8 scikit-learn-0.22.2.post1 sklearn-crfsuite-0.3.6 snips-nlu-0.20.2 snips-nlu-parsers-0.4.3 snips-nlu-utils-0.9.1 tabulate-0.8.9\r\n",
      "\u001b[33mWARNING: You are using pip version 21.3.1; however, version 22.0.4 is available.\r\n",
      "You should consider upgrading via the '\/opt\/python\/envs\/default\/bin\/python -m pip install --upgrade pip' command.\u001b[0m\r\n",
      "Collecting pyowm\r\n",
      "  Downloading pyowm-3.3.0-py3-none-any.whl (4.5 MB)\r\n",
      "\u001b[?25l\r\r     |                                | 10 kB 21.8 MB\/s eta 0:00:01\r     |▏                               | 20 kB 25.0 MB\/s eta 0:00:01\r     |▏                               | 30 kB 26.2 MB\/s eta 0:00:01\r     |▎                               | 40 kB 27.7 MB\/s eta 0:00:01\r     |▍                               | 51 kB 22.3 MB\/s eta 0:00:01\r     |▍                               | 61 kB 23.7 MB\/s eta 0:00:01\r     |▌                               | 71 kB 24.2 MB\/s eta 0:00:01\r     |▋                               | 81 kB 25.1 MB\/s eta 0:00:01\r     |▋                               | 92 kB 25.9 MB\/s eta 0:00:01\r     |▊                               | 102 kB 26.3 MB\/s eta 0:00:01\r     |▉                               | 112 kB 26.3 MB\/s eta 0:00:01\r     |▉                               | 122 kB 26.3 MB\/s eta 0:00:01\r     |█                               | 133 kB 26.3 MB\/s eta 0:00:01\r     |█                               | 143 kB 26.3 MB\/s eta 0:00:01\r     |█                               | 153 kB 26.3 MB\/s eta 0:00:01\r     |█▏                              | 163 kB 26.3 MB\/s eta 0:00:01\r     |█▎                              | 174 kB 26.3 MB\/s eta 0:00:01\r     |█▎                              | 184 kB 26.3 MB\/s eta 0:00:01\r     |█▍                              | 194 kB 26.3 MB\/s eta 0:00:01\r     |█▍                              | 204 kB 26.3 MB\/s eta 0:00:01\r     |█▌                              | 215 kB 26.3 MB\/s eta 0:00:01\r     |█▋                              | 225 kB 26.3 MB\/s eta 0:00:01\r     |█▋                              | 235 kB 26.3 MB\/s eta 0:00:01\r     |█▊                              | 245 kB 26.3 MB\/s eta 0:00:01\r     |█▉                              | 256 kB 26.3 MB\/s eta 0:00:01\r     |█▉                              | 266 kB 26.3 MB\/s eta 0:00:01\r     |██                              | 276 kB 26.3 MB\/s eta 0:00:01\r     |██                              | 286 kB 26.3 MB\/s eta 0:00:01\r     |██                              | 296 kB 26.3 MB\/s eta 0:00:01\r     |██▏                             | 307 kB 26.3 MB\/s eta 0:00:01\r     |██▎                             | 317 kB 26.3 MB\/s eta 0:00:01\r     |██▎                             | 327 kB 26.3 MB\/s eta 0:00:01\r     |██▍                             | 337 kB 26.3 MB\/s eta 0:00:01\r     |██▌                             | 348 kB 26.3 MB\/s eta 0:00:01\r     |██▌                             | 358 kB 26.3 MB\/s eta 0:00:01\r     |██▋                             | 368 kB 26.3 MB\/s eta 0:00:01\r     |██▋                             | 378 kB 26.3 MB\/s eta 0:00:01\r     |██▊                             | 389 kB 26.3 MB\/s eta 0:00:01\r     |██▉                             | 399 kB 26.3 MB\/s eta 0:00:01\r     |██▉                             | 409 kB 26.3 MB\/s eta 0:00:01\r     |███                             | 419 kB 26.3 MB\/s eta 0:00:01\r     |███                             | 430 kB 26.3 MB\/s eta 0:00:01\r     |███                             | 440 kB 26.3 MB\/s eta 0:00:01\r     |███▏                            | 450 kB 26.3 MB\/s eta 0:00:01\r     |███▎                            | 460 kB 26.3 MB\/s eta 0:00:01\r     |███▎                            | 471 kB 26.3 MB\/s eta 0:00:01\r     |███▍                            | 481 kB 26.3 MB\/s eta 0:00:01\r     |███▌                            | 491 kB 26.3 MB\/s eta 0:00:01\r     |███▌                            | 501 kB 26.3 MB\/s eta 0:00:01\r     |███▋                            | 512 kB 26.3 MB\/s eta 0:00:01\r     |███▊                            | 522 kB 26.3 MB\/s eta 0:00:01\r     |███▊                            | 532 kB 26.3 MB\/s eta 0:00:01\r     |███▉                            | 542 kB 26.3 MB\/s eta 0:00:01\r     |████                            | 552 kB 26.3 MB\/s eta 0:00:01\r     |████                            | 563 kB 26.3 MB\/s eta 0:00:01\r     |████                            | 573 kB 26.3 MB\/s eta 0:00:01\r     |████                            | 583 kB 26.3 MB\/s eta 0:00:01\r     |████▏                           | 593 kB 26.3 MB\/s eta 0:00:01\r     |████▎                           | 604 kB 26.3 MB\/s eta 0:00:01\r     |████▎                           | 614 kB 26.3 MB\/s eta 0:00:01\r     |████▍                           | 624 kB 26.3 MB\/s eta 0:00:01\r     |████▌                           | 634 kB 26.3 MB\/s eta 0:00:01\r     |████▌                           | 645 kB 26.3 MB\/s eta 0:00:01\r     |████▋                           | 655 kB 26.3 MB\/s eta 0:00:01\r     |████▊                           | 665 kB 26.3 MB\/s eta 0:00:01\r     |████▊                           | 675 kB 26.3 MB\/s eta 0:00:01\r     |████▉                           | 686 kB 26.3 MB\/s eta 0:00:01\r     |█████                           | 696 kB 26.3 MB\/s eta 0:00:01\r     |█████                           | 706 kB 26.3 MB\/s eta 0:00:01\r     |█████                           | 716 kB 26.3 MB\/s eta 0:00:01\r     |█████▏                          | 727 kB 26.3 MB\/s eta 0:00:01\r     |█████▏                          | 737 kB 26.3 MB\/s eta 0:00:01\r     |█████▎                          | 747 kB 26.3 MB\/s eta 0:00:01\r     |█████▎                          | 757 kB 26.3 MB\/s eta 0:00:01\r     |█████▍                          | 768 kB 26.3 MB\/s eta 0:00:01\r     |█████▌                          | 778 kB 26.3 MB\/s eta 0:00:01\r     |█████▌                          | 788 kB 26.3 MB\/s eta 0:00:01\r     |█████▋                          | 798 kB 26.3 MB\/s eta 0:00:01\r     |█████▊                          | 808 kB 26.3 MB\/s eta 0:00:01\r     |█████▊                          | 819 kB 26.3 MB\/s eta 0:00:01\r     |█████▉                          | 829 kB 26.3 MB\/s eta 0:00:01\r     |██████                          | 839 kB 26.3 MB\/s eta 0:00:01\r     |██████                          | 849 kB 26.3 MB\/s eta 0:00:01\r     |██████                          | 860 kB 26.3 MB\/s eta 0:00:01\r     |██████▏                         | 870 kB 26.3 MB\/s eta 0:00:01\r     |██████▏                         | 880 kB 26.3 MB\/s eta 0:00:01\r     |██████▎                         | 890 kB 26.3 MB\/s eta 0:00:01\r     |██████▍                         | 901 kB 26.3 MB\/s eta 0:00:01\r     |██████▍                         | 911 kB 26.3 MB\/s eta 0:00:01\r     |██████▌                         | 921 kB 26.3 MB\/s eta 0:00:01\r     |██████▋                         | 931 kB 26.3 MB\/s eta 0:00:01\r     |██████▋                         | 942 kB 26.3 MB\/s eta 0:00:01\r     |██████▊                         | 952 kB 26.3 MB\/s eta 0:00:01\r     |██████▊                         | 962 kB 26.3 MB\/s eta 0:00:01\r     |██████▉                         | 972 kB 26.3 MB\/s eta 0:00:01\r     |███████                         | 983 kB 26.3 MB\/s eta 0:00:01\r     |███████                         | 993 kB 26.3 MB\/s eta 0:00:01\r     |███████                         | 1.0 MB 26.3 MB\/s eta 0:00:01\r     |███████▏                        | 1.0 MB 26.3 MB\/s eta 0:00:01\r     |███████▏                        | 1.0 MB 26.3 MB\/s eta 0:00:01\r     |███████▎                        | 1.0 MB 26.3 MB\/s eta 0:00:01\r     |███████▍                        | 1.0 MB 26.3 MB\/s eta 0:00:01\r     |███████▍                        | 1.1 MB 26.3 MB\/s eta 0:00:01\r     |███████▌                        | 1.1 MB 26.3 MB\/s eta 0:00:01\r     |███████▋                        | 1.1 MB 26.3 MB\/s eta 0:00:01\r     |███████▋                        | 1.1 MB 26.3 MB\/s eta 0:00:01\r     |███████▊                        | 1.1 MB 26.3 MB\/s eta 0:00:01\r     |███████▉                        | 1.1 MB 26.3 MB\/s eta 0:00:01\r     |███████▉                        | 1.1 MB 26.3 MB\/s eta 0:00:01\r     |████████                        | 1.1 MB 26.3 MB\/s eta 0:00:01\r     |████████                        | 1.1 MB 26.3 MB\/s eta 0:00:01\r     |████████                        | 1.1 MB 26.3 MB\/s eta 0:00:01\r     |████████▏                       | 1.2 MB 26.3 MB\/s eta 0:00:01\r     |████████▏                       | 1.2 MB 26.3 MB\/s eta 0:00:01\r     |████████▎                       | 1.2 MB 26.3 MB\/s eta 0:00:01\r     |████████▍                       | 1.2 MB 26.3 MB\/s eta 0:00:01\r     |████████▍                       | 1.2 MB 26.3 MB\/s eta 0:00:01\r     |████████▌                       | 1.2 MB 26.3 MB\/s eta 0:00:01\r     |████████▋                       | 1.2 MB 26.3 MB\/s eta 0:00:01\r     |████████▋                       | 1.2 MB 26.3 MB\/s eta 0:00:01\r     |████████▊                       | 1.2 MB 26.3 MB\/s eta 0:00:01\r     |████████▉                       | 1.2 MB 26.3 MB\/s eta 0:00:01\r     |████████▉                       | 1.3 MB 26.3 MB\/s eta 0:00:01\r     |█████████                       | 1.3 MB 26.3 MB\/s eta 0:00:01\r     |█████████                       | 1.3 MB 26.3 MB\/s eta 0:00:01\r     |█████████                       | 1.3 MB 26.3 MB\/s eta 0:00:01\r     |█████████▏                      | 1.3 MB 26.3 MB\/s eta 0:00:01\r     |█████████▎                      | 1.3 MB 26.3 MB\/s eta 0:00:01\r     |█████████▎                      | 1.3 MB 26.3 MB\/s eta 0:00:01\r     |█████████▍                      | 1.3 MB 26.3 MB\/s eta 0:00:01\r     |█████████▍                      | 1.3 MB 26.3 MB\/s eta 0:00:01\r     |█████████▌                      | 1.4 MB 26.3 MB\/s eta 0:00:01\r     |█████████▋                      | 1.4 MB 26.3 MB\/s eta 0:00:01\r     |█████████▋                      | 1.4 MB 26.3 MB\/s eta 0:00:01\r     |█████████▊                      | 1.4 MB 26.3 MB\/s eta 0:00:01\r     |█████████▉                      | 1.4 MB 26.3 MB\/s eta 0:00:01\r     |█████████▉                      | 1.4 MB 26.3 MB\/s eta 0:00:01\r     |██████████                      | 1.4 MB 26.3 MB\/s eta 0:00:01\r     |██████████                      | 1.4 MB 26.3 MB\/s eta 0:00:01\r     |██████████                      | 1.4 MB 26.3 MB\/s eta 0:00:01\r     |██████████▏                     | 1.4 MB 26.3 MB\/s eta 0:00:01\r     |██████████▎                     | 1.5 MB 26.3 MB\/s eta 0:00:01\r     |██████████▎                     | 1.5 MB 26.3 MB\/s eta 0:00:01\r     |██████████▍                     | 1.5 MB 26.3 MB\/s eta 0:00:01\r     |██████████▌                     | 1.5 MB 26.3 MB\/s eta 0:00:01\r     |██████████▌                     | 1.5 MB 26.3 MB\/s eta 0:00:01\r     |██████████▋                     | 1.5 MB 26.3 MB\/s eta 0:00:01\r     |██████████▋                     | 1.5 MB 26.3 MB\/s eta 0:00:01\r     |██████████▊                     | 1.5 MB 26.3 MB\/s eta 0:00:01\r     |██████████▉                     | 1.5 MB 26.3 MB\/s eta 0:00:01\r     |██████████▉                     | 1.5 MB 26.3 MB\/s eta 0:00:01\r     |███████████                     | 1.6 MB 26.3 MB\/s eta 0:00:01\r     |███████████                     | 1.6 MB 26.3 MB\/s eta 0:00:01\r     |███████████                     | 1.6 MB 26.3 MB\/s eta 0:00:01\r     |███████████▏                    | 1.6 MB 26.3 MB\/s eta 0:00:01\r     |███████████▎                    | 1.6 MB 26.3 MB\/s eta 0:00:01\r     |███████████▎                    | 1.6 MB 26.3 MB\/s eta 0:00:01\r     |███████████▍                    | 1.6 MB 26.3 MB\/s eta 0:00:01\r     |███████████▌                    | 1.6 MB 26.3 MB\/s eta 0:00:01\r     |███████████▌                    | 1.6 MB 26.3 MB\/s eta 0:00:01\r     |███████████▋                    | 1.6 MB 26.3 MB\/s eta 0:00:01\r     |███████████▊                    | 1.7 MB 26.3 MB\/s eta 0:00:01\r     |███████████▊                    | 1.7 MB 26.3 MB\/s eta 0:00:01\r     |███████████▉                    | 1.7 MB 26.3 MB\/s eta 0:00:01\r     |████████████                    | 1.7 MB 26.3 MB\/s eta 0:00:01\r     |████████████                    | 1.7 MB 26.3 MB\/s eta 0:00:01\r     |████████████                    | 1.7 MB 26.3 MB\/s eta 0:00:01\r     |████████████                    | 1.7 MB 26.3 MB\/s eta 0:00:01\r     |████████████▏                   | 1.7 MB 26.3 MB\/s eta 0:00:01\r     |████████████▎                   | 1.7 MB 26.3 MB\/s eta 0:00:01\r     |████████████▎                   | 1.8 MB 26.3 MB\/s eta 0:00:01\r     |████████████▍                   | 1.8 MB 26.3 MB\/s eta 0:00:01\r     |████████████▌                   | 1.8 MB 26.3 MB\/s eta 0:00:01\r     |████████████▌                   | 1.8 MB 26.3 MB\/s eta 0:00:01\r     |████████████▋                   | 1.8 MB 26.3 MB\/s eta 0:00:01\r     |████████████▊                   | 1.8 MB 26.3 MB\/s eta 0:00:01\r     |████████████▊                   | 1.8 MB 26.3 MB\/s eta 0:00:01\r     |████████████▉                   | 1.8 MB 26.3 MB\/s eta 0:00:01\r     |█████████████                   | 1.8 MB 26.3 MB\/s eta 0:00:01\r     |█████████████                   | 1.8 MB 26.3 MB\/s eta 0:00:01\r     |█████████████                   | 1.9 MB 26.3 MB\/s eta 0:00:01\r     |█████████████▏                  | 1.9 MB 26.3 MB\/s eta 0:00:01\r     |█████████████▏                  | 1.9 MB 26.3 MB\/s eta 0:00:01\r     |█████████████▎                  | 1.9 MB 26.3 MB\/s eta 0:00:01\r     |█████████████▎                  | 1.9 MB 26.3 MB\/s eta 0:00:01\r     |█████████████▍                  | 1.9 MB 26.3 MB\/s eta 0:00:01\r     |█████████████▌                  | 1.9 MB 26.3 MB\/s eta 0:00:01\r     |█████████████▌                  | 1.9 MB 26.3 MB\/s eta 0:00:01\r     |█████████████▋                  | 1.9 MB 26.3 MB\/s eta 0:00:01\r     |█████████████▊                  | 1.9 MB 26.3 MB\/s eta 0:00:01\r     |█████████████▊                  | 2.0 MB 26.3 MB\/s eta 0:00:01\r     |█████████████▉                  | 2.0 MB 26.3 MB\/s eta 0:00:01\r     |██████████████                  | 2.0 MB 26.3 MB\/s eta 0:00:01\r     |██████████████                  | 2.0 MB 26.3 MB\/s eta 0:00:01\r     |██████████████                  | 2.0 MB 26.3 MB\/s eta 0:00:01\r     |██████████████▏                 | 2.0 MB 26.3 MB\/s eta 0:00:01\r     |██████████████▏                 | 2.0 MB 26.3 MB\/s eta 0:00:01\r     |██████████████▎                 | 2.0 MB 26.3 MB\/s eta 0:00:01\r     |██████████████▍                 | 2.0 MB 26.3 MB\/s eta 0:00:01\r     |██████████████▍                 | 2.0 MB 26.3 MB\/s eta 0:00:01\r     |██████████████▌                 | 2.1 MB 26.3 MB\/s eta 0:00:01\r     |██████████████▋                 | 2.1 MB 26.3 MB\/s eta 0:00:01\r     |██████████████▋                 | 2.1 MB 26.3 MB\/s eta 0:00:01\r     |██████████████▊                 | 2.1 MB 26.3 MB\/s eta 0:00:01\r     |██████████████▊                 | 2.1 MB 26.3 MB\/s eta 0:00:01\r     |██████████████▉                 | 2.1 MB 26.3 MB\/s eta 0:00:01\r     |███████████████                 | 2.1 MB 26.3 MB\/s eta 0:00:01\r     |███████████████                 | 2.1 MB 26.3 MB\/s eta 0:00:01\r     |███████████████                 | 2.1 MB 26.3 MB\/s eta 0:00:01\r     |███████████████▏                | 2.2 MB 26.3 MB\/s eta 0:00:01\r     |███████████████▏                | 2.2 MB 26.3 MB\/s eta 0:00:01\r     |███████████████▎                | 2.2 MB 26.3 MB\/s eta 0:00:01\r     |███████████████▍                | 2.2 MB 26.3 MB\/s eta 0:00:01\r     |███████████████▍                | 2.2 MB 26.3 MB\/s eta 0:00:01\r     |███████████████▌                | 2.2 MB 26.3 MB\/s eta 0:00:01\r     |███████████████▋                | 2.2 MB 26.3 MB\/s eta 0:00:01\r     |███████████████▋                | 2.2 MB 26.3 MB\/s eta 0:00:01\r     |███████████████▊                | 2.2 MB 26.3 MB\/s eta 0:00:01\r     |███████████████▉                | 2.2 MB 26.3 MB\/s eta 0:00:01\r     |███████████████▉                | 2.3 MB 26.3 MB\/s eta 0:00:01\r     |████████████████                | 2.3 MB 26.3 MB\/s eta 0:00:01\r     |████████████████                | 2.3 MB 26.3 MB\/s eta 0:00:01\r     |████████████████                | 2.3 MB 26.3 MB\/s eta 0:00:01\r     |████████████████▏               | 2.3 MB 26.3 MB\/s eta 0:00:01\r     |████████████████▏               | 2.3 MB 26.3 MB\/s eta 0:00:01\r     |████████████████▎               | 2.3 MB 26.3 MB\/s eta 0:00:01\r     |████████████████▍               | 2.3 MB 26.3 MB\/s eta 0:00:01\r     |████████████████▍               | 2.3 MB 26.3 MB\/s eta 0:00:01\r     |████████████████▌               | 2.3 MB 26.3 MB\/s eta 0:00:01\r     |████████████████▋               | 2.4 MB 26.3 MB\/s eta 0:00:01\r     |████████████████▋               | 2.4 MB 26.3 MB\/s eta 0:00:01\r     |████████████████▊               | 2.4 MB 26.3 MB\/s eta 0:00:01\r     |████████████████▉               | 2.4 MB 26.3 MB\/s eta 0:00:01\r     |████████████████▉               | 2.4 MB 26.3 MB\/s eta 0:00:01\r     |█████████████████               | 2.4 MB 26.3 MB\/s eta 0:00:01\r     |█████████████████               | 2.4 MB 26.3 MB\/s eta 0:00:01\r     |█████████████████               | 2.4 MB 26.3 MB\/s eta 0:00:01\r     |█████████████████▏              | 2.4 MB 26.3 MB\/s eta 0:00:01\r     |█████████████████▎              | 2.4 MB 26.3 MB\/s eta 0:00:01\r     |█████████████████▎              | 2.5 MB 26.3 MB\/s eta 0:00:01\r     |█████████████████▍              | 2.5 MB 26.3 MB\/s eta 0:00:01\r     |█████████████████▍              | 2.5 MB 26.3 MB\/s eta 0:00:01\r     |█████████████████▌              | 2.5 MB 26.3 MB\/s eta 0:00:01\r     |█████████████████▋              | 2.5 MB 26.3 MB\/s eta 0:00:01\r     |█████████████████▋              | 2.5 MB 26.3 MB\/s eta 0:00:01\r     |█████████████████▊              | 2.5 MB 26.3 MB\/s eta 0:00:01\r     |█████████████████▉              | 2.5 MB 26.3 MB\/s eta 0:00:01\r     |█████████████████▉              | 2.5 MB 26.3 MB\/s eta 0:00:01\r     |██████████████████              | 2.5 MB 26.3 MB\/s eta 0:00:01\r     |██████████████████              | 2.6 MB 26.3 MB\/s eta 0:00:01\r     |██████████████████              | 2.6 MB 26.3 MB\/s eta 0:00:01\r     |██████████████████▏             | 2.6 MB 26.3 MB\/s eta 0:00:01\r     |██████████████████▎             | 2.6 MB 26.3 MB\/s eta 0:00:01\r     |██████████████████▎             | 2.6 MB 26.3 MB\/s eta 0:00:01\r     |██████████████████▍             | 2.6 MB 26.3 MB\/s eta 0:00:01\r     |██████████████████▌             | 2.6 MB 26.3 MB\/s eta 0:00:01\r     |██████████████████▌             | 2.6 MB 26.3 MB\/s eta 0:00:01\r     |██████████████████▋             | 2.6 MB 26.3 MB\/s eta 0:00:01\r     |██████████████████▋             | 2.7 MB 26.3 MB\/s eta 0:00:01\r     |██████████████████▊             | 2.7 MB 26.3 MB\/s eta 0:00:01\r     |██████████████████▉             | 2.7 MB 26.3 MB\/s eta 0:00:01\r     |██████████████████▉             | 2.7 MB 26.3 MB\/s eta 0:00:01\r     |███████████████████             | 2.7 MB 26.3 MB\/s eta 0:00:01\r     |███████████████████             | 2.7 MB 26.3 MB\/s eta 0:00:01\r     |███████████████████             | 2.7 MB 26.3 MB\/s eta 0:00:01\r     |███████████████████▏            | 2.7 MB 26.3 MB\/s eta 0:00:01\r     |███████████████████▎            | 2.7 MB 26.3 MB\/s eta 0:00:01\r     |███████████████████▎            | 2.7 MB 26.3 MB\/s eta 0:00:01\r     |███████████████████▍            | 2.8 MB 26.3 MB\/s eta 0:00:01\r     |███████████████████▌            | 2.8 MB 26.3 MB\/s eta 0:00:01\r     |███████████████████▌            | 2.8 MB 26.3 MB\/s eta 0:00:01\r     |███████████████████▋            | 2.8 MB 26.3 MB\/s eta 0:00:01\r     |███████████████████▊            | 2.8 MB 26.3 MB\/s eta 0:00:01\r     |███████████████████▊            | 2.8 MB 26.3 MB\/s eta 0:00:01\r     |███████████████████▉            | 2.8 MB 26.3 MB\/s eta 0:00:01\r     |████████████████████            | 2.8 MB 26.3 MB\/s eta 0:00:01\r     |████████████████████            | 2.8 MB 26.3 MB\/s eta 0:00:01\r     |████████████████████            | 2.8 MB 26.3 MB\/s eta 0:00:01\r     |████████████████████            | 2.9 MB 26.3 MB\/s eta 0:00:01\r     |████████████████████▏           | 2.9 MB 26.3 MB\/s eta 0:00:01\r     |████████████████████▎           | 2.9 MB 26.3 MB\/s eta 0:00:01\r     |████████████████████▎           | 2.9 MB 26.3 MB\/s eta 0:00:01\r     |████████████████████▍           | 2.9 MB 26.3 MB\/s eta 0:00:01\r     |████████████████████▌           | 2.9 MB 26.3 MB\/s eta 0:00:01\r     |████████████████████▌           | 2.9 MB 26.3 MB\/s eta 0:00:01\r     |████████████████████▋           | 2.9 MB 26.3 MB\/s eta 0:00:01\r     |████████████████████▊           | 2.9 MB 26.3 MB\/s eta 0:00:01\r     |████████████████████▊           | 2.9 MB 26.3 MB\/s eta 0:00:01\r     |████████████████████▉           | 3.0 MB 26.3 MB\/s eta 0:00:01\r     |█████████████████████           | 3.0 MB 26.3 MB\/s eta 0:00:01\r     |█████████████████████           | 3.0 MB 26.3 MB\/s eta 0:00:01\r     |█████████████████████           | 3.0 MB 26.3 MB\/s eta 0:00:01\r     |█████████████████████▏          | 3.0 MB 26.3 MB\/s eta 0:00:01\r     |█████████████████████▏          | 3.0 MB 26.3 MB\/s eta 0:00:01\r     |█████████████████████▎          | 3.0 MB 26.3 MB\/s eta 0:00:01\r     |█████████████████████▎          | 3.0 MB 26.3 MB\/s eta 0:00:01\r     |█████████████████████▍          | 3.0 MB 26.3 MB\/s eta 0:00:01\r     |█████████████████████▌          | 3.1 MB 26.3 MB\/s eta 0:00:01\r     |█████████████████████▌          | 3.1 MB 26.3 MB\/s eta 0:00:01\r     |█████████████████████▋          | 3.1 MB 26.3 MB\/s eta 0:00:01\r     |█████████████████████▊          | 3.1 MB 26.3 MB\/s eta 0:00:01\r     |█████████████████████▊          | 3.1 MB 26.3 MB\/s eta 0:00:01\r     |█████████████████████▉          | 3.1 MB 26.3 MB\/s eta 0:00:01\r     |██████████████████████          | 3.1 MB 26.3 MB\/s eta 0:00:01\r     |██████████████████████          | 3.1 MB 26.3 MB\/s eta 0:00:01\r     |██████████████████████          | 3.1 MB 26.3 MB\/s eta 0:00:01\r     |██████████████████████▏         | 3.1 MB 26.3 MB\/s eta 0:00:01\r     |██████████████████████▏         | 3.2 MB 26.3 MB\/s eta 0:00:01\r     |██████████████████████▎         | 3.2 MB 26.3 MB\/s eta 0:00:01\r     |██████████████████████▍         | 3.2 MB 26.3 MB\/s eta 0:00:01\r     |██████████████████████▍         | 3.2 MB 26.3 MB\/s eta 0:00:01\r     |██████████████████████▌         | 3.2 MB 26.3 MB\/s eta 0:00:01\r     |██████████████████████▌         | 3.2 MB 26.3 MB\/s eta 0:00:01\r     |██████████████████████▋         | 3.2 MB 26.3 MB\/s eta 0:00:01\r     |██████████████████████▊         | 3.2 MB 26.3 MB\/s eta 0:00:01\r     |██████████████████████▊         | 3.2 MB 26.3 MB\/s eta 0:00:01\r     |██████████████████████▉         | 3.2 MB 26.3 MB\/s eta 0:00:01\r     |███████████████████████         | 3.3 MB 26.3 MB\/s eta 0:00:01\r     |███████████████████████         | 3.3 MB 26.3 MB\/s eta 0:00:01\r     |███████████████████████         | 3.3 MB 26.3 MB\/s eta 0:00:01\r     |███████████████████████▏        | 3.3 MB 26.3 MB\/s eta 0:00:01\r     |███████████████████████▏        | 3.3 MB 26.3 MB\/s eta 0:00:01\r     |███████████████████████▎        | 3.3 MB 26.3 MB\/s eta 0:00:01\r     |███████████████████████▍        | 3.3 MB 26.3 MB\/s eta 0:00:01\r     |███████████████████████▍        | 3.3 MB 26.3 MB\/s eta 0:00:01\r     |███████████████████████▌        | 3.3 MB 26.3 MB\/s eta 0:00:01\r     |███████████████████████▋        | 3.3 MB 26.3 MB\/s eta 0:00:01\r     |███████████████████████▋        | 3.4 MB 26.3 MB\/s eta 0:00:01\r     |███████████████████████▊        | 3.4 MB 26.3 MB\/s eta 0:00:01\r     |███████████████████████▉        | 3.4 MB 26.3 MB\/s eta 0:00:01\r     |███████████████████████▉        | 3.4 MB 26.3 MB\/s eta 0:00:01\r     |████████████████████████        | 3.4 MB 26.3 MB\/s eta 0:00:01\r     |████████████████████████        | 3.4 MB 26.3 MB\/s eta 0:00:01\r     |████████████████████████        | 3.4 MB 26.3 MB\/s eta 0:00:01\r     |████████████████████████▏       | 3.4 MB 26.3 MB\/s eta 0:00:01\r     |████████████████████████▏       | 3.4 MB 26.3 MB\/s eta 0:00:01\r     |████████████████████████▎       | 3.5 MB 26.3 MB\/s eta 0:00:01\r     |████████████████████████▍       | 3.5 MB 26.3 MB\/s eta 0:00:01\r     |████████████████████████▍       | 3.5 MB 26.3 MB\/s eta 0:00:01\r     |████████████████████████▌       | 3.5 MB 26.3 MB\/s eta 0:00:01\r     |████████████████████████▋       | 3.5 MB 26.3 MB\/s eta 0:00:01\r     |████████████████████████▋       | 3.5 MB 26.3 MB\/s eta 0:00:01\r     |████████████████████████▊       | 3.5 MB 26.3 MB\/s eta 0:00:01\r     |████████████████████████▉       | 3.5 MB 26.3 MB\/s eta 0:00:01\r     |████████████████████████▉       | 3.5 MB 26.3 MB\/s eta 0:00:01\r     |█████████████████████████       | 3.5 MB 26.3 MB\/s eta 0:00:01\r     |█████████████████████████       | 3.6 MB 26.3 MB\/s eta 0:00:01\r     |█████████████████████████       | 3.6 MB 26.3 MB\/s eta 0:00:01\r     |█████████████████████████▏      | 3.6 MB 26.3 MB\/s eta 0:00:01\r     |█████████████████████████▏      | 3.6 MB 26.3 MB\/s eta 0:00:01\r     |█████████████████████████▎      | 3.6 MB 26.3 MB\/s eta 0:00:01\r     |█████████████████████████▍      | 3.6 MB 26.3 MB\/s eta 0:00:01\r     |█████████████████████████▍      | 3.6 MB 26.3 MB\/s eta 0:00:01\r     |█████████████████████████▌      | 3.6 MB 26.3 MB\/s eta 0:00:01\r     |█████████████████████████▋      | 3.6 MB 26.3 MB\/s eta 0:00:01\r     |█████████████████████████▋      | 3.6 MB 26.3 MB\/s eta 0:00:01\r     |█████████████████████████▊      | 3.7 MB 26.3 MB\/s eta 0:00:01\r     |█████████████████████████▉      | 3.7 MB 26.3 MB\/s eta 0:00:01\r     |█████████████████████████▉      | 3.7 MB 26.3 MB\/s eta 0:00:01\r     |██████████████████████████      | 3.7 MB 26.3 MB\/s eta 0:00:01\r     |██████████████████████████      | 3.7 MB 26.3 MB\/s eta 0:00:01\r     |██████████████████████████      | 3.7 MB 26.3 MB\/s eta 0:00:01\r     |██████████████████████████▏     | 3.7 MB 26.3 MB\/s eta 0:00:01\r     |██████████████████████████▎     | 3.7 MB 26.3 MB\/s eta 0:00:01\r     |██████████████████████████▎     | 3.7 MB 26.3 MB\/s eta 0:00:01\r     |██████████████████████████▍     | 3.7 MB 26.3 MB\/s eta 0:00:01\r     |██████████████████████████▌     | 3.8 MB 26.3 MB\/s eta 0:00:01\r     |██████████████████████████▌     | 3.8 MB 26.3 MB\/s eta 0:00:01\r     |██████████████████████████▋     | 3.8 MB 26.3 MB\/s eta 0:00:01\r     |██████████████████████████▋     | 3.8 MB 26.3 MB\/s eta 0:00:01\r     |██████████████████████████▊     | 3.8 MB 26.3 MB\/s eta 0:00:01\r     |██████████████████████████▉     | 3.8 MB 26.3 MB\/s eta 0:00:01\r     |██████████████████████████▉     | 3.8 MB 26.3 MB\/s eta 0:00:01\r     |███████████████████████████     | 3.8 MB 26.3 MB\/s eta 0:00:01\r     |███████████████████████████     | 3.8 MB 26.3 MB\/s eta 0:00:01\r     |███████████████████████████     | 3.9 MB 26.3 MB\/s eta 0:00:01\r     |███████████████████████████▏    | 3.9 MB 26.3 MB\/s eta 0:00:01\r     |███████████████████████████▎    | 3.9 MB 26.3 MB\/s eta 0:00:01\r     |███████████████████████████▎    | 3.9 MB 26.3 MB\/s eta 0:00:01\r     |███████████████████████████▍    | 3.9 MB 26.3 MB\/s eta 0:00:01\r     |███████████████████████████▌    | 3.9 MB 26.3 MB\/s eta 0:00:01\r     |███████████████████████████▌    | 3.9 MB 26.3 MB\/s eta 0:00:01\r     |███████████████████████████▋    | 3.9 MB 26.3 MB\/s eta 0:00:01\r     |███████████████████████████▊    | 3.9 MB 26.3 MB\/s eta 0:00:01\r     |███████████████████████████▊    | 3.9 MB 26.3 MB\/s eta 0:00:01\r     |███████████████████████████▉    | 4.0 MB 26.3 MB\/s eta 0:00:01\r     |███████████████████████████▉    | 4.0 MB 26.3 MB\/s eta 0:00:01\r     |████████████████████████████    | 4.0 MB 26.3 MB\/s eta 0:00:01\r     |████████████████████████████    | 4.0 MB 26.3 MB\/s eta 0:00:01\r     |████████████████████████████    | 4.0 MB 26.3 MB\/s eta 0:00:01\r     |████████████████████████████▏   | 4.0 MB 26.3 MB\/s eta 0:00:01\r     |████████████████████████████▎   | 4.0 MB 26.3 MB\/s eta 0:00:01\r     |████████████████████████████▎   | 4.0 MB 26.3 MB\/s eta 0:00:01\r     |████████████████████████████▍   | 4.0 MB 26.3 MB\/s eta 0:00:01\r     |████████████████████████████▌   | 4.0 MB 26.3 MB\/s eta 0:00:01\r     |████████████████████████████▌   | 4.1 MB 26.3 MB\/s eta 0:00:01\r     |████████████████████████████▋   | 4.1 MB 26.3 MB\/s eta 0:00:01\r     |████████████████████████████▊   | 4.1 MB 26.3 MB\/s eta 0:00:01\r     |████████████████████████████▊   | 4.1 MB 26.3 MB\/s eta 0:00:01\r     |████████████████████████████▉   | 4.1 MB 26.3 MB\/s eta 0:00:01\r     |█████████████████████████████   | 4.1 MB 26.3 MB\/s eta 0:00:01\r     |█████████████████████████████   | 4.1 MB 26.3 MB\/s eta 0:00:01\r     |█████████████████████████████   | 4.1 MB 26.3 MB\/s eta 0:00:01\r     |█████████████████████████████▏  | 4.1 MB 26.3 MB\/s eta 0:00:01\r     |█████████████████████████████▏  | 4.1 MB 26.3 MB\/s eta 0:00:01\r     |█████████████████████████████▎  | 4.2 MB 26.3 MB\/s eta 0:00:01\r     |█████████████████████████████▎  | 4.2 MB 26.3 MB\/s eta 0:00:01\r     |█████████████████████████████▍  | 4.2 MB 26.3 MB\/s eta 0:00:01\r     |█████████████████████████████▌  | 4.2 MB 26.3 MB\/s eta 0:00:01\r     |█████████████████████████████▌  | 4.2 MB 26.3 MB\/s eta 0:00:01\r     |█████████████████████████████▋  | 4.2 MB 26.3 MB\/s eta 0:00:01\r     |█████████████████████████████▊  | 4.2 MB 26.3 MB\/s eta 0:00:01\r     |█████████████████████████████▊  | 4.2 MB 26.3 MB\/s eta 0:00:01\r     |█████████████████████████████▉  | 4.2 MB 26.3 MB\/s eta 0:00:01\r     |██████████████████████████████  | 4.2 MB 26.3 MB\/s eta 0:00:01\r     |██████████████████████████████  | 4.3 MB 26.3 MB\/s eta 0:00:01\r     |██████████████████████████████  | 4.3 MB 26.3 MB\/s eta 0:00:01\r     |██████████████████████████████▏ | 4.3 MB 26.3 MB\/s eta 0:00:01\r     |██████████████████████████████▏ | 4.3 MB 26.3 MB\/s eta 0:00:01\r     |██████████████████████████████▎ | 4.3 MB 26.3 MB\/s eta 0:00:01\r     |██████████████████████████████▍ | 4.3 MB 26.3 MB\/s eta 0:00:01\r     |██████████████████████████████▍ | 4.3 MB 26.3 MB\/s eta 0:00:01\r     |██████████████████████████████▌ | 4.3 MB 26.3 MB\/s eta 0:00:01\r     |██████████████████████████████▌ | 4.3 MB 26.3 MB\/s eta 0:00:01\r     |██████████████████████████████▋ | 4.4 MB 26.3 MB\/s eta 0:00:01\r     |██████████████████████████████▊ | 4.4 MB 26.3 MB\/s eta 0:00:01\r     |██████████████████████████████▊ | 4.4 MB 26.3 MB\/s eta 0:00:01\r     |██████████████████████████████▉ | 4.4 MB 26.3 MB\/s eta 0:00:01\r     |███████████████████████████████ | 4.4 MB 26.3 MB\/s eta 0:00:01\r     |███████████████████████████████ | 4.4 MB 26.3 MB\/s eta 0:00:01\r     |███████████████████████████████ | 4.4 MB 26.3 MB\/s eta 0:00:01\r     |███████████████████████████████▏| 4.4 MB 26.3 MB\/s eta 0:00:01\r     |███████████████████████████████▏| 4.4 MB 26.3 MB\/s eta 0:00:01\r     |███████████████████████████████▎| 4.4 MB 26.3 MB\/s eta 0:00:01\r     |███████████████████████████████▍| 4.5 MB 26.3 MB\/s eta 0:00:01\r     |███████████████████████████████▍| 4.5 MB 26.3 MB\/s eta 0:00:01\r     |███████████████████████████████▌| 4.5 MB 26.3 MB\/s eta 0:00:01\r     |███████████████████████████████▋| 4.5 MB 26.3 MB\/s eta 0:00:01\r     |███████████████████████████████▋| 4.5 MB 26.3 MB\/s eta 0:00:01\r     |███████████████████████████████▊| 4.5 MB 26.3 MB\/s eta 0:00:01\r     |███████████████████████████████▉| 4.5 MB 26.3 MB\/s eta 0:00:01\r     |███████████████████████████████▉| 4.5 MB 26.3 MB\/s eta 0:00:01\r     |████████████████████████████████| 4.5 MB 26.3 MB\/s eta 0:00:01\r     |████████████████████████████████| 4.5 MB 26.3 MB\/s eta 0:00:01\r     |████████████████████████████████| 4.5 MB 26.3 MB\/s            \r\n",
      "\u001b[?25hCollecting geojson<3,>=2.3.0\r\n",
      "  Downloading geojson-2.5.0-py2.py3-none-any.whl (14 kB)\r\n",
      "Requirement already satisfied: requests<3,>=2.20.0 in \/opt\/python\/envs\/default\/lib\/python3.8\/site-packages (from pyowm) (2.26.0)\r\n",
      "Collecting PySocks<2,>=1.7.1\r\n",
      "  Downloading PySocks-1.7.1-py3-none-any.whl (16 kB)\r\n",
      "Requirement already satisfied: charset-normalizer~=2.0.0 in \/opt\/python\/envs\/default\/lib\/python3.8\/site-packages (from requests<3,>=2.20.0->pyowm) (2.0.12)\r\n",
      "Requirement already satisfied: urllib3<1.27,>=1.21.1 in \/opt\/python\/envs\/default\/lib\/python3.8\/site-packages (from requests<3,>=2.20.0->pyowm) (1.26.9)\r\n",
      "Requirement already satisfied: idna<4,>=2.5 in \/opt\/python\/envs\/default\/lib\/python3.8\/site-packages (from requests<3,>=2.20.0->pyowm) (3.3)\r\n",
      "Requirement already satisfied: certifi>=2017.4.17 in \/opt\/python\/envs\/default\/lib\/python3.8\/site-packages (from requests<3,>=2.20.0->pyowm) (2021.10.8)\r\n",
      "Installing collected packages: PySocks, geojson, pyowm\r\n",
      "Successfully installed PySocks-1.7.1 geojson-2.5.0 pyowm-3.3.0\r\n",
      "\u001b[33mWARNING: You are using pip version 21.3.1; however, version 22.0.4 is available.\r\n",
      "You should consider upgrading via the '\/opt\/python\/envs\/default\/bin\/python -m pip install --upgrade pip' command.\u001b[0m\r\n",
      "Collecting imdbpy\r\n",
      "  Downloading IMDbPY-2021.4.18-py3-none-any.whl (298 kB)\r\n",
      "\u001b[?25l\r\r     |█                               | 10 kB 24.1 MB\/s eta 0:00:01\r     |██▏                             | 20 kB 28.5 MB\/s eta 0:00:01\r     |███▎                            | 30 kB 32.0 MB\/s eta 0:00:01\r     |████▍                           | 40 kB 35.4 MB\/s eta 0:00:01\r     |█████▌                          | 51 kB 16.4 MB\/s eta 0:00:01\r     |██████▋                         | 61 kB 18.7 MB\/s eta 0:00:01\r     |███████▊                        | 71 kB 20.7 MB\/s eta 0:00:01\r     |████████▉                       | 81 kB 22.6 MB\/s eta 0:00:01\r     |█████████▉                      | 92 kB 24.6 MB\/s eta 0:00:01\r     |███████████                     | 102 kB 26.3 MB\/s eta 0:00:01\r     |████████████                    | 112 kB 26.3 MB\/s eta 0:00:01\r     |█████████████▏                  | 122 kB 26.3 MB\/s eta 0:00:01\r     |██████████████▎                 | 133 kB 26.3 MB\/s eta 0:00:01\r     |███████████████▍                | 143 kB 26.3 MB\/s eta 0:00:01\r     |████████████████▌               | 153 kB 26.3 MB\/s eta 0:00:01\r     |█████████████████▋              | 163 kB 26.3 MB\/s eta 0:00:01\r     |██████████████████▋             | 174 kB 26.3 MB\/s eta 0:00:01\r     |███████████████████▊            | 184 kB 26.3 MB\/s eta 0:00:01\r     |████████████████████▉           | 194 kB 26.3 MB\/s eta 0:00:01\r     |██████████████████████          | 204 kB 26.3 MB\/s eta 0:00:01\r     |███████████████████████         | 215 kB 26.3 MB\/s eta 0:00:01\r     |████████████████████████▏       | 225 kB 26.3 MB\/s eta 0:00:01\r     |█████████████████████████▎      | 235 kB 26.3 MB\/s eta 0:00:01\r     |██████████████████████████▍     | 245 kB 26.3 MB\/s eta 0:00:01\r     |███████████████████████████▍    | 256 kB 26.3 MB\/s eta 0:00:01\r     |████████████████████████████▌   | 266 kB 26.3 MB\/s eta 0:00:01\r     |█████████████████████████████▋  | 276 kB 26.3 MB\/s eta 0:00:01\r     |██████████████████████████████▊ | 286 kB 26.3 MB\/s eta 0:00:01\r     |███████████████████████████████▉| 296 kB 26.3 MB\/s eta 0:00:01\r     |████████████████████████████████| 298 kB 26.3 MB\/s            \r\n",
      "\u001b[?25hRequirement already satisfied: SQLAlchemy in \/opt\/python\/envs\/default\/lib\/python3.8\/site-packages (from imdbpy) (1.4.26)\r\n",
      "Requirement already satisfied: lxml in \/opt\/python\/envs\/default\/lib\/python3.8\/site-packages (from imdbpy) (4.7.1)\r\n",
      "Requirement already satisfied: greenlet!=0.4.17 in \/opt\/python\/envs\/default\/lib\/python3.8\/site-packages (from SQLAlchemy->imdbpy) (1.1.2)\r\n",
      "Installing collected packages: imdbpy\r\n",
      "Successfully installed imdbpy-2021.4.18\r\n",
      "\u001b[33mWARNING: You are using pip version 21.3.1; however, version 22.0.4 is available.\r\n",
      "You should consider upgrading via the '\/opt\/python\/envs\/default\/bin\/python -m pip install --upgrade pip' command.\u001b[0m\r\n",
      "Collecting snips_nlu_en==0.2.3\r\n",
      "  Downloading https:\/\/github.com\/snipsco\/snips-nlu-language-resources\/releases\/download\/snips_nlu_en-0.2.3\/snips_nlu_en-0.2.3.tar.gz (1.3 MB)\r\n",
      "\u001b[?25l\r\r     |▎                               | 10 kB 6.6 MB\/s eta 0:00:01\r     |▌                               | 20 kB 6.1 MB\/s eta 0:00:01\r     |▊                               | 30 kB 5.1 MB\/s eta 0:00:01\r     |█                               | 40 kB 5.3 MB\/s eta 0:00:01\r     |█▎                              | 51 kB 3.2 MB\/s eta 0:00:01\r     |█▌                              | 61 kB 3.9 MB\/s eta 0:00:01\r     |█▊                              | 71 kB 4.1 MB\/s eta 0:00:01\r     |██                              | 81 kB 4.6 MB\/s eta 0:00:01\r     |██▎                             | 92 kB 3.9 MB\/s eta 0:00:01\r     |██▌                             | 102 kB 4.0 MB\/s eta 0:00:01\r     |██▉                             | 112 kB 4.0 MB\/s eta 0:00:01\r     |███                             | 122 kB 4.0 MB\/s eta 0:00:01\r     |███▎                            | 133 kB 4.0 MB\/s eta 0:00:01\r     |███▌                            | 143 kB 4.0 MB\/s eta 0:00:01\r     |███▉                            | 153 kB 4.0 MB\/s eta 0:00:01\r     |████                            | 163 kB 4.0 MB\/s eta 0:00:01\r     |████▎                           | 174 kB 4.0 MB\/s eta 0:00:01\r     |████▋                           | 184 kB 4.0 MB\/s eta 0:00:01\r     |████▉                           | 194 kB 4.0 MB\/s eta 0:00:01\r     |█████                           | 204 kB 4.0 MB\/s eta 0:00:01\r     |█████▎                          | 215 kB 4.0 MB\/s eta 0:00:01\r     |█████▋                          | 225 kB 4.0 MB\/s eta 0:00:01\r     |█████▉                          | 235 kB 4.0 MB\/s eta 0:00:01\r     |██████                          | 245 kB 4.0 MB\/s eta 0:00:01\r     |██████▍                         | 256 kB 4.0 MB\/s eta 0:00:01\r     |██████▋                         | 266 kB 4.0 MB\/s eta 0:00:01\r     |██████▉                         | 276 kB 4.0 MB\/s eta 0:00:01\r     |███████                         | 286 kB 4.0 MB\/s eta 0:00:01\r     |███████▍                        | 296 kB 4.0 MB\/s eta 0:00:01\r     |███████▋                        | 307 kB 4.0 MB\/s eta 0:00:01\r     |███████▉                        | 317 kB 4.0 MB\/s eta 0:00:01\r     |████████▏                       | 327 kB 4.0 MB\/s eta 0:00:01\r     |████████▍                       | 337 kB 4.0 MB\/s eta 0:00:01\r     |████████▋                       | 348 kB 4.0 MB\/s eta 0:00:01\r     |████████▉                       | 358 kB 4.0 MB\/s eta 0:00:01\r     |█████████▏                      | 368 kB 4.0 MB\/s eta 0:00:01\r     |█████████▍                      | 378 kB 4.0 MB\/s eta 0:00:01\r     |█████████▋                      | 389 kB 4.0 MB\/s eta 0:00:01\r     |██████████                      | 399 kB 4.0 MB\/s eta 0:00:01\r     |██████████▏                     | 409 kB 4.0 MB\/s eta 0:00:01\r     |██████████▍                     | 419 kB 4.0 MB\/s eta 0:00:01\r     |██████████▋                     | 430 kB 4.0 MB\/s eta 0:00:01\r     |███████████                     | 440 kB 4.0 MB\/s eta 0:00:01\r     |███████████▏                    | 450 kB 4.0 MB\/s eta 0:00:01\r     |███████████▍                    | 460 kB 4.0 MB\/s eta 0:00:01\r     |███████████▋                    | 471 kB 4.0 MB\/s eta 0:00:01\r     |████████████                    | 481 kB 4.0 MB\/s eta 0:00:01\r     |████████████▏                   | 491 kB 4.0 MB\/s eta 0:00:01\r     |████████████▍                   | 501 kB 4.0 MB\/s eta 0:00:01\r     |████████████▊                   | 512 kB 4.0 MB\/s eta 0:00:01\r     |█████████████                   | 522 kB 4.0 MB\/s eta 0:00:01\r     |█████████████▏                  | 532 kB 4.0 MB\/s eta 0:00:01\r     |█████████████▍                  | 542 kB 4.0 MB\/s eta 0:00:01\r     |█████████████▊                  | 552 kB 4.0 MB\/s eta 0:00:01\r     |██████████████                  | 563 kB 4.0 MB\/s eta 0:00:01\r     |██████████████▏                 | 573 kB 4.0 MB\/s eta 0:00:01\r     |██████████████▌                 | 583 kB 4.0 MB\/s eta 0:00:01\r     |██████████████▊                 | 593 kB 4.0 MB\/s eta 0:00:01\r     |███████████████                 | 604 kB 4.0 MB\/s eta 0:00:01\r     |███████████████▏                | 614 kB 4.0 MB\/s eta 0:00:01\r     |███████████████▌                | 624 kB 4.0 MB\/s eta 0:00:01\r     |███████████████▊                | 634 kB 4.0 MB\/s eta 0:00:01\r     |████████████████                | 645 kB 4.0 MB\/s eta 0:00:01\r     |████████████████▎               | 655 kB 4.0 MB\/s eta 0:00:01\r     |████████████████▌               | 665 kB 4.0 MB\/s eta 0:00:01\r     |████████████████▊               | 675 kB 4.0 MB\/s eta 0:00:01\r     |█████████████████               | 686 kB 4.0 MB\/s eta 0:00:01\r     |█████████████████▎              | 696 kB 4.0 MB\/s eta 0:00:01\r     |█████████████████▌              | 706 kB 4.0 MB\/s eta 0:00:01\r     |█████████████████▊              | 716 kB 4.0 MB\/s eta 0:00:01\r     |██████████████████              | 727 kB 4.0 MB\/s eta 0:00:01\r     |██████████████████▎             | 737 kB 4.0 MB\/s eta 0:00:01\r     |██████████████████▌             | 747 kB 4.0 MB\/s eta 0:00:01\r     |██████████████████▊             | 757 kB 4.0 MB\/s eta 0:00:01\r     |███████████████████             | 768 kB 4.0 MB\/s eta 0:00:01\r     |███████████████████▎            | 778 kB 4.0 MB\/s eta 0:00:01\r     |███████████████████▌            | 788 kB 4.0 MB\/s eta 0:00:01\r     |███████████████████▉            | 798 kB 4.0 MB\/s eta 0:00:01\r     |████████████████████            | 808 kB 4.0 MB\/s eta 0:00:01\r     |████████████████████▎           | 819 kB 4.0 MB\/s eta 0:00:01\r     |████████████████████▌           | 829 kB 4.0 MB\/s eta 0:00:01\r     |████████████████████▉           | 839 kB 4.0 MB\/s eta 0:00:01\r     |█████████████████████           | 849 kB 4.0 MB\/s eta 0:00:01\r     |█████████████████████▎          | 860 kB 4.0 MB\/s eta 0:00:01\r     |█████████████████████▋          | 870 kB 4.0 MB\/s eta 0:00:01\r     |█████████████████████▉          | 880 kB 4.0 MB\/s eta 0:00:01\r     |██████████████████████          | 890 kB 4.0 MB\/s eta 0:00:01\r     |██████████████████████▎         | 901 kB 4.0 MB\/s eta 0:00:01\r     |██████████████████████▋         | 911 kB 4.0 MB\/s eta 0:00:01\r     |██████████████████████▉         | 921 kB 4.0 MB\/s eta 0:00:01\r     |███████████████████████         | 931 kB 4.0 MB\/s eta 0:00:01\r     |███████████████████████▎        | 942 kB 4.0 MB\/s eta 0:00:01\r     |███████████████████████▋        | 952 kB 4.0 MB\/s eta 0:00:01\r     |███████████████████████▉        | 962 kB 4.0 MB\/s eta 0:00:01\r     |████████████████████████        | 972 kB 4.0 MB\/s eta 0:00:01\r     |████████████████████████▍       | 983 kB 4.0 MB\/s eta 0:00:01\r     |████████████████████████▋       | 993 kB 4.0 MB\/s eta 0:00:01\r     |████████████████████████▉       | 1.0 MB 4.0 MB\/s eta 0:00:01\r     |█████████████████████████       | 1.0 MB 4.0 MB\/s eta 0:00:01\r     |█████████████████████████▍      | 1.0 MB 4.0 MB\/s eta 0:00:01\r     |█████████████████████████▋      | 1.0 MB 4.0 MB\/s eta 0:00:01\r     |█████████████████████████▉      | 1.0 MB 4.0 MB\/s eta 0:00:01\r     |██████████████████████████▏     | 1.1 MB 4.0 MB\/s eta 0:00:01\r     |██████████████████████████▍     | 1.1 MB 4.0 MB\/s eta 0:00:01\r     |██████████████████████████▋     | 1.1 MB 4.0 MB\/s eta 0:00:01\r     |██████████████████████████▉     | 1.1 MB 4.0 MB\/s eta 0:00:01\r     |███████████████████████████▏    | 1.1 MB 4.0 MB\/s eta 0:00:01\r     |███████████████████████████▍    | 1.1 MB 4.0 MB\/s eta 0:00:01\r     |███████████████████████████▋    | 1.1 MB 4.0 MB\/s eta 0:00:01\r     |████████████████████████████    | 1.1 MB 4.0 MB\/s eta 0:00:01\r     |████████████████████████████▏   | 1.1 MB 4.0 MB\/s eta 0:00:01\r     |████████████████████████████▍   | 1.1 MB 4.0 MB\/s eta 0:00:01\r     |████████████████████████████▋   | 1.2 MB 4.0 MB\/s eta 0:00:01\r     |█████████████████████████████   | 1.2 MB 4.0 MB\/s eta 0:00:01\r     |█████████████████████████████▏  | 1.2 MB 4.0 MB\/s eta 0:00:01\r     |█████████████████████████████▍  | 1.2 MB 4.0 MB\/s eta 0:00:01\r     |█████████████████████████████▊  | 1.2 MB 4.0 MB\/s eta 0:00:01\r     |██████████████████████████████  | 1.2 MB 4.0 MB\/s eta 0:00:01\r     |██████████████████████████████▏ | 1.2 MB 4.0 MB\/s eta 0:00:01\r     |██████████████████████████████▍ | 1.2 MB 4.0 MB\/s eta 0:00:01\r     |██████████████████████████████▊ | 1.2 MB 4.0 MB\/s eta 0:00:01\r     |███████████████████████████████ | 1.2 MB 4.0 MB\/s eta 0:00:01\r     |███████████████████████████████▏| 1.3 MB 4.0 MB\/s eta 0:00:01\r     |███████████████████████████████▌| 1.3 MB 4.0 MB\/s eta 0:00:01\r     |███████████████████████████████▊| 1.3 MB 4.0 MB\/s eta 0:00:01\r     |████████████████████████████████| 1.3 MB 4.0 MB\/s eta 0:00:01\r     |████████████████████████████████| 1.3 MB 4.0 MB\/s            \r\n",
      "\u001b[?25h  Preparing metadata (setup.py) ... \u001b[?25l-\b \bdone\r\n",
      "\u001b[?25hBuilding wheels for collected packages: snips-nlu-en\r\n",
      "  Building wheel for snips-nlu-en (setup.py) ... \u001b[?25l-\b \b\\\b \b|\b \bdone\r\n",
      "\u001b[?25h  Created wheel for snips-nlu-en: filename=snips_nlu_en-0.2.3-py3-none-any.whl size=1297478 sha256=6d4e1125477c5b1c99bef422d2042a0dad8aa97e05c314ca33f3b73b0c842252\r\n",
      "  Stored in directory: \/tmp\/pip-ephem-wheel-cache-p2q7of2y\/wheels\/77\/e5\/27\/a2c7ae7b04c836360914a1ac909339da898cb66444e709f650\r\n",
      "Successfully built snips-nlu-en\r\n",
      "Installing collected packages: snips-nlu-en\r\n",
      "Successfully installed snips-nlu-en-0.2.3\r\n",
      "\u001b[33mWARNING: You are using pip version 21.3.1; however, version 22.0.4 is available.\r\n",
      "You should consider upgrading via the '\/opt\/python\/envs\/default\/bin\/python -m pip install --upgrade pip' command.\u001b[0m\r\n",
      "\r\n",
      "\u001b[92mLinking successful\u001b[0m\r\n",
      "\/opt\/python\/envs\/default\/lib\/python3.8\/site-packages\/snips_nlu_en\/snips_nlu_en-0.2.3 --> \/opt\/python\/envs\/default\/lib\/python3.8\/site-packages\/snips_nlu\/data\/en\r\n",
      "\r\n",
      "Cloning into 'workshop_utils'...\r\n",
      "remote: Enumerating objects: 43, done.\u001b[K\r\n",
      "remote: Counting objects:   2% (1\/43)\u001b[K\rremote: Counting objects:   4% (2\/43)\u001b[K\rremote: Counting objects:   6% (3\/43)\u001b[K\rremote: Counting objects:   9% (4\/43)\u001b[K\rremote: Counting objects:  11% (5\/43)\u001b[K\rremote: Counting objects:  13% (6\/43)\u001b[K\rremote: Counting objects:  16% (7\/43)\u001b[K\rremote: Counting objects:  18% (8\/43)\u001b[K\rremote: Counting objects:  20% (9\/43)\u001b[K\rremote: Counting objects:  23% (10\/43)\u001b[K\rremote: Counting objects:  25% (11\/43)\u001b[K\rremote: Counting objects:  27% (12\/43)\u001b[K\rremote: Counting objects:  30% (13\/43)\u001b[K\rremote: Counting objects:  32% (14\/43)\u001b[K\rremote: Counting objects:  34% (15\/43)\u001b[K\rremote: Counting objects:  37% (16\/43)\u001b[K\rremote: Counting objects:  39% (17\/43)\u001b[K\rremote: Counting objects:  41% (18\/43)\u001b[K\rremote: Counting objects:  44% (19\/43)\u001b[K\rremote: Counting objects:  46% (20\/43)\u001b[K\rremote: Counting objects:  48% (21\/43)\u001b[K\rremote: Counting objects:  51% (22\/43)\u001b[K\rremote: Counting objects:  53% (23\/43)\u001b[K\rremote: Counting objects:  55% (24\/43)\u001b[K\rremote: Counting objects:  58% (25\/43)\u001b[K\rremote: Counting objects:  60% (26\/43)\u001b[K\rremote: Counting objects:  62% (27\/43)\u001b[K\rremote: Counting objects:  65% (28\/43)\u001b[K\rremote: Counting objects:  67% (29\/43)\u001b[K\rremote: Counting objects:  69% (30\/43)\u001b[K\rremote: Counting objects:  72% (31\/43)\u001b[K\rremote: Counting objects:  74% (32\/43)\u001b[K\rremote: Counting objects:  76% (33\/43)\u001b[K\rremote: Counting objects:  79% (34\/43)\u001b[K\rremote: Counting objects:  81% (35\/43)\u001b[K\rremote: Counting objects:  83% (36\/43)\u001b[K\rremote: Counting objects:  86% (37\/43)\u001b[K\rremote: Counting objects:  88% (38\/43)\u001b[K\rremote: Counting objects:  90% (39\/43)\u001b[K\rremote: Counting objects:  93% (40\/43)\u001b[K\rremote: Counting objects:  95% (41\/43)\u001b[K\rremote: Counting objects:  97% (42\/43)\u001b[K\rremote: Counting objects: 100% (43\/43)\u001b[K\rremote: Counting objects: 100% (43\/43), done.\u001b[K\r\n",
      "remote: Compressing objects:   3% (1\/33)\u001b[K\rremote: Compressing objects:   6% (2\/33)\u001b[K\rremote: Compressing objects:   9% (3\/33)\u001b[K\rremote: Compressing objects:  12% (4\/33)\u001b[K\rremote: Compressing objects:  15% (5\/33)\u001b[K\rremote: Compressing objects:  18% (6\/33)\u001b[K\rremote: Compressing objects:  21% (7\/33)\u001b[K\rremote: Compressing objects:  24% (8\/33)\u001b[K\rremote: Compressing objects:  27% (9\/33)\u001b[K\rremote: Compressing objects:  30% (10\/33)\u001b[K\rremote: Compressing objects:  33% (11\/33)\u001b[K\rremote: Compressing objects:  36% (12\/33)\u001b[K\rremote: Compressing objects:  39% (13\/33)\u001b[K\rremote: Compressing objects:  42% (14\/33)\u001b[K\rremote: Compressing objects:  45% (15\/33)\u001b[K\rremote: Compressing objects:  48% (16\/33)\u001b[K\rremote: Compressing objects:  51% (17\/33)\u001b[K\rremote: Compressing objects:  54% (18\/33)\u001b[K\rremote: Compressing objects:  57% (19\/33)\u001b[K\rremote: Compressing objects:  60% (20\/33)\u001b[K\rremote: Compressing objects:  63% (21\/33)\u001b[K\rremote: Compressing objects:  66% (22\/33)\u001b[K\rremote: Compressing objects:  69% (23\/33)\u001b[K\rremote: Compressing objects:  72% (24\/33)\u001b[K\rremote: Compressing objects:  75% (25\/33)\u001b[K\rremote: Compressing objects:  78% (26\/33)\u001b[K\rremote: Compressing objects:  81% (27\/33)\u001b[K\rremote: Compressing objects:  84% (28\/33)\u001b[K\rremote: Compressing objects:  87% (29\/33)\u001b[K\rremote: Compressing objects:  90% (30\/33)\u001b[K\rremote: Compressing objects:  93% (31\/33)\u001b[K\rremote: Compressing objects:  96% (32\/33)\u001b[K\rremote: Compressing objects: 100% (33\/33)\u001b[K\rremote: Compressing objects: 100% (33\/33), done.\u001b[K\r\n",
      "remote: Total 43 (delta 14), reused 37 (delta 9), pack-reused 0\u001b[K\r\n",
      "Unpacking objects:   2% (1\/43)\rUnpacking objects:   4% (2\/43)\rUnpacking objects:   6% (3\/43)\rUnpacking objects:   9% (4\/43)\rUnpacking objects:  11% (5\/43)\rUnpacking objects:  13% (6\/43)\rUnpacking objects:  16% (7\/43)\rUnpacking objects:  18% (8\/43)\rUnpacking objects:  20% (9\/43)\rUnpacking objects:  23% (10\/43)\rUnpacking objects:  25% (11\/43)\rUnpacking objects:  27% (12\/43)\rUnpacking objects:  30% (13\/43)\rUnpacking objects:  32% (14\/43)\rUnpacking objects:  34% (15\/43)\rUnpacking objects:  37% (16\/43)\rUnpacking objects:  39% (17\/43)\rUnpacking objects:  41% (18\/43)\rUnpacking objects:  44% (19\/43)\rUnpacking objects:  46% (20\/43)\rUnpacking objects:  48% (21\/43)\rUnpacking objects:  51% (22\/43)\rUnpacking objects:  53% (23\/43)\rUnpacking objects:  55% (24\/43)\rUnpacking objects:  58% (25\/43)\rUnpacking objects:  60% (26\/43)\rUnpacking objects:  62% (27\/43)\rUnpacking objects:  65% (28\/43)\rUnpacking objects:  67% (29\/43)\rUnpacking objects:  69% (30\/43)\rUnpacking objects:  72% (31\/43)\rUnpacking objects:  74% (32\/43)\rUnpacking objects:  76% (33\/43)\rUnpacking objects:  79% (34\/43)\rUnpacking objects:  81% (35\/43)\rUnpacking objects:  83% (36\/43)\rUnpacking objects:  86% (37\/43)\rUnpacking objects:  88% (38\/43)\rUnpacking objects:  90% (39\/43)\rUnpacking objects:  93% (40\/43)\rUnpacking objects:  95% (41\/43)\rUnpacking objects:  97% (42\/43)\rUnpacking objects: 100% (43\/43)\rUnpacking objects: 100% (43\/43), 7.96 KiB | 24.00 KiB\/s, done.\r\n"
     ],
     "output_type":"stream"
    }
   ],
   "metadata":{
    "datalore":{
     "type":"CODE",
     "hide_input_from_viewers":false,
     "hide_output_from_viewers":false
    }
   }
  },
  {
   "cell_type":"markdown",
   "source":[
    "## 2.1.3 Convert the dataset to json format\n",
    "\n",
    "Run the next cell to convert the dataset to json format to train the NLU Engine"
   ],
   "attachments":{
    
   },
   "metadata":{
    "datalore":{
     "type":"MD",
     "hide_input_from_viewers":false,
     "hide_output_from_viewers":false
    }
   }
  },
  {
   "cell_type":"code",
   "source":[
    "# Run this cell\n",
    "\n",
    "!snips-nlu generate-dataset en workshop_utils\/dataset_complete.yaml > dataset.json"
   ],
   "execution_count":14,
   "outputs":[
    
   ],
   "metadata":{
    "datalore":{
     "type":"CODE",
     "hide_input_from_viewers":false,
     "hide_output_from_viewers":false
    }
   }
  },
  {
   "cell_type":"markdown",
   "source":[
    "## 2.1.4 Open the dataset\n",
    "\n",
    "To open the dataset, we will follow the following steps:\n",
    "1. Use ``open`` function to load the file into Python in a variable called ``dataset_file``.\n",
    "2. use ``load`` function from ``json`` as ``json.load(dataset_file)`` into a variable called ``training_dataset``."
   ],
   "attachments":{
    
   },
   "metadata":{
    "datalore":{
     "type":"MD",
     "hide_input_from_viewers":false,
     "hide_output_from_viewers":false
    }
   }
  },
  {
   "cell_type":"code",
   "source":[
    "# Write the code below\n",
    "dataset_file = open(\"dataset.json\", \"r\")\n",
    "training_dataset = json.load(dataset_file)"
   ],
   "execution_count":15,
   "outputs":[
    
   ],
   "metadata":{
    "datalore":{
     "type":"CODE",
     "hide_input_from_viewers":false,
     "hide_output_from_viewers":false
    }
   }
  },
  {
   "cell_type":"markdown",
   "source":[
    "# Part 2.2: NLU Engine"
   ],
   "attachments":{
    
   },
   "metadata":{
    "datalore":{
     "type":"MD",
     "hide_input_from_viewers":false,
     "hide_output_from_viewers":false
    }
   }
  },
  {
   "cell_type":"markdown",
   "source":[
    "## 2.2.1 Initialize the Snips-NLU Engine with English Configuration\n",
    "\n",
    "We will start our Snips-NLU engine using the ``SnipsNLUEngine()``. We will pass a parameter in it as ``config=CONFIG_EN``, which will load the English language configuration in our NLU engine. \n",
    "\n",
    "We will store the Snips-NLU engine in a variable called ``NLUengine``"
   ],
   "attachments":{
    
   },
   "metadata":{
    "datalore":{
     "type":"MD",
     "hide_input_from_viewers":false,
     "hide_output_from_viewers":false
    }
   }
  },
  {
   "cell_type":"code",
   "source":[
    "# Write the code below\n",
    "\n",
    "NLUengine = SnipsNLUEngine(config=CONFIG_EN)"
   ],
   "execution_count":16,
   "outputs":[
    
   ],
   "metadata":{
    "datalore":{
     "type":"CODE",
     "hide_input_from_viewers":false,
     "hide_output_from_viewers":false
    }
   }
  },
  {
   "cell_type":"markdown",
   "source":[
    "## 2.2.2 Train the NLU Engine\n",
    "\n",
    "We will now train the NLU engine using our training dataset. We will use ``fit()`` function to train the model\n",
    "\n",
    "To train the model we have to run:\n",
    "```\n",
    "NLUengine.fit(training_dataset)\n",
    "```"
   ],
   "attachments":{
    
   },
   "metadata":{
    "datalore":{
     "type":"MD",
     "hide_input_from_viewers":false,
     "hide_output_from_viewers":false
    }
   }
  },
  {
   "cell_type":"code",
   "source":[
    "# Write the code below\n",
    "\n",
    "NLUengine.fit(training_dataset)"
   ],
   "execution_count":17,
   "outputs":[
    {
     "data":{
      "text\/plain":[
       "<snips_nlu.nlu_engine.nlu_engine.SnipsNLUEngine at 0x7fceb2498820>"
      ]
     },
     "metadata":{
      
     },
     "output_type":"display_data"
    }
   ],
   "metadata":{
    "datalore":{
     "type":"CODE",
     "hide_input_from_viewers":false,
     "hide_output_from_viewers":false
    }
   }
  },
  {
   "cell_type":"markdown",
   "source":[
    "## 2.2.3 Use the NLU Engine to parse the intention\n",
    "\n",
    "Let's try to use our engine on the utterance ``\"How's the weather in Hong Kong\"``\n",
    "\n",
    "Use the function ``prediction = NLUengine.parse(your utterance)``"
   ],
   "attachments":{
    
   },
   "metadata":{
    "datalore":{
     "type":"MD",
     "hide_input_from_viewers":false,
     "hide_output_from_viewers":false
    }
   }
  },
  {
   "cell_type":"code",
   "source":[
    "# Write the code below\n",
    "\n",
    "prediction = NLUengine.parse(\"How is the weather in Hong Kong?\")"
   ],
   "execution_count":23,
   "outputs":[
    
   ],
   "metadata":{
    "datalore":{
     "type":"CODE",
     "hide_input_from_viewers":false,
     "hide_output_from_viewers":false
    }
   }
  },
  {
   "cell_type":"markdown",
   "source":[
    "## 2.2.4 Print the prediction\n",
    "\n",
    "To print the prediction in a more readable format we will use ``json.dumps()`` function as:\n",
    "\n",
    "``print(json.dumps(prediction, indent=2))``"
   ],
   "attachments":{
    
   },
   "metadata":{
    "datalore":{
     "type":"MD",
     "hide_input_from_viewers":false,
     "hide_output_from_viewers":false
    }
   }
  },
  {
   "cell_type":"code",
   "source":[
    "# Write the code below\n",
    "\n",
    "print(json.dumps(prediction, indent=2))"
   ],
   "execution_count":24,
   "outputs":[
    {
     "name":"stdout",
     "text":[
      "{\n",
      "  \"input\": \"How is the weather in Hong Kong?\",\n",
      "  \"intent\": {\n",
      "    \"intentName\": \"get_weather\",\n",
      "    \"probability\": 1.0\n",
      "  },\n",
      "  \"slots\": [\n",
      "    {\n",
      "      \"range\": {\n",
      "        \"start\": 22,\n",
      "        \"end\": 31\n",
      "      },\n",
      "      \"rawValue\": \"Hong Kong\",\n",
      "      \"value\": {\n",
      "        \"kind\": \"Custom\",\n",
      "        \"value\": \"Hong Kong\"\n",
      "      },\n",
      "      \"entity\": \"city\",\n",
      "      \"slotName\": \"city\"\n",
      "    }\n",
      "  ]\n",
      "}\n"
     ],
     "output_type":"stream"
    }
   ],
   "metadata":{
    "datalore":{
     "type":"CODE",
     "hide_input_from_viewers":false,
     "hide_output_from_viewers":false
    }
   }
  },
  {
   "cell_type":"markdown",
   "source":[
    "## 2.2.5 Get the intent\n",
    "\n",
    "To get the intent we access the intent name element from the resulted ``prediction`` dictionary.\n",
    "\n",
    "We have made a function for you to get the intent easily. You can use ``get_intent(prediction)`` to get the intent."
   ],
   "attachments":{
    
   },
   "metadata":{
    "datalore":{
     "type":"MD",
     "hide_input_from_viewers":false,
     "hide_output_from_viewers":false
    }
   }
  },
  {
   "cell_type":"code",
   "source":[
    "# Write the code below\n",
    "\n",
    "print(get_intent(prediction))"
   ],
   "execution_count":25,
   "outputs":[
    {
     "name":"stdout",
     "text":[
      "get_weather\n"
     ],
     "output_type":"stream"
    }
   ],
   "metadata":{
    "datalore":{
     "type":"CODE",
     "hide_input_from_viewers":false,
     "hide_output_from_viewers":false
    }
   }
  },
  {
   "cell_type":"markdown",
   "source":[
    "## 2.2.6 Get the slot's entity type\n",
    "There can be multiple slots mentioned in an utternace. But in our tutorial we only have 1 slot per utterance. \n",
    "\n",
    "You can use our function ``get_entity_type(prediction)`` to get the slot's entity type."
   ],
   "attachments":{
    
   },
   "metadata":{
    "datalore":{
     "type":"MD",
     "hide_input_from_viewers":false,
     "hide_output_from_viewers":false
    }
   }
  },
  {
   "cell_type":"code",
   "source":[
    "# Write the code below\n",
    "\n",
    "print(get_entity_type(prediction))"
   ],
   "execution_count":26,
   "outputs":[
    {
     "name":"stdout",
     "text":[
      "city\n"
     ],
     "output_type":"stream"
    }
   ],
   "metadata":{
    "datalore":{
     "type":"CODE",
     "hide_input_from_viewers":false,
     "hide_output_from_viewers":false
    }
   }
  },
  {
   "cell_type":"markdown",
   "source":[
    "## 2.2.7 Get the entity's value\n",
    "\n",
    "Similar to slots, there can be multiple entity values. But our tutorial will only have 1 value per slot. \n",
    "\n",
    "You can use our function ``get_entity_value(prediction)`` to get the slot's value."
   ],
   "attachments":{
    
   },
   "metadata":{
    "datalore":{
     "type":"MD",
     "hide_input_from_viewers":false,
     "hide_output_from_viewers":false
    }
   }
  },
  {
   "cell_type":"code",
   "source":[
    "# Write the code below\n",
    "\n",
    "print(get_entity_value(prediction))"
   ],
   "execution_count":27,
   "outputs":[
    {
     "name":"stdout",
     "text":[
      "Hong Kong\n"
     ],
     "output_type":"stream"
    }
   ],
   "metadata":{
    "datalore":{
     "type":"CODE",
     "hide_input_from_viewers":false,
     "hide_output_from_viewers":false
    }
   }
  },
  {
   "cell_type":"markdown",
   "source":[
    "# Part 2.3: Integrate NLU Engine with API"
   ],
   "attachments":{
    
   },
   "metadata":{
    "datalore":{
     "type":"MD",
     "hide_input_from_viewers":false,
     "hide_output_from_viewers":false
    }
   }
  },
  {
   "cell_type":"markdown",
   "source":[
    "We have provided you with the following pre-defined functions:\n",
    "1. ```get_city_weather(city)```: Given a city, it will print its current temperature and weather condition\n",
    "2. ```get_movie_rating(movie_name)```: Given a movie name, it will print its IMDB rating\n",
    "3. ```get_movie_directors(movie_name)```: Given a movie name, it will print the name(s) of its director(s)\n",
    "4. ```get_movie_cast(movie_name)```: Given a movie name, it will print the cast of the movie\n",
    "5. ```pyjokes.get_joke()```: This function from pyjokes library returns a joke (a nerdy programming based joke)\n",
    "\n",
    "We will now use these functions to integrate our NLU with the APIs to get a working virtual assistant"
   ],
   "attachments":{
    
   },
   "metadata":{
    "datalore":{
     "type":"MD",
     "hide_input_from_viewers":false,
     "hide_output_from_viewers":false
    }
   }
  },
  {
   "cell_type":"markdown",
   "source":[
    "## 2.3.1 Create a function\n",
    "\n",
    "First we create a function called ```assistant``` that given an utterance, gives an appropriate response based on user's intent.\n",
    "\n",
    "The function will have ``utterance`` as one of the parameter.\n",
    "\n",
    "The function should work in the following manner:\n",
    "\n",
    "1. Get the **intent** and **slot type** of the utterance using the NLU Engine\n",
    "2. If the intent is ```tell_joke```, print the output of ```pyjokes.get_joke()``` function.\n",
    "3. Else if the intent is ```get_weather```, get the value of slot ```city``` and use the ``get_city_weather(city)`` function.\n",
    "4. Else if the intent is ```get_rating```, get the value of slot ```movie_name``` and use the ``get_movie_rating(movie_name)`` function.\n",
    "5. Else if the intent is ```get_director```, get the value of slot ```movie_name``` and use the ``get_movie_directors(movie_name)`` function.\n",
    "5. Else if the intent is ```get_cast```, get the value of slot ```movie_name``` and use the ``get_movie_cast(movie_name)`` function.\n",
    "6. Else ``print(\"Unknown intent\")``.\n",
    "\n",
    "**Note: Inside the if-statements for ``get_weather``, ``get_rating``, ``get_director``, and ``get_cast``, you need to add another if-statement to check if the slot-type is correct. If it is not correct, you need to print \"Sorry, please try again.\"**"
   ],
   "attachments":{
    
   },
   "metadata":{
    "datalore":{
     "type":"MD",
     "hide_input_from_viewers":false,
     "hide_output_from_viewers":false
    }
   }
  },
  {
   "cell_type":"code",
   "source":[
    "# Write the code below\n",
    "\n",
    "def assistant(utterance):\n",
    "    prediction = NLUengine.parse(utterance)\n",
    "    intent = get_intent(prediction)\n",
    "    slot_type = get_entity_type(prediction)\n",
    "\n",
    "\n",
    "\n",
    "    if (intent == \"tell_joke\"):\n",
    "        print(pyjokes.get_joke())\n",
    "\n",
    "    elif (intent == \"get_weather\"):\n",
    "\n",
    "        if (slot_type == \"city\"): \n",
    "            city_name = get_entity_value(prediction)\n",
    "            get_city_weather(city_name)\n",
    "        else:\n",
    "            print(\"Sorry, can you try again?\")\n",
    "\n",
    "    elif (intent == \"get_rating\"):\n",
    "\n",
    "        if (slot_type == \"movie_name\"): \n",
    "            movie_name = get_entity_value(prediction)\n",
    "            get_movie_rating(movie_name)\n",
    "        else:\n",
    "            print(\"Sorry, can you try again?\")\n",
    "\n",
    "    elif (intent == \"get_director\"):\n",
    "\n",
    "        if (slot_type == \"movie_name\"): \n",
    "            movie_name = get_entity_value(prediction)\n",
    "            get_movie_directors(movie_name)\n",
    "        else:\n",
    "            print(\"Sorry, can you try again?\")\n",
    "\n",
    "    elif (intent == \"get_cast\"):\n",
    "        \n",
    "        if (slot_type == \"movie_name\"): \n",
    "            movie_name = get_entity_value(prediction)\n",
    "            get_movie_cast(movie_name)\n",
    "        else:\n",
    "            print(\"Sorry, can you try again?\")\n",
    "\n",
    "    else:\n",
    "        print(\"Unknown intent\")\n",
    "        "
   ],
   "execution_count":12,
   "outputs":[
    
   ],
   "metadata":{
    "datalore":{
     "type":"CODE",
     "hide_input_from_viewers":false,
     "hide_output_from_viewers":false
    }
   }
  },
  {
   "cell_type":"markdown",
   "source":[
    "## 2.3.2 Create a conversation loop\n",
    "\n",
    "\n",
    "We will create a loop that keeps on going until the user enters **Bye**\n",
    "\n",
    "We will use a new kind of loop called ``while-loop``\n",
    "\n",
    "The loop has to accomplish the following things:\n",
    "1. Keep asking for user input until the user enters **Bye**\n",
    "2. Call the ``assistant`` function on the user's input\n",
    "\n",
    "To break the loop, we will use a new keyword called ``break``.  \n",
    "\n",
    "To get input from the user we will use a Python function called ``input``.  \n",
    "\n",
    "**We have partially written the code below to help you. Please fill the remaining code**"
   ],
   "attachments":{
    
   },
   "metadata":{
    "datalore":{
     "type":"MD",
     "hide_input_from_viewers":false,
     "hide_output_from_viewers":false
    }
   }
  },
  {
   "cell_type":"code",
   "source":[
    "# Complete the code belo\n",
    "\n",
    "print(\"Welcome to the virtual assistant. How can I help you?\")\n",
    "while True:\n",
    "    print(\"------------------------------------\")\n",
    "    user_input=str(input(\"Enter your input: \"))\n",
    "    \n",
    "    # This if statement should break the loop if the user_input is \"Bye\"\n",
    "    if (user_input == \"Bye\"):\n",
    "        print(\"Have a good day!\")\n",
    "        break\n",
    "    \n",
    "    else:\n",
    "        \n",
    "        print(\"Assistant: \")\n",
    "        assistant(user_input)\n",
    "        \"\"\"Enter the code here to call assistant function using user_input here\"\"\""
   ],
   "execution_count":13,
   "outputs":[
    {
     "name":"stdout",
     "text":[
      "Welcome to the virtual assistant. How can I help you?\n",
      "------------------------------------\n",
      "Enter your input:  how is the weather in baoding\n",
      "Assistant: \n",
      "The current temperature is 25.78 degrees Celsius.\n",
      "The weather condition is scattered clouds.\n",
      "------------------------------------\n",
      "Enter your input:  who acted in the movie spiderman\n",
      "Assistant: \n",
      "The actors(s) in Spider-man is\/are:\n",
      "Tobey Maguire played the role of Spider-Man \/ Peter Parker\n",
      "Willem Dafoe played the role of Green Goblin \/ Norman Osborn\n",
      "Kirsten Dunst played the role of Mary Jane Watson\n",
      "James Franco played the role of Harry Osborn\n",
      "Cliff Robertson played the role of Ben Parker\n",
      "------------------------------------\n",
      "Enter your input:  bye\n",
      "Assistant: \n",
      "Unknown intent\n",
      "------------------------------------\n",
      "Enter your input:  Bye\n",
      "Have a good day!\n"
     ],
     "output_type":"stream"
    }
   ],
   "metadata":{
    "datalore":{
     "type":"CODE",
     "hide_input_from_viewers":false,
     "hide_output_from_viewers":false
    }
   }
  },
  {
   "cell_type":"markdown",
   "source":[
    "# End of Part 2\n",
    "\n",
    "## Thank you for attending the workshop"
   ],
   "attachments":{
    
   },
   "metadata":{
    "datalore":{
     "type":"MD",
     "hide_input_from_viewers":false,
     "hide_output_from_viewers":false
    }
   }
  }
 ],
 "metadata":{
  "datalore":{
   "version":1,
   "computation_mode":"JUPYTER",
   "package_manager":"pip",
   "base_environment":"default",
   "packages":[
    
   ]
  }
 },
 "nbformat":4,
 "nbformat_minor":4
}