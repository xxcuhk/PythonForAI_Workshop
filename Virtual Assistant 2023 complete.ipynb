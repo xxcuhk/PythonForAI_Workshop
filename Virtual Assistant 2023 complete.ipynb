{
 "cells":[
  {
   "cell_type":"markdown",
   "source":[
    "<h1><span style=\"color:#338DFF\"> AI With Python Workshop <\/span><\/h1>\n",
    "\n",
    "This notebook complements the powerpoint slides during the workshop and will be used to do the coding exercises \n",
    "\n",
    "-----------"
   ],
   "attachments":{
    
   },
   "metadata":{
    "datalore":{
     "node_id":"YRvE7PM4gmKAhSI9BqNOOX",
     "type":"MD",
     "hide_input_from_viewers":false,
     "hide_output_from_viewers":false,
     "report_properties":{
      
     }
    }
   }
  },
  {
   "cell_type":"markdown",
   "source":[
    "\n",
    "\n",
    "\n",
    "# AI Project using Python\n",
    "\n",
    "In this project we will create a virtual assistant that understands natural language. We will be able to interact with it in English to perform the following tasks:\n",
    "\n",
    "<img src=\"https:\/\/cdn.dribbble.com\/users\/324481\/screenshots\/7149521\/media\/4fb25c016884dbbd1352e75916fa5f81.png?compress=1&resize=400x300\" width=\"200\" align=\"right\">\n",
    "\n",
    "* **Chit-chat**\n",
    "    * Tell jokes\n",
    "* **Weather**\n",
    "    * Get current weather for any city\n",
    "* **Movies**\n",
    "    * Get rating for a movie\n",
    "    * Find the director(s) of a movie"
   ],
   "attachments":{
    
   },
   "metadata":{
    "datalore":{
     "node_id":"RFFeRURZ13pb2f8PDhRCeu",
     "type":"MD",
     "hide_input_from_viewers":false,
     "hide_output_from_viewers":false,
     "report_properties":{
      
     }
    }
   }
  },
  {
   "cell_type":"markdown",
   "source":[
    "## Learning outcomes\n",
    "\n",
    "In this tutorial you will learn:  \n",
    "* The basic terminologies required in virtual assistant systems\n",
    "    * Intents\n",
    "    * Slots\n",
    "    * Entities\n",
    "    * Utterances\n",
    "* How to use SNIPS-NLU to understand natural language and detect intents, slots, and entities from utterances.\n",
    "* How to use the detected intents, slots and entities to get information from APIs\n",
    "----\n",
    "----\n",
    "----"
   ],
   "attachments":{
    
   },
   "metadata":{
    "datalore":{
     "node_id":"IHK6kvt8QkxntBB8saoFPi",
     "type":"MD",
     "hide_input_from_viewers":false,
     "hide_output_from_viewers":false,
     "report_properties":{
      
     }
    }
   }
  },
  {
   "cell_type":"markdown",
   "source":[
    "# Part 2.1: Preparation"
   ],
   "attachments":{
    
   },
   "metadata":{
    "datalore":{
     "node_id":"RrdFa0lpKrFTr2WGDH9zE9",
     "type":"MD",
     "hide_input_from_viewers":false,
     "hide_output_from_viewers":false,
     "report_properties":{
      
     }
    }
   }
  },
  {
   "cell_type":"markdown",
   "source":[
    "We will use the following libraries in this tutorial \n",
    "\n",
    "* **snips-nlu**\n",
    "    * This library deals with the Natural Language Understanding to detect intents, slots, and entities.\n",
    "* **pyjokes**\n",
    "    * This library provides jokes based on Python.\n",
    "* **pyowm**\n",
    "    * This library provides the weather API to get weather information.\n",
    "* **imdbpy**\n",
    "    * This library provides the IMDB movie APU to get movie information.\n",
    "\n",
    "---"
   ],
   "attachments":{
    
   },
   "metadata":{
    "datalore":{
     "node_id":"JvzySDZ4mxq41ZOfZY8HeI",
     "type":"MD",
     "hide_input_from_viewers":false,
     "hide_output_from_viewers":false,
     "report_properties":{
      
     }
    }
   }
  },
  {
   "cell_type":"markdown",
   "source":[
    "## 2.1.1 Install and Import libraries\n",
    "\n",
    "Run the cell below to install and import the required libraries and functions.\n",
    "\n",
    "**Note:** _We have pre-written some code to simplify the weather and movie rating APIs in the file ``utils.py``. You can view the file later to understand the inner working in more detail._"
   ],
   "attachments":{
    
   },
   "metadata":{
    "datalore":{
     "node_id":"kykqEmCPK1LneKvaGiJWcL",
     "type":"MD",
     "hide_input_from_viewers":false,
     "hide_output_from_viewers":false,
     "report_properties":{
      
     }
    }
   }
  },
  {
   "cell_type":"code",
   "source":[
    "# Run this cell\n",
    "!pip install --upgrade pip\n",
    "!pip install pyjokes\n",
    "!pip install snips-nlu\n",
    "!pip install pyowm\n",
    "!pip install imdbpy\n",
    "!python -m snips_nlu download en\n",
    "!git clone https:\/\/github.com\/xxcuhk\/workshop_utils \n",
    "from workshop_utils.utils import *\n",
    "import pyjokes\n",
    "import json\n",
    "from snips_nlu import SnipsNLUEngine\n",
    "from snips_nlu.default_configs import CONFIG_EN"
   ],
   "execution_count":1,
   "outputs":[
    {
     "name":"stdout",
     "text":[
      "Requirement already satisfied: pip in \/opt\/python\/envs\/default\/lib\/python3.8\/site-packages (21.3.1)\r\n",
      "Collecting pip\r\n",
      "  Downloading pip-23.0-py3-none-any.whl (2.1 MB)\r\n",
      "\u001b[?25l\r\r     |▏                               | 10 kB 26.3 MB\/s eta 0:00:01\r     |▎                               | 20 kB 32.6 MB\/s eta 0:00:01\r     |▌                               | 30 kB 40.8 MB\/s eta 0:00:01\r     |▋                               | 40 kB 12.3 MB\/s eta 0:00:01\r     |▉                               | 51 kB 14.4 MB\/s eta 0:00:01\r     |█                               | 61 kB 16.7 MB\/s eta 0:00:01\r     |█▏                              | 71 kB 18.6 MB\/s eta 0:00:01\r     |█▎                              | 81 kB 18.1 MB\/s eta 0:00:01\r     |█▍                              | 92 kB 18.8 MB\/s eta 0:00:01\r     |█▋                              | 102 kB 20.0 MB\/s eta 0:00:01\r     |█▊                              | 112 kB 20.0 MB\/s eta 0:00:01\r     |██                              | 122 kB 20.0 MB\/s eta 0:00:01\r     |██                              | 133 kB 20.0 MB\/s eta 0:00:01\r     |██▎                             | 143 kB 20.0 MB\/s eta 0:00:01\r     |██▍                             | 153 kB 20.0 MB\/s eta 0:00:01\r     |██▌                             | 163 kB 20.0 MB\/s eta 0:00:01\r     |██▊                             | 174 kB 20.0 MB\/s eta 0:00:01\r     |██▉                             | 184 kB 20.0 MB\/s eta 0:00:01\r     |███                             | 194 kB 20.0 MB\/s eta 0:00:01\r     |███▏                            | 204 kB 20.0 MB\/s eta 0:00:01\r     |███▍                            | 215 kB 20.0 MB\/s eta 0:00:01\r     |███▌                            | 225 kB 20.0 MB\/s eta 0:00:01\r     |███▋                            | 235 kB 20.0 MB\/s eta 0:00:01\r     |███▉                            | 245 kB 20.0 MB\/s eta 0:00:01\r     |████                            | 256 kB 20.0 MB\/s eta 0:00:01\r     |████▏                           | 266 kB 20.0 MB\/s eta 0:00:01\r     |████▎                           | 276 kB 20.0 MB\/s eta 0:00:01\r     |████▌                           | 286 kB 20.0 MB\/s eta 0:00:01\r     |████▋                           | 296 kB 20.0 MB\/s eta 0:00:01\r     |████▉                           | 307 kB 20.0 MB\/s eta 0:00:01\r     |█████                           | 317 kB 20.0 MB\/s eta 0:00:01\r     |█████                           | 327 kB 20.0 MB\/s eta 0:00:01\r     |█████▎                          | 337 kB 20.0 MB\/s eta 0:00:01\r     |█████▍                          | 348 kB 20.0 MB\/s eta 0:00:01\r     |█████▋                          | 358 kB 20.0 MB\/s eta 0:00:01\r     |█████▊                          | 368 kB 20.0 MB\/s eta 0:00:01\r     |██████                          | 378 kB 20.0 MB\/s eta 0:00:01\r     |██████                          | 389 kB 20.0 MB\/s eta 0:00:01\r     |██████▏                         | 399 kB 20.0 MB\/s eta 0:00:01\r     |██████▍                         | 409 kB 20.0 MB\/s eta 0:00:01\r     |██████▌                         | 419 kB 20.0 MB\/s eta 0:00:01\r     |██████▊                         | 430 kB 20.0 MB\/s eta 0:00:01\r     |██████▉                         | 440 kB 20.0 MB\/s eta 0:00:01\r     |███████                         | 450 kB 20.0 MB\/s eta 0:00:01\r     |███████▏                        | 460 kB 20.0 MB\/s eta 0:00:01\r     |███████▎                        | 471 kB 20.0 MB\/s eta 0:00:01\r     |███████▌                        | 481 kB 20.0 MB\/s eta 0:00:01\r     |███████▋                        | 491 kB 20.0 MB\/s eta 0:00:01\r     |███████▉                        | 501 kB 20.0 MB\/s eta 0:00:01\r     |████████                        | 512 kB 20.0 MB\/s eta 0:00:01\r     |████████▏                       | 522 kB 20.0 MB\/s eta 0:00:01\r     |████████▎                       | 532 kB 20.0 MB\/s eta 0:00:01\r     |████████▌                       | 542 kB 20.0 MB\/s eta 0:00:01\r     |████████▋                       | 552 kB 20.0 MB\/s eta 0:00:01\r     |████████▊                       | 563 kB 20.0 MB\/s eta 0:00:01\r     |█████████                       | 573 kB 20.0 MB\/s eta 0:00:01\r     |█████████                       | 583 kB 20.0 MB\/s eta 0:00:01\r     |█████████▎                      | 593 kB 20.0 MB\/s eta 0:00:01\r     |█████████▍                      | 604 kB 20.0 MB\/s eta 0:00:01\r     |█████████▋                      | 614 kB 20.0 MB\/s eta 0:00:01\r     |█████████▊                      | 624 kB 20.0 MB\/s eta 0:00:01\r     |█████████▉                      | 634 kB 20.0 MB\/s eta 0:00:01\r     |██████████                      | 645 kB 20.0 MB\/s eta 0:00:01\r     |██████████▏                     | 655 kB 20.0 MB\/s eta 0:00:01\r     |██████████▍                     | 665 kB 20.0 MB\/s eta 0:00:01\r     |██████████▌                     | 675 kB 20.0 MB\/s eta 0:00:01\r     |██████████▊                     | 686 kB 20.0 MB\/s eta 0:00:01\r     |██████████▉                     | 696 kB 20.0 MB\/s eta 0:00:01\r     |███████████                     | 706 kB 20.0 MB\/s eta 0:00:01\r     |███████████▏                    | 716 kB 20.0 MB\/s eta 0:00:01\r     |███████████▎                    | 727 kB 20.0 MB\/s eta 0:00:01\r     |███████████▌                    | 737 kB 20.0 MB\/s eta 0:00:01\r     |███████████▋                    | 747 kB 20.0 MB\/s eta 0:00:01\r     |███████████▉                    | 757 kB 20.0 MB\/s eta 0:00:01\r     |████████████                    | 768 kB 20.0 MB\/s eta 0:00:01\r     |████████████▏                   | 778 kB 20.0 MB\/s eta 0:00:01\r     |████████████▎                   | 788 kB 20.0 MB\/s eta 0:00:01\r     |████████████▍                   | 798 kB 20.0 MB\/s eta 0:00:01\r     |████████████▋                   | 808 kB 20.0 MB\/s eta 0:00:01\r     |████████████▊                   | 819 kB 20.0 MB\/s eta 0:00:01\r     |█████████████                   | 829 kB 20.0 MB\/s eta 0:00:01\r     |█████████████                   | 839 kB 20.0 MB\/s eta 0:00:01\r     |█████████████▎                  | 849 kB 20.0 MB\/s eta 0:00:01\r     |█████████████▍                  | 860 kB 20.0 MB\/s eta 0:00:01\r     |█████████████▌                  | 870 kB 20.0 MB\/s eta 0:00:01\r     |█████████████▊                  | 880 kB 20.0 MB\/s eta 0:00:01\r     |█████████████▉                  | 890 kB 20.0 MB\/s eta 0:00:01\r     |██████████████                  | 901 kB 20.0 MB\/s eta 0:00:01\r     |██████████████▏                 | 911 kB 20.0 MB\/s eta 0:00:01\r     |██████████████▍                 | 921 kB 20.0 MB\/s eta 0:00:01\r     |██████████████▌                 | 931 kB 20.0 MB\/s eta 0:00:01\r     |██████████████▋                 | 942 kB 20.0 MB\/s eta 0:00:01\r     |██████████████▉                 | 952 kB 20.0 MB\/s eta 0:00:01\r     |███████████████                 | 962 kB 20.0 MB\/s eta 0:00:01\r     |███████████████▏                | 972 kB 20.0 MB\/s eta 0:00:01\r     |███████████████▎                | 983 kB 20.0 MB\/s eta 0:00:01\r     |███████████████▌                | 993 kB 20.0 MB\/s eta 0:00:01\r     |███████████████▋                | 1.0 MB 20.0 MB\/s eta 0:00:01\r     |███████████████▉                | 1.0 MB 20.0 MB\/s eta 0:00:01\r     |████████████████                | 1.0 MB 20.0 MB\/s eta 0:00:01\r     |████████████████                | 1.0 MB 20.0 MB\/s eta 0:00:01\r     |████████████████▎               | 1.0 MB 20.0 MB\/s eta 0:00:01\r     |████████████████▍               | 1.1 MB 20.0 MB\/s eta 0:00:01\r     |████████████████▋               | 1.1 MB 20.0 MB\/s eta 0:00:01\r     |████████████████▊               | 1.1 MB 20.0 MB\/s eta 0:00:01\r     |█████████████████               | 1.1 MB 20.0 MB\/s eta 0:00:01\r     |█████████████████               | 1.1 MB 20.0 MB\/s eta 0:00:01\r     |█████████████████▏              | 1.1 MB 20.0 MB\/s eta 0:00:01\r     |█████████████████▍              | 1.1 MB 20.0 MB\/s eta 0:00:01\r     |█████████████████▌              | 1.1 MB 20.0 MB\/s eta 0:00:01\r     |█████████████████▊              | 1.1 MB 20.0 MB\/s eta 0:00:01\r     |█████████████████▉              | 1.1 MB 20.0 MB\/s eta 0:00:01\r     |██████████████████              | 1.2 MB 20.0 MB\/s eta 0:00:01\r     |██████████████████▏             | 1.2 MB 20.0 MB\/s eta 0:00:01\r     |██████████████████▎             | 1.2 MB 20.0 MB\/s eta 0:00:01\r     |██████████████████▌             | 1.2 MB 20.0 MB\/s eta 0:00:01\r     |██████████████████▋             | 1.2 MB 20.0 MB\/s eta 0:00:01\r     |██████████████████▉             | 1.2 MB 20.0 MB\/s eta 0:00:01\r     |███████████████████             | 1.2 MB 20.0 MB\/s eta 0:00:01\r     |███████████████████▏            | 1.2 MB 20.0 MB\/s eta 0:00:01\r     |███████████████████▎            | 1.2 MB 20.0 MB\/s eta 0:00:01\r     |███████████████████▍            | 1.2 MB 20.0 MB\/s eta 0:00:01\r     |███████████████████▋            | 1.3 MB 20.0 MB\/s eta 0:00:01\r     |███████████████████▊            | 1.3 MB 20.0 MB\/s eta 0:00:01\r     |████████████████████            | 1.3 MB 20.0 MB\/s eta 0:00:01\r     |████████████████████            | 1.3 MB 20.0 MB\/s eta 0:00:01\r     |████████████████████▎           | 1.3 MB 20.0 MB\/s eta 0:00:01\r     |████████████████████▍           | 1.3 MB 20.0 MB\/s eta 0:00:01\r     |████████████████████▋           | 1.3 MB 20.0 MB\/s eta 0:00:01\r     |████████████████████▊           | 1.3 MB 20.0 MB\/s eta 0:00:01\r     |████████████████████▉           | 1.3 MB 20.0 MB\/s eta 0:00:01\r     |█████████████████████           | 1.4 MB 20.0 MB\/s eta 0:00:01\r     |█████████████████████▏          | 1.4 MB 20.0 MB\/s eta 0:00:01\r     |█████████████████████▍          | 1.4 MB 20.0 MB\/s eta 0:00:01\r     |█████████████████████▌          | 1.4 MB 20.0 MB\/s eta 0:00:01\r     |█████████████████████▊          | 1.4 MB 20.0 MB\/s eta 0:00:01\r     |█████████████████████▉          | 1.4 MB 20.0 MB\/s eta 0:00:01\r     |██████████████████████          | 1.4 MB 20.0 MB\/s eta 0:00:01\r     |██████████████████████▏         | 1.4 MB 20.0 MB\/s eta 0:00:01\r     |██████████████████████▎         | 1.4 MB 20.0 MB\/s eta 0:00:01\r     |██████████████████████▌         | 1.4 MB 20.0 MB\/s eta 0:00:01\r     |██████████████████████▋         | 1.5 MB 20.0 MB\/s eta 0:00:01\r     |██████████████████████▉         | 1.5 MB 20.0 MB\/s eta 0:00:01\r     |███████████████████████         | 1.5 MB 20.0 MB\/s eta 0:00:01\r     |███████████████████████         | 1.5 MB 20.0 MB\/s eta 0:00:01\r     |███████████████████████▎        | 1.5 MB 20.0 MB\/s eta 0:00:01\r     |███████████████████████▍        | 1.5 MB 20.0 MB\/s eta 0:00:01\r     |███████████████████████▋        | 1.5 MB 20.0 MB\/s eta 0:00:01\r     |███████████████████████▊        | 1.5 MB 20.0 MB\/s eta 0:00:01\r     |████████████████████████        | 1.5 MB 20.0 MB\/s eta 0:00:01\r     |████████████████████████        | 1.5 MB 20.0 MB\/s eta 0:00:01\r     |████████████████████████▎       | 1.6 MB 20.0 MB\/s eta 0:00:01\r     |████████████████████████▍       | 1.6 MB 20.0 MB\/s eta 0:00:01\r     |████████████████████████▌       | 1.6 MB 20.0 MB\/s eta 0:00:01\r     |████████████████████████▊       | 1.6 MB 20.0 MB\/s eta 0:00:01\r     |████████████████████████▉       | 1.6 MB 20.0 MB\/s eta 0:00:01\r     |█████████████████████████       | 1.6 MB 20.0 MB\/s eta 0:00:01\r     |█████████████████████████▏      | 1.6 MB 20.0 MB\/s eta 0:00:01\r     |█████████████████████████▍      | 1.6 MB 20.0 MB\/s eta 0:00:01\r     |█████████████████████████▌      | 1.6 MB 20.0 MB\/s eta 0:00:01\r     |█████████████████████████▋      | 1.6 MB 20.0 MB\/s eta 0:00:01\r     |█████████████████████████▉      | 1.7 MB 20.0 MB\/s eta 0:00:01\r     |██████████████████████████      | 1.7 MB 20.0 MB\/s eta 0:00:01\r     |██████████████████████████▏     | 1.7 MB 20.0 MB\/s eta 0:00:01\r     |██████████████████████████▎     | 1.7 MB 20.0 MB\/s eta 0:00:01\r     |██████████████████████████▌     | 1.7 MB 20.0 MB\/s eta 0:00:01\r     |██████████████████████████▋     | 1.7 MB 20.0 MB\/s eta 0:00:01\r     |██████████████████████████▊     | 1.7 MB 20.0 MB\/s eta 0:00:01\r     |███████████████████████████     | 1.7 MB 20.0 MB\/s eta 0:00:01\r     |███████████████████████████     | 1.7 MB 20.0 MB\/s eta 0:00:01\r     |███████████████████████████▎    | 1.8 MB 20.0 MB\/s eta 0:00:01\r     |███████████████████████████▍    | 1.8 MB 20.0 MB\/s eta 0:00:01\r     |███████████████████████████▋    | 1.8 MB 20.0 MB\/s eta 0:00:01\r     |███████████████████████████▊    | 1.8 MB 20.0 MB\/s eta 0:00:01\r     |████████████████████████████    | 1.8 MB 20.0 MB\/s eta 0:00:01\r     |████████████████████████████    | 1.8 MB 20.0 MB\/s eta 0:00:01\r     |████████████████████████████▏   | 1.8 MB 20.0 MB\/s eta 0:00:01\r     |████████████████████████████▍   | 1.8 MB 20.0 MB\/s eta 0:00:01\r     |████████████████████████████▌   | 1.8 MB 20.0 MB\/s eta 0:00:01\r     |████████████████████████████▊   | 1.8 MB 20.0 MB\/s eta 0:00:01\r     |████████████████████████████▉   | 1.9 MB 20.0 MB\/s eta 0:00:01\r     |█████████████████████████████   | 1.9 MB 20.0 MB\/s eta 0:00:01\r     |█████████████████████████████▏  | 1.9 MB 20.0 MB\/s eta 0:00:01\r     |█████████████████████████████▎  | 1.9 MB 20.0 MB\/s eta 0:00:01\r     |█████████████████████████████▌  | 1.9 MB 20.0 MB\/s eta 0:00:01\r     |█████████████████████████████▋  | 1.9 MB 20.0 MB\/s eta 0:00:01\r     |█████████████████████████████▉  | 1.9 MB 20.0 MB\/s eta 0:00:01\r     |██████████████████████████████  | 1.9 MB 20.0 MB\/s eta 0:00:01\r     |██████████████████████████████▏ | 1.9 MB 20.0 MB\/s eta 0:00:01\r     |██████████████████████████████▎ | 1.9 MB 20.0 MB\/s eta 0:00:01\r     |██████████████████████████████▍ | 2.0 MB 20.0 MB\/s eta 0:00:01\r     |██████████████████████████████▋ | 2.0 MB 20.0 MB\/s eta 0:00:01\r     |██████████████████████████████▊ | 2.0 MB 20.0 MB\/s eta 0:00:01\r     |███████████████████████████████ | 2.0 MB 20.0 MB\/s eta 0:00:01\r     |███████████████████████████████ | 2.0 MB 20.0 MB\/s eta 0:00:01\r     |███████████████████████████████▎| 2.0 MB 20.0 MB\/s eta 0:00:01\r     |███████████████████████████████▍| 2.0 MB 20.0 MB\/s eta 0:00:01\r     |███████████████████████████████▋| 2.0 MB 20.0 MB\/s eta 0:00:01\r     |███████████████████████████████▊| 2.0 MB 20.0 MB\/s eta 0:00:01\r     |███████████████████████████████▉| 2.0 MB 20.0 MB\/s eta 0:00:01\r     |████████████████████████████████| 2.1 MB 20.0 MB\/s            \r\n",
      "\u001b[?25hInstalling collected packages: pip\r\n",
      "  Attempting uninstall: pip\r\n",
      "    Found existing installation: pip 21.3.1\r\n",
      "    Uninstalling pip-21.3.1:\r\n",
      "      Successfully uninstalled pip-21.3.1\r\n",
      "Successfully installed pip-23.0\r\n",
      "Collecting pyjokes\r\n",
      "  Downloading pyjokes-0.6.0-py2.py3-none-any.whl (26 kB)\r\n",
      "Installing collected packages: pyjokes\r\n",
      "Successfully installed pyjokes-0.6.0\r\n",
      "Collecting snips-nlu\r\n",
      "  Downloading snips_nlu-0.20.2-py2.py3-none-any.whl (135 kB)\r\n",
      "\u001b[?25l     \u001b[90m━━━━━━━━━━━━━━━━━━━━━━━━━━━━━━━━━━━━━━━━\u001b[0m \u001b[32m0.0\/135.4 kB\u001b[0m \u001b[31m?\u001b[0m eta \u001b[36m-:--:--\u001b[0m\r\u001b[2K     \u001b[90m━━━━━━━━━━━━━━━━━━━━━━━━━━━━━━━━━━━━━━\u001b[0m \u001b[32m135.4\/135.4 kB\u001b[0m \u001b[31m13.9 MB\/s\u001b[0m eta \u001b[36m0:00:00\u001b[0m\r\n",
      "\u001b[?25hCollecting pyaml<20.0,>=17.0\r\n",
      "  Downloading pyaml-19.12.0-py2.py3-none-any.whl (17 kB)\r\n",
      "Requirement already satisfied: scipy<2.0,>=1.0 in \/opt\/python\/envs\/default\/lib\/python3.8\/site-packages (from snips-nlu) (1.7.3)\r\n",
      "Collecting snips-nlu-parsers<0.5,>=0.3.1\r\n",
      "  Downloading snips_nlu_parsers-0.4.3-cp38-cp38-manylinux1_x86_64.whl (6.8 MB)\r\n",
      "\u001b[?25l     \u001b[90m━━━━━━━━━━━━━━━━━━━━━━━━━━━━━━━━━━━━━━━━\u001b[0m \u001b[32m0.0\/6.8 MB\u001b[0m \u001b[31m?\u001b[0m eta \u001b[36m-:--:--\u001b[0m\r\u001b[2K     \u001b[91m━━━━━━━━━━\u001b[0m\u001b[91m╸\u001b[0m\u001b[90m━━━━━━━━━━━━━━━━━━━━━━━━━━━━━\u001b[0m \u001b[32m1.8\/6.8 MB\u001b[0m \u001b[31m38.5 MB\/s\u001b[0m eta \u001b[36m0:00:01\u001b[0m\r\u001b[2K     \u001b[91m━━━━━━━━━━━━━━━━━━\u001b[0m\u001b[91m╸\u001b[0m\u001b[90m━━━━━━━━━━━━━━━━━━━━━\u001b[0m \u001b[32m3.2\/6.8 MB\u001b[0m \u001b[31m37.0 MB\/s\u001b[0m eta \u001b[36m0:00:01\u001b[0m\r\u001b[2K     \u001b[91m━━━━━━━━━━━━━━━━━━━━━━━━━━━━━━━━\u001b[0m\u001b[90m╺\u001b[0m\u001b[90m━━━━━━━\u001b[0m \u001b[32m5.5\/6.8 MB\u001b[0m \u001b[31m45.0 MB\/s\u001b[0m eta \u001b[36m0:00:01\u001b[0m\r\u001b[2K     \u001b[91m━━━━━━━━━━━━━━━━━━━━━━━━━━━━━━━━━━━━━━━\u001b[0m\u001b[91m╸\u001b[0m \u001b[32m6.8\/6.8 MB\u001b[0m \u001b[31m48.4 MB\/s\u001b[0m eta \u001b[36m0:00:01\u001b[0m\r\u001b[2K     \u001b[90m━━━━━━━━━━━━━━━━━━━━━━━━━━━━━━━━━━━━━━━━\u001b[0m \u001b[32m6.8\/6.8 MB\u001b[0m \u001b[31m37.8 MB\/s\u001b[0m eta \u001b[36m0:00:00\u001b[0m\r\n",
      "\u001b[?25hCollecting snips-nlu-utils<0.10,>=0.9\r\n",
      "  Downloading snips_nlu_utils-0.9.1-cp38-cp38-manylinux1_x86_64.whl (1.2 MB)\r\n",
      "\u001b[?25l     \u001b[90m━━━━━━━━━━━━━━━━━━━━━━━━━━━━━━━━━━━━━━━━\u001b[0m \u001b[32m0.0\/1.2 MB\u001b[0m \u001b[31m?\u001b[0m eta \u001b[36m-:--:--\u001b[0m\r\u001b[2K     \u001b[90m━━━━━━━━━━━━━━━━━━━━━━━━━━━━━━━━━━━━━━━━\u001b[0m \u001b[32m1.2\/1.2 MB\u001b[0m \u001b[31m32.0 MB\/s\u001b[0m eta \u001b[36m0:00:00\u001b[0m\r\n",
      "\u001b[?25hCollecting scikit-learn<0.23,>=0.21.1\r\n",
      "  Downloading scikit_learn-0.22.2.post1-cp38-cp38-manylinux1_x86_64.whl (7.0 MB)\r\n",
      "\u001b[?25l     \u001b[90m━━━━━━━━━━━━━━━━━━━━━━━━━━━━━━━━━━━━━━━━\u001b[0m \u001b[32m0.0\/7.0 MB\u001b[0m \u001b[31m?\u001b[0m eta \u001b[36m-:--:--\u001b[0m\r\u001b[2K     \u001b[91m━━━━━━━━━━━━━━━━━━\u001b[0m\u001b[91m╸\u001b[0m\u001b[90m━━━━━━━━━━━━━━━━━━━━━\u001b[0m \u001b[32m3.2\/7.0 MB\u001b[0m \u001b[31m74.5 MB\/s\u001b[0m eta \u001b[36m0:00:01\u001b[0m\r\u001b[2K     \u001b[91m━━━━━━━━━━━━━━━━━━━━━━━━━━━━━━━━━━━━━\u001b[0m\u001b[91m╸\u001b[0m\u001b[90m━━\u001b[0m \u001b[32m6.6\/7.0 MB\u001b[0m \u001b[31m86.2 MB\/s\u001b[0m eta \u001b[36m0:00:01\u001b[0m\r\u001b[2K     \u001b[91m━━━━━━━━━━━━━━━━━━━━━━━━━━━━━━━━━━━━━━━\u001b[0m\u001b[91m╸\u001b[0m \u001b[32m7.0\/7.0 MB\u001b[0m \u001b[31m81.6 MB\/s\u001b[0m eta \u001b[36m0:00:01\u001b[0m\r\u001b[2K     \u001b[90m━━━━━━━━━━━━━━━━━━━━━━━━━━━━━━━━━━━━━━━━\u001b[0m \u001b[32m7.0\/7.0 MB\u001b[0m \u001b[31m57.5 MB\/s\u001b[0m eta \u001b[36m0:00:00\u001b[0m\r\n",
      "\u001b[?25hCollecting future<0.18,>=0.16\r\n",
      "  Downloading future-0.17.1.tar.gz (829 kB)\r\n",
      "\u001b[?25l     \u001b[90m━━━━━━━━━━━━━━━━━━━━━━━━━━━━━━━━━━━━━━━━\u001b[0m \u001b[32m0.0\/829.1 kB\u001b[0m \u001b[31m?\u001b[0m eta \u001b[36m-:--:--\u001b[0m\r\u001b[2K     \u001b[90m━━━━━━━━━━━━━━━━━━━━━━━━━━━━━━━━━━━━━━\u001b[0m \u001b[32m829.1\/829.1 kB\u001b[0m \u001b[31m67.6 MB\/s\u001b[0m eta \u001b[36m0:00:00\u001b[0m\r\n",
      "\u001b[?25h  Preparing metadata (setup.py) ... \u001b[?25l-\b \b\\\b \bdone\r\n",
      "\u001b[?25hCollecting sklearn-crfsuite<0.4,>=0.3.6\r\n",
      "  Downloading sklearn_crfsuite-0.3.6-py2.py3-none-any.whl (12 kB)\r\n",
      "Collecting deprecation<3.0,>=2.0\r\n",
      "  Downloading deprecation-2.1.0-py2.py3-none-any.whl (11 kB)\r\n",
      "Requirement already satisfied: requests<3.0,>=2.0 in \/opt\/python\/envs\/default\/lib\/python3.8\/site-packages (from snips-nlu) (2.26.0)\r\n",
      "Collecting num2words<0.6,>=0.5.6\r\n",
      "  Downloading num2words-0.5.12-py3-none-any.whl (125 kB)\r\n",
      "\u001b[?25l     \u001b[90m━━━━━━━━━━━━━━━━━━━━━━━━━━━━━━━━━━━━━━━━\u001b[0m \u001b[32m0.0\/125.2 kB\u001b[0m \u001b[31m?\u001b[0m eta \u001b[36m-:--:--\u001b[0m\r\u001b[2K     \u001b[90m━━━━━━━━━━━━━━━━━━━━━━━━━━━━━━━━━━━━━━\u001b[0m \u001b[32m125.2\/125.2 kB\u001b[0m \u001b[31m14.5 MB\/s\u001b[0m eta \u001b[36m0:00:00\u001b[0m\r\n",
      "\u001b[?25hRequirement already satisfied: numpy<2.0,>=1.15 in \/opt\/python\/envs\/default\/lib\/python3.8\/site-packages (from snips-nlu) (1.21.5)\r\n",
      "Requirement already satisfied: packaging in \/opt\/python\/envs\/default\/lib\/python3.8\/site-packages (from deprecation<3.0,>=2.0->snips-nlu) (23.0)\r\n",
      "Collecting docopt>=0.6.2\r\n",
      "  Downloading docopt-0.6.2.tar.gz (25 kB)\r\n",
      "  Preparing metadata (setup.py) ... \u001b[?25l-\b \bdone\r\n",
      "\u001b[?25hRequirement already satisfied: PyYAML in \/opt\/python\/envs\/default\/lib\/python3.8\/site-packages (from pyaml<20.0,>=17.0->snips-nlu) (6.0)\r\n",
      "Requirement already satisfied: urllib3<1.27,>=1.21.1 in \/opt\/python\/envs\/default\/lib\/python3.8\/site-packages (from requests<3.0,>=2.0->snips-nlu) (1.26.14)\r\n",
      "Requirement already satisfied: certifi>=2017.4.17 in \/opt\/python\/envs\/default\/lib\/python3.8\/site-packages (from requests<3.0,>=2.0->snips-nlu) (2022.12.7)\r\n",
      "Requirement already satisfied: idna<4,>=2.5 in \/opt\/python\/envs\/default\/lib\/python3.8\/site-packages (from requests<3.0,>=2.0->snips-nlu) (3.4)\r\n",
      "Requirement already satisfied: charset-normalizer~=2.0.0 in \/opt\/python\/envs\/default\/lib\/python3.8\/site-packages (from requests<3.0,>=2.0->snips-nlu) (2.0.12)\r\n",
      "Requirement already satisfied: joblib>=0.11 in \/opt\/python\/envs\/default\/lib\/python3.8\/site-packages (from scikit-learn<0.23,>=0.21.1->snips-nlu) (1.2.0)\r\n",
      "Collecting python-crfsuite>=0.8.3\r\n",
      "  Downloading python_crfsuite-0.9.8-cp38-cp38-manylinux_2_17_x86_64.manylinux2014_x86_64.whl (1.0 MB)\r\n",
      "\u001b[?25l     \u001b[90m━━━━━━━━━━━━━━━━━━━━━━━━━━━━━━━━━━━━━━━━\u001b[0m \u001b[32m0.0\/1.0 MB\u001b[0m \u001b[31m?\u001b[0m eta \u001b[36m-:--:--\u001b[0m\r\u001b[2K     \u001b[90m━━━━━━━━━━━━━━━━━━━━━━━━━━━━━━━━━━━━━━━━\u001b[0m \u001b[32m1.0\/1.0 MB\u001b[0m \u001b[31m33.3 MB\/s\u001b[0m eta \u001b[36m0:00:00\u001b[0m\r\n",
      "\u001b[?25hCollecting tabulate\r\n",
      "  Downloading tabulate-0.9.0-py3-none-any.whl (35 kB)\r\n",
      "Requirement already satisfied: tqdm>=2.0 in \/opt\/python\/envs\/default\/lib\/python3.8\/site-packages (from sklearn-crfsuite<0.4,>=0.3.6->snips-nlu) (4.64.1)\r\n",
      "Requirement already satisfied: six in \/opt\/python\/envs\/default\/lib\/python3.8\/site-packages (from sklearn-crfsuite<0.4,>=0.3.6->snips-nlu) (1.16.0)\r\n",
      "Building wheels for collected packages: future, docopt\r\n",
      "  Building wheel for future (setup.py) ... \u001b[?25l-\b \b\\\b \b|\b \b\/\b \b-\b \b\\\b \b|\b \b\/\b \bdone\r\n",
      "\u001b[?25h  Created wheel for future: filename=future-0.17.1-py3-none-any.whl size=488729 sha256=e1c38e5643cd469ef557349fc58847ec5558a39afcaf3321cf6413b4c937bb3a\r\n",
      "  Stored in directory: \/home\/datalore\/.cache\/pip\/wheels\/1c\/1d\/db\/1834235af1bc2c9ca8e63809ce32edeb56f64f6e3af30cb20b\r\n",
      "  Building wheel for docopt (setup.py) ... \u001b[?25l-\b \b\\\b \b|\b \bdone\r\n",
      "\u001b[?25h  Created wheel for docopt: filename=docopt-0.6.2-py2.py3-none-any.whl size=13705 sha256=9aba47b74e1e5b7ee2264ce265a37691b0b0695684b20bbbda50d10d1687bae6\r\n",
      "  Stored in directory: \/home\/datalore\/.cache\/pip\/wheels\/56\/ea\/58\/ead137b087d9e326852a851351d1debf4ada529b6ac0ec4e8c\r\n",
      "Successfully built future docopt\r\n",
      "Installing collected packages: snips-nlu-utils, python-crfsuite, docopt, tabulate, pyaml, num2words, future, deprecation, snips-nlu-parsers, sklearn-crfsuite, scikit-learn, snips-nlu\r\n",
      "  Attempting uninstall: scikit-learn\r\n",
      "    Found existing installation: scikit-learn 1.0.1\r\n",
      "    Uninstalling scikit-learn-1.0.1:\r\n",
      "      Successfully uninstalled scikit-learn-1.0.1\r\n",
      "Successfully installed deprecation-2.1.0 docopt-0.6.2 future-0.17.1 num2words-0.5.12 pyaml-19.12.0 python-crfsuite-0.9.8 scikit-learn-0.22.2.post1 sklearn-crfsuite-0.3.6 snips-nlu-0.20.2 snips-nlu-parsers-0.4.3 snips-nlu-utils-0.9.1 tabulate-0.9.0\r\n",
      "Collecting pyowm\r\n",
      "  Downloading pyowm-3.3.0-py3-none-any.whl (4.5 MB)\r\n",
      "\u001b[?25l     \u001b[90m━━━━━━━━━━━━━━━━━━━━━━━━━━━━━━━━━━━━━━━━\u001b[0m \u001b[32m0.0\/4.5 MB\u001b[0m \u001b[31m?\u001b[0m eta \u001b[36m-:--:--\u001b[0m\r\u001b[2K     \u001b[91m━━━━━━━━━━━━━━━\u001b[0m\u001b[91m╸\u001b[0m\u001b[90m━━━━━━━━━━━━━━━━━━━━━━━━\u001b[0m \u001b[32m1.8\/4.5 MB\u001b[0m \u001b[31m53.2 MB\/s\u001b[0m eta \u001b[36m0:00:01\u001b[0m\r\u001b[2K     \u001b[91m━━━━━━━━━━━━━━━━━━━━━━━━━━━━━━━━━━━━━━━\u001b[0m\u001b[91m╸\u001b[0m \u001b[32m4.5\/4.5 MB\u001b[0m \u001b[31m65.7 MB\/s\u001b[0m eta \u001b[36m0:00:01\u001b[0m\r\u001b[2K     \u001b[90m━━━━━━━━━━━━━━━━━━━━━━━━━━━━━━━━━━━━━━━━\u001b[0m \u001b[32m4.5\/4.5 MB\u001b[0m \u001b[31m46.6 MB\/s\u001b[0m eta \u001b[36m0:00:00\u001b[0m\r\n",
      "\u001b[?25hCollecting geojson<3,>=2.3.0\r\n",
      "  Downloading geojson-2.5.0-py2.py3-none-any.whl (14 kB)\r\n",
      "Collecting PySocks<2,>=1.7.1\r\n",
      "  Downloading PySocks-1.7.1-py3-none-any.whl (16 kB)\r\n",
      "Requirement already satisfied: requests<3,>=2.20.0 in \/opt\/python\/envs\/default\/lib\/python3.8\/site-packages (from pyowm) (2.26.0)\r\n",
      "Requirement already satisfied: charset-normalizer~=2.0.0 in \/opt\/python\/envs\/default\/lib\/python3.8\/site-packages (from requests<3,>=2.20.0->pyowm) (2.0.12)\r\n",
      "Requirement already satisfied: idna<4,>=2.5 in \/opt\/python\/envs\/default\/lib\/python3.8\/site-packages (from requests<3,>=2.20.0->pyowm) (3.4)\r\n",
      "Requirement already satisfied: urllib3<1.27,>=1.21.1 in \/opt\/python\/envs\/default\/lib\/python3.8\/site-packages (from requests<3,>=2.20.0->pyowm) (1.26.14)\r\n",
      "Requirement already satisfied: certifi>=2017.4.17 in \/opt\/python\/envs\/default\/lib\/python3.8\/site-packages (from requests<3,>=2.20.0->pyowm) (2022.12.7)\r\n",
      "Installing collected packages: geojson, PySocks, pyowm\r\n",
      "Successfully installed PySocks-1.7.1 geojson-2.5.0 pyowm-3.3.0\r\n",
      "Collecting imdbpy\r\n",
      "  Downloading IMDbPY-2022.7.9-py3-none-any.whl (1.2 kB)\r\n",
      "Collecting cinemagoer\r\n",
      "  Downloading cinemagoer-2022.12.27-py3-none-any.whl (297 kB)\r\n",
      "\u001b[?25l     \u001b[90m━━━━━━━━━━━━━━━━━━━━━━━━━━━━━━━━━━━━━━━━\u001b[0m \u001b[32m0.0\/297.2 kB\u001b[0m \u001b[31m?\u001b[0m eta \u001b[36m-:--:--\u001b[0m\r\u001b[2K     \u001b[90m━━━━━━━━━━━━━━━━━━━━━━━━━━━━━━━━━━━━━━\u001b[0m \u001b[32m297.2\/297.2 kB\u001b[0m \u001b[31m31.1 MB\/s\u001b[0m eta \u001b[36m0:00:00\u001b[0m\r\n",
      "\u001b[?25hRequirement already satisfied: SQLAlchemy in \/opt\/python\/envs\/default\/lib\/python3.8\/site-packages (from cinemagoer->imdbpy) (1.4.26)\r\n",
      "Requirement already satisfied: lxml in \/opt\/python\/envs\/default\/lib\/python3.8\/site-packages (from cinemagoer->imdbpy) (4.7.1)\r\n",
      "Requirement already satisfied: greenlet!=0.4.17 in \/opt\/python\/envs\/default\/lib\/python3.8\/site-packages (from SQLAlchemy->cinemagoer->imdbpy) (2.0.1)\r\n",
      "Installing collected packages: cinemagoer, imdbpy\r\n",
      "Successfully installed cinemagoer-2022.12.27 imdbpy-2022.7.9\r\n",
      "\u001b[33mDEPRECATION: https:\/\/github.com\/snipsco\/snips-nlu-language-resources\/releases\/download\/snips_nlu_en-0.2.3\/snips_nlu_en-0.2.3.tar.gz#egg=snips_nlu_en==0.2.3 contains an egg fragment with a non-PEP 508 name pip 25.0 will enforce this behaviour change. A possible replacement is to use the req @ url syntax, and remove the egg fragment. Discussion can be found at https:\/\/github.com\/pypa\/pip\/issues\/11617\u001b[0m\u001b[33m\r\n",
      "\u001b[0mCollecting snips_nlu_en==0.2.3\r\n",
      "  Downloading https:\/\/github.com\/snipsco\/snips-nlu-language-resources\/releases\/download\/snips_nlu_en-0.2.3\/snips_nlu_en-0.2.3.tar.gz (1.3 MB)\r\n",
      "\u001b[?25l     \u001b[90m━━━━━━━━━━━━━━━━━━━━━━━━━━━━━━━━━━━━━━━━\u001b[0m \u001b[32m0.0\/1.3 MB\u001b[0m \u001b[31m?\u001b[0m eta \u001b[36m-:--:--\u001b[0m\r\u001b[2K     \u001b[91m━\u001b[0m\u001b[91m╸\u001b[0m\u001b[90m━━━━━━━━━━━━━━━━━━━━━━━━━━━━━━━━━━━━━━\u001b[0m \u001b[32m0.1\/1.3 MB\u001b[0m \u001b[31m2.5 MB\/s\u001b[0m eta \u001b[36m0:00:01\u001b[0m\r\u001b[2K     \u001b[91m━━━━━━━━━━━━━━━━━━━━━━━━━━━━━━\u001b[0m\u001b[91m╸\u001b[0m\u001b[90m━━━━━━━━━\u001b[0m \u001b[32m1.0\/1.3 MB\u001b[0m \u001b[31m16.8 MB\/s\u001b[0m eta \u001b[36m0:00:01\u001b[0m\r\u001b[2K     \u001b[90m━━━━━━━━━━━━━━━━━━━━━━━━━━━━━━━━━━━━━━━━\u001b[0m \u001b[32m1.3\/1.3 MB\u001b[0m \u001b[31m20.1 MB\/s\u001b[0m eta \u001b[36m0:00:00\u001b[0m\r\n",
      "\u001b[?25h  Preparing metadata (setup.py) ... \u001b[?25l-\b \bdone\r\n",
      "\u001b[?25hBuilding wheels for collected packages: snips_nlu_en\r\n",
      "  Building wheel for snips_nlu_en (setup.py) ... \u001b[?25l-\b \b\\\b \b|\b \b\/\b \bdone\r\n",
      "\u001b[?25h  Created wheel for snips_nlu_en: filename=snips_nlu_en-0.2.3-py3-none-any.whl size=1297459 sha256=be07056852e02bbeb86301bbc26f6cec4cf51c005a9ccdcc01dc32238271cd61\r\n",
      "  Stored in directory: \/tmp\/pip-ephem-wheel-cache-kqk0_lsc\/wheels\/77\/e5\/27\/a2c7ae7b04c836360914a1ac909339da898cb66444e709f650\r\n",
      "Successfully built snips_nlu_en\r\n",
      "Installing collected packages: snips_nlu_en\r\n",
      "Successfully installed snips_nlu_en-0.2.3\r\n",
      "\r\n",
      "\u001b[92mLinking successful\u001b[0m\r\n",
      "\/opt\/python\/envs\/default\/lib\/python3.8\/site-packages\/snips_nlu_en\/snips_nlu_en-0.2.3 --> \/opt\/python\/envs\/default\/lib\/python3.8\/site-packages\/snips_nlu\/data\/en\r\n",
      "\r\n",
      "Cloning into 'workshop_utils'...\r\n",
      "remote: Enumerating objects: 50, done.\u001b[K\r\n",
      "remote: Counting objects:   2% (1\/50)\u001b[K\rremote: Counting objects:   4% (2\/50)\u001b[K\rremote: Counting objects:   6% (3\/50)\u001b[K\rremote: Counting objects:   8% (4\/50)\u001b[K\rremote: Counting objects:  10% (5\/50)\u001b[K\rremote: Counting objects:  12% (6\/50)\u001b[K\rremote: Counting objects:  14% (7\/50)\u001b[K\rremote: Counting objects:  16% (8\/50)\u001b[K\rremote: Counting objects:  18% (9\/50)\u001b[K\rremote: Counting objects:  20% (10\/50)\u001b[K\rremote: Counting objects:  22% (11\/50)\u001b[K\rremote: Counting objects:  24% (12\/50)\u001b[K\rremote: Counting objects:  26% (13\/50)\u001b[K\rremote: Counting objects:  28% (14\/50)\u001b[K\rremote: Counting objects:  30% (15\/50)\u001b[K\rremote: Counting objects:  32% (16\/50)\u001b[K\rremote: Counting objects:  34% (17\/50)\u001b[K\rremote: Counting objects:  36% (18\/50)\u001b[K\rremote: Counting objects:  38% (19\/50)\u001b[K\rremote: Counting objects:  40% (20\/50)\u001b[K\rremote: Counting objects:  42% (21\/50)\u001b[K\rremote: Counting objects:  44% (22\/50)\u001b[K\rremote: Counting objects:  46% (23\/50)\u001b[K\rremote: Counting objects:  48% (24\/50)\u001b[K\rremote: Counting objects:  50% (25\/50)\u001b[K\rremote: Counting objects:  52% (26\/50)\u001b[K\rremote: Counting objects:  54% (27\/50)\u001b[K\rremote: Counting objects:  56% (28\/50)\u001b[K\rremote: Counting objects:  58% (29\/50)\u001b[K\rremote: Counting objects:  60% (30\/50)\u001b[K\rremote: Counting objects:  62% (31\/50)\u001b[K\rremote: Counting objects:  64% (32\/50)\u001b[K\rremote: Counting objects:  66% (33\/50)\u001b[K\rremote: Counting objects:  68% (34\/50)\u001b[K\rremote: Counting objects:  70% (35\/50)\u001b[K\rremote: Counting objects:  72% (36\/50)\u001b[K\rremote: Counting objects:  74% (37\/50)\u001b[K\rremote: Counting objects:  76% (38\/50)\u001b[K\rremote: Counting objects:  78% (39\/50)\u001b[K\rremote: Counting objects:  80% (40\/50)\u001b[K\rremote: Counting objects:  82% (41\/50)\u001b[K\rremote: Counting objects:  84% (42\/50)\u001b[K\rremote: Counting objects:  86% (43\/50)\u001b[K\rremote: Counting objects:  88% (44\/50)\u001b[K\rremote: Counting objects:  90% (45\/50)\u001b[K\rremote: Counting objects:  92% (46\/50)\u001b[K\rremote: Counting objects:  94% (47\/50)\u001b[K\rremote: Counting objects:  96% (48\/50)\u001b[K\rremote: Counting objects:  98% (49\/50)\u001b[K\rremote: Counting objects: 100% (50\/50)\u001b[K\rremote: Counting objects: 100% (50\/50), done.\u001b[K\r\n",
      "remote: Compressing objects:   2% (1\/38)\u001b[K\rremote: Compressing objects:   5% (2\/38)\u001b[K\rremote: Compressing objects:   7% (3\/38)\u001b[K\rremote: Compressing objects:  10% (4\/38)\u001b[K\rremote: Compressing objects:  13% (5\/38)\u001b[K\rremote: Compressing objects:  15% (6\/38)\u001b[K\rremote: Compressing objects:  18% (7\/38)\u001b[K\rremote: Compressing objects:  21% (8\/38)\u001b[K\rremote: Compressing objects:  23% (9\/38)\u001b[K\rremote: Compressing objects:  26% (10\/38)\u001b[K\rremote: Compressing objects:  28% (11\/38)\u001b[K\rremote: Compressing objects:  31% (12\/38)\u001b[K\rremote: Compressing objects:  34% (13\/38)\u001b[K\rremote: Compressing objects:  36% (14\/38)\u001b[K\rremote: Compressing objects:  39% (15\/38)\u001b[K\rremote: Compressing objects:  42% (16\/38)\u001b[K\rremote: Compressing objects:  44% (17\/38)\u001b[K\rremote: Compressing objects:  47% (18\/38)\u001b[K\rremote: Compressing objects:  50% (19\/38)\u001b[K\rremote: Compressing objects:  52% (20\/38)\u001b[K\rremote: Compressing objects:  55% (21\/38)\u001b[K\rremote: Compressing objects:  57% (22\/38)\u001b[K\rremote: Compressing objects:  60% (23\/38)\u001b[K\rremote: Compressing objects:  63% (24\/38)\u001b[K\rremote: Compressing objects:  65% (25\/38)\u001b[K\rremote: Compressing objects:  68% (26\/38)\u001b[K\rremote: Compressing objects:  71% (27\/38)\u001b[K\rremote: Compressing objects:  73% (28\/38)\u001b[K\rremote: Compressing objects:  76% (29\/38)\u001b[K\rremote: Compressing objects:  78% (30\/38)\u001b[K\rremote: Compressing objects:  81% (31\/38)\u001b[K\rremote: Compressing objects:  84% (32\/38)\u001b[K\rremote: Compressing objects:  86% (33\/38)\u001b[K\rremote: Compressing objects:  89% (34\/38)\u001b[K\rremote: Compressing objects:  92% (35\/38)\u001b[K\rremote: Compressing objects:  94% (36\/38)\u001b[K\rremote: Compressing objects:  97% (37\/38)\u001b[K\rremote: Compressing objects: 100% (38\/38)\u001b[K\rremote: Compressing objects: 100% (38\/38), done.\u001b[K\r\n",
      "remote: Total 50 (delta 18), reused 42 (delta 11), pack-reused 0\u001b[K\r\n",
      "Receiving objects:   2% (1\/50)\rReceiving objects:   4% (2\/50)\rReceiving objects:   6% (3\/50)\rReceiving objects:   8% (4\/50)\rReceiving objects:  10% (5\/50)\rReceiving objects:  12% (6\/50)\rReceiving objects:  14% (7\/50)\rReceiving objects:  16% (8\/50)\rReceiving objects:  18% (9\/50)\rReceiving objects:  20% (10\/50)\rReceiving objects:  22% (11\/50)\rReceiving objects:  24% (12\/50)\rReceiving objects:  26% (13\/50)\rReceiving objects:  28% (14\/50)\rReceiving objects:  30% (15\/50)\rReceiving objects:  32% (16\/50)\rReceiving objects:  34% (17\/50)\rReceiving objects:  36% (18\/50)\rReceiving objects:  38% (19\/50)\rReceiving objects:  40% (20\/50)\rReceiving objects:  42% (21\/50)\rReceiving objects:  44% (22\/50)\rReceiving objects:  46% (23\/50)\rReceiving objects:  48% (24\/50)\rReceiving objects:  50% (25\/50)\rReceiving objects:  52% (26\/50)\rReceiving objects:  54% (27\/50)\rReceiving objects:  56% (28\/50)\rReceiving objects:  58% (29\/50)\rReceiving objects:  60% (30\/50)\rReceiving objects:  62% (31\/50)\rReceiving objects:  64% (32\/50)\rReceiving objects:  66% (33\/50)\rReceiving objects:  68% (34\/50)\rReceiving objects:  70% (35\/50)\rReceiving objects:  72% (36\/50)\rReceiving objects:  74% (37\/50)\rReceiving objects:  76% (38\/50)\rReceiving objects:  78% (39\/50)\rReceiving objects:  80% (40\/50)\rReceiving objects:  82% (41\/50)\rReceiving objects:  84% (42\/50)\rReceiving objects:  86% (43\/50)\rReceiving objects:  88% (44\/50)\rReceiving objects:  90% (45\/50)\rReceiving objects:  92% (46\/50)\rReceiving objects:  94% (47\/50)\rReceiving objects:  96% (48\/50)\rReceiving objects:  98% (49\/50)\rReceiving objects: 100% (50\/50)\rReceiving objects: 100% (50\/50), 9.10 KiB | 1.30 MiB\/s, done.\r\n",
      "Resolving deltas:   0% (0\/18)\rResolving deltas:   5% (1\/18)\rResolving deltas:  11% (2\/18)\rResolving deltas:  16% (3\/18)\rResolving deltas:  22% (4\/18)\rResolving deltas:  27% (5\/18)\rResolving deltas:  33% (6\/18)\rResolving deltas:  38% (7\/18)\rResolving deltas:  44% (8\/18)\rResolving deltas:  50% (9\/18)\rResolving deltas:  55% (10\/18)\rResolving deltas:  61% (11\/18)\rResolving deltas:  66% (12\/18)\rResolving deltas:  72% (13\/18)\rResolving deltas:  77% (14\/18)\rResolving deltas:  83% (15\/18)\rResolving deltas:  88% (16\/18)\rResolving deltas:  94% (17\/18)\rResolving deltas: 100% (18\/18)\rResolving deltas: 100% (18\/18), done.\r\n"
     ],
     "output_type":"stream"
    }
   ],
   "metadata":{
    "datalore":{
     "node_id":"3EbwBtA4k6XmiuP31pndRY",
     "type":"CODE",
     "hide_input_from_viewers":false,
     "hide_output_from_viewers":false,
     "report_properties":{
      
     }
    }
   }
  },
  {
   "cell_type":"markdown",
   "source":[
    "## 2.1.2 Create training dataset\n",
    "\n",
    "Prepare the training dataset to train your Natural Language Understanding (NLU) Engine.\n",
    "\n",
    "In our training dataset, we will have the following **intents**:\n",
    "\n",
    "1. **tell_joke** : To detect that the user is asking the virtual assistant for a joke. There are no slots required for this intent.\n",
    "    * **Example utterances:** \"Hi, tell me a joke.\", \"I'm bored. Entertain me with a funny joke.\"  \n",
    "    \n",
    "    \n",
    "2. **get_weather** : To detect that the user is asking for current weather of a city. For this intent we need to define an entity for ``city``.\n",
    "    * **Example utterances:** \"How is the weather in New York?\", \"I wonder how the weather conditions are like in Hong Kong right now?\"  \n",
    "    \n",
    "    \n",
    "    \n",
    "3. **get_rating** : To detect that the user is asking the rating for a movie. For this intent we need to define an entity for ``movie_name``.\n",
    "    * **Example utterances:** \"How good is the movie Batman?\", \"I want to know the movie ratings for Fast and Furious\"  \n",
    "    \n",
    "    \n",
    "    \n",
    "4. **get_director** : To detect that the user is asking for who is the director of a movie. For this intent we need to define an entity for ``movie_name``.\n",
    "    * **Example utterances:** \"Who directed Tenet?\", \"I want to know the director of the movie Ip Man\"\n",
    "    \n",
    "\n",
    "We will have the following **entities**:\n",
    "\n",
    "1. **city**\n",
    "    * **Examples**: Hong Kong, New York, Dublin, London  \n",
    "    \n",
    "    \n",
    "2. **movie_name**\n",
    "    * **Examples**: Star Wars, Ip Man, The Dark Knight, La la land\n",
    "\n",
    "\n",
    "**We have created a starter dataset for you with 1 example intent and 1 example entity in the file ``dataset.yaml``**"
   ],
   "attachments":{
    
   },
   "metadata":{
    "datalore":{
     "node_id":"mARPyJ3dgfcrFhoeLEnsIe",
     "type":"MD",
     "hide_input_from_viewers":false,
     "hide_output_from_viewers":false,
     "report_properties":{
      
     }
    }
   }
  },
  {
   "cell_type":"markdown",
   "source":[
    "## 2.1.3 Convert the dataset to json format\n",
    "\n",
    "Run the next cell to convert the dataset to json format to train the NLU Engine"
   ],
   "attachments":{
    
   },
   "metadata":{
    "datalore":{
     "node_id":"r30l3nGqyc5zGRGwQ1jzhy",
     "type":"MD",
     "hide_input_from_viewers":false,
     "hide_output_from_viewers":false,
     "report_properties":{
      
     }
    }
   }
  },
  {
   "cell_type":"code",
   "source":[
    "# Run this cell\n",
    "\n",
    "!snips-nlu generate-dataset en workshop_utils\/dataset.yaml > dataset.json"
   ],
   "execution_count":6,
   "outputs":[
    
   ],
   "metadata":{
    "datalore":{
     "node_id":"kzs28mG2KOWTHRDPKdsxNZ",
     "type":"CODE",
     "hide_input_from_viewers":false,
     "hide_output_from_viewers":false,
     "report_properties":{
      
     }
    }
   }
  },
  {
   "cell_type":"markdown",
   "source":[
    "## 2.1.4 Open the dataset\n",
    "\n",
    "To open the dataset, we will follow the following steps:\n",
    "1. Use ``open`` function to load the file into Python in a variable called ``dataset_file``.\n",
    "2. use ``load`` function from ``json`` as ``json.load(dataset_file)`` into a variable called ``training_dataset``."
   ],
   "attachments":{
    
   },
   "metadata":{
    "datalore":{
     "node_id":"XN8sX5Y8DItQ0v1zHxfxUQ",
     "type":"MD",
     "hide_input_from_viewers":false,
     "hide_output_from_viewers":false,
     "report_properties":{
      
     }
    }
   }
  },
  {
   "cell_type":"code",
   "source":[
    "# Write the code below\n",
    "dataset_file = open(\"dataset.json\", \"r\")\n",
    "training_dataset = json.load(dataset_file)"
   ],
   "execution_count":7,
   "outputs":[
    
   ],
   "metadata":{
    "datalore":{
     "node_id":"94lfaKrBoq2GsCfTgMsxmE",
     "type":"CODE",
     "hide_input_from_viewers":false,
     "hide_output_from_viewers":false,
     "report_properties":{
      
     }
    }
   }
  },
  {
   "cell_type":"markdown",
   "source":[
    "# Part 2.2: Train the NLU engine"
   ],
   "attachments":{
    
   },
   "metadata":{
    "datalore":{
     "node_id":"G6VeuCYtPEKfn37WNS7IYp",
     "type":"MD",
     "hide_input_from_viewers":false,
     "hide_output_from_viewers":false,
     "report_properties":{
      
     }
    }
   }
  },
  {
   "cell_type":"markdown",
   "source":[
    "## 2.2.1 Initialize the Snips-NLU Engine with English Configuration\n",
    "\n",
    "We will start our Snips-NLU engine using the ``SnipsNLUEngine()``. We will pass a parameter in it as ``config=CONFIG_EN``, which will load the English language configuration in our NLU engine. \n",
    "\n",
    "We will store the Snips-NLU engine in a variable called ``NLUengine``"
   ],
   "attachments":{
    
   },
   "metadata":{
    "datalore":{
     "node_id":"lryney9T0UUI22GhG58c72",
     "type":"MD",
     "hide_input_from_viewers":false,
     "hide_output_from_viewers":false,
     "report_properties":{
      
     }
    }
   }
  },
  {
   "cell_type":"code",
   "source":[
    "# Write the code below\n",
    "NLUengine = SnipsNLUEngine(config=CONFIG_EN)"
   ],
   "execution_count":8,
   "outputs":[
    
   ],
   "metadata":{
    "datalore":{
     "node_id":"rFsT8MNS1uZRlJovE2pCKo",
     "type":"CODE",
     "hide_input_from_viewers":false,
     "hide_output_from_viewers":false,
     "report_properties":{
      
     }
    }
   }
  },
  {
   "cell_type":"markdown",
   "source":[
    "## 2.2.2 Train the NLU Engine\n",
    "\n",
    "We will now train the NLU engine using our training dataset. We will use ``fit()`` function to train the model\n",
    "\n",
    "To train the model we have to run:\n",
    "```\n",
    "NLUengine.fit(training_dataset)\n",
    "```"
   ],
   "attachments":{
    
   },
   "metadata":{
    "datalore":{
     "node_id":"bZqGwaXXcS1rphMSKBKKXf",
     "type":"MD",
     "hide_input_from_viewers":false,
     "hide_output_from_viewers":false,
     "report_properties":{
      
     }
    }
   }
  },
  {
   "cell_type":"code",
   "source":[
    "# Write the code below\n",
    "\n",
    "NLUengine.fit(training_dataset)"
   ],
   "execution_count":9,
   "outputs":[
    {
     "data":{
      "text\/plain":[
       "<snips_nlu.nlu_engine.nlu_engine.SnipsNLUEngine at 0x7fa81e73b370>"
      ]
     },
     "metadata":{
      
     },
     "output_type":"display_data"
    }
   ],
   "metadata":{
    "datalore":{
     "node_id":"IdCei18wPETEuOgkEmsaQM",
     "type":"CODE",
     "hide_input_from_viewers":false,
     "hide_output_from_viewers":false,
     "report_properties":{
      
     }
    }
   }
  },
  {
   "cell_type":"markdown",
   "source":[
    "## 2.2.3 Use the NLU Engine to parse the intention\n",
    "\n",
    "Let's try to use our engine on the utterance ``\"How's the weather in Hong Kong\"``\n",
    "\n",
    "Use the function ``prediction = NLUengine.parse(your utterance)``"
   ],
   "attachments":{
    
   },
   "metadata":{
    "datalore":{
     "node_id":"VHkgrslNf0toGvaOUfnLso",
     "type":"MD",
     "hide_input_from_viewers":false,
     "hide_output_from_viewers":false,
     "report_properties":{
      
     }
    }
   }
  },
  {
   "cell_type":"code",
   "source":[
    "# Write the code below\n",
    "\n",
    "prediction = NLUengine.parse(\"How is the weather in Hong Kong?\")"
   ],
   "execution_count":10,
   "outputs":[
    
   ],
   "metadata":{
    "datalore":{
     "node_id":"OnCkfnnNYmC0H3TT7LxO91",
     "type":"CODE",
     "hide_input_from_viewers":false,
     "hide_output_from_viewers":false,
     "report_properties":{
      
     }
    }
   }
  },
  {
   "cell_type":"markdown",
   "source":[
    "## 2.2.4 Print the prediction\n",
    "\n",
    "To print the prediction in a more readable format we will use ``json.dumps()`` function as:\n",
    "\n",
    "``print(json.dumps(prediction, indent=2))``"
   ],
   "attachments":{
    
   },
   "metadata":{
    "datalore":{
     "node_id":"gvIdUTrn075GBcS6GRuIqo",
     "type":"MD",
     "hide_input_from_viewers":false,
     "hide_output_from_viewers":false,
     "report_properties":{
      
     }
    }
   }
  },
  {
   "cell_type":"code",
   "source":[
    "# Write the code below\n",
    "\n",
    "print(json.dumps(prediction, indent=2))"
   ],
   "execution_count":11,
   "outputs":[
    {
     "name":"stdout",
     "text":[
      "{\n",
      "  \"input\": \"How is the weather in Hong Kong?\",\n",
      "  \"intent\": {\n",
      "    \"intentName\": \"get_weather\",\n",
      "    \"probability\": 1.0\n",
      "  },\n",
      "  \"slots\": [\n",
      "    {\n",
      "      \"range\": {\n",
      "        \"start\": 22,\n",
      "        \"end\": 31\n",
      "      },\n",
      "      \"rawValue\": \"Hong Kong\",\n",
      "      \"value\": {\n",
      "        \"kind\": \"Custom\",\n",
      "        \"value\": \"Hong Kong\"\n",
      "      },\n",
      "      \"entity\": \"city\",\n",
      "      \"slotName\": \"city\"\n",
      "    }\n",
      "  ]\n",
      "}\n"
     ],
     "output_type":"stream"
    }
   ],
   "metadata":{
    "datalore":{
     "node_id":"C7drSClxvMG3BMamMVaoCH",
     "type":"CODE",
     "hide_input_from_viewers":false,
     "hide_output_from_viewers":false,
     "report_properties":{
      
     }
    }
   }
  },
  {
   "cell_type":"markdown",
   "source":[
    "## 2.2.5 Get the intent\n",
    "\n",
    "To get the intent we access the intent name element from the resulted ``prediction`` dictionary.\n",
    "\n",
    "We have made a function for you to get the intent easily. You can use ``get_intent(prediction)`` to get the intent."
   ],
   "attachments":{
    
   },
   "metadata":{
    "datalore":{
     "node_id":"o9t7DTTcFUEM8sAPQnP5nN",
     "type":"MD",
     "hide_input_from_viewers":false,
     "hide_output_from_viewers":false,
     "report_properties":{
      
     }
    }
   }
  },
  {
   "cell_type":"code",
   "source":[
    "# Write the code below\n",
    "\n",
    "print(get_intent(prediction))"
   ],
   "execution_count":12,
   "outputs":[
    {
     "name":"stdout",
     "text":[
      "get_weather\n"
     ],
     "output_type":"stream"
    }
   ],
   "metadata":{
    "datalore":{
     "node_id":"Y3R8NeNGwiet4k2tEcmtsu",
     "type":"CODE",
     "hide_input_from_viewers":false,
     "hide_output_from_viewers":false,
     "report_properties":{
      
     }
    }
   }
  },
  {
   "cell_type":"markdown",
   "source":[
    "## 2.2.6 Get the entity\n",
    "You can use our function ``get_entity(prediction)`` to get the slot's entity."
   ],
   "attachments":{
    
   },
   "metadata":{
    "datalore":{
     "node_id":"hKCAEYO0nGeDtjCJy6sGws",
     "type":"MD",
     "hide_input_from_viewers":false,
     "hide_output_from_viewers":false,
     "report_properties":{
      
     }
    }
   }
  },
  {
   "cell_type":"code",
   "source":[
    "# Write the code below\n",
    "\n",
    "print(get_entity(prediction))"
   ],
   "execution_count":13,
   "outputs":[
    {
     "name":"stdout",
     "text":[
      "city\n"
     ],
     "output_type":"stream"
    }
   ],
   "metadata":{
    "datalore":{
     "node_id":"nfI0pqRi5mzgb5VEWlhZDi",
     "type":"CODE",
     "hide_input_from_viewers":false,
     "hide_output_from_viewers":false,
     "report_properties":{
      
     }
    }
   }
  },
  {
   "cell_type":"markdown",
   "source":[
    "## 2.2.7 Get the slots's value\n",
    "\n",
    "You can use our function ``get_slot_value(prediction)`` to get the slot's value."
   ],
   "attachments":{
    
   },
   "metadata":{
    "datalore":{
     "node_id":"QrirZK5UQ67vo3V6hdqBlX",
     "type":"MD",
     "hide_input_from_viewers":false,
     "hide_output_from_viewers":false,
     "report_properties":{
      
     }
    }
   }
  },
  {
   "cell_type":"code",
   "source":[
    "# Write the code below\n",
    "\n",
    "print(get_slot_value(prediction))"
   ],
   "execution_count":14,
   "outputs":[
    {
     "name":"stdout",
     "text":[
      "Hong Kong\n"
     ],
     "output_type":"stream"
    }
   ],
   "metadata":{
    "datalore":{
     "node_id":"844f74IaUqbQQdyPwodGIJ",
     "type":"CODE",
     "hide_input_from_viewers":false,
     "hide_output_from_viewers":false,
     "report_properties":{
      
     }
    }
   }
  },
  {
   "cell_type":"markdown",
   "source":[
    "# Part 2.3: Integrate the NLU engine with APIs"
   ],
   "attachments":{
    
   },
   "metadata":{
    "datalore":{
     "node_id":"DhQ8dptk5w4TrxULLHncBA",
     "type":"MD",
     "hide_input_from_viewers":false,
     "hide_output_from_viewers":false,
     "report_properties":{
      
     }
    }
   }
  },
  {
   "cell_type":"markdown",
   "source":[
    "We have provided you with the following pre-defined functions:\n",
    "1. ```pyjokes.get_joke()```: This function from pyjokes library returns a joke (a nerdy programming based joke)\n",
    "2. ```get_city_weather(city)```: Given a city, it will print its current temperature and weather condition\n",
    "3. ```get_movie_rating(movie_name)```: Given a movie name, it will print its IMDB rating\n",
    "4. ```get_movie_directors(movie_name)```: Given a movie name, it will print the name(s) of its director(s)\n",
    "\n",
    "We will now use these functions to integrate our NLU with the APIs to get a working virtual assistant"
   ],
   "attachments":{
    
   },
   "metadata":{
    "datalore":{
     "node_id":"SNP5btAkY1ftNksdM55Pet",
     "type":"MD",
     "hide_input_from_viewers":false,
     "hide_output_from_viewers":false,
     "report_properties":{
      
     }
    }
   }
  },
  {
   "cell_type":"markdown",
   "source":[
    "## 2.3.1 Create a function\n",
    "\n",
    "First we create a function called ```assistant``` that given an utterance, gives an appropriate response based on user's intent.\n",
    "\n",
    "The function will have ``utterance`` as one of the parameter.\n",
    "\n",
    "The function should work in the following manner:\n",
    "\n",
    "1. Get the **intent** and **slot type** of the utterance using the NLU Engine\n",
    "2. If the intent is ```tell_joke```, print the output of ```pyjokes.get_joke()``` function.\n",
    "3. Else if the intent is ```get_weather```, get the value of slot ```city``` and use the ``get_city_weather(city)`` function.\n",
    "4. Else if the intent is ```get_rating```, get the value of slot ```movie_name``` and use the ``get_movie_rating(movie_name)`` function.\n",
    "5. Else if the intent is ```get_director```, get the value of slot ```movie_name``` and use the ``get_movie_directors(movie_name)`` function.\n",
    "6. Else ``print(\"Unknown intent\")``.\n",
    "\n",
    "**Note: Inside the if-statements for ``get_weather``, ``get_rating``, ``get_director``, and ``get_cast``, you need to add another if-statement to check if the slot-type is correct. If it is not correct, you need to print \"Sorry, please try again.\"**"
   ],
   "attachments":{
    
   },
   "metadata":{
    "datalore":{
     "node_id":"JM2PelqT6wWA0AbD97fnSc",
     "type":"MD",
     "hide_input_from_viewers":false,
     "hide_output_from_viewers":false,
     "report_properties":{
      
     }
    }
   }
  },
  {
   "cell_type":"code",
   "source":[
    "# Write the code below\n",
    "\n",
    "def assistant(utterance):\n",
    "    prediction = NLUengine.parse(utterance)\n",
    "    intent = get_intent(prediction)\n",
    "    entity = get_entity(prediction)\n",
    "\n",
    "\n",
    "\n",
    "    if (intent == \"tell_joke\"):\n",
    "        print(pyjokes.get_joke())\n",
    "\n",
    "    elif (intent == \"get_weather\"):\n",
    "\n",
    "        if (entity == \"city\"): \n",
    "            city_name = get_slot_value(prediction)\n",
    "            get_city_weather(city_name)\n",
    "        else:\n",
    "            print(\"Sorry, can you try again?\")\n",
    "\n",
    "    elif (intent == \"get_rating\"):\n",
    "\n",
    "        if (entity == \"movie_name\"): \n",
    "            movie_name = get_slot_value(prediction)\n",
    "            get_movie_rating(movie_name)\n",
    "        else:\n",
    "            print(\"Sorry, can you try again?\")\n",
    "\n",
    "    elif (intent == \"get_director\"):\n",
    "\n",
    "        if (entity == \"movie_name\"): \n",
    "            movie_name = get_slot_value(prediction)\n",
    "            get_movie_directors(movie_name)\n",
    "        else:\n",
    "            print(\"Sorry, can you try again?\")\n",
    "\n",
    "    else:\n",
    "        print(\"Unknown intent\")\n",
    "        "
   ],
   "execution_count":15,
   "outputs":[
    
   ],
   "metadata":{
    "datalore":{
     "node_id":"psYjzAPT0fu3s6FgWaEwrl",
     "type":"CODE",
     "hide_input_from_viewers":false,
     "hide_output_from_viewers":false,
     "report_properties":{
      
     }
    }
   }
  },
  {
   "cell_type":"markdown",
   "source":[
    "## 2.3.2 Create a conversation loop\n",
    "\n",
    "\n",
    "We will create a loop that keeps on going until the user enters **Bye**\n",
    "\n",
    "We will use a new kind of loop called ``while-loop``\n",
    "\n",
    "The loop has to accomplish the following things:\n",
    "1. Keep asking for user input until the user enters **Bye**\n",
    "2. Call the ``assistant`` function on the user's input\n",
    "\n",
    "To break the loop, we will use a new keyword called ``break``.  \n",
    "\n",
    "To get input from the user we will use a Python function called ``input``.  \n",
    "\n",
    "**We have partially written the code below to help you. Please fill the remaining code**"
   ],
   "attachments":{
    
   },
   "metadata":{
    "datalore":{
     "node_id":"nsnlVl7oJMB1XPruZ5d4uQ",
     "type":"MD",
     "hide_input_from_viewers":false,
     "hide_output_from_viewers":false,
     "report_properties":{
      
     }
    }
   }
  },
  {
   "cell_type":"code",
   "source":[
    "# Complete the code belo\n",
    "\n",
    "print(\"Welcome to the virtual assistant. How can I help you?\")\n",
    "while True:\n",
    "    print(\"------------------------------------\")\n",
    "    user_input=str(input(\"Enter your input: \"))\n",
    "    \n",
    "    # This if statement should break the loop if the user_input is \"Bye\"\n",
    "    if (user_input == \"Bye\" or user_input == \"bye\"):\n",
    "        print(\"Have a good day!\")\n",
    "        break\n",
    "    \n",
    "    else:\n",
    "        print(\"Assistant: \")\n",
    "        assistant(user_input)"
   ],
   "execution_count":16,
   "outputs":[
    {
     "name":"stdout",
     "text":[
      "Welcome to the virtual assistant. How can I help you?\n",
      "------------------------------------\n",
      "Enter your input:  How good is the weather?\n",
      "Assistant: \n",
      "Sorry, can you try again?\n",
      "------------------------------------\n",
      "Enter your input:  How is the weather in Hong Kong?\n",
      "Assistant: \n",
      "The current temperature is 21.02 degrees Celsius.\n",
      "The weather condition is broken clouds.\n",
      "------------------------------------\n",
      "Enter your input:  How good is the movie the others\n",
      "Assistant: \n",
      "The Others got a rating of 7.6 out of 10\n",
      "------------------------------------\n",
      "Enter your input:  Who directed the movie titanic\n",
      "Assistant: \n",
      "The director(s) of the is\/are:\n",
      "Movie director(s) couldn't be found in the database\n",
      "------------------------------------\n",
      "Enter your input:  who directed the movie the titanic\n",
      "Assistant: \n",
      "The director(s) of the titanic is\/are:\n",
      "James Cameron\n",
      "------------------------------------\n",
      "Enter your input:  bye\n",
      "Have a good day!\n"
     ],
     "output_type":"stream"
    }
   ],
   "metadata":{
    "datalore":{
     "node_id":"VEvZBtlvepgdc5FZYUtfCK",
     "type":"CODE",
     "hide_input_from_viewers":false,
     "hide_output_from_viewers":false,
     "report_properties":{
      
     }
    }
   }
  },
  {
   "cell_type":"markdown",
   "source":[
    "# End of Part 2\n",
    "\n",
    "## Thank you for attending the workshop"
   ],
   "attachments":{
    
   },
   "metadata":{
    "datalore":{
     "node_id":"TdhIVan5uMVrVcyw8H80TY",
     "type":"MD",
     "hide_input_from_viewers":false,
     "hide_output_from_viewers":false,
     "report_properties":{
      
     }
    }
   }
  }
 ],
 "metadata":{
  "kernelspec":{
   "display_name":"Python",
   "language":"python",
   "name":"python"
  },
  "datalore":{
   "version":1,
   "computation_mode":"JUPYTER",
   "package_manager":"pip",
   "base_environment":"default",
   "packages":[
    
   ]
  }
 },
 "nbformat":4,
 "nbformat_minor":4
}