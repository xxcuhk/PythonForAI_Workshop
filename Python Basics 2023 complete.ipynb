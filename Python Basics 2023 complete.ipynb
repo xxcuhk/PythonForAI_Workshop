{
 "cells": [
  {
   "cell_type": "markdown",
   "metadata": {
    "datalore": {
     "hide_input_from_viewers": false,
     "hide_output_from_viewers": false,
     "type": "MD"
    }
   },
   "source": [
    "<h1><span style=\"color:#338DFF\"> AI With Python Workshop </span></h1>\n",
    "\n",
    "This notebook complements the powerpoint slides during the workshop and will be used to do the coding exercises \n",
    "\n",
    "-----------"
   ]
  },
  {
   "cell_type": "markdown",
   "metadata": {
    "datalore": {
     "hide_input_from_viewers": false,
     "hide_output_from_viewers": false,
     "type": "MD"
    }
   },
   "source": [
    "## 1.1 Hello World\n",
    "\n",
    "Our first coding exercise. We print \"Hello World\" on our computer screen.  \n",
    "\n",
    "In the coding cell below type ```print(\"Hello World\")``` and press the **Run** button"
   ]
  },
  {
   "cell_type": "code",
   "execution_count": null,
   "metadata": {
    "datalore": {
     "hide_input_from_viewers": false,
     "hide_output_from_viewers": false,
     "type": "CODE"
    }
   },
   "outputs": [],
   "source": [
    "# Write code below\n",
    "print(\"Hello World\")"
   ]
  },
  {
   "cell_type": "markdown",
   "metadata": {
    "datalore": {
     "hide_input_from_viewers": false,
     "hide_output_from_viewers": false,
     "type": "MD"
    }
   },
   "source": [
    "## 1.2 Variables\n",
    "\n",
    "Variables are containers storing values.\n",
    "\n",
    "E.g., To initialize variables, \n",
    "* ``my_string_variable = \"Welcome to the workshop\"``  \n",
    "\n",
    "* ``my_number_variable = 1702``  \n",
    "\n",
    "* ``my_decimal_variable = 3.4``\n",
    "\n",
    "----"
   ]
  },
  {
   "cell_type": "markdown",
   "metadata": {
    "datalore": {
     "hide_input_from_viewers": false,
     "hide_output_from_viewers": false,
     "type": "MD"
    }
   },
   "source": [
    "### Let's play with variables\n",
    "\n",
    "**Task 1:** Create a variable called ``name`` to store your name. Use print statement to print it on screen.\n",
    "\n",
    "Hint: Use ``print()`` function to print the variable.\n",
    "\n",
    "Complete the task in the code cell below."
   ]
  },
  {
   "cell_type": "code",
   "execution_count": null,
   "metadata": {
    "datalore": {
     "hide_input_from_viewers": false,
     "hide_output_from_viewers": false,
     "type": "CODE"
    }
   },
   "outputs": [],
   "source": [
    "# Write code below\n",
    "name = \"Symphony\"\n",
    "print(name)"
   ]
  },
  {
   "cell_type": "markdown",
   "metadata": {
    "datalore": {
     "hide_input_from_viewers": false,
     "hide_output_from_viewers": false,
     "type": "MD"
    }
   },
   "source": [
    "**Task 2:** Create 3 variables x, y, and z. Store their values as follows:\u000b",
    "x = 3; y = 7; z = x + y. Print the value of z and verify if it is correct.\n",
    "\n",
    "Complete the task in the code cell below."
   ]
  },
  {
   "cell_type": "code",
   "execution_count": null,
   "metadata": {
    "datalore": {
     "hide_input_from_viewers": false,
     "hide_output_from_viewers": false,
     "type": "CODE"
    }
   },
   "outputs": [],
   "source": [
    "# Write code below\n",
    "x = 3\n",
    "y = 7\n",
    "z = x+y\n",
    "print(z)"
   ]
  },
  {
   "cell_type": "markdown",
   "metadata": {
    "datalore": {
     "hide_input_from_viewers": false,
     "hide_output_from_viewers": false,
     "type": "MD"
    }
   },
   "source": [
    "## 1.3 Data Types\n",
    "Variables can store data of different types, and different types can do different things.\n",
    "\n",
    "The most common ones are:\n",
    "* **Integers:** Numbers (E.g., 1, 400, -999, etc.)\n",
    "* **Float:** Decimals (E.g., 3.67, -4.7, 9.42, etc.)\n",
    "* **String:** Collection of characters (E.g., “Hello”, “Good morning”, “Amazing”,etc.)\n",
    "* **Boolean:** True and False\n",
    "\n",
    "**Bonus:** To check the data type of any variable you can use ``type()`` function. E.g., for a variable named ``my_variable``, use ``type(my_variable)``\n",
    "\n",
    "---"
   ]
  },
  {
   "cell_type": "code",
   "execution_count": null,
   "metadata": {
    "datalore": {
     "hide_input_from_viewers": false,
     "hide_output_from_viewers": false,
     "type": "CODE"
    }
   },
   "outputs": [],
   "source": [
    "# Try Bonus below\n",
    "my_variable1 = 3\n",
    "my_variable2 = \"Hello\"\n",
    "print(type(my_variable1))\n",
    "print(type(my_variable2))"
   ]
  },
  {
   "cell_type": "markdown",
   "metadata": {
    "datalore": {
     "hide_input_from_viewers": false,
     "hide_output_from_viewers": false,
     "type": "MD"
    }
   },
   "source": [
    "## 1.4 Relational Operators\n",
    "\n",
    "Relational are used for comparing values.\n",
    "\n",
    "Commonly used operators are:\n",
    "* ``==`` (equal to)\n",
    "* ``<`` (Less than)\n",
    "* ``>`` (Greater than)\n",
    "* ``>=`` (Greater than or equal to)\n",
    "* ``<=`` (Less than or equal to)\n",
    "* ``!=`` (Not equal to)\n",
    "\n",
    "Let's try some of these relational operators\n",
    "\n",
    "----"
   ]
  },
  {
   "cell_type": "code",
   "execution_count": null,
   "metadata": {
    "datalore": {
     "hide_input_from_viewers": false,
     "hide_output_from_viewers": false,
     "type": "CODE"
    }
   },
   "outputs": [],
   "source": [
    "# Run this code\n",
    "number_1 = 23\n",
    "number_2 = 23\n",
    "number_3 = 30\n",
    "\n",
    "string_1 = \"Hello\"\n",
    "string_2 = \"hello\"\n",
    "\n",
    "# == Equal to operator\n",
    "print(\"Is number_1 is equal to number_2? \", number_1 == number_2)\n",
    "\n",
    "# < Less than operator\n",
    "print(\"Is number_1 is less than number_2? \", number_1 < number_2)\n",
    "\n",
    "# <= Less than equal to operator\n",
    "print(\"Is number_1 is less than or equal to number_2? \", number_1 <= number_2)\n",
    "\n",
    "# > Greater than operator\n",
    "print(\"Is number_1 is greater than number_3? \", number_1 > number_2)\n",
    "\n",
    "# == Equal to operator for string\n",
    "print(\"Is string_1 is equal to string_2? \", string_1 == string_2)"
   ]
  },
  {
   "cell_type": "markdown",
   "metadata": {
    "datalore": {
     "hide_input_from_viewers": false,
     "hide_output_from_viewers": false,
     "type": "MD"
    }
   },
   "source": [
    "**Task 1:** Print if number_3 is greater than number_1"
   ]
  },
  {
   "cell_type": "code",
   "execution_count": null,
   "metadata": {
    "datalore": {
     "hide_input_from_viewers": false,
     "hide_output_from_viewers": false,
     "type": "CODE"
    }
   },
   "outputs": [],
   "source": [
    "# Complete the code below\n",
    "print(\"Is number_3 greater than number 1?\")\n",
    "print(number_3 > number_1)"
   ]
  },
  {
   "cell_type": "markdown",
   "metadata": {
    "datalore": {
     "hide_input_from_viewers": false,
     "hide_output_from_viewers": false,
     "type": "MD"
    }
   },
   "source": [
    "## 1.5 Conditional Statements\n",
    "\n",
    "Conditional Statements control the flow of program based on conditions.\n",
    "\n",
    "We will use ``if-else`` statements.\n",
    "\n",
    "The syntax of ``if-else`` statements is:\n",
    "\n",
    "```\n",
    "if (Condition 1):\n",
    "    Statements_1\n",
    "    ...\n",
    "elif (Condition 2):\n",
    "    Statements_2\n",
    "    ...\n",
    "elif (Condition 3):\n",
    "    Statements_3\n",
    "    ...\n",
    "...\n",
    "else:\n",
    "    Statements_n...\n",
    "```\n",
    "\n",
    "**Note**: Python uses indentation to indicate a new code block."
   ]
  },
  {
   "cell_type": "markdown",
   "metadata": {
    "datalore": {
     "hide_input_from_viewers": false,
     "hide_output_from_viewers": false,
     "type": "MD"
    }
   },
   "source": [
    "**Task 1:** Run the code below to understand the ``if-else`` statement syntax"
   ]
  },
  {
   "cell_type": "code",
   "execution_count": null,
   "metadata": {
    "datalore": {
     "hide_input_from_viewers": false,
     "hide_output_from_viewers": false,
     "type": "CODE"
    }
   },
   "outputs": [],
   "source": [
    "# Run this code\n",
    "# You can try changing the values of numbers and modify the code to play with it\n",
    "number_1 = 5\n",
    "number_2 = 4\n",
    "\n",
    "if (number_1 > number_2):\n",
    "    print(\"Number 1 is greater than Number 2\")\n",
    "    print(\"Yayyy!\")\n",
    "    \n",
    "elif (number_1 == number_2):\n",
    "    print(\"Number 1 is equal to Number 2\")\n",
    "\n",
    "else:\n",
    "    print(\"Number 1 is less than Number 2\")\n",
    "    print(\"Interesting!\")"
   ]
  },
  {
   "cell_type": "markdown",
   "metadata": {
    "datalore": {
     "hide_input_from_viewers": false,
     "hide_output_from_viewers": false,
     "type": "MD"
    }
   },
   "source": [
    "**Task 2:** Use Python to code the real-life example given in the workshop slide"
   ]
  },
  {
   "cell_type": "code",
   "execution_count": null,
   "metadata": {
    "datalore": {
     "hide_input_from_viewers": false,
     "hide_output_from_viewers": false,
     "type": "CODE"
    }
   },
   "outputs": [],
   "source": [
    "# Write the code below. We have started the code for you. \n",
    "weather = \"Sunny\"\n",
    "if (weather == \"Sunny\"):\n",
    "    print(\"Wear sunglasses\")\n",
    "\n",
    "elif (weather == \"Rainy\"):\n",
    "    print(\"Take umbrella\")\n",
    "    \n",
    "elif (weather == \"Typhoon\"):\n",
    "    print(\"Stay home\")\n",
    "\n",
    "else:\n",
    "    print(\"Enjoy!\")"
   ]
  },
  {
   "cell_type": "markdown",
   "metadata": {
    "datalore": {
     "hide_input_from_viewers": false,
     "hide_output_from_viewers": false,
     "type": "MD"
    }
   },
   "source": [
    "## 1.6 Lists\n",
    "\n",
    "List is used to store multiple items in a single variable.\n",
    "\n",
    "Some examples of list in Python is:\n",
    "``` \n",
    "list_of_numbers = [1,2,3,4,5]\n",
    "list_of_strings = [\"Laptop\", \"Hello how are you?\", \"Apple\"]\n",
    "mixed_list = [1,2, \"Laptop\", \"Hotpot\", 5]\n",
    "```\n",
    "\n",
    "To access any element of a list, we use **index**. Index starts with 0.  \n",
    "For example, if we want to print the first element (i.e., index 0) of the list ``mixed_list``.   \n",
    "\n",
    "We will do:\n",
    "`` print(mixed_list[0]) ``   \n",
    "\n",
    "**Output** `` 1 ``\n",
    "\n",
    "Similarly, to access the last element of the list ```list_of_strings```, we will use:  \n",
    "``` list_of_strings[2]```\n",
    "\n",
    "**Value of list_of_strings[2]:** ```\"Apple\"```\n",
    "\n",
    "---"
   ]
  },
  {
   "cell_type": "markdown",
   "metadata": {
    "datalore": {
     "hide_input_from_viewers": false,
     "hide_output_from_viewers": false,
     "type": "MD"
    }
   },
   "source": [
    "**Task 1:** Create a python list called ``shopping_list`` and print the last element of the shopping list."
   ]
  },
  {
   "cell_type": "code",
   "execution_count": null,
   "metadata": {
    "datalore": {
     "hide_input_from_viewers": false,
     "hide_output_from_viewers": false,
     "type": "CODE"
    }
   },
   "outputs": [],
   "source": [
    "# Write the code below\n",
    "shopping_list = [\"Apple\", \"Butter\", \"Cheese\"]\n",
    "print(shopping_list[2])"
   ]
  },
  {
   "cell_type": "markdown",
   "metadata": {
    "datalore": {
     "hide_input_from_viewers": false,
     "hide_output_from_viewers": false,
     "type": "MD"
    }
   },
   "source": [
    "**Task 2:** Change the last element of the list to “Laptop” and print the whole list."
   ]
  },
  {
   "cell_type": "code",
   "execution_count": null,
   "metadata": {
    "datalore": {
     "hide_input_from_viewers": false,
     "hide_output_from_viewers": false,
     "type": "CODE"
    }
   },
   "outputs": [],
   "source": [
    "# Write the code below\n",
    "shopping_list[2] = \"Laptop\"\n",
    "print(shopping_list)"
   ]
  },
  {
   "cell_type": "markdown",
   "metadata": {
    "datalore": {
     "hide_input_from_viewers": false,
     "hide_output_from_viewers": false,
     "type": "MD"
    }
   },
   "source": [
    "## 1.7 Dictionaries\n",
    "\n",
    "Dictionary also can store multiple items in a single variable, but items are stored as key:value pairs.\n",
    "\n",
    "Example of a Dictionary in Python:  \n",
    "```my_dictionary = {\"name\": \"Symphony\", \"age\": 30, \"gender\": \"F\", \"major\": \"computer science, cognitive science\"}```  \n",
    "\n",
    "In a dictionary, there are key-value pairs in the form ```{key:value}```  \n",
    "\n",
    "To access an element/value of a list, we use the key.\n",
    "For example, to print the value of element with ``key=\"name\"`` in ``my_dictionary``, we do:  \n",
    "\n",
    "``print(my_dictionary[\"name\"])``  \n",
    "**Output:** ``\"Symphony\"``\n",
    "\n",
    "---"
   ]
  },
  {
   "cell_type": "markdown",
   "metadata": {
    "datalore": {
     "hide_input_from_viewers": false,
     "hide_output_from_viewers": false,
     "type": "MD"
    }
   },
   "source": [
    "**Task 1:** Create a dictionary with your following information (keys) – name, age, gender, major."
   ]
  },
  {
   "cell_type": "code",
   "execution_count": null,
   "metadata": {
    "datalore": {
     "hide_input_from_viewers": false,
     "hide_output_from_viewers": false,
     "type": "CODE"
    }
   },
   "outputs": [],
   "source": [
    "# Write the code below\n",
    "my_dictionary = {\"name\": \"Symphony\", \"age\": 30, \"gender\": \"F\", \"major\": \"computer science, cognitive science\"}"
   ]
  },
  {
   "cell_type": "markdown",
   "metadata": {
    "datalore": {
     "hide_input_from_viewers": false,
     "hide_output_from_viewers": false,
     "type": "MD"
    }
   },
   "source": [
    "**Task 2:** Print this dictionary."
   ]
  },
  {
   "cell_type": "code",
   "execution_count": null,
   "metadata": {
    "datalore": {
     "hide_input_from_viewers": false,
     "hide_output_from_viewers": false,
     "type": "CODE"
    }
   },
   "outputs": [],
   "source": [
    "# Write the code below\n",
    "print(my_dictionary)"
   ]
  },
  {
   "cell_type": "markdown",
   "metadata": {
    "datalore": {
     "hide_input_from_viewers": false,
     "hide_output_from_viewers": false,
     "type": "MD"
    }
   },
   "source": [
    "**Task 3:** Change the value of the key age to your age minus 10."
   ]
  },
  {
   "cell_type": "code",
   "execution_count": null,
   "metadata": {
    "datalore": {
     "hide_input_from_viewers": false,
     "hide_output_from_viewers": false,
     "type": "CODE"
    }
   },
   "outputs": [],
   "source": [
    "# Write the code below\n",
    "my_dictionary[\"age\"] = my_dictionary[\"age\"] - 10\n",
    "print(my_dictionary)"
   ]
  },
  {
   "cell_type": "markdown",
   "metadata": {
    "datalore": {
     "hide_input_from_viewers": false,
     "hide_output_from_viewers": false,
     "type": "MD"
    }
   },
   "source": [
    "## 1.8 Loops\n",
    "\n",
    "Loop is for repeating the same code block multiple times. Loop can make code shorter.\n",
    "\n",
    "\n",
    "In this workshop we will only focus on 1 type of loop i.e., ``for-loop``.``for-loop`` is particularly useful to iterate over a list.\n",
    "\n",
    "Syntax for ``for-loop`` in Python is as follows:\n",
    "```\n",
    "for <variable> in <list or sequence>:\n",
    "    part of code that needs to be repeated\n",
    "```\n",
    "\n",
    "An example of usage of for loop:\n",
    "\n",
    "```\n",
    "my_list = [\"Hello\", \"How are you?\", 1, 2, 3]\n",
    "\n",
    "for element in my_list:\n",
    "    print(element)\n",
    "```\n",
    "\n",
    "**Output**:\n",
    "```\n",
    "\"Hello\"  \n",
    "\"How are you?\"  \n",
    "1  \n",
    "2  \n",
    "3  \n",
    "```\n",
    "\n",
    "---"
   ]
  },
  {
   "cell_type": "markdown",
   "metadata": {
    "datalore": {
     "hide_input_from_viewers": false,
     "hide_output_from_viewers": false,
     "type": "MD"
    }
   },
   "source": [
    "**Task 1:** Create a loop that prints number 0-10\n",
    "\n",
    "_Hint:_ To create a sequence (NOT LIST) from **0** to **n** you can use the range function as ``range(0,n+1)``"
   ]
  },
  {
   "cell_type": "code",
   "execution_count": null,
   "metadata": {
    "datalore": {
     "hide_input_from_viewers": false,
     "hide_output_from_viewers": false,
     "type": "CODE"
    }
   },
   "outputs": [],
   "source": [
    "# Write code below\n",
    "for number in range(0,11):\n",
    "    print(number)"
   ]
  },
  {
   "cell_type": "markdown",
   "metadata": {
    "datalore": {
     "hide_input_from_viewers": false,
     "hide_output_from_viewers": false,
     "type": "MD"
    }
   },
   "source": [
    "**Task 2:** Create a loop that prints \"Hello\" 5 times"
   ]
  },
  {
   "cell_type": "code",
   "execution_count": null,
   "metadata": {
    "datalore": {
     "hide_input_from_viewers": false,
     "hide_output_from_viewers": false,
     "type": "CODE"
    }
   },
   "outputs": [],
   "source": [
    "# Write code below\n",
    "for number in range(0,5):\n",
    "    print(\"Hello\")"
   ]
  },
  {
   "cell_type": "markdown",
   "metadata": {
    "datalore": {
     "hide_input_from_viewers": false,
     "hide_output_from_viewers": false,
     "type": "MD"
    }
   },
   "source": [
    "## 1.9 Functions\n",
    "\n",
    "Function is a block of organized, reusable code that is used to perform a single, related action.\n",
    "\n",
    "You can pass parameters into a function (optional) and the function can also return values (optional).\n",
    "\n",
    "Before you call a function, you need to define it.\n",
    "\n",
    "The syntax for defining a function is:\n",
    "```\n",
    "def Function_Name (parameter1, parameter2):\n",
    "    Code block to run\n",
    "```  \n",
    "\n",
    "Syntax for calling a function is:\n",
    "\n",
    "```\n",
    "Function_Name(parameter1_value, parameter2_value)\n",
    "```\n",
    "\n",
    "\n",
    "Some examples of functions:\n",
    "* Function that takes no parameter and returns nothing  \n",
    "  ```\n",
    "  def foo():\n",
    "      print(\"Hello World\")\n",
    "      print(\"We are going to learn Python today\")\n",
    "  ```\n",
    "\n",
    "* Function that takes parameters and returns nothing\n",
    "  ```\n",
    "  def bar(sentence_1, sentence_2):\n",
    "      print(sentence_1)\n",
    "      print(sentence_2)\n",
    "  ```\n",
    "\n",
    "* Function that takes parameters and returns something\n",
    "  ```\n",
    "  def foobar(number_1, number_2):\n",
    "      return number_1 + number_2\n",
    "  ```"
   ]
  },
  {
   "cell_type": "code",
   "execution_count": null,
   "metadata": {
    "datalore": {
     "hide_input_from_viewers": false,
     "hide_output_from_viewers": false,
     "type": "CODE"
    }
   },
   "outputs": [],
   "source": [
    "# Run this cell and try calling the defined functions in the next cell\n",
    "def foo():\n",
    "    print(\"Hello World\")\n",
    "    print(\"We are going to learn Python today\")\n",
    "\n",
    "def bar(sentence_1, sentence_2):\n",
    "    print(sentence_1)\n",
    "    print(sentence_2)\n",
    "    \n",
    "def foobar(number_1, number_2):\n",
    "    return number_1 + number_2"
   ]
  },
  {
   "cell_type": "code",
   "execution_count": null,
   "metadata": {
    "datalore": {
     "hide_input_from_viewers": false,
     "hide_output_from_viewers": false,
     "type": "CODE"
    }
   },
   "outputs": [],
   "source": [
    "# Try calling the foo, bar, and foobar function below and notice the differences.\n",
    "foo()\n",
    "\n",
    "bar(\"Hello\", \"How are you\")\n",
    "\n",
    "addition = foobar(7,3)\n",
    "\n",
    "print(addition)"
   ]
  },
  {
   "cell_type": "markdown",
   "metadata": {
    "datalore": {
     "hide_input_from_viewers": false,
     "hide_output_from_viewers": false,
     "type": "MD"
    }
   },
   "source": [
    "**Task 1:** Create a function that prints your “Welcome to the AI with Python workshop”"
   ]
  },
  {
   "cell_type": "code",
   "execution_count": null,
   "metadata": {
    "datalore": {
     "hide_input_from_viewers": false,
     "hide_output_from_viewers": false,
     "type": "CODE"
    }
   },
   "outputs": [],
   "source": [
    "# Write the code below\n",
    "def my_function():\n",
    "    print(\"Welcome to the AI Python Workshop\")\n",
    "    \n",
    "my_function()"
   ]
  },
  {
   "cell_type": "markdown",
   "metadata": {
    "datalore": {
     "hide_input_from_viewers": false,
     "hide_output_from_viewers": false,
     "type": "MD"
    }
   },
   "source": [
    "**Task 2:** Create a function that takes two numbers as its parameters and returns the multiplication of those two numbers"
   ]
  },
  {
   "cell_type": "code",
   "execution_count": null,
   "metadata": {
    "datalore": {
     "hide_input_from_viewers": false,
     "hide_output_from_viewers": false,
     "type": "CODE"
    }
   },
   "outputs": [],
   "source": [
    "# Write the code below\n",
    "def multiplier(number1, number2):\n",
    "    return number1*number2\n",
    "\n",
    "multiplied = multiplier(5,4)\n",
    "\n",
    "print(multiplied)"
   ]
  },
  {
   "cell_type": "markdown",
   "metadata": {
    "datalore": {
     "hide_input_from_viewers": false,
     "hide_output_from_viewers": false,
     "type": "MD"
    }
   },
   "source": [
    "## 1.10 Libraries\n",
    "\n",
    "Libraries are a set of predefined code that can be re-used. It saves our time so that we don’t have to code everything from scratch. Libraries make coding a lot easier!\n",
    "\n",
    "To import whole library we use:\n",
    "```\n",
    "import library_name\n",
    "```  \n",
    "\n",
    "To import a function from a library we use:\n",
    "```\n",
    "from library_name import function_name\n",
    "```"
   ]
  },
  {
   "cell_type": "markdown",
   "metadata": {
    "datalore": {
     "hide_input_from_viewers": false,
     "hide_output_from_viewers": false,
     "type": "MD"
    }
   },
   "source": [
    "**Task 1:** Install ``emoji`` and ``art`` libraries"
   ]
  },
  {
   "cell_type": "code",
   "execution_count": null,
   "metadata": {
    "datalore": {
     "hide_input_from_viewers": false,
     "hide_output_from_viewers": false,
     "type": "CODE"
    }
   },
   "outputs": [],
   "source": [
    "# Run this cell\n",
    "# Some preparations\n",
    "!pip install --upgrade pip\n",
    "!pip install emoji\n",
    "!pip install art"
   ]
  },
  {
   "cell_type": "markdown",
   "metadata": {
    "datalore": {
     "hide_input_from_viewers": false,
     "hide_output_from_viewers": false,
     "type": "MD"
    }
   },
   "source": [
    "**Task 2:** From ``emoji`` library import the ``emojize`` function and use it like this:\n",
    "\n",
    "``emojize(\"Python is fun :red_heart: We will use Python to create mind-blowing :exploding_head: AI :robot:\")``\n",
    "\n",
    "Can you guess what it does?"
   ]
  },
  {
   "cell_type": "code",
   "execution_count": null,
   "metadata": {
    "datalore": {
     "hide_input_from_viewers": false,
     "hide_output_from_viewers": false,
     "type": "CODE"
    }
   },
   "outputs": [],
   "source": [
    "# Write the code below\n",
    "from emoji import emojize\n",
    "print(emojize(\"Python is fun :red_heart: We will use Python to create mind-blowing :exploding_head: AI :robot:\"))"
   ]
  },
  {
   "cell_type": "markdown",
   "metadata": {
    "datalore": {
     "hide_input_from_viewers": false,
     "hide_output_from_viewers": false,
     "type": "MD"
    }
   },
   "source": [
    "**Task 3:** Import ``art`` library and try its tprint function like this:\n",
    "```\n",
    "art.tprint(\"AI with Python\")\n",
    "```"
   ]
  },
  {
   "cell_type": "code",
   "execution_count": null,
   "metadata": {
    "datalore": {
     "hide_input_from_viewers": false,
     "hide_output_from_viewers": false,
     "type": "CODE"
    }
   },
   "outputs": [],
   "source": [
    "# Write the code below\n",
    "import art\n",
    "art.tprint(text=\"AI with Python\")"
   ]
  },
  {
   "cell_type": "markdown",
   "metadata": {
    "datalore": {
     "hide_input_from_viewers": false,
     "hide_output_from_viewers": false,
     "type": "MD"
    }
   },
   "source": [
    "# End of Part 1 -- Basics\n",
    "\n",
    "_Don't forget to stop the computation for your notebook. Go to ``Run`` and then click on ``Stop Computation``_"
   ]
  }
 ],
 "metadata": {
  "datalore": {
   "base_environment": "default",
   "computation_mode": "JUPYTER",
   "package_manager": "pip",
   "packages": [],
   "version": 1
  },
  "kernelspec": {
   "display_name": "Python 3 (ipykernel)",
   "language": "python",
   "name": "python3"
  },
  "language_info": {
   "codemirror_mode": {
    "name": "ipython",
    "version": 3
   },
   "file_extension": ".py",
   "mimetype": "text/x-python",
   "name": "python",
   "nbconvert_exporter": "python",
   "pygments_lexer": "ipython3",
   "version": "3.9.13"
  }
 },
 "nbformat": 4,
 "nbformat_minor": 4
}
