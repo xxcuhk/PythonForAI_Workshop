{
 "cells":[
  {
   "cell_type":"markdown",
   "source":[
    "<h1><span style=\"color:#338DFF\"> AI With Python Workshop <\/span><\/h1>\n",
    "\n",
    "This notebook complements the powerpoint slides during the workshop and will be used to do the coding exercises \n",
    "\n",
    "-----------"
   ],
   "attachments":{
    
   },
   "metadata":{
    "datalore":{
     "node_id":"r4sFTs6cdntgTJJuhWLHkL",
     "type":"MD",
     "hide_input_from_viewers":false,
     "hide_output_from_viewers":false,
     "report_properties":{
      
     }
    }
   }
  },
  {
   "cell_type":"markdown",
   "source":[
    "## 1.1 Hello World\n",
    "\n",
    "Our first coding exercise. We print \"Hello World\" on our computer screen. The ``print`` function prints a message on the screen.\n",
    " \n",
    "\n",
    "In the coding cell below type ```print(\"Hello World\")``` and press the **Run** button"
   ],
   "attachments":{
    
   },
   "metadata":{
    "datalore":{
     "node_id":"Bx3t42mhxKQeLQWKl8iFJd",
     "type":"MD",
     "hide_input_from_viewers":false,
     "hide_output_from_viewers":false,
     "report_properties":{
      
     }
    }
   }
  },
  {
   "cell_type":"code",
   "source":[
    "# Write code below\n",
    "print(\"Hello World\")"
   ],
   "execution_count":1,
   "outputs":[
    
   ],
   "metadata":{
    "datalore":{
     "node_id":"3hhzuV6xoESz8J9Zyk8sMC",
     "type":"CODE",
     "hide_input_from_viewers":false,
     "hide_output_from_viewers":false,
     "report_properties":{
      
     }
    }
   }
  },
  {
   "cell_type":"markdown",
   "source":[
    "## 1.2 Variables\n",
    "\n",
    "Variables act like containers which can store values.\n",
    "\n",
    "\n",
    "Python has no command for defining a variable. A variable is defined the moment you assign a value to it. E.g.,\n",
    "* ``name = \"Ben\"``  \n",
    "\n",
    "* ``age = 12``  \n",
    "\n",
    "* ``math_score = 95.3``\n",
    "\n",
    "----"
   ],
   "attachments":{
    
   },
   "metadata":{
    "datalore":{
     "node_id":"UGyiKg8P6fdYDEnpXXlJTI",
     "type":"MD",
     "hide_input_from_viewers":false,
     "hide_output_from_viewers":false,
     "report_properties":{
      
     }
    }
   }
  },
  {
   "cell_type":"markdown",
   "source":[
    "**Task 1:** Define a variable called ``name`` to store your name. Use the ``print`` function to print it on screen.\n",
    "Complete the task in the code cell below.\n",
    "\n",
    "Can use the ``type()`` function to check the type of a variable."
   ],
   "attachments":{
    
   },
   "metadata":{
    "datalore":{
     "node_id":"H0Epq4Xkrzl4vtQ7hAiLRJ",
     "type":"MD",
     "hide_input_from_viewers":false,
     "hide_output_from_viewers":false,
     "report_properties":{
      
     }
    }
   }
  },
  {
   "cell_type":"code",
   "source":[
    "# Write code below\n",
    "name = \"Symphony\"\n",
    "print(name)\n",
    "print(type(name))"
   ],
   "execution_count":2,
   "outputs":[
    
   ],
   "metadata":{
    "datalore":{
     "node_id":"LjnnTKvXLKZwbzhMR4aw08",
     "type":"CODE",
     "hide_input_from_viewers":false,
     "hide_output_from_viewers":false,
     "report_properties":{
      
     }
    }
   }
  },
  {
   "cell_type":"markdown",
   "source":[
    "## 1.3 Relational Operators\n",
    "\n",
    "Relational Operators are used for comparing  values. It returns a Boolean value.\n",
    "\n",
    "Commonly used operators are:\n",
    "* ``==`` (equal to)\n",
    "* ``<`` (Less than)\n",
    "* ``>`` (Greater than)\n",
    "* ``>=`` (Greater than or equal to)\n",
    "* ``<=`` (Less than or equal to)\n",
    "* ``!=`` (Not equal to)\n",
    "\n",
    "**Task 1:** Let's try some of these relational operators.\n",
    "\n",
    "----"
   ],
   "attachments":{
    
   },
   "metadata":{
    "datalore":{
     "node_id":"izBwkfEt0zHYoD6QVwnKgP",
     "type":"MD",
     "hide_input_from_viewers":false,
     "hide_output_from_viewers":false,
     "report_properties":{
      
     }
    }
   }
  },
  {
   "cell_type":"code",
   "source":[
    "# Run this code\n",
    "number_1 = 4\n",
    "number_2 = 4\n",
    "number_3 = 7\n",
    "\n",
    "string_1 = \"Hello\"\n",
    "string_2 = \"hello\"\n",
    "\n",
    "# == Equal to operator\n",
    "print(\"Is number_1 is equal to number_2? \", number_1 == number_2)\n",
    "\n",
    "# < Less than operator\n",
    "print(\"Is number_1 is less than number_2? \", number_1 < number_2)\n",
    "\n",
    "# <= Less than equal to operator\n",
    "print(\"Is number_1 is less than or equal to number_2? \", number_1 <= number_2)\n",
    "\n",
    "# > Greater than operator\n",
    "print(\"Is number_1 is greater than number_3? \", number_1 > number_2)\n",
    "\n",
    "# == Equal to operator for string\n",
    "print(\"Is string_1 is equal to string_2? \", string_1 == string_2)"
   ],
   "execution_count":3,
   "outputs":[
    
   ],
   "metadata":{
    "datalore":{
     "node_id":"NpgcZFSyKCXGKQSxZ90OFI",
     "type":"CODE",
     "hide_input_from_viewers":false,
     "hide_output_from_viewers":false,
     "report_properties":{
      
     }
    }
   }
  },
  {
   "cell_type":"markdown",
   "source":[
    "## 1.4 Conditional Statements\n",
    "\n",
    "Conditional Statements are statements that can control the flow of a program.\n",
    "One of the conditional statements is called if-else statement.\n",
    "\n",
    "The syntax of ``if-else`` statements is:\n",
    "\n",
    "```\n",
    "if condition_1:\n",
    "    code block_1\n",
    "\n",
    "elif condition_2:\n",
    "    code block_2\n",
    "    \n",
    "elif condition_3:\n",
    "    code block_3\n",
    "...\n",
    "else:\n",
    "    code block_N\n",
    "```\n",
    "\n",
    "**Note**: Python uses indentation to indicate a new code block."
   ],
   "attachments":{
    
   },
   "metadata":{
    "datalore":{
     "node_id":"hQ73prYqqxbiV7x5xNvzH3",
     "type":"MD",
     "hide_input_from_viewers":false,
     "hide_output_from_viewers":false,
     "report_properties":{
      
     }
    }
   }
  },
  {
   "cell_type":"markdown",
   "source":[
    "**Task 1:** Use Python to code the real-life example given in the workshop slide."
   ],
   "attachments":{
    
   },
   "metadata":{
    "datalore":{
     "node_id":"L2ubC9Qt09JZjLppZK8aqd",
     "type":"MD",
     "hide_input_from_viewers":false,
     "hide_output_from_viewers":false,
     "report_properties":{
      
     }
    }
   }
  },
  {
   "cell_type":"code",
   "source":[
    "# Write the code below. We have started the code for you. \n",
    "weather = \"Sunny\"\n",
    "if weather == \"Sunny\":\n",
    "    print(\"Wear sunglasses\")\n",
    "\n",
    "elif weather == \"Rainy\":\n",
    "    print(\"Take umbrella\")\n",
    "    \n",
    "elif weather == \"Typhoon\":\n",
    "    print(\"Stay home\")\n",
    "\n",
    "else:\n",
    "    print(\"Enjoy!\")"
   ],
   "execution_count":4,
   "outputs":[
    
   ],
   "metadata":{
    "datalore":{
     "node_id":"C07EWzNPVLtWpbyEOlRniM",
     "type":"CODE",
     "hide_input_from_viewers":false,
     "hide_output_from_viewers":false,
     "report_properties":{
      
     }
    }
   }
  },
  {
   "cell_type":"markdown",
   "source":[
    "## 1.5 Lists\n",
    "\n",
    "List is used to store multiple items in a single variable. Items of a list can be any data type.\n",
    "\n",
    "Some examples of lists in Python are:\n",
    "```\n",
    "list_of_numbers = [1,2,3,4,5]\n",
    "```\n",
    "```\n",
    "list_of_strings = [\"Laptop\", \"Hello how are you?\", \"Apple\"]\n",
    "```\n",
    "```\n",
    "mixed_list = [1, 2, \"Laptop\", \"Hotpot\", 5]\n",
    "```\n",
    "To access an item of a list, we use **index**. In Python, index starts from **0**, which is the **first** item of the list."
   ],
   "attachments":{
    
   },
   "metadata":{
    "datalore":{
     "node_id":"Q7jeZAF0h7yTMXiehur6d5",
     "type":"MD",
     "hide_input_from_viewers":false,
     "hide_output_from_viewers":false,
     "report_properties":{
      
     }
    }
   }
  },
  {
   "cell_type":"markdown",
   "source":[
    "**Task 1:** Create a python list called ``shopping_list`` to store the strings ``\"grape\"``, ``\"apple\"``, and ``\"butter\"``. Please (1) print the list and (2) print the last element of the list. "
   ],
   "attachments":{
    
   },
   "metadata":{
    "datalore":{
     "node_id":"DEBLVwM4ilZDKBqBkQRJ4m",
     "type":"MD",
     "hide_input_from_viewers":false,
     "hide_output_from_viewers":false,
     "report_properties":{
      
     }
    }
   }
  },
  {
   "cell_type":"code",
   "source":[
    "# Write the code below\n",
    "shopping_list = [\"grape\", \"apple\", \"butter\"]\n",
    "print(shopping_list)\n",
    "print(shopping_list[2])"
   ],
   "execution_count":5,
   "outputs":[
    
   ],
   "metadata":{
    "datalore":{
     "node_id":"6Y2K6D8kVMCnaCo0JFCVrC",
     "type":"CODE",
     "hide_input_from_viewers":false,
     "hide_output_from_viewers":false,
     "report_properties":{
      
     }
    }
   }
  },
  {
   "cell_type":"markdown",
   "source":[
    "## 1.6 Dictionaries\n",
    "\n",
    "Dictionary also can store multiple items in a single variable, but items are stored as **key: value** pairs.\n",
    "\n",
    "Example of a Dictionary in Python:  \n",
    "```my_dictionary = {\"name\": \"Eason\", \"age\": 27, \"gender\": \"M\"}```  \n",
    "\n",
    "Values in dictionaries can be accessed with the key. \n",
    "For example, to print the value of element with ``key=\"name\"`` in ``my_dictionary``, we do:  \n",
    "\n",
    "``print(my_dictionary[\"name\"])``  \n",
    "**Output:** ``\"Eason\"``\n",
    "\n",
    "---"
   ],
   "attachments":{
    
   },
   "metadata":{
    "datalore":{
     "node_id":"KgyJcDnOHAQmLUAywZ2x6g",
     "type":"MD",
     "hide_input_from_viewers":false,
     "hide_output_from_viewers":false,
     "report_properties":{
      
     }
    }
   }
  },
  {
   "cell_type":"markdown",
   "source":[
    "**Task 1:** Create a dictionary with your following information (keys) – name, age, gender, major. Please (1) print the dictionary and (2) print the value with the key \"name\"."
   ],
   "attachments":{
    
   },
   "metadata":{
    "datalore":{
     "node_id":"giPUA6JCkI41GiBBQjR0T0",
     "type":"MD",
     "hide_input_from_viewers":false,
     "hide_output_from_viewers":false,
     "report_properties":{
      
     }
    }
   }
  },
  {
   "cell_type":"code",
   "source":[
    "# Write the code below\n",
    "my_dictionary = {\"name\": \"Eason\", \"age\": 27, \"gender\": \"M\", \"major\": \"education\"}\n",
    "print(my_dictionary)\n",
    "print(my_dictionary[\"name\"])"
   ],
   "execution_count":6,
   "outputs":[
    
   ],
   "metadata":{
    "datalore":{
     "node_id":"HuGhvgUuJNWtqbazINb2xX",
     "type":"CODE",
     "hide_input_from_viewers":false,
     "hide_output_from_viewers":false,
     "report_properties":{
      
     }
    }
   }
  },
  {
   "cell_type":"markdown",
   "source":[
    "## 1.7 Loops\n",
    "\n",
    "Loop is for repeating the same code block multiple times. Loops can make the code shorter.\n",
    "\n",
    "In this workshop we will only focus on 1 type of loop, i.e., ``for-loop``. ``for-loop`` is particularly useful to iterate over a list.\n",
    "\n",
    "Syntax for ``for-loop`` in Python is as follows:\n",
    "```\n",
    "for <variable> in <list or sequence>:\n",
    "    part of code that needs to be repeated\n",
    "```\n",
    "\n",
    "An example of usage of for loop:\n",
    "\n",
    "```\n",
    "my_list = [\"Hello\", \"How are you?\", 1, 2, 3]\n",
    "\n",
    "for element in my_list:\n",
    "    print(element)\n",
    "```\n",
    "\n",
    "**Output**:\n",
    "```\n",
    "\"Hello\"  \n",
    "\"How are you?\"  \n",
    "1  \n",
    "2  \n",
    "3  \n",
    "```\n",
    "\n",
    "---"
   ],
   "attachments":{
    
   },
   "metadata":{
    "datalore":{
     "node_id":"QpHKhMuhjJ6hLddxNO1I3C",
     "type":"MD",
     "hide_input_from_viewers":false,
     "hide_output_from_viewers":false,
     "report_properties":{
      
     }
    }
   }
  },
  {
   "cell_type":"markdown",
   "source":[
    "**Task 1:** Create a loop that prints number 0-10\n",
    "\n",
    "_Hint:_ To create a sequence (NOT LIST) from **0** to **n** you can use the range function as ``range(0,n+1)``"
   ],
   "attachments":{
    
   },
   "metadata":{
    "datalore":{
     "node_id":"Yp5FpyWTBpeXhxYyOTA1ML",
     "type":"MD",
     "hide_input_from_viewers":false,
     "hide_output_from_viewers":false,
     "report_properties":{
      
     }
    }
   }
  },
  {
   "cell_type":"code",
   "source":[
    "# Write code below\n",
    "for number in range(0,11):\n",
    "    print(number)"
   ],
   "execution_count":8,
   "outputs":[
    
   ],
   "metadata":{
    "datalore":{
     "node_id":"mwQdbBUsS7gRIjLr8kPjaR",
     "type":"CODE",
     "hide_input_from_viewers":false,
     "hide_output_from_viewers":false,
     "report_properties":{
      
     }
    }
   }
  },
  {
   "cell_type":"markdown",
   "source":[
    "## 1.8 Functions\n",
    "\n",
    "Function is a block of organized, reusable code that is used to perform a single, related action.\n",
    "\n",
    "You can pass parameters into a function (optional) and the function can also return values (optional).\n",
    "\n",
    "Before you call a function, you need to define it.\n",
    "\n",
    "The syntax for defining a function is:\n",
    "```\n",
    "def Function_Name(parameter1, parameter2):\n",
    "    Code block to run\n",
    "```  \n",
    "\n",
    "Syntax for calling a function is:\n",
    "\n",
    "```\n",
    "Function_Name(parameter1_value, parameter2_value)\n",
    "```"
   ],
   "attachments":{
    
   },
   "metadata":{
    "datalore":{
     "node_id":"tDnpqkU5IvAV3JNT2iCTDT",
     "type":"MD",
     "hide_input_from_viewers":false,
     "hide_output_from_viewers":false,
     "report_properties":{
      
     }
    }
   }
  },
  {
   "cell_type":"markdown",
   "source":[
    "**Task 1:** Define a function to print “Welcome to the workshop”. Hint: The function tasks no parameter and returns nothing."
   ],
   "attachments":{
    
   },
   "metadata":{
    "datalore":{
     "node_id":"gAl5hAToBK08JPWOUDjU10",
     "type":"MD",
     "hide_input_from_viewers":false,
     "hide_output_from_viewers":false,
     "report_properties":{
      
     }
    }
   }
  },
  {
   "cell_type":"code",
   "source":[
    "# Write the code below\n",
    "def greeting():\n",
    "    print(\"Welcome to the Workshop\")\n",
    "    \n",
    "greeting()"
   ],
   "execution_count":9,
   "outputs":[
    
   ],
   "metadata":{
    "datalore":{
     "node_id":"H85O6VzPSJzWjccmmBzeMv",
     "type":"CODE",
     "hide_input_from_viewers":false,
     "hide_output_from_viewers":false,
     "report_properties":{
      
     }
    }
   }
  },
  {
   "cell_type":"markdown",
   "source":[
    "**Task 2:** Define a function to print the addition of any two numbers. Hint: The function tasks two parameters and returns nothing."
   ],
   "attachments":{
    
   },
   "metadata":{
    "datalore":{
     "node_id":"IbRGodVpNis8Ia4VrbvGgF",
     "type":"MD",
     "hide_input_from_viewers":true,
     "hide_output_from_viewers":true
    }
   }
  },
  {
   "cell_type":"code",
   "source":[
    "# Write the code below\n",
    "def addition(number1,number2):\n",
    "    print(number1+number2)\n",
    "    \n",
    "addition(2,3)"
   ],
   "execution_count":10,
   "outputs":[
    
   ],
   "metadata":{
    "datalore":{
     "node_id":"fvVstQTnWIvEc0yN2pzHHH",
     "type":"CODE",
     "hide_input_from_viewers":true,
     "hide_output_from_viewers":true
    }
   }
  },
  {
   "cell_type":"markdown",
   "source":[
    "**Task 3:** Define a function that calculates the multiplication of any two numbers and returns the value. Hint: The function tasks two parameters and returns a value."
   ],
   "attachments":{
    
   },
   "metadata":{
    "datalore":{
     "node_id":"22zjRAOLJI9rWHJiKePeLa",
     "type":"MD",
     "hide_input_from_viewers":false,
     "hide_output_from_viewers":false,
     "report_properties":{
      
     }
    }
   }
  },
  {
   "cell_type":"code",
   "source":[
    "# Write the code below\n",
    "def multiplication(number1,number2):\n",
    "    return number1*number2\n",
    "\n",
    "print(multiplication(5,4))"
   ],
   "execution_count":11,
   "outputs":[
    
   ],
   "metadata":{
    "datalore":{
     "node_id":"nIkX109s6TZHWsetRkpYZ9",
     "type":"CODE",
     "hide_input_from_viewers":false,
     "hide_output_from_viewers":false,
     "report_properties":{
      
     }
    }
   }
  },
  {
   "cell_type":"markdown",
   "source":[
    "## 1.10 Libraries\n",
    "\n",
    "Libraries are a set of predefined code that can be re-used. It saves our time so that we don’t have to code everything from scratch. Libraries make coding a lot easier!\n",
    "\n",
    "To import the whole library we use:\n",
    "```\n",
    "import library_name\n",
    "```"
   ],
   "attachments":{
    
   },
   "metadata":{
    "datalore":{
     "node_id":"nImMarIQNAnOUZj5qtSpyf",
     "type":"MD",
     "hide_input_from_viewers":false,
     "hide_output_from_viewers":false,
     "report_properties":{
      
     }
    }
   }
  },
  {
   "cell_type":"markdown",
   "source":[
    "**Task 1:** Import ``art`` library and try its tprint function like this:\n",
    "```\n",
    "art.tprint(\"AI with Python\")\n",
    "```"
   ],
   "attachments":{
    
   },
   "metadata":{
    "datalore":{
     "node_id":"a2cosXseH9FTKN8NnvUTgr",
     "type":"MD",
     "hide_input_from_viewers":false,
     "hide_output_from_viewers":false,
     "report_properties":{
      
     }
    }
   }
  },
  {
   "cell_type":"code",
   "source":[
    "# Run the cell\n",
    "# Some preparations\n",
    "!pip install --upgrade pip\n",
    "!pip install art"
   ],
   "execution_count":12,
   "outputs":[
    
   ],
   "metadata":{
    "datalore":{
     "node_id":"u3ivxh2IwlCrCHpLEkiE1n",
     "type":"CODE",
     "hide_input_from_viewers":true,
     "hide_output_from_viewers":true
    }
   }
  },
  {
   "cell_type":"code",
   "source":[
    "# Write the code below\n",
    "import art\n",
    "art.tprint(text=\"AI with Python\")"
   ],
   "execution_count":13,
   "outputs":[
    
   ],
   "metadata":{
    "datalore":{
     "node_id":"s7w08Utglplz5aQbtIMwGL",
     "type":"CODE",
     "hide_input_from_viewers":false,
     "hide_output_from_viewers":false,
     "report_properties":{
      
     }
    }
   }
  },
  {
   "cell_type":"markdown",
   "source":[
    "# End of Part 1 -- Basics\n",
    "\n",
    "_Don't forget to stop the computation for your notebook. Go to ``Run`` and then click on ``Stop Machine``_"
   ],
   "attachments":{
    
   },
   "metadata":{
    "datalore":{
     "node_id":"U5tpvg1MPQ6xkTC9a9ueCQ",
     "type":"MD",
     "hide_input_from_viewers":false,
     "hide_output_from_viewers":false,
     "report_properties":{
      
     }
    }
   }
  }
 ],
 "metadata":{
  "kernelspec":{
   "display_name":"Python",
   "language":"python",
   "name":"python"
  },
  "datalore":{
   "version":1,
   "computation_mode":"JUPYTER",
   "package_manager":"pip",
   "base_environment":"default",
   "packages":[
    
   ]
  }
 },
 "nbformat":4,
 "nbformat_minor":4
}